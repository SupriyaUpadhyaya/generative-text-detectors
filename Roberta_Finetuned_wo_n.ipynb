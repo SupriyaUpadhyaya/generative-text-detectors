{
  "nbformat": 4,
  "nbformat_minor": 0,
  "metadata": {
    "colab": {
      "provenance": [],
      "gpuType": "T4"
    },
    "kernelspec": {
      "name": "python3",
      "display_name": "Python 3"
    },
    "language_info": {
      "name": "python"
    },
    "accelerator": "GPU",
    "widgets": {
      "application/vnd.jupyter.widget-state+json": {
        "1b4ecd876edf471abf969d3eca60896a": {
          "model_module": "@jupyter-widgets/controls",
          "model_name": "HBoxModel",
          "model_module_version": "1.5.0",
          "state": {
            "_dom_classes": [],
            "_model_module": "@jupyter-widgets/controls",
            "_model_module_version": "1.5.0",
            "_model_name": "HBoxModel",
            "_view_count": null,
            "_view_module": "@jupyter-widgets/controls",
            "_view_module_version": "1.5.0",
            "_view_name": "HBoxView",
            "box_style": "",
            "children": [
              "IPY_MODEL_bb9e19e37b094378a183ea9eef641b81",
              "IPY_MODEL_d34c1090df0b44b9a8c1f5bbe7ede484",
              "IPY_MODEL_05af99cce99444e99653c80dd7661263"
            ],
            "layout": "IPY_MODEL_05f743c235f04efa8f741b595e1773a7"
          }
        },
        "bb9e19e37b094378a183ea9eef641b81": {
          "model_module": "@jupyter-widgets/controls",
          "model_name": "HTMLModel",
          "model_module_version": "1.5.0",
          "state": {
            "_dom_classes": [],
            "_model_module": "@jupyter-widgets/controls",
            "_model_module_version": "1.5.0",
            "_model_name": "HTMLModel",
            "_view_count": null,
            "_view_module": "@jupyter-widgets/controls",
            "_view_module_version": "1.5.0",
            "_view_name": "HTMLView",
            "description": "",
            "description_tooltip": null,
            "layout": "IPY_MODEL_90a7e8c1b89a4ff1994b72baecab58c4",
            "placeholder": "​",
            "style": "IPY_MODEL_4bff847fc8a04b02a2d9482ac80c4154",
            "value": "Map: 100%"
          }
        },
        "d34c1090df0b44b9a8c1f5bbe7ede484": {
          "model_module": "@jupyter-widgets/controls",
          "model_name": "FloatProgressModel",
          "model_module_version": "1.5.0",
          "state": {
            "_dom_classes": [],
            "_model_module": "@jupyter-widgets/controls",
            "_model_module_version": "1.5.0",
            "_model_name": "FloatProgressModel",
            "_view_count": null,
            "_view_module": "@jupyter-widgets/controls",
            "_view_module_version": "1.5.0",
            "_view_name": "ProgressView",
            "bar_style": "success",
            "description": "",
            "description_tooltip": null,
            "layout": "IPY_MODEL_94a0738cb8d041f79b111a7767184dc0",
            "max": 3840,
            "min": 0,
            "orientation": "horizontal",
            "style": "IPY_MODEL_ada27440a5364ce4be7bf961636178aa",
            "value": 3840
          }
        },
        "05af99cce99444e99653c80dd7661263": {
          "model_module": "@jupyter-widgets/controls",
          "model_name": "HTMLModel",
          "model_module_version": "1.5.0",
          "state": {
            "_dom_classes": [],
            "_model_module": "@jupyter-widgets/controls",
            "_model_module_version": "1.5.0",
            "_model_name": "HTMLModel",
            "_view_count": null,
            "_view_module": "@jupyter-widgets/controls",
            "_view_module_version": "1.5.0",
            "_view_name": "HTMLView",
            "description": "",
            "description_tooltip": null,
            "layout": "IPY_MODEL_bf4f137d1951453d82a8ffeaa559b6a6",
            "placeholder": "​",
            "style": "IPY_MODEL_c258910d7b7845379a58c2742dc85771",
            "value": " 3840/3840 [00:03&lt;00:00, 1124.00 examples/s]"
          }
        },
        "05f743c235f04efa8f741b595e1773a7": {
          "model_module": "@jupyter-widgets/base",
          "model_name": "LayoutModel",
          "model_module_version": "1.2.0",
          "state": {
            "_model_module": "@jupyter-widgets/base",
            "_model_module_version": "1.2.0",
            "_model_name": "LayoutModel",
            "_view_count": null,
            "_view_module": "@jupyter-widgets/base",
            "_view_module_version": "1.2.0",
            "_view_name": "LayoutView",
            "align_content": null,
            "align_items": null,
            "align_self": null,
            "border": null,
            "bottom": null,
            "display": null,
            "flex": null,
            "flex_flow": null,
            "grid_area": null,
            "grid_auto_columns": null,
            "grid_auto_flow": null,
            "grid_auto_rows": null,
            "grid_column": null,
            "grid_gap": null,
            "grid_row": null,
            "grid_template_areas": null,
            "grid_template_columns": null,
            "grid_template_rows": null,
            "height": null,
            "justify_content": null,
            "justify_items": null,
            "left": null,
            "margin": null,
            "max_height": null,
            "max_width": null,
            "min_height": null,
            "min_width": null,
            "object_fit": null,
            "object_position": null,
            "order": null,
            "overflow": null,
            "overflow_x": null,
            "overflow_y": null,
            "padding": null,
            "right": null,
            "top": null,
            "visibility": null,
            "width": null
          }
        },
        "90a7e8c1b89a4ff1994b72baecab58c4": {
          "model_module": "@jupyter-widgets/base",
          "model_name": "LayoutModel",
          "model_module_version": "1.2.0",
          "state": {
            "_model_module": "@jupyter-widgets/base",
            "_model_module_version": "1.2.0",
            "_model_name": "LayoutModel",
            "_view_count": null,
            "_view_module": "@jupyter-widgets/base",
            "_view_module_version": "1.2.0",
            "_view_name": "LayoutView",
            "align_content": null,
            "align_items": null,
            "align_self": null,
            "border": null,
            "bottom": null,
            "display": null,
            "flex": null,
            "flex_flow": null,
            "grid_area": null,
            "grid_auto_columns": null,
            "grid_auto_flow": null,
            "grid_auto_rows": null,
            "grid_column": null,
            "grid_gap": null,
            "grid_row": null,
            "grid_template_areas": null,
            "grid_template_columns": null,
            "grid_template_rows": null,
            "height": null,
            "justify_content": null,
            "justify_items": null,
            "left": null,
            "margin": null,
            "max_height": null,
            "max_width": null,
            "min_height": null,
            "min_width": null,
            "object_fit": null,
            "object_position": null,
            "order": null,
            "overflow": null,
            "overflow_x": null,
            "overflow_y": null,
            "padding": null,
            "right": null,
            "top": null,
            "visibility": null,
            "width": null
          }
        },
        "4bff847fc8a04b02a2d9482ac80c4154": {
          "model_module": "@jupyter-widgets/controls",
          "model_name": "DescriptionStyleModel",
          "model_module_version": "1.5.0",
          "state": {
            "_model_module": "@jupyter-widgets/controls",
            "_model_module_version": "1.5.0",
            "_model_name": "DescriptionStyleModel",
            "_view_count": null,
            "_view_module": "@jupyter-widgets/base",
            "_view_module_version": "1.2.0",
            "_view_name": "StyleView",
            "description_width": ""
          }
        },
        "94a0738cb8d041f79b111a7767184dc0": {
          "model_module": "@jupyter-widgets/base",
          "model_name": "LayoutModel",
          "model_module_version": "1.2.0",
          "state": {
            "_model_module": "@jupyter-widgets/base",
            "_model_module_version": "1.2.0",
            "_model_name": "LayoutModel",
            "_view_count": null,
            "_view_module": "@jupyter-widgets/base",
            "_view_module_version": "1.2.0",
            "_view_name": "LayoutView",
            "align_content": null,
            "align_items": null,
            "align_self": null,
            "border": null,
            "bottom": null,
            "display": null,
            "flex": null,
            "flex_flow": null,
            "grid_area": null,
            "grid_auto_columns": null,
            "grid_auto_flow": null,
            "grid_auto_rows": null,
            "grid_column": null,
            "grid_gap": null,
            "grid_row": null,
            "grid_template_areas": null,
            "grid_template_columns": null,
            "grid_template_rows": null,
            "height": null,
            "justify_content": null,
            "justify_items": null,
            "left": null,
            "margin": null,
            "max_height": null,
            "max_width": null,
            "min_height": null,
            "min_width": null,
            "object_fit": null,
            "object_position": null,
            "order": null,
            "overflow": null,
            "overflow_x": null,
            "overflow_y": null,
            "padding": null,
            "right": null,
            "top": null,
            "visibility": null,
            "width": null
          }
        },
        "ada27440a5364ce4be7bf961636178aa": {
          "model_module": "@jupyter-widgets/controls",
          "model_name": "ProgressStyleModel",
          "model_module_version": "1.5.0",
          "state": {
            "_model_module": "@jupyter-widgets/controls",
            "_model_module_version": "1.5.0",
            "_model_name": "ProgressStyleModel",
            "_view_count": null,
            "_view_module": "@jupyter-widgets/base",
            "_view_module_version": "1.2.0",
            "_view_name": "StyleView",
            "bar_color": null,
            "description_width": ""
          }
        },
        "bf4f137d1951453d82a8ffeaa559b6a6": {
          "model_module": "@jupyter-widgets/base",
          "model_name": "LayoutModel",
          "model_module_version": "1.2.0",
          "state": {
            "_model_module": "@jupyter-widgets/base",
            "_model_module_version": "1.2.0",
            "_model_name": "LayoutModel",
            "_view_count": null,
            "_view_module": "@jupyter-widgets/base",
            "_view_module_version": "1.2.0",
            "_view_name": "LayoutView",
            "align_content": null,
            "align_items": null,
            "align_self": null,
            "border": null,
            "bottom": null,
            "display": null,
            "flex": null,
            "flex_flow": null,
            "grid_area": null,
            "grid_auto_columns": null,
            "grid_auto_flow": null,
            "grid_auto_rows": null,
            "grid_column": null,
            "grid_gap": null,
            "grid_row": null,
            "grid_template_areas": null,
            "grid_template_columns": null,
            "grid_template_rows": null,
            "height": null,
            "justify_content": null,
            "justify_items": null,
            "left": null,
            "margin": null,
            "max_height": null,
            "max_width": null,
            "min_height": null,
            "min_width": null,
            "object_fit": null,
            "object_position": null,
            "order": null,
            "overflow": null,
            "overflow_x": null,
            "overflow_y": null,
            "padding": null,
            "right": null,
            "top": null,
            "visibility": null,
            "width": null
          }
        },
        "c258910d7b7845379a58c2742dc85771": {
          "model_module": "@jupyter-widgets/controls",
          "model_name": "DescriptionStyleModel",
          "model_module_version": "1.5.0",
          "state": {
            "_model_module": "@jupyter-widgets/controls",
            "_model_module_version": "1.5.0",
            "_model_name": "DescriptionStyleModel",
            "_view_count": null,
            "_view_module": "@jupyter-widgets/base",
            "_view_module_version": "1.2.0",
            "_view_name": "StyleView",
            "description_width": ""
          }
        },
        "f6131536602f44e1a0c0b1457bc9adb6": {
          "model_module": "@jupyter-widgets/controls",
          "model_name": "HBoxModel",
          "model_module_version": "1.5.0",
          "state": {
            "_dom_classes": [],
            "_model_module": "@jupyter-widgets/controls",
            "_model_module_version": "1.5.0",
            "_model_name": "HBoxModel",
            "_view_count": null,
            "_view_module": "@jupyter-widgets/controls",
            "_view_module_version": "1.5.0",
            "_view_name": "HBoxView",
            "box_style": "",
            "children": [
              "IPY_MODEL_5e07848e49454483831f5f8ed3e687c3",
              "IPY_MODEL_35f7ddbd3bf24355956df51560596c5b",
              "IPY_MODEL_d6a8bef3934345f0ac09d76343b46bfb"
            ],
            "layout": "IPY_MODEL_a736cc0cc7534142a2ed2309b93930ff"
          }
        },
        "5e07848e49454483831f5f8ed3e687c3": {
          "model_module": "@jupyter-widgets/controls",
          "model_name": "HTMLModel",
          "model_module_version": "1.5.0",
          "state": {
            "_dom_classes": [],
            "_model_module": "@jupyter-widgets/controls",
            "_model_module_version": "1.5.0",
            "_model_name": "HTMLModel",
            "_view_count": null,
            "_view_module": "@jupyter-widgets/controls",
            "_view_module_version": "1.5.0",
            "_view_name": "HTMLView",
            "description": "",
            "description_tooltip": null,
            "layout": "IPY_MODEL_294d30132b904cf397b870130b640aa2",
            "placeholder": "​",
            "style": "IPY_MODEL_7f4f266b774c43d58d2b5ce8e283246b",
            "value": "Map: 100%"
          }
        },
        "35f7ddbd3bf24355956df51560596c5b": {
          "model_module": "@jupyter-widgets/controls",
          "model_name": "FloatProgressModel",
          "model_module_version": "1.5.0",
          "state": {
            "_dom_classes": [],
            "_model_module": "@jupyter-widgets/controls",
            "_model_module_version": "1.5.0",
            "_model_name": "FloatProgressModel",
            "_view_count": null,
            "_view_module": "@jupyter-widgets/controls",
            "_view_module_version": "1.5.0",
            "_view_name": "ProgressView",
            "bar_style": "success",
            "description": "",
            "description_tooltip": null,
            "layout": "IPY_MODEL_e168bbd935924747b48958519ef3ce8d",
            "max": 960,
            "min": 0,
            "orientation": "horizontal",
            "style": "IPY_MODEL_9aff548f1cb8443f9b653728f3bceada",
            "value": 960
          }
        },
        "d6a8bef3934345f0ac09d76343b46bfb": {
          "model_module": "@jupyter-widgets/controls",
          "model_name": "HTMLModel",
          "model_module_version": "1.5.0",
          "state": {
            "_dom_classes": [],
            "_model_module": "@jupyter-widgets/controls",
            "_model_module_version": "1.5.0",
            "_model_name": "HTMLModel",
            "_view_count": null,
            "_view_module": "@jupyter-widgets/controls",
            "_view_module_version": "1.5.0",
            "_view_name": "HTMLView",
            "description": "",
            "description_tooltip": null,
            "layout": "IPY_MODEL_28123a7645184061bdab600b9f13b9fb",
            "placeholder": "​",
            "style": "IPY_MODEL_2c8c09c14f3b4560a14869d2e3fba857",
            "value": " 960/960 [00:00&lt;00:00, 1261.50 examples/s]"
          }
        },
        "a736cc0cc7534142a2ed2309b93930ff": {
          "model_module": "@jupyter-widgets/base",
          "model_name": "LayoutModel",
          "model_module_version": "1.2.0",
          "state": {
            "_model_module": "@jupyter-widgets/base",
            "_model_module_version": "1.2.0",
            "_model_name": "LayoutModel",
            "_view_count": null,
            "_view_module": "@jupyter-widgets/base",
            "_view_module_version": "1.2.0",
            "_view_name": "LayoutView",
            "align_content": null,
            "align_items": null,
            "align_self": null,
            "border": null,
            "bottom": null,
            "display": null,
            "flex": null,
            "flex_flow": null,
            "grid_area": null,
            "grid_auto_columns": null,
            "grid_auto_flow": null,
            "grid_auto_rows": null,
            "grid_column": null,
            "grid_gap": null,
            "grid_row": null,
            "grid_template_areas": null,
            "grid_template_columns": null,
            "grid_template_rows": null,
            "height": null,
            "justify_content": null,
            "justify_items": null,
            "left": null,
            "margin": null,
            "max_height": null,
            "max_width": null,
            "min_height": null,
            "min_width": null,
            "object_fit": null,
            "object_position": null,
            "order": null,
            "overflow": null,
            "overflow_x": null,
            "overflow_y": null,
            "padding": null,
            "right": null,
            "top": null,
            "visibility": null,
            "width": null
          }
        },
        "294d30132b904cf397b870130b640aa2": {
          "model_module": "@jupyter-widgets/base",
          "model_name": "LayoutModel",
          "model_module_version": "1.2.0",
          "state": {
            "_model_module": "@jupyter-widgets/base",
            "_model_module_version": "1.2.0",
            "_model_name": "LayoutModel",
            "_view_count": null,
            "_view_module": "@jupyter-widgets/base",
            "_view_module_version": "1.2.0",
            "_view_name": "LayoutView",
            "align_content": null,
            "align_items": null,
            "align_self": null,
            "border": null,
            "bottom": null,
            "display": null,
            "flex": null,
            "flex_flow": null,
            "grid_area": null,
            "grid_auto_columns": null,
            "grid_auto_flow": null,
            "grid_auto_rows": null,
            "grid_column": null,
            "grid_gap": null,
            "grid_row": null,
            "grid_template_areas": null,
            "grid_template_columns": null,
            "grid_template_rows": null,
            "height": null,
            "justify_content": null,
            "justify_items": null,
            "left": null,
            "margin": null,
            "max_height": null,
            "max_width": null,
            "min_height": null,
            "min_width": null,
            "object_fit": null,
            "object_position": null,
            "order": null,
            "overflow": null,
            "overflow_x": null,
            "overflow_y": null,
            "padding": null,
            "right": null,
            "top": null,
            "visibility": null,
            "width": null
          }
        },
        "7f4f266b774c43d58d2b5ce8e283246b": {
          "model_module": "@jupyter-widgets/controls",
          "model_name": "DescriptionStyleModel",
          "model_module_version": "1.5.0",
          "state": {
            "_model_module": "@jupyter-widgets/controls",
            "_model_module_version": "1.5.0",
            "_model_name": "DescriptionStyleModel",
            "_view_count": null,
            "_view_module": "@jupyter-widgets/base",
            "_view_module_version": "1.2.0",
            "_view_name": "StyleView",
            "description_width": ""
          }
        },
        "e168bbd935924747b48958519ef3ce8d": {
          "model_module": "@jupyter-widgets/base",
          "model_name": "LayoutModel",
          "model_module_version": "1.2.0",
          "state": {
            "_model_module": "@jupyter-widgets/base",
            "_model_module_version": "1.2.0",
            "_model_name": "LayoutModel",
            "_view_count": null,
            "_view_module": "@jupyter-widgets/base",
            "_view_module_version": "1.2.0",
            "_view_name": "LayoutView",
            "align_content": null,
            "align_items": null,
            "align_self": null,
            "border": null,
            "bottom": null,
            "display": null,
            "flex": null,
            "flex_flow": null,
            "grid_area": null,
            "grid_auto_columns": null,
            "grid_auto_flow": null,
            "grid_auto_rows": null,
            "grid_column": null,
            "grid_gap": null,
            "grid_row": null,
            "grid_template_areas": null,
            "grid_template_columns": null,
            "grid_template_rows": null,
            "height": null,
            "justify_content": null,
            "justify_items": null,
            "left": null,
            "margin": null,
            "max_height": null,
            "max_width": null,
            "min_height": null,
            "min_width": null,
            "object_fit": null,
            "object_position": null,
            "order": null,
            "overflow": null,
            "overflow_x": null,
            "overflow_y": null,
            "padding": null,
            "right": null,
            "top": null,
            "visibility": null,
            "width": null
          }
        },
        "9aff548f1cb8443f9b653728f3bceada": {
          "model_module": "@jupyter-widgets/controls",
          "model_name": "ProgressStyleModel",
          "model_module_version": "1.5.0",
          "state": {
            "_model_module": "@jupyter-widgets/controls",
            "_model_module_version": "1.5.0",
            "_model_name": "ProgressStyleModel",
            "_view_count": null,
            "_view_module": "@jupyter-widgets/base",
            "_view_module_version": "1.2.0",
            "_view_name": "StyleView",
            "bar_color": null,
            "description_width": ""
          }
        },
        "28123a7645184061bdab600b9f13b9fb": {
          "model_module": "@jupyter-widgets/base",
          "model_name": "LayoutModel",
          "model_module_version": "1.2.0",
          "state": {
            "_model_module": "@jupyter-widgets/base",
            "_model_module_version": "1.2.0",
            "_model_name": "LayoutModel",
            "_view_count": null,
            "_view_module": "@jupyter-widgets/base",
            "_view_module_version": "1.2.0",
            "_view_name": "LayoutView",
            "align_content": null,
            "align_items": null,
            "align_self": null,
            "border": null,
            "bottom": null,
            "display": null,
            "flex": null,
            "flex_flow": null,
            "grid_area": null,
            "grid_auto_columns": null,
            "grid_auto_flow": null,
            "grid_auto_rows": null,
            "grid_column": null,
            "grid_gap": null,
            "grid_row": null,
            "grid_template_areas": null,
            "grid_template_columns": null,
            "grid_template_rows": null,
            "height": null,
            "justify_content": null,
            "justify_items": null,
            "left": null,
            "margin": null,
            "max_height": null,
            "max_width": null,
            "min_height": null,
            "min_width": null,
            "object_fit": null,
            "object_position": null,
            "order": null,
            "overflow": null,
            "overflow_x": null,
            "overflow_y": null,
            "padding": null,
            "right": null,
            "top": null,
            "visibility": null,
            "width": null
          }
        },
        "2c8c09c14f3b4560a14869d2e3fba857": {
          "model_module": "@jupyter-widgets/controls",
          "model_name": "DescriptionStyleModel",
          "model_module_version": "1.5.0",
          "state": {
            "_model_module": "@jupyter-widgets/controls",
            "_model_module_version": "1.5.0",
            "_model_name": "DescriptionStyleModel",
            "_view_count": null,
            "_view_module": "@jupyter-widgets/base",
            "_view_module_version": "1.2.0",
            "_view_name": "StyleView",
            "description_width": ""
          }
        },
        "f7edd6b99c5a43baa1b86903743c2445": {
          "model_module": "@jupyter-widgets/controls",
          "model_name": "VBoxModel",
          "model_module_version": "1.5.0",
          "state": {
            "_dom_classes": [],
            "_model_module": "@jupyter-widgets/controls",
            "_model_module_version": "1.5.0",
            "_model_name": "VBoxModel",
            "_view_count": null,
            "_view_module": "@jupyter-widgets/controls",
            "_view_module_version": "1.5.0",
            "_view_name": "VBoxView",
            "box_style": "",
            "children": [
              "IPY_MODEL_efa2273e71864cd1bc32eaa6d02bfb29",
              "IPY_MODEL_698d60a9bc98479791352a3b8b13cb1e",
              "IPY_MODEL_e5a4b81973114ddb87633be79ba9d016",
              "IPY_MODEL_16c4c2d91c574e50bc1a3bcbe32dea49"
            ],
            "layout": "IPY_MODEL_9f3fdbaafc484b55af062d5bdda66bfb"
          }
        },
        "fca0e7c7a85849259d9dfe6ccf22aaa5": {
          "model_module": "@jupyter-widgets/controls",
          "model_name": "HTMLModel",
          "model_module_version": "1.5.0",
          "state": {
            "_dom_classes": [],
            "_model_module": "@jupyter-widgets/controls",
            "_model_module_version": "1.5.0",
            "_model_name": "HTMLModel",
            "_view_count": null,
            "_view_module": "@jupyter-widgets/controls",
            "_view_module_version": "1.5.0",
            "_view_name": "HTMLView",
            "description": "",
            "description_tooltip": null,
            "layout": "IPY_MODEL_d0b2c01db44048318028dc22ca2b9838",
            "placeholder": "​",
            "style": "IPY_MODEL_c2d0308947a84341a60db00a611ed93b",
            "value": "<center> <img\nsrc=https://huggingface.co/front/assets/huggingface_logo-noborder.svg\nalt='Hugging Face'> <br> Copy a token from <a\nhref=\"https://huggingface.co/settings/tokens\" target=\"_blank\">your Hugging Face\ntokens page</a> and paste it below. <br> Immediately click login after copying\nyour token or it might be stored in plain text in this notebook file. </center>"
          }
        },
        "80179dd93d29454b81ef2752cdbc85c0": {
          "model_module": "@jupyter-widgets/controls",
          "model_name": "PasswordModel",
          "model_module_version": "1.5.0",
          "state": {
            "_dom_classes": [],
            "_model_module": "@jupyter-widgets/controls",
            "_model_module_version": "1.5.0",
            "_model_name": "PasswordModel",
            "_view_count": null,
            "_view_module": "@jupyter-widgets/controls",
            "_view_module_version": "1.5.0",
            "_view_name": "PasswordView",
            "continuous_update": true,
            "description": "Token:",
            "description_tooltip": null,
            "disabled": false,
            "layout": "IPY_MODEL_dd43f9567c9d4c51b604ed8a86e34e2c",
            "placeholder": "​",
            "style": "IPY_MODEL_ab208c0c0cd14afd9a81fe4f0454bbca",
            "value": ""
          }
        },
        "121518a9f2404ff1905cbd28d0885c34": {
          "model_module": "@jupyter-widgets/controls",
          "model_name": "CheckboxModel",
          "model_module_version": "1.5.0",
          "state": {
            "_dom_classes": [],
            "_model_module": "@jupyter-widgets/controls",
            "_model_module_version": "1.5.0",
            "_model_name": "CheckboxModel",
            "_view_count": null,
            "_view_module": "@jupyter-widgets/controls",
            "_view_module_version": "1.5.0",
            "_view_name": "CheckboxView",
            "description": "Add token as git credential?",
            "description_tooltip": null,
            "disabled": false,
            "indent": true,
            "layout": "IPY_MODEL_442a20ec4adc4c66a82d396aafb9f554",
            "style": "IPY_MODEL_876d475345cd4c8c8503eb37c3098d9b",
            "value": true
          }
        },
        "2a4e217d6f3a487eae8e9940ee0f2d10": {
          "model_module": "@jupyter-widgets/controls",
          "model_name": "ButtonModel",
          "model_module_version": "1.5.0",
          "state": {
            "_dom_classes": [],
            "_model_module": "@jupyter-widgets/controls",
            "_model_module_version": "1.5.0",
            "_model_name": "ButtonModel",
            "_view_count": null,
            "_view_module": "@jupyter-widgets/controls",
            "_view_module_version": "1.5.0",
            "_view_name": "ButtonView",
            "button_style": "",
            "description": "Login",
            "disabled": false,
            "icon": "",
            "layout": "IPY_MODEL_a23ecb0c80fb4149a2f29bf7ac9af50d",
            "style": "IPY_MODEL_5fd320767ff645df9dcb27c6134ad811",
            "tooltip": ""
          }
        },
        "10542d4babb3442b89c6668507fe58d1": {
          "model_module": "@jupyter-widgets/controls",
          "model_name": "HTMLModel",
          "model_module_version": "1.5.0",
          "state": {
            "_dom_classes": [],
            "_model_module": "@jupyter-widgets/controls",
            "_model_module_version": "1.5.0",
            "_model_name": "HTMLModel",
            "_view_count": null,
            "_view_module": "@jupyter-widgets/controls",
            "_view_module_version": "1.5.0",
            "_view_name": "HTMLView",
            "description": "",
            "description_tooltip": null,
            "layout": "IPY_MODEL_a362f4365c6a484899160969379f3289",
            "placeholder": "​",
            "style": "IPY_MODEL_f3cb6d05e0ca4550825696e1c17f7f18",
            "value": "\n<b>Pro Tip:</b> If you don't already have one, you can create a dedicated\n'notebooks' token with 'write' access, that you can then easily reuse for all\nnotebooks. </center>"
          }
        },
        "9f3fdbaafc484b55af062d5bdda66bfb": {
          "model_module": "@jupyter-widgets/base",
          "model_name": "LayoutModel",
          "model_module_version": "1.2.0",
          "state": {
            "_model_module": "@jupyter-widgets/base",
            "_model_module_version": "1.2.0",
            "_model_name": "LayoutModel",
            "_view_count": null,
            "_view_module": "@jupyter-widgets/base",
            "_view_module_version": "1.2.0",
            "_view_name": "LayoutView",
            "align_content": null,
            "align_items": "center",
            "align_self": null,
            "border": null,
            "bottom": null,
            "display": "flex",
            "flex": null,
            "flex_flow": "column",
            "grid_area": null,
            "grid_auto_columns": null,
            "grid_auto_flow": null,
            "grid_auto_rows": null,
            "grid_column": null,
            "grid_gap": null,
            "grid_row": null,
            "grid_template_areas": null,
            "grid_template_columns": null,
            "grid_template_rows": null,
            "height": null,
            "justify_content": null,
            "justify_items": null,
            "left": null,
            "margin": null,
            "max_height": null,
            "max_width": null,
            "min_height": null,
            "min_width": null,
            "object_fit": null,
            "object_position": null,
            "order": null,
            "overflow": null,
            "overflow_x": null,
            "overflow_y": null,
            "padding": null,
            "right": null,
            "top": null,
            "visibility": null,
            "width": "50%"
          }
        },
        "d0b2c01db44048318028dc22ca2b9838": {
          "model_module": "@jupyter-widgets/base",
          "model_name": "LayoutModel",
          "model_module_version": "1.2.0",
          "state": {
            "_model_module": "@jupyter-widgets/base",
            "_model_module_version": "1.2.0",
            "_model_name": "LayoutModel",
            "_view_count": null,
            "_view_module": "@jupyter-widgets/base",
            "_view_module_version": "1.2.0",
            "_view_name": "LayoutView",
            "align_content": null,
            "align_items": null,
            "align_self": null,
            "border": null,
            "bottom": null,
            "display": null,
            "flex": null,
            "flex_flow": null,
            "grid_area": null,
            "grid_auto_columns": null,
            "grid_auto_flow": null,
            "grid_auto_rows": null,
            "grid_column": null,
            "grid_gap": null,
            "grid_row": null,
            "grid_template_areas": null,
            "grid_template_columns": null,
            "grid_template_rows": null,
            "height": null,
            "justify_content": null,
            "justify_items": null,
            "left": null,
            "margin": null,
            "max_height": null,
            "max_width": null,
            "min_height": null,
            "min_width": null,
            "object_fit": null,
            "object_position": null,
            "order": null,
            "overflow": null,
            "overflow_x": null,
            "overflow_y": null,
            "padding": null,
            "right": null,
            "top": null,
            "visibility": null,
            "width": null
          }
        },
        "c2d0308947a84341a60db00a611ed93b": {
          "model_module": "@jupyter-widgets/controls",
          "model_name": "DescriptionStyleModel",
          "model_module_version": "1.5.0",
          "state": {
            "_model_module": "@jupyter-widgets/controls",
            "_model_module_version": "1.5.0",
            "_model_name": "DescriptionStyleModel",
            "_view_count": null,
            "_view_module": "@jupyter-widgets/base",
            "_view_module_version": "1.2.0",
            "_view_name": "StyleView",
            "description_width": ""
          }
        },
        "dd43f9567c9d4c51b604ed8a86e34e2c": {
          "model_module": "@jupyter-widgets/base",
          "model_name": "LayoutModel",
          "model_module_version": "1.2.0",
          "state": {
            "_model_module": "@jupyter-widgets/base",
            "_model_module_version": "1.2.0",
            "_model_name": "LayoutModel",
            "_view_count": null,
            "_view_module": "@jupyter-widgets/base",
            "_view_module_version": "1.2.0",
            "_view_name": "LayoutView",
            "align_content": null,
            "align_items": null,
            "align_self": null,
            "border": null,
            "bottom": null,
            "display": null,
            "flex": null,
            "flex_flow": null,
            "grid_area": null,
            "grid_auto_columns": null,
            "grid_auto_flow": null,
            "grid_auto_rows": null,
            "grid_column": null,
            "grid_gap": null,
            "grid_row": null,
            "grid_template_areas": null,
            "grid_template_columns": null,
            "grid_template_rows": null,
            "height": null,
            "justify_content": null,
            "justify_items": null,
            "left": null,
            "margin": null,
            "max_height": null,
            "max_width": null,
            "min_height": null,
            "min_width": null,
            "object_fit": null,
            "object_position": null,
            "order": null,
            "overflow": null,
            "overflow_x": null,
            "overflow_y": null,
            "padding": null,
            "right": null,
            "top": null,
            "visibility": null,
            "width": null
          }
        },
        "ab208c0c0cd14afd9a81fe4f0454bbca": {
          "model_module": "@jupyter-widgets/controls",
          "model_name": "DescriptionStyleModel",
          "model_module_version": "1.5.0",
          "state": {
            "_model_module": "@jupyter-widgets/controls",
            "_model_module_version": "1.5.0",
            "_model_name": "DescriptionStyleModel",
            "_view_count": null,
            "_view_module": "@jupyter-widgets/base",
            "_view_module_version": "1.2.0",
            "_view_name": "StyleView",
            "description_width": ""
          }
        },
        "442a20ec4adc4c66a82d396aafb9f554": {
          "model_module": "@jupyter-widgets/base",
          "model_name": "LayoutModel",
          "model_module_version": "1.2.0",
          "state": {
            "_model_module": "@jupyter-widgets/base",
            "_model_module_version": "1.2.0",
            "_model_name": "LayoutModel",
            "_view_count": null,
            "_view_module": "@jupyter-widgets/base",
            "_view_module_version": "1.2.0",
            "_view_name": "LayoutView",
            "align_content": null,
            "align_items": null,
            "align_self": null,
            "border": null,
            "bottom": null,
            "display": null,
            "flex": null,
            "flex_flow": null,
            "grid_area": null,
            "grid_auto_columns": null,
            "grid_auto_flow": null,
            "grid_auto_rows": null,
            "grid_column": null,
            "grid_gap": null,
            "grid_row": null,
            "grid_template_areas": null,
            "grid_template_columns": null,
            "grid_template_rows": null,
            "height": null,
            "justify_content": null,
            "justify_items": null,
            "left": null,
            "margin": null,
            "max_height": null,
            "max_width": null,
            "min_height": null,
            "min_width": null,
            "object_fit": null,
            "object_position": null,
            "order": null,
            "overflow": null,
            "overflow_x": null,
            "overflow_y": null,
            "padding": null,
            "right": null,
            "top": null,
            "visibility": null,
            "width": null
          }
        },
        "876d475345cd4c8c8503eb37c3098d9b": {
          "model_module": "@jupyter-widgets/controls",
          "model_name": "DescriptionStyleModel",
          "model_module_version": "1.5.0",
          "state": {
            "_model_module": "@jupyter-widgets/controls",
            "_model_module_version": "1.5.0",
            "_model_name": "DescriptionStyleModel",
            "_view_count": null,
            "_view_module": "@jupyter-widgets/base",
            "_view_module_version": "1.2.0",
            "_view_name": "StyleView",
            "description_width": ""
          }
        },
        "a23ecb0c80fb4149a2f29bf7ac9af50d": {
          "model_module": "@jupyter-widgets/base",
          "model_name": "LayoutModel",
          "model_module_version": "1.2.0",
          "state": {
            "_model_module": "@jupyter-widgets/base",
            "_model_module_version": "1.2.0",
            "_model_name": "LayoutModel",
            "_view_count": null,
            "_view_module": "@jupyter-widgets/base",
            "_view_module_version": "1.2.0",
            "_view_name": "LayoutView",
            "align_content": null,
            "align_items": null,
            "align_self": null,
            "border": null,
            "bottom": null,
            "display": null,
            "flex": null,
            "flex_flow": null,
            "grid_area": null,
            "grid_auto_columns": null,
            "grid_auto_flow": null,
            "grid_auto_rows": null,
            "grid_column": null,
            "grid_gap": null,
            "grid_row": null,
            "grid_template_areas": null,
            "grid_template_columns": null,
            "grid_template_rows": null,
            "height": null,
            "justify_content": null,
            "justify_items": null,
            "left": null,
            "margin": null,
            "max_height": null,
            "max_width": null,
            "min_height": null,
            "min_width": null,
            "object_fit": null,
            "object_position": null,
            "order": null,
            "overflow": null,
            "overflow_x": null,
            "overflow_y": null,
            "padding": null,
            "right": null,
            "top": null,
            "visibility": null,
            "width": null
          }
        },
        "5fd320767ff645df9dcb27c6134ad811": {
          "model_module": "@jupyter-widgets/controls",
          "model_name": "ButtonStyleModel",
          "model_module_version": "1.5.0",
          "state": {
            "_model_module": "@jupyter-widgets/controls",
            "_model_module_version": "1.5.0",
            "_model_name": "ButtonStyleModel",
            "_view_count": null,
            "_view_module": "@jupyter-widgets/base",
            "_view_module_version": "1.2.0",
            "_view_name": "StyleView",
            "button_color": null,
            "font_weight": ""
          }
        },
        "a362f4365c6a484899160969379f3289": {
          "model_module": "@jupyter-widgets/base",
          "model_name": "LayoutModel",
          "model_module_version": "1.2.0",
          "state": {
            "_model_module": "@jupyter-widgets/base",
            "_model_module_version": "1.2.0",
            "_model_name": "LayoutModel",
            "_view_count": null,
            "_view_module": "@jupyter-widgets/base",
            "_view_module_version": "1.2.0",
            "_view_name": "LayoutView",
            "align_content": null,
            "align_items": null,
            "align_self": null,
            "border": null,
            "bottom": null,
            "display": null,
            "flex": null,
            "flex_flow": null,
            "grid_area": null,
            "grid_auto_columns": null,
            "grid_auto_flow": null,
            "grid_auto_rows": null,
            "grid_column": null,
            "grid_gap": null,
            "grid_row": null,
            "grid_template_areas": null,
            "grid_template_columns": null,
            "grid_template_rows": null,
            "height": null,
            "justify_content": null,
            "justify_items": null,
            "left": null,
            "margin": null,
            "max_height": null,
            "max_width": null,
            "min_height": null,
            "min_width": null,
            "object_fit": null,
            "object_position": null,
            "order": null,
            "overflow": null,
            "overflow_x": null,
            "overflow_y": null,
            "padding": null,
            "right": null,
            "top": null,
            "visibility": null,
            "width": null
          }
        },
        "f3cb6d05e0ca4550825696e1c17f7f18": {
          "model_module": "@jupyter-widgets/controls",
          "model_name": "DescriptionStyleModel",
          "model_module_version": "1.5.0",
          "state": {
            "_model_module": "@jupyter-widgets/controls",
            "_model_module_version": "1.5.0",
            "_model_name": "DescriptionStyleModel",
            "_view_count": null,
            "_view_module": "@jupyter-widgets/base",
            "_view_module_version": "1.2.0",
            "_view_name": "StyleView",
            "description_width": ""
          }
        },
        "ea2c4745dc4c4ad4a9e42a06f743dc15": {
          "model_module": "@jupyter-widgets/controls",
          "model_name": "LabelModel",
          "model_module_version": "1.5.0",
          "state": {
            "_dom_classes": [],
            "_model_module": "@jupyter-widgets/controls",
            "_model_module_version": "1.5.0",
            "_model_name": "LabelModel",
            "_view_count": null,
            "_view_module": "@jupyter-widgets/controls",
            "_view_module_version": "1.5.0",
            "_view_name": "LabelView",
            "description": "",
            "description_tooltip": null,
            "layout": "IPY_MODEL_f4f93614b93d4c3d8329e2849dc0b1e5",
            "placeholder": "​",
            "style": "IPY_MODEL_a8fe55b89ed149a0a9680f03f0993ba1",
            "value": "Connecting..."
          }
        },
        "f4f93614b93d4c3d8329e2849dc0b1e5": {
          "model_module": "@jupyter-widgets/base",
          "model_name": "LayoutModel",
          "model_module_version": "1.2.0",
          "state": {
            "_model_module": "@jupyter-widgets/base",
            "_model_module_version": "1.2.0",
            "_model_name": "LayoutModel",
            "_view_count": null,
            "_view_module": "@jupyter-widgets/base",
            "_view_module_version": "1.2.0",
            "_view_name": "LayoutView",
            "align_content": null,
            "align_items": null,
            "align_self": null,
            "border": null,
            "bottom": null,
            "display": null,
            "flex": null,
            "flex_flow": null,
            "grid_area": null,
            "grid_auto_columns": null,
            "grid_auto_flow": null,
            "grid_auto_rows": null,
            "grid_column": null,
            "grid_gap": null,
            "grid_row": null,
            "grid_template_areas": null,
            "grid_template_columns": null,
            "grid_template_rows": null,
            "height": null,
            "justify_content": null,
            "justify_items": null,
            "left": null,
            "margin": null,
            "max_height": null,
            "max_width": null,
            "min_height": null,
            "min_width": null,
            "object_fit": null,
            "object_position": null,
            "order": null,
            "overflow": null,
            "overflow_x": null,
            "overflow_y": null,
            "padding": null,
            "right": null,
            "top": null,
            "visibility": null,
            "width": null
          }
        },
        "a8fe55b89ed149a0a9680f03f0993ba1": {
          "model_module": "@jupyter-widgets/controls",
          "model_name": "DescriptionStyleModel",
          "model_module_version": "1.5.0",
          "state": {
            "_model_module": "@jupyter-widgets/controls",
            "_model_module_version": "1.5.0",
            "_model_name": "DescriptionStyleModel",
            "_view_count": null,
            "_view_module": "@jupyter-widgets/base",
            "_view_module_version": "1.2.0",
            "_view_name": "StyleView",
            "description_width": ""
          }
        },
        "efa2273e71864cd1bc32eaa6d02bfb29": {
          "model_module": "@jupyter-widgets/controls",
          "model_name": "LabelModel",
          "model_module_version": "1.5.0",
          "state": {
            "_dom_classes": [],
            "_model_module": "@jupyter-widgets/controls",
            "_model_module_version": "1.5.0",
            "_model_name": "LabelModel",
            "_view_count": null,
            "_view_module": "@jupyter-widgets/controls",
            "_view_module_version": "1.5.0",
            "_view_name": "LabelView",
            "description": "",
            "description_tooltip": null,
            "layout": "IPY_MODEL_fbd8caf5c4f74a1b86fe87d2ceb1ba26",
            "placeholder": "​",
            "style": "IPY_MODEL_bf973663261d4dc19b03b25705dd754f",
            "value": "Token is valid (permission: write)."
          }
        },
        "698d60a9bc98479791352a3b8b13cb1e": {
          "model_module": "@jupyter-widgets/controls",
          "model_name": "LabelModel",
          "model_module_version": "1.5.0",
          "state": {
            "_dom_classes": [],
            "_model_module": "@jupyter-widgets/controls",
            "_model_module_version": "1.5.0",
            "_model_name": "LabelModel",
            "_view_count": null,
            "_view_module": "@jupyter-widgets/controls",
            "_view_module_version": "1.5.0",
            "_view_name": "LabelView",
            "description": "",
            "description_tooltip": null,
            "layout": "IPY_MODEL_516f5b6ac7984f32b1f19837fc75b14c",
            "placeholder": "​",
            "style": "IPY_MODEL_bf036c4c6944410da328dbbd9fa185e9",
            "value": "Your token has been saved in your configured git credential helpers (store)."
          }
        },
        "e5a4b81973114ddb87633be79ba9d016": {
          "model_module": "@jupyter-widgets/controls",
          "model_name": "LabelModel",
          "model_module_version": "1.5.0",
          "state": {
            "_dom_classes": [],
            "_model_module": "@jupyter-widgets/controls",
            "_model_module_version": "1.5.0",
            "_model_name": "LabelModel",
            "_view_count": null,
            "_view_module": "@jupyter-widgets/controls",
            "_view_module_version": "1.5.0",
            "_view_name": "LabelView",
            "description": "",
            "description_tooltip": null,
            "layout": "IPY_MODEL_2c3f27fb881c4e209a09684d5fa2e732",
            "placeholder": "​",
            "style": "IPY_MODEL_18bf17e95c8f403faafe8aa17a1b8be9",
            "value": "Your token has been saved to /root/.cache/huggingface/token"
          }
        },
        "16c4c2d91c574e50bc1a3bcbe32dea49": {
          "model_module": "@jupyter-widgets/controls",
          "model_name": "LabelModel",
          "model_module_version": "1.5.0",
          "state": {
            "_dom_classes": [],
            "_model_module": "@jupyter-widgets/controls",
            "_model_module_version": "1.5.0",
            "_model_name": "LabelModel",
            "_view_count": null,
            "_view_module": "@jupyter-widgets/controls",
            "_view_module_version": "1.5.0",
            "_view_name": "LabelView",
            "description": "",
            "description_tooltip": null,
            "layout": "IPY_MODEL_a8d607c80ee445c994df4d964f0820e0",
            "placeholder": "​",
            "style": "IPY_MODEL_b2689889f7cb4687b11c157466771956",
            "value": "Login successful"
          }
        },
        "fbd8caf5c4f74a1b86fe87d2ceb1ba26": {
          "model_module": "@jupyter-widgets/base",
          "model_name": "LayoutModel",
          "model_module_version": "1.2.0",
          "state": {
            "_model_module": "@jupyter-widgets/base",
            "_model_module_version": "1.2.0",
            "_model_name": "LayoutModel",
            "_view_count": null,
            "_view_module": "@jupyter-widgets/base",
            "_view_module_version": "1.2.0",
            "_view_name": "LayoutView",
            "align_content": null,
            "align_items": null,
            "align_self": null,
            "border": null,
            "bottom": null,
            "display": null,
            "flex": null,
            "flex_flow": null,
            "grid_area": null,
            "grid_auto_columns": null,
            "grid_auto_flow": null,
            "grid_auto_rows": null,
            "grid_column": null,
            "grid_gap": null,
            "grid_row": null,
            "grid_template_areas": null,
            "grid_template_columns": null,
            "grid_template_rows": null,
            "height": null,
            "justify_content": null,
            "justify_items": null,
            "left": null,
            "margin": null,
            "max_height": null,
            "max_width": null,
            "min_height": null,
            "min_width": null,
            "object_fit": null,
            "object_position": null,
            "order": null,
            "overflow": null,
            "overflow_x": null,
            "overflow_y": null,
            "padding": null,
            "right": null,
            "top": null,
            "visibility": null,
            "width": null
          }
        },
        "bf973663261d4dc19b03b25705dd754f": {
          "model_module": "@jupyter-widgets/controls",
          "model_name": "DescriptionStyleModel",
          "model_module_version": "1.5.0",
          "state": {
            "_model_module": "@jupyter-widgets/controls",
            "_model_module_version": "1.5.0",
            "_model_name": "DescriptionStyleModel",
            "_view_count": null,
            "_view_module": "@jupyter-widgets/base",
            "_view_module_version": "1.2.0",
            "_view_name": "StyleView",
            "description_width": ""
          }
        },
        "516f5b6ac7984f32b1f19837fc75b14c": {
          "model_module": "@jupyter-widgets/base",
          "model_name": "LayoutModel",
          "model_module_version": "1.2.0",
          "state": {
            "_model_module": "@jupyter-widgets/base",
            "_model_module_version": "1.2.0",
            "_model_name": "LayoutModel",
            "_view_count": null,
            "_view_module": "@jupyter-widgets/base",
            "_view_module_version": "1.2.0",
            "_view_name": "LayoutView",
            "align_content": null,
            "align_items": null,
            "align_self": null,
            "border": null,
            "bottom": null,
            "display": null,
            "flex": null,
            "flex_flow": null,
            "grid_area": null,
            "grid_auto_columns": null,
            "grid_auto_flow": null,
            "grid_auto_rows": null,
            "grid_column": null,
            "grid_gap": null,
            "grid_row": null,
            "grid_template_areas": null,
            "grid_template_columns": null,
            "grid_template_rows": null,
            "height": null,
            "justify_content": null,
            "justify_items": null,
            "left": null,
            "margin": null,
            "max_height": null,
            "max_width": null,
            "min_height": null,
            "min_width": null,
            "object_fit": null,
            "object_position": null,
            "order": null,
            "overflow": null,
            "overflow_x": null,
            "overflow_y": null,
            "padding": null,
            "right": null,
            "top": null,
            "visibility": null,
            "width": null
          }
        },
        "bf036c4c6944410da328dbbd9fa185e9": {
          "model_module": "@jupyter-widgets/controls",
          "model_name": "DescriptionStyleModel",
          "model_module_version": "1.5.0",
          "state": {
            "_model_module": "@jupyter-widgets/controls",
            "_model_module_version": "1.5.0",
            "_model_name": "DescriptionStyleModel",
            "_view_count": null,
            "_view_module": "@jupyter-widgets/base",
            "_view_module_version": "1.2.0",
            "_view_name": "StyleView",
            "description_width": ""
          }
        },
        "2c3f27fb881c4e209a09684d5fa2e732": {
          "model_module": "@jupyter-widgets/base",
          "model_name": "LayoutModel",
          "model_module_version": "1.2.0",
          "state": {
            "_model_module": "@jupyter-widgets/base",
            "_model_module_version": "1.2.0",
            "_model_name": "LayoutModel",
            "_view_count": null,
            "_view_module": "@jupyter-widgets/base",
            "_view_module_version": "1.2.0",
            "_view_name": "LayoutView",
            "align_content": null,
            "align_items": null,
            "align_self": null,
            "border": null,
            "bottom": null,
            "display": null,
            "flex": null,
            "flex_flow": null,
            "grid_area": null,
            "grid_auto_columns": null,
            "grid_auto_flow": null,
            "grid_auto_rows": null,
            "grid_column": null,
            "grid_gap": null,
            "grid_row": null,
            "grid_template_areas": null,
            "grid_template_columns": null,
            "grid_template_rows": null,
            "height": null,
            "justify_content": null,
            "justify_items": null,
            "left": null,
            "margin": null,
            "max_height": null,
            "max_width": null,
            "min_height": null,
            "min_width": null,
            "object_fit": null,
            "object_position": null,
            "order": null,
            "overflow": null,
            "overflow_x": null,
            "overflow_y": null,
            "padding": null,
            "right": null,
            "top": null,
            "visibility": null,
            "width": null
          }
        },
        "18bf17e95c8f403faafe8aa17a1b8be9": {
          "model_module": "@jupyter-widgets/controls",
          "model_name": "DescriptionStyleModel",
          "model_module_version": "1.5.0",
          "state": {
            "_model_module": "@jupyter-widgets/controls",
            "_model_module_version": "1.5.0",
            "_model_name": "DescriptionStyleModel",
            "_view_count": null,
            "_view_module": "@jupyter-widgets/base",
            "_view_module_version": "1.2.0",
            "_view_name": "StyleView",
            "description_width": ""
          }
        },
        "a8d607c80ee445c994df4d964f0820e0": {
          "model_module": "@jupyter-widgets/base",
          "model_name": "LayoutModel",
          "model_module_version": "1.2.0",
          "state": {
            "_model_module": "@jupyter-widgets/base",
            "_model_module_version": "1.2.0",
            "_model_name": "LayoutModel",
            "_view_count": null,
            "_view_module": "@jupyter-widgets/base",
            "_view_module_version": "1.2.0",
            "_view_name": "LayoutView",
            "align_content": null,
            "align_items": null,
            "align_self": null,
            "border": null,
            "bottom": null,
            "display": null,
            "flex": null,
            "flex_flow": null,
            "grid_area": null,
            "grid_auto_columns": null,
            "grid_auto_flow": null,
            "grid_auto_rows": null,
            "grid_column": null,
            "grid_gap": null,
            "grid_row": null,
            "grid_template_areas": null,
            "grid_template_columns": null,
            "grid_template_rows": null,
            "height": null,
            "justify_content": null,
            "justify_items": null,
            "left": null,
            "margin": null,
            "max_height": null,
            "max_width": null,
            "min_height": null,
            "min_width": null,
            "object_fit": null,
            "object_position": null,
            "order": null,
            "overflow": null,
            "overflow_x": null,
            "overflow_y": null,
            "padding": null,
            "right": null,
            "top": null,
            "visibility": null,
            "width": null
          }
        },
        "b2689889f7cb4687b11c157466771956": {
          "model_module": "@jupyter-widgets/controls",
          "model_name": "DescriptionStyleModel",
          "model_module_version": "1.5.0",
          "state": {
            "_model_module": "@jupyter-widgets/controls",
            "_model_module_version": "1.5.0",
            "_model_name": "DescriptionStyleModel",
            "_view_count": null,
            "_view_module": "@jupyter-widgets/base",
            "_view_module_version": "1.2.0",
            "_view_name": "StyleView",
            "description_width": ""
          }
        }
      }
    }
  },
  "cells": [
    {
      "cell_type": "markdown",
      "source": [
        "##Fine tuning roberta academic\n",
        "\n",
        "\n"
      ],
      "metadata": {
        "id": "FQRQYV4lOv89"
      }
    },
    {
      "cell_type": "code",
      "execution_count": 1,
      "metadata": {
        "colab": {
          "base_uri": "https://localhost:8080/"
        },
        "id": "atauiwchOrO1",
        "outputId": "7e2f5a11-5258-4ffc-a9ee-7ac13c24f90b"
      },
      "outputs": [
        {
          "output_type": "stream",
          "name": "stdout",
          "text": [
            "Drive already mounted at /content/drive; to attempt to forcibly remount, call drive.mount(\"/content/drive\", force_remount=True).\n"
          ]
        }
      ],
      "source": [
        "from google.colab import drive\n",
        "drive.mount('/content/drive')\n"
      ]
    },
    {
      "cell_type": "code",
      "source": [
        "!pip install transformers datasets huggingface_hub tensorboard==2.11\n",
        "!sudo apt-get install git-lfs --yes\n",
        "\n",
        "\n",
        "import json\n",
        "import torch\n",
        "from datasets import load_dataset\n",
        "from transformers import RobertaTokenizerFast, RobertaForSequenceClassification, TrainingArguments, Trainer\n",
        "from huggingface_hub import HfFolder, notebook_login\n",
        "\n",
        "! pip install transformers[torch] -U\n",
        "! pip install accelerate -U\n"
      ],
      "metadata": {
        "id": "u3L41p5cO0N5",
        "colab": {
          "base_uri": "https://localhost:8080/"
        },
        "outputId": "deaca2b9-ca32-4104-b9ee-e5178a96038c"
      },
      "execution_count": 2,
      "outputs": [
        {
          "output_type": "stream",
          "name": "stdout",
          "text": [
            "Requirement already satisfied: transformers in /usr/local/lib/python3.10/dist-packages (4.40.2)\n",
            "Requirement already satisfied: datasets in /usr/local/lib/python3.10/dist-packages (2.19.1)\n",
            "Requirement already satisfied: huggingface_hub in /usr/local/lib/python3.10/dist-packages (0.23.0)\n",
            "Requirement already satisfied: tensorboard==2.11 in /usr/local/lib/python3.10/dist-packages (2.11.0)\n",
            "Requirement already satisfied: absl-py>=0.4 in /usr/local/lib/python3.10/dist-packages (from tensorboard==2.11) (1.4.0)\n",
            "Requirement already satisfied: grpcio>=1.24.3 in /usr/local/lib/python3.10/dist-packages (from tensorboard==2.11) (1.63.0)\n",
            "Requirement already satisfied: google-auth<3,>=1.6.3 in /usr/local/lib/python3.10/dist-packages (from tensorboard==2.11) (2.27.0)\n",
            "Requirement already satisfied: google-auth-oauthlib<0.5,>=0.4.1 in /usr/local/lib/python3.10/dist-packages (from tensorboard==2.11) (0.4.6)\n",
            "Requirement already satisfied: markdown>=2.6.8 in /usr/local/lib/python3.10/dist-packages (from tensorboard==2.11) (3.6)\n",
            "Requirement already satisfied: numpy>=1.12.0 in /usr/local/lib/python3.10/dist-packages (from tensorboard==2.11) (1.25.2)\n",
            "Requirement already satisfied: protobuf<4,>=3.9.2 in /usr/local/lib/python3.10/dist-packages (from tensorboard==2.11) (3.20.3)\n",
            "Requirement already satisfied: requests<3,>=2.21.0 in /usr/local/lib/python3.10/dist-packages (from tensorboard==2.11) (2.31.0)\n",
            "Requirement already satisfied: setuptools>=41.0.0 in /usr/local/lib/python3.10/dist-packages (from tensorboard==2.11) (67.7.2)\n",
            "Requirement already satisfied: tensorboard-data-server<0.7.0,>=0.6.0 in /usr/local/lib/python3.10/dist-packages (from tensorboard==2.11) (0.6.1)\n",
            "Requirement already satisfied: tensorboard-plugin-wit>=1.6.0 in /usr/local/lib/python3.10/dist-packages (from tensorboard==2.11) (1.8.1)\n",
            "Requirement already satisfied: werkzeug>=1.0.1 in /usr/local/lib/python3.10/dist-packages (from tensorboard==2.11) (3.0.3)\n",
            "Requirement already satisfied: wheel>=0.26 in /usr/local/lib/python3.10/dist-packages (from tensorboard==2.11) (0.43.0)\n",
            "Requirement already satisfied: filelock in /usr/local/lib/python3.10/dist-packages (from transformers) (3.14.0)\n",
            "Requirement already satisfied: packaging>=20.0 in /usr/local/lib/python3.10/dist-packages (from transformers) (24.0)\n",
            "Requirement already satisfied: pyyaml>=5.1 in /usr/local/lib/python3.10/dist-packages (from transformers) (6.0.1)\n",
            "Requirement already satisfied: regex!=2019.12.17 in /usr/local/lib/python3.10/dist-packages (from transformers) (2023.12.25)\n",
            "Requirement already satisfied: tokenizers<0.20,>=0.19 in /usr/local/lib/python3.10/dist-packages (from transformers) (0.19.1)\n",
            "Requirement already satisfied: safetensors>=0.4.1 in /usr/local/lib/python3.10/dist-packages (from transformers) (0.4.3)\n",
            "Requirement already satisfied: tqdm>=4.27 in /usr/local/lib/python3.10/dist-packages (from transformers) (4.66.4)\n",
            "Requirement already satisfied: pyarrow>=12.0.0 in /usr/local/lib/python3.10/dist-packages (from datasets) (14.0.2)\n",
            "Requirement already satisfied: pyarrow-hotfix in /usr/local/lib/python3.10/dist-packages (from datasets) (0.6)\n",
            "Requirement already satisfied: dill<0.3.9,>=0.3.0 in /usr/local/lib/python3.10/dist-packages (from datasets) (0.3.8)\n",
            "Requirement already satisfied: pandas in /usr/local/lib/python3.10/dist-packages (from datasets) (2.0.3)\n",
            "Requirement already satisfied: xxhash in /usr/local/lib/python3.10/dist-packages (from datasets) (3.4.1)\n",
            "Requirement already satisfied: multiprocess in /usr/local/lib/python3.10/dist-packages (from datasets) (0.70.16)\n",
            "Requirement already satisfied: fsspec[http]<=2024.3.1,>=2023.1.0 in /usr/local/lib/python3.10/dist-packages (from datasets) (2023.6.0)\n",
            "Requirement already satisfied: aiohttp in /usr/local/lib/python3.10/dist-packages (from datasets) (3.9.5)\n",
            "Requirement already satisfied: typing-extensions>=3.7.4.3 in /usr/local/lib/python3.10/dist-packages (from huggingface_hub) (4.11.0)\n",
            "Requirement already satisfied: aiosignal>=1.1.2 in /usr/local/lib/python3.10/dist-packages (from aiohttp->datasets) (1.3.1)\n",
            "Requirement already satisfied: attrs>=17.3.0 in /usr/local/lib/python3.10/dist-packages (from aiohttp->datasets) (23.2.0)\n",
            "Requirement already satisfied: frozenlist>=1.1.1 in /usr/local/lib/python3.10/dist-packages (from aiohttp->datasets) (1.4.1)\n",
            "Requirement already satisfied: multidict<7.0,>=4.5 in /usr/local/lib/python3.10/dist-packages (from aiohttp->datasets) (6.0.5)\n",
            "Requirement already satisfied: yarl<2.0,>=1.0 in /usr/local/lib/python3.10/dist-packages (from aiohttp->datasets) (1.9.4)\n",
            "Requirement already satisfied: async-timeout<5.0,>=4.0 in /usr/local/lib/python3.10/dist-packages (from aiohttp->datasets) (4.0.3)\n",
            "Requirement already satisfied: cachetools<6.0,>=2.0.0 in /usr/local/lib/python3.10/dist-packages (from google-auth<3,>=1.6.3->tensorboard==2.11) (5.3.3)\n",
            "Requirement already satisfied: pyasn1-modules>=0.2.1 in /usr/local/lib/python3.10/dist-packages (from google-auth<3,>=1.6.3->tensorboard==2.11) (0.4.0)\n",
            "Requirement already satisfied: rsa<5,>=3.1.4 in /usr/local/lib/python3.10/dist-packages (from google-auth<3,>=1.6.3->tensorboard==2.11) (4.9)\n",
            "Requirement already satisfied: requests-oauthlib>=0.7.0 in /usr/local/lib/python3.10/dist-packages (from google-auth-oauthlib<0.5,>=0.4.1->tensorboard==2.11) (1.3.1)\n",
            "Requirement already satisfied: charset-normalizer<4,>=2 in /usr/local/lib/python3.10/dist-packages (from requests<3,>=2.21.0->tensorboard==2.11) (3.3.2)\n",
            "Requirement already satisfied: idna<4,>=2.5 in /usr/local/lib/python3.10/dist-packages (from requests<3,>=2.21.0->tensorboard==2.11) (3.7)\n",
            "Requirement already satisfied: urllib3<3,>=1.21.1 in /usr/local/lib/python3.10/dist-packages (from requests<3,>=2.21.0->tensorboard==2.11) (2.0.7)\n",
            "Requirement already satisfied: certifi>=2017.4.17 in /usr/local/lib/python3.10/dist-packages (from requests<3,>=2.21.0->tensorboard==2.11) (2024.2.2)\n",
            "Requirement already satisfied: MarkupSafe>=2.1.1 in /usr/local/lib/python3.10/dist-packages (from werkzeug>=1.0.1->tensorboard==2.11) (2.1.5)\n",
            "Requirement already satisfied: python-dateutil>=2.8.2 in /usr/local/lib/python3.10/dist-packages (from pandas->datasets) (2.8.2)\n",
            "Requirement already satisfied: pytz>=2020.1 in /usr/local/lib/python3.10/dist-packages (from pandas->datasets) (2023.4)\n",
            "Requirement already satisfied: tzdata>=2022.1 in /usr/local/lib/python3.10/dist-packages (from pandas->datasets) (2024.1)\n",
            "Requirement already satisfied: pyasn1<0.7.0,>=0.4.6 in /usr/local/lib/python3.10/dist-packages (from pyasn1-modules>=0.2.1->google-auth<3,>=1.6.3->tensorboard==2.11) (0.6.0)\n",
            "Requirement already satisfied: six>=1.5 in /usr/local/lib/python3.10/dist-packages (from python-dateutil>=2.8.2->pandas->datasets) (1.16.0)\n",
            "Requirement already satisfied: oauthlib>=3.0.0 in /usr/local/lib/python3.10/dist-packages (from requests-oauthlib>=0.7.0->google-auth-oauthlib<0.5,>=0.4.1->tensorboard==2.11) (3.2.2)\n",
            "Reading package lists... Done\n",
            "Building dependency tree... Done\n",
            "Reading state information... Done\n",
            "git-lfs is already the newest version (3.0.2-1ubuntu0.2).\n",
            "0 upgraded, 0 newly installed, 0 to remove and 45 not upgraded.\n",
            "Requirement already satisfied: transformers[torch] in /usr/local/lib/python3.10/dist-packages (4.40.2)\n",
            "Requirement already satisfied: filelock in /usr/local/lib/python3.10/dist-packages (from transformers[torch]) (3.14.0)\n",
            "Requirement already satisfied: huggingface-hub<1.0,>=0.19.3 in /usr/local/lib/python3.10/dist-packages (from transformers[torch]) (0.23.0)\n",
            "Requirement already satisfied: numpy>=1.17 in /usr/local/lib/python3.10/dist-packages (from transformers[torch]) (1.25.2)\n",
            "Requirement already satisfied: packaging>=20.0 in /usr/local/lib/python3.10/dist-packages (from transformers[torch]) (24.0)\n",
            "Requirement already satisfied: pyyaml>=5.1 in /usr/local/lib/python3.10/dist-packages (from transformers[torch]) (6.0.1)\n",
            "Requirement already satisfied: regex!=2019.12.17 in /usr/local/lib/python3.10/dist-packages (from transformers[torch]) (2023.12.25)\n",
            "Requirement already satisfied: requests in /usr/local/lib/python3.10/dist-packages (from transformers[torch]) (2.31.0)\n",
            "Requirement already satisfied: tokenizers<0.20,>=0.19 in /usr/local/lib/python3.10/dist-packages (from transformers[torch]) (0.19.1)\n",
            "Requirement already satisfied: safetensors>=0.4.1 in /usr/local/lib/python3.10/dist-packages (from transformers[torch]) (0.4.3)\n",
            "Requirement already satisfied: tqdm>=4.27 in /usr/local/lib/python3.10/dist-packages (from transformers[torch]) (4.66.4)\n",
            "Requirement already satisfied: torch in /usr/local/lib/python3.10/dist-packages (from transformers[torch]) (2.2.1+cu121)\n",
            "Requirement already satisfied: accelerate>=0.21.0 in /usr/local/lib/python3.10/dist-packages (from transformers[torch]) (0.30.0)\n",
            "Requirement already satisfied: psutil in /usr/local/lib/python3.10/dist-packages (from accelerate>=0.21.0->transformers[torch]) (5.9.5)\n",
            "Requirement already satisfied: fsspec>=2023.5.0 in /usr/local/lib/python3.10/dist-packages (from huggingface-hub<1.0,>=0.19.3->transformers[torch]) (2023.6.0)\n",
            "Requirement already satisfied: typing-extensions>=3.7.4.3 in /usr/local/lib/python3.10/dist-packages (from huggingface-hub<1.0,>=0.19.3->transformers[torch]) (4.11.0)\n",
            "Requirement already satisfied: sympy in /usr/local/lib/python3.10/dist-packages (from torch->transformers[torch]) (1.12)\n",
            "Requirement already satisfied: networkx in /usr/local/lib/python3.10/dist-packages (from torch->transformers[torch]) (3.3)\n",
            "Requirement already satisfied: jinja2 in /usr/local/lib/python3.10/dist-packages (from torch->transformers[torch]) (3.1.4)\n",
            "Requirement already satisfied: nvidia-cuda-nvrtc-cu12==12.1.105 in /usr/local/lib/python3.10/dist-packages (from torch->transformers[torch]) (12.1.105)\n",
            "Requirement already satisfied: nvidia-cuda-runtime-cu12==12.1.105 in /usr/local/lib/python3.10/dist-packages (from torch->transformers[torch]) (12.1.105)\n",
            "Requirement already satisfied: nvidia-cuda-cupti-cu12==12.1.105 in /usr/local/lib/python3.10/dist-packages (from torch->transformers[torch]) (12.1.105)\n",
            "Requirement already satisfied: nvidia-cudnn-cu12==8.9.2.26 in /usr/local/lib/python3.10/dist-packages (from torch->transformers[torch]) (8.9.2.26)\n",
            "Requirement already satisfied: nvidia-cublas-cu12==12.1.3.1 in /usr/local/lib/python3.10/dist-packages (from torch->transformers[torch]) (12.1.3.1)\n",
            "Requirement already satisfied: nvidia-cufft-cu12==11.0.2.54 in /usr/local/lib/python3.10/dist-packages (from torch->transformers[torch]) (11.0.2.54)\n",
            "Requirement already satisfied: nvidia-curand-cu12==10.3.2.106 in /usr/local/lib/python3.10/dist-packages (from torch->transformers[torch]) (10.3.2.106)\n",
            "Requirement already satisfied: nvidia-cusolver-cu12==11.4.5.107 in /usr/local/lib/python3.10/dist-packages (from torch->transformers[torch]) (11.4.5.107)\n",
            "Requirement already satisfied: nvidia-cusparse-cu12==12.1.0.106 in /usr/local/lib/python3.10/dist-packages (from torch->transformers[torch]) (12.1.0.106)\n",
            "Requirement already satisfied: nvidia-nccl-cu12==2.19.3 in /usr/local/lib/python3.10/dist-packages (from torch->transformers[torch]) (2.19.3)\n",
            "Requirement already satisfied: nvidia-nvtx-cu12==12.1.105 in /usr/local/lib/python3.10/dist-packages (from torch->transformers[torch]) (12.1.105)\n",
            "Requirement already satisfied: triton==2.2.0 in /usr/local/lib/python3.10/dist-packages (from torch->transformers[torch]) (2.2.0)\n",
            "Requirement already satisfied: nvidia-nvjitlink-cu12 in /usr/local/lib/python3.10/dist-packages (from nvidia-cusolver-cu12==11.4.5.107->torch->transformers[torch]) (12.4.127)\n",
            "Requirement already satisfied: charset-normalizer<4,>=2 in /usr/local/lib/python3.10/dist-packages (from requests->transformers[torch]) (3.3.2)\n",
            "Requirement already satisfied: idna<4,>=2.5 in /usr/local/lib/python3.10/dist-packages (from requests->transformers[torch]) (3.7)\n",
            "Requirement already satisfied: urllib3<3,>=1.21.1 in /usr/local/lib/python3.10/dist-packages (from requests->transformers[torch]) (2.0.7)\n",
            "Requirement already satisfied: certifi>=2017.4.17 in /usr/local/lib/python3.10/dist-packages (from requests->transformers[torch]) (2024.2.2)\n",
            "Requirement already satisfied: MarkupSafe>=2.0 in /usr/local/lib/python3.10/dist-packages (from jinja2->torch->transformers[torch]) (2.1.5)\n",
            "Requirement already satisfied: mpmath>=0.19 in /usr/local/lib/python3.10/dist-packages (from sympy->torch->transformers[torch]) (1.3.0)\n",
            "Requirement already satisfied: accelerate in /usr/local/lib/python3.10/dist-packages (0.30.0)\n",
            "Requirement already satisfied: numpy>=1.17 in /usr/local/lib/python3.10/dist-packages (from accelerate) (1.25.2)\n",
            "Requirement already satisfied: packaging>=20.0 in /usr/local/lib/python3.10/dist-packages (from accelerate) (24.0)\n",
            "Requirement already satisfied: psutil in /usr/local/lib/python3.10/dist-packages (from accelerate) (5.9.5)\n",
            "Requirement already satisfied: pyyaml in /usr/local/lib/python3.10/dist-packages (from accelerate) (6.0.1)\n",
            "Requirement already satisfied: torch>=1.10.0 in /usr/local/lib/python3.10/dist-packages (from accelerate) (2.2.1+cu121)\n",
            "Requirement already satisfied: huggingface-hub in /usr/local/lib/python3.10/dist-packages (from accelerate) (0.23.0)\n",
            "Requirement already satisfied: safetensors>=0.3.1 in /usr/local/lib/python3.10/dist-packages (from accelerate) (0.4.3)\n",
            "Requirement already satisfied: filelock in /usr/local/lib/python3.10/dist-packages (from torch>=1.10.0->accelerate) (3.14.0)\n",
            "Requirement already satisfied: typing-extensions>=4.8.0 in /usr/local/lib/python3.10/dist-packages (from torch>=1.10.0->accelerate) (4.11.0)\n",
            "Requirement already satisfied: sympy in /usr/local/lib/python3.10/dist-packages (from torch>=1.10.0->accelerate) (1.12)\n",
            "Requirement already satisfied: networkx in /usr/local/lib/python3.10/dist-packages (from torch>=1.10.0->accelerate) (3.3)\n",
            "Requirement already satisfied: jinja2 in /usr/local/lib/python3.10/dist-packages (from torch>=1.10.0->accelerate) (3.1.4)\n",
            "Requirement already satisfied: fsspec in /usr/local/lib/python3.10/dist-packages (from torch>=1.10.0->accelerate) (2023.6.0)\n",
            "Requirement already satisfied: nvidia-cuda-nvrtc-cu12==12.1.105 in /usr/local/lib/python3.10/dist-packages (from torch>=1.10.0->accelerate) (12.1.105)\n",
            "Requirement already satisfied: nvidia-cuda-runtime-cu12==12.1.105 in /usr/local/lib/python3.10/dist-packages (from torch>=1.10.0->accelerate) (12.1.105)\n",
            "Requirement already satisfied: nvidia-cuda-cupti-cu12==12.1.105 in /usr/local/lib/python3.10/dist-packages (from torch>=1.10.0->accelerate) (12.1.105)\n",
            "Requirement already satisfied: nvidia-cudnn-cu12==8.9.2.26 in /usr/local/lib/python3.10/dist-packages (from torch>=1.10.0->accelerate) (8.9.2.26)\n",
            "Requirement already satisfied: nvidia-cublas-cu12==12.1.3.1 in /usr/local/lib/python3.10/dist-packages (from torch>=1.10.0->accelerate) (12.1.3.1)\n",
            "Requirement already satisfied: nvidia-cufft-cu12==11.0.2.54 in /usr/local/lib/python3.10/dist-packages (from torch>=1.10.0->accelerate) (11.0.2.54)\n",
            "Requirement already satisfied: nvidia-curand-cu12==10.3.2.106 in /usr/local/lib/python3.10/dist-packages (from torch>=1.10.0->accelerate) (10.3.2.106)\n",
            "Requirement already satisfied: nvidia-cusolver-cu12==11.4.5.107 in /usr/local/lib/python3.10/dist-packages (from torch>=1.10.0->accelerate) (11.4.5.107)\n",
            "Requirement already satisfied: nvidia-cusparse-cu12==12.1.0.106 in /usr/local/lib/python3.10/dist-packages (from torch>=1.10.0->accelerate) (12.1.0.106)\n",
            "Requirement already satisfied: nvidia-nccl-cu12==2.19.3 in /usr/local/lib/python3.10/dist-packages (from torch>=1.10.0->accelerate) (2.19.3)\n",
            "Requirement already satisfied: nvidia-nvtx-cu12==12.1.105 in /usr/local/lib/python3.10/dist-packages (from torch>=1.10.0->accelerate) (12.1.105)\n",
            "Requirement already satisfied: triton==2.2.0 in /usr/local/lib/python3.10/dist-packages (from torch>=1.10.0->accelerate) (2.2.0)\n",
            "Requirement already satisfied: nvidia-nvjitlink-cu12 in /usr/local/lib/python3.10/dist-packages (from nvidia-cusolver-cu12==11.4.5.107->torch>=1.10.0->accelerate) (12.4.127)\n",
            "Requirement already satisfied: requests in /usr/local/lib/python3.10/dist-packages (from huggingface-hub->accelerate) (2.31.0)\n",
            "Requirement already satisfied: tqdm>=4.42.1 in /usr/local/lib/python3.10/dist-packages (from huggingface-hub->accelerate) (4.66.4)\n",
            "Requirement already satisfied: MarkupSafe>=2.0 in /usr/local/lib/python3.10/dist-packages (from jinja2->torch>=1.10.0->accelerate) (2.1.5)\n",
            "Requirement already satisfied: charset-normalizer<4,>=2 in /usr/local/lib/python3.10/dist-packages (from requests->huggingface-hub->accelerate) (3.3.2)\n",
            "Requirement already satisfied: idna<4,>=2.5 in /usr/local/lib/python3.10/dist-packages (from requests->huggingface-hub->accelerate) (3.7)\n",
            "Requirement already satisfied: urllib3<3,>=1.21.1 in /usr/local/lib/python3.10/dist-packages (from requests->huggingface-hub->accelerate) (2.0.7)\n",
            "Requirement already satisfied: certifi>=2017.4.17 in /usr/local/lib/python3.10/dist-packages (from requests->huggingface-hub->accelerate) (2024.2.2)\n",
            "Requirement already satisfied: mpmath>=0.19 in /usr/local/lib/python3.10/dist-packages (from sympy->torch>=1.10.0->accelerate) (1.3.0)\n"
          ]
        }
      ]
    },
    {
      "cell_type": "code",
      "source": [
        "import  argparse\n",
        "import pandas as pd\n",
        "import json\n",
        "import numpy as np\n"
      ],
      "metadata": {
        "id": "LRR6_qtrO94N"
      },
      "execution_count": 3,
      "outputs": []
    },
    {
      "cell_type": "code",
      "source": [
        "with open(\"/content/drive/MyDrive/Marcus_Project/removed_n/arxiv_chatGPT_train.jsonl\", \"r\") as file:\n",
        "    train_data = [json.loads(line) for line in file]\n",
        "\n",
        "with open(\"/content/drive/MyDrive/Marcus_Project/removed_n/arxiv_chatGPT_val.jsonl\", \"r\") as file:\n",
        "    val_data = [json.loads(line) for line in file]\n"
      ],
      "metadata": {
        "id": "_KHlCX2yPM0R"
      },
      "execution_count": 4,
      "outputs": []
    },
    {
      "cell_type": "code",
      "source": [
        "# Create a list to store examples and labels\n",
        "train_examples = []\n",
        "train_labels = []\n",
        "\n",
        "# Iterate through each line in the data\n",
        "for example in train_data:\n",
        "    # Append the human-generated text and assign label 0\n",
        "    train_examples.append(example[\"human_text\"])\n",
        "    train_labels.append(0)\n",
        "    # Append the machine-generated text and assign label 1\n",
        "    train_examples.append(example[\"machine_text\"])\n",
        "    train_labels.append(1)\n"
      ],
      "metadata": {
        "id": "T8df-22APZBS"
      },
      "execution_count": 5,
      "outputs": []
    },
    {
      "cell_type": "code",
      "source": [
        "# Create a list to store examples and labels\n",
        "val_examples = []\n",
        "val_labels = []\n",
        "\n",
        "# Iterate through each line in the data\n",
        "for example in val_data:\n",
        "    # Append the human-generated text and assign label 0\n",
        "    val_examples.append(example[\"human_text\"])\n",
        "    val_labels.append(0)\n",
        "    # Append the machine-generated text and assign label 1\n",
        "    val_examples.append(example[\"machine_text\"])\n",
        "    val_labels.append(1)\n"
      ],
      "metadata": {
        "id": "abqs6sS7UhfU"
      },
      "execution_count": 6,
      "outputs": []
    },
    {
      "cell_type": "code",
      "source": [
        "#print(val_examples)"
      ],
      "metadata": {
        "id": "zMCKPTZdUleo"
      },
      "execution_count": 9,
      "outputs": []
    },
    {
      "cell_type": "code",
      "source": [
        "from datasets import Dataset\n",
        "# Create a Dataset object with the text and corresponding labels\n",
        "train_dataset = Dataset.from_dict({\"text\": train_examples, \"labels\": train_labels})\n",
        "val_dataset = Dataset.from_dict({\"text\": val_examples, \"labels\": val_labels})\n"
      ],
      "metadata": {
        "id": "9X7Z8oB1UzF0"
      },
      "execution_count": 7,
      "outputs": []
    },
    {
      "cell_type": "code",
      "source": [
        "import torch\n",
        "from transformers import (\n",
        "    RobertaTokenizerFast,\n",
        "    RobertaForSequenceClassification,\n",
        "    TrainingArguments,\n",
        "    Trainer,\n",
        "    AutoConfig\n",
        ")\n",
        "from sklearn.metrics import accuracy_score\n"
      ],
      "metadata": {
        "id": "JqpiNGAqU4jP"
      },
      "execution_count": 8,
      "outputs": []
    },
    {
      "cell_type": "code",
      "source": [
        "# Load the tokenizer\n",
        "tokenizer = RobertaTokenizerFast.from_pretrained(\"andreas122001/roberta-academic-detector\")\n"
      ],
      "metadata": {
        "colab": {
          "base_uri": "https://localhost:8080/"
        },
        "id": "hmaGfUiUU6sZ",
        "outputId": "fcb13085-f9f5-4442-b4f7-f78e616b2d98"
      },
      "execution_count": 9,
      "outputs": [
        {
          "output_type": "stream",
          "name": "stderr",
          "text": [
            "/usr/local/lib/python3.10/dist-packages/huggingface_hub/file_download.py:1132: FutureWarning: `resume_download` is deprecated and will be removed in version 1.0.0. Downloads always resume when possible. If you want to force a new download, use `force_download=True`.\n",
            "  warnings.warn(\n",
            "/usr/local/lib/python3.10/dist-packages/huggingface_hub/utils/_token.py:89: UserWarning: \n",
            "The secret `HF_TOKEN` does not exist in your Colab secrets.\n",
            "To authenticate with the Hugging Face Hub, create a token in your settings tab (https://huggingface.co/settings/tokens), set it as secret in your Google Colab and restart your session.\n",
            "You will be able to reuse this secret in all of your notebooks.\n",
            "Please note that authentication is recommended but still optional to access public models or datasets.\n",
            "  warnings.warn(\n"
          ]
        }
      ]
    },
    {
      "cell_type": "code",
      "source": [
        "# Tokenize the text data\n",
        "def tokenize_function(examples):\n",
        "    return tokenizer(examples[\"text\"], padding=\"max_length\", truncation=True)\n"
      ],
      "metadata": {
        "id": "tjK2p9G3U9JU"
      },
      "execution_count": 10,
      "outputs": []
    },
    {
      "cell_type": "code",
      "source": [
        "train_data = train_dataset.map(tokenize_function, batched=True)\n",
        "val_data = val_dataset.map(tokenize_function, batched=True)\n"
      ],
      "metadata": {
        "colab": {
          "base_uri": "https://localhost:8080/",
          "height": 81,
          "referenced_widgets": [
            "1b4ecd876edf471abf969d3eca60896a",
            "bb9e19e37b094378a183ea9eef641b81",
            "d34c1090df0b44b9a8c1f5bbe7ede484",
            "05af99cce99444e99653c80dd7661263",
            "05f743c235f04efa8f741b595e1773a7",
            "90a7e8c1b89a4ff1994b72baecab58c4",
            "4bff847fc8a04b02a2d9482ac80c4154",
            "94a0738cb8d041f79b111a7767184dc0",
            "ada27440a5364ce4be7bf961636178aa",
            "bf4f137d1951453d82a8ffeaa559b6a6",
            "c258910d7b7845379a58c2742dc85771",
            "f6131536602f44e1a0c0b1457bc9adb6",
            "5e07848e49454483831f5f8ed3e687c3",
            "35f7ddbd3bf24355956df51560596c5b",
            "d6a8bef3934345f0ac09d76343b46bfb",
            "a736cc0cc7534142a2ed2309b93930ff",
            "294d30132b904cf397b870130b640aa2",
            "7f4f266b774c43d58d2b5ce8e283246b",
            "e168bbd935924747b48958519ef3ce8d",
            "9aff548f1cb8443f9b653728f3bceada",
            "28123a7645184061bdab600b9f13b9fb",
            "2c8c09c14f3b4560a14869d2e3fba857"
          ]
        },
        "id": "sa69uaMDVA4N",
        "outputId": "4e0509ce-2fc5-4768-e464-12b3c773e20d"
      },
      "execution_count": 11,
      "outputs": [
        {
          "output_type": "display_data",
          "data": {
            "text/plain": [
              "Map:   0%|          | 0/3840 [00:00<?, ? examples/s]"
            ],
            "application/vnd.jupyter.widget-view+json": {
              "version_major": 2,
              "version_minor": 0,
              "model_id": "1b4ecd876edf471abf969d3eca60896a"
            }
          },
          "metadata": {}
        },
        {
          "output_type": "display_data",
          "data": {
            "text/plain": [
              "Map:   0%|          | 0/960 [00:00<?, ? examples/s]"
            ],
            "application/vnd.jupyter.widget-view+json": {
              "version_major": 2,
              "version_minor": 0,
              "model_id": "f6131536602f44e1a0c0b1457bc9adb6"
            }
          },
          "metadata": {}
        }
      ]
    },
    {
      "cell_type": "code",
      "source": [
        "model_id = \"roberta-base\"\n",
        "dataset_id = \"ag_news\"\n",
        "# relace the value with your model: ex <hugging-face-user>/<model-name>\n",
        "repository_id = \"egumasa/roberta-base-academic\""
      ],
      "metadata": {
        "id": "9_Ky-bWPVEFU"
      },
      "execution_count": 12,
      "outputs": []
    },
    {
      "cell_type": "code",
      "source": [
        "notebook_login()\n"
      ],
      "metadata": {
        "colab": {
          "base_uri": "https://localhost:8080/",
          "height": 145,
          "referenced_widgets": [
            "f7edd6b99c5a43baa1b86903743c2445",
            "fca0e7c7a85849259d9dfe6ccf22aaa5",
            "80179dd93d29454b81ef2752cdbc85c0",
            "121518a9f2404ff1905cbd28d0885c34",
            "2a4e217d6f3a487eae8e9940ee0f2d10",
            "10542d4babb3442b89c6668507fe58d1",
            "9f3fdbaafc484b55af062d5bdda66bfb",
            "d0b2c01db44048318028dc22ca2b9838",
            "c2d0308947a84341a60db00a611ed93b",
            "dd43f9567c9d4c51b604ed8a86e34e2c",
            "ab208c0c0cd14afd9a81fe4f0454bbca",
            "442a20ec4adc4c66a82d396aafb9f554",
            "876d475345cd4c8c8503eb37c3098d9b",
            "a23ecb0c80fb4149a2f29bf7ac9af50d",
            "5fd320767ff645df9dcb27c6134ad811",
            "a362f4365c6a484899160969379f3289",
            "f3cb6d05e0ca4550825696e1c17f7f18",
            "ea2c4745dc4c4ad4a9e42a06f743dc15",
            "f4f93614b93d4c3d8329e2849dc0b1e5",
            "a8fe55b89ed149a0a9680f03f0993ba1",
            "efa2273e71864cd1bc32eaa6d02bfb29",
            "698d60a9bc98479791352a3b8b13cb1e",
            "e5a4b81973114ddb87633be79ba9d016",
            "16c4c2d91c574e50bc1a3bcbe32dea49",
            "fbd8caf5c4f74a1b86fe87d2ceb1ba26",
            "bf973663261d4dc19b03b25705dd754f",
            "516f5b6ac7984f32b1f19837fc75b14c",
            "bf036c4c6944410da328dbbd9fa185e9",
            "2c3f27fb881c4e209a09684d5fa2e732",
            "18bf17e95c8f403faafe8aa17a1b8be9",
            "a8d607c80ee445c994df4d964f0820e0",
            "b2689889f7cb4687b11c157466771956"
          ]
        },
        "id": "jq0Z8B_WVHUX",
        "outputId": "82189740-7c85-41be-8a58-f488c4b44468"
      },
      "execution_count": 13,
      "outputs": [
        {
          "output_type": "display_data",
          "data": {
            "text/plain": [
              "VBox(children=(HTML(value='<center> <img\\nsrc=https://huggingface.co/front/assets/huggingface_logo-noborder.sv…"
            ],
            "application/vnd.jupyter.widget-view+json": {
              "version_major": 2,
              "version_minor": 0,
              "model_id": "f7edd6b99c5a43baa1b86903743c2445"
            }
          },
          "metadata": {}
        }
      ]
    },
    {
      "cell_type": "code",
      "source": [
        "# Define the model\n",
        "model = RobertaForSequenceClassification.from_pretrained(\"andreas122001/roberta-academic-detector\", num_labels=2)\n"
      ],
      "metadata": {
        "colab": {
          "base_uri": "https://localhost:8080/"
        },
        "id": "s45lLY6yVOlQ",
        "outputId": "a64a5493-3c8e-42ea-f979-7a6094987c08"
      },
      "execution_count": 14,
      "outputs": [
        {
          "output_type": "stream",
          "name": "stderr",
          "text": [
            "/usr/local/lib/python3.10/dist-packages/huggingface_hub/file_download.py:1132: FutureWarning: `resume_download` is deprecated and will be removed in version 1.0.0. Downloads always resume when possible. If you want to force a new download, use `force_download=True`.\n",
            "  warnings.warn(\n"
          ]
        }
      ]
    },
    {
      "cell_type": "code",
      "source": [
        "\n",
        "# TrainingArguments\n",
        "training_args = TrainingArguments(\n",
        "    output_dir=repository_id,\n",
        "    num_train_epochs=3,\n",
        "    per_device_train_batch_size=8,\n",
        "    per_device_eval_batch_size=8,\n",
        "    evaluation_strategy=\"epoch\",\n",
        "    logging_dir=f\"{repository_id}/logs\",\n",
        "    logging_strategy=\"steps\",\n",
        "    logging_steps=10,\n",
        "    learning_rate=5e-5,\n",
        "    weight_decay=0.01,\n",
        "    warmup_steps=500,\n",
        "    save_strategy=\"epoch\",\n",
        "    load_best_model_at_end=True,\n",
        "    save_total_limit=2,\n",
        "    report_to=\"tensorboard\",\n",
        "    push_to_hub=True,\n",
        "    hub_strategy=\"every_save\",\n",
        "    hub_model_id=repository_id,\n",
        "    hub_token=HfFolder.get_token(),\n",
        ")\n",
        "\n",
        "# Trainer\n",
        "trainer = Trainer(\n",
        "    model=model,\n",
        "    args=training_args,\n",
        "    train_dataset=train_data,\n",
        "    eval_dataset=val_data,\n",
        ")\n"
      ],
      "metadata": {
        "id": "hNOAnhO1VXjf"
      },
      "execution_count": 15,
      "outputs": []
    },
    {
      "cell_type": "code",
      "source": [
        "# Fine-tune the model\n",
        "trainer.train()\n"
      ],
      "metadata": {
        "colab": {
          "base_uri": "https://localhost:8080/",
          "height": 204
        },
        "id": "jLt1W3SSVbDX",
        "outputId": "cf318d88-dad1-4c40-d58e-d5f5386e0cb6"
      },
      "execution_count": 16,
      "outputs": [
        {
          "output_type": "display_data",
          "data": {
            "text/plain": [
              "<IPython.core.display.HTML object>"
            ],
            "text/html": [
              "\n",
              "    <div>\n",
              "      \n",
              "      <progress value='1440' max='1440' style='width:300px; height:20px; vertical-align: middle;'></progress>\n",
              "      [1440/1440 20:35, Epoch 3/3]\n",
              "    </div>\n",
              "    <table border=\"1\" class=\"dataframe\">\n",
              "  <thead>\n",
              " <tr style=\"text-align: left;\">\n",
              "      <th>Epoch</th>\n",
              "      <th>Training Loss</th>\n",
              "      <th>Validation Loss</th>\n",
              "    </tr>\n",
              "  </thead>\n",
              "  <tbody>\n",
              "    <tr>\n",
              "      <td>1</td>\n",
              "      <td>0.000000</td>\n",
              "      <td>0.000002</td>\n",
              "    </tr>\n",
              "    <tr>\n",
              "      <td>2</td>\n",
              "      <td>0.003000</td>\n",
              "      <td>0.021381</td>\n",
              "    </tr>\n",
              "    <tr>\n",
              "      <td>3</td>\n",
              "      <td>0.000200</td>\n",
              "      <td>0.000127</td>\n",
              "    </tr>\n",
              "  </tbody>\n",
              "</table><p>"
            ]
          },
          "metadata": {}
        },
        {
          "output_type": "execute_result",
          "data": {
            "text/plain": [
              "TrainOutput(global_step=1440, training_loss=0.018358225090634683, metrics={'train_runtime': 1238.3737, 'train_samples_per_second': 9.303, 'train_steps_per_second': 1.163, 'total_flos': 3031039357747200.0, 'train_loss': 0.018358225090634683, 'epoch': 3.0})"
            ]
          },
          "metadata": {},
          "execution_count": 16
        }
      ]
    },
    {
      "cell_type": "markdown",
      "source": [
        "##Saving the model"
      ],
      "metadata": {
        "id": "g9VDO9Psc5rj"
      }
    },
    {
      "cell_type": "code",
      "source": [
        "import os\n",
        "\n",
        "# Define the directory in Google Drive where you want to save the model\n",
        "output_dir = \"/content/drive/MyDrive/Marcus_Project/roberta_academic_finetuned/model_without_n\"\n",
        "\n",
        "# Make sure the directory exists, if not create it\n",
        "if not os.path.exists(output_dir):\n",
        "    os.makedirs(output_dir)\n",
        "\n",
        "# Save the trained model and tokenizer\n",
        "model_path = os.path.join(output_dir, \"model\")\n",
        "trainer.model.save_pretrained(model_path)\n",
        "tokenizer.save_pretrained(model_path)\n",
        "\n",
        "\n",
        "trainer.model.config.save_pretrained(model_path)\n"
      ],
      "metadata": {
        "id": "5Z0y775yYWzK"
      },
      "execution_count": 17,
      "outputs": []
    },
    {
      "cell_type": "code",
      "source": [
        "from transformers import pipeline\n",
        "\n",
        "# Load the tokenizer and model\n",
        "tokenizer = RobertaTokenizerFast.from_pretrained(\"/content/drive/MyDrive/Marcus_Project/roberta_academic_finetuned/model_without_n/model\")\n",
        "model = RobertaForSequenceClassification.from_pretrained(\"/content/drive/MyDrive/Marcus_Project/roberta_academic_finetuned/model_without_n/model\")\n",
        "classifier = pipeline('text-classification',\"/content/drive/MyDrive/Marcus_Project/roberta_academic_finetuned/model_without_n/model\")\n"
      ],
      "metadata": {
        "id": "TkDllZGidLqQ"
      },
      "execution_count": 18,
      "outputs": []
    },
    {
      "cell_type": "markdown",
      "source": [
        "## Test =  machine_generated abstracts\n"
      ],
      "metadata": {
        "id": "BOyjINhndrq3"
      }
    },
    {
      "cell_type": "code",
      "source": [
        "# Path to the JSONL file\n",
        "jsonl_path = \"/content/drive/MyDrive/Marcus_Project/removed_n/arxiv_chatGPT_test.jsonl\"\n",
        "\n",
        "# Function to truncate or split machine_text to fit within max_length\n",
        "def truncate_or_split(text, max_length=512):\n",
        "    if len(text) <= max_length:\n",
        "        return [text]\n",
        "    else:\n",
        "        # Truncate the text to max_length\n",
        "        return [text[:max_length]]\n",
        "\n",
        "# Function to read JSONL file and classify texts\n",
        "def classify_texts(jsonl_path):\n",
        "    predictions = []\n",
        "    line_count = 0\n",
        "    count = 0\n",
        "    with open(jsonl_path, 'r') as file:\n",
        "        for line in file:\n",
        "            data = json.loads(line)\n",
        "            machine_text = data['machine_text']\n",
        "\n",
        "            # Truncate or split machine_text to fit within max_length\n",
        "            machine_text_segments = truncate_or_split(machine_text)\n",
        "\n",
        "            for segment in machine_text_segments:\n",
        "                # Classify each segment of machine_text\n",
        "                result = classifier(segment)\n",
        "                # Append the most confident prediction\n",
        "                predictions.append(result[0]['label'])\n",
        "\n",
        "            human_text = data['human_text']\n",
        "\n",
        "            # Truncate or split machine_text to fit within max_length\n",
        "            human_text_segments = truncate_or_split(human_text)\n",
        "\n",
        "            for segment in human_text_segments:\n",
        "                # Classify each segment of machine_text\n",
        "                result = classifier(segment)\n",
        "                # Append the most confident prediction\n",
        "                predictions.append(result[0]['label'])\n",
        "\n",
        "            line_count += 1\n",
        "            print(count, end=\" \")  # Print count without newline\n",
        "            #print(predictions)\n",
        "            count += 1\n",
        "    return predictions\n",
        "\n",
        "# Get predictions for the entries in the JSONL file\n",
        "results = classify_texts(jsonl_path)\n",
        "print(results)\n"
      ],
      "metadata": {
        "colab": {
          "base_uri": "https://localhost:8080/"
        },
        "id": "4SRviKp1dpUj",
        "outputId": "c66bc080-beb1-40b3-b2e6-9c19d5ade842"
      },
      "execution_count": 19,
      "outputs": [
        {
          "output_type": "stream",
          "name": "stdout",
          "text": [
            "0 1 2 3 4 5 6 7 8 9 10 11 12 13 14 15 16 17 18 19 20 21 22 23 24 25 26 27 28 29 30 31 32 33 34 35 36 37 38 39 40 41 42 43 44 45 46 47 48 49 50 51 52 53 54 55 56 57 58 59 60 61 62 63 64 65 66 67 68 69 70 71 72 73 74 75 76 77 78 79 80 81 82 83 84 85 86 87 88 89 90 91 92 93 94 95 96 97 98 99 100 101 102 103 104 105 106 107 108 109 110 111 112 113 114 115 116 117 118 119 120 121 122 123 124 125 126 127 128 129 130 131 132 133 134 135 136 137 138 139 140 141 142 143 144 145 146 147 148 149 150 151 152 153 154 155 156 157 158 159 160 161 162 163 164 165 166 167 168 169 170 171 172 173 174 175 176 177 178 179 180 181 182 183 184 185 186 187 188 189 190 191 192 193 194 195 196 197 198 199 200 201 202 203 204 205 206 207 208 209 210 211 212 213 214 215 216 217 218 219 220 221 222 223 224 225 226 227 228 229 230 231 232 233 234 235 236 237 238 239 240 241 242 243 244 245 246 247 248 249 250 251 252 253 254 255 256 257 258 259 260 261 262 263 264 265 266 267 268 269 270 271 272 273 274 275 276 277 278 279 280 281 282 283 284 285 286 287 288 289 290 291 292 293 294 295 296 297 298 299 300 301 302 303 304 305 306 307 308 309 310 311 312 313 314 315 316 317 318 319 320 321 322 323 324 325 326 327 328 329 330 331 332 333 334 335 336 337 338 339 340 341 342 343 344 345 346 347 348 349 350 351 352 353 354 355 356 357 358 359 360 361 362 363 364 365 366 367 368 369 370 371 372 373 374 375 376 377 378 379 380 381 382 383 384 385 386 387 388 389 390 391 392 393 394 395 396 397 398 399 400 401 402 403 404 405 406 407 408 409 410 411 412 413 414 415 416 417 418 419 420 421 422 423 424 425 426 427 428 429 430 431 432 433 434 435 436 437 438 439 440 441 442 443 444 445 446 447 448 449 450 451 452 453 454 455 456 457 458 459 460 461 462 463 464 465 466 467 468 469 470 471 472 473 474 475 476 477 478 479 480 481 482 483 484 485 486 487 488 489 490 491 492 493 494 495 496 497 498 499 500 501 502 503 504 505 506 507 508 509 510 511 512 513 514 515 516 517 518 519 520 521 522 523 524 525 526 527 528 529 530 531 532 533 534 535 536 537 538 539 540 541 542 543 544 545 546 547 548 549 550 551 552 553 554 555 556 557 558 559 560 561 562 563 564 565 566 567 568 569 570 571 572 573 574 575 576 577 578 579 580 581 582 583 584 585 586 587 588 589 590 591 592 593 594 595 596 597 598 599 ['human-produced', 'human-produced', 'human-produced', 'human-produced', 'human-produced', 'human-produced', 'human-produced', 'human-produced', 'human-produced', 'human-produced', 'human-produced', 'human-produced', 'human-produced', 'human-produced', 'machine-generated', 'human-produced', 'human-produced', 'human-produced', 'human-produced', 'human-produced', 'human-produced', 'human-produced', 'machine-generated', 'human-produced', 'human-produced', 'human-produced', 'human-produced', 'human-produced', 'human-produced', 'human-produced', 'human-produced', 'human-produced', 'human-produced', 'human-produced', 'human-produced', 'human-produced', 'human-produced', 'human-produced', 'human-produced', 'human-produced', 'human-produced', 'human-produced', 'human-produced', 'human-produced', 'machine-generated', 'human-produced', 'machine-generated', 'human-produced', 'human-produced', 'human-produced', 'machine-generated', 'human-produced', 'human-produced', 'human-produced', 'human-produced', 'human-produced', 'human-produced', 'human-produced', 'human-produced', 'human-produced', 'human-produced', 'human-produced', 'human-produced', 'human-produced', 'human-produced', 'human-produced', 'human-produced', 'human-produced', 'human-produced', 'human-produced', 'human-produced', 'human-produced', 'human-produced', 'human-produced', 'human-produced', 'human-produced', 'human-produced', 'human-produced', 'human-produced', 'human-produced', 'human-produced', 'human-produced', 'human-produced', 'human-produced', 'machine-generated', 'human-produced', 'human-produced', 'human-produced', 'human-produced', 'human-produced', 'human-produced', 'human-produced', 'human-produced', 'human-produced', 'human-produced', 'human-produced', 'human-produced', 'human-produced', 'human-produced', 'human-produced', 'machine-generated', 'human-produced', 'human-produced', 'human-produced', 'human-produced', 'human-produced', 'human-produced', 'human-produced', 'machine-generated', 'human-produced', 'human-produced', 'human-produced', 'human-produced', 'human-produced', 'human-produced', 'human-produced', 'human-produced', 'human-produced', 'human-produced', 'human-produced', 'human-produced', 'human-produced', 'human-produced', 'human-produced', 'human-produced', 'human-produced', 'human-produced', 'human-produced', 'machine-generated', 'human-produced', 'human-produced', 'human-produced', 'human-produced', 'human-produced', 'human-produced', 'human-produced', 'human-produced', 'human-produced', 'human-produced', 'human-produced', 'human-produced', 'human-produced', 'human-produced', 'human-produced', 'human-produced', 'human-produced', 'human-produced', 'human-produced', 'human-produced', 'human-produced', 'machine-generated', 'human-produced', 'human-produced', 'human-produced', 'human-produced', 'human-produced', 'human-produced', 'human-produced', 'human-produced', 'human-produced', 'human-produced', 'human-produced', 'human-produced', 'human-produced', 'human-produced', 'human-produced', 'human-produced', 'human-produced', 'human-produced', 'human-produced', 'human-produced', 'human-produced', 'human-produced', 'human-produced', 'human-produced', 'human-produced', 'human-produced', 'human-produced', 'human-produced', 'human-produced', 'human-produced', 'human-produced', 'human-produced', 'human-produced', 'human-produced', 'human-produced', 'human-produced', 'human-produced', 'human-produced', 'human-produced', 'human-produced', 'human-produced', 'machine-generated', 'human-produced', 'human-produced', 'human-produced', 'human-produced', 'human-produced', 'human-produced', 'human-produced', 'human-produced', 'human-produced', 'human-produced', 'human-produced', 'human-produced', 'human-produced', 'machine-generated', 'human-produced', 'human-produced', 'human-produced', 'human-produced', 'human-produced', 'human-produced', 'human-produced', 'human-produced', 'human-produced', 'human-produced', 'human-produced', 'human-produced', 'human-produced', 'human-produced', 'human-produced', 'human-produced', 'human-produced', 'human-produced', 'human-produced', 'human-produced', 'human-produced', 'human-produced', 'human-produced', 'machine-generated', 'human-produced', 'human-produced', 'human-produced', 'machine-generated', 'human-produced', 'human-produced', 'human-produced', 'human-produced', 'human-produced', 'human-produced', 'human-produced', 'human-produced', 'human-produced', 'human-produced', 'human-produced', 'machine-generated', 'human-produced', 'human-produced', 'human-produced', 'human-produced', 'human-produced', 'human-produced', 'human-produced', 'human-produced', 'human-produced', 'human-produced', 'human-produced', 'human-produced', 'human-produced', 'human-produced', 'human-produced', 'human-produced', 'human-produced', 'human-produced', 'human-produced', 'human-produced', 'human-produced', 'human-produced', 'human-produced', 'human-produced', 'human-produced', 'human-produced', 'human-produced', 'human-produced', 'human-produced', 'human-produced', 'human-produced', 'human-produced', 'human-produced', 'human-produced', 'human-produced', 'human-produced', 'human-produced', 'human-produced', 'human-produced', 'machine-generated', 'human-produced', 'human-produced', 'human-produced', 'human-produced', 'human-produced', 'human-produced', 'human-produced', 'human-produced', 'human-produced', 'human-produced', 'human-produced', 'machine-generated', 'human-produced', 'human-produced', 'human-produced', 'human-produced', 'human-produced', 'human-produced', 'human-produced', 'human-produced', 'human-produced', 'human-produced', 'human-produced', 'machine-generated', 'human-produced', 'human-produced', 'human-produced', 'human-produced', 'human-produced', 'human-produced', 'human-produced', 'human-produced', 'human-produced', 'human-produced', 'human-produced', 'human-produced', 'human-produced', 'human-produced', 'human-produced', 'human-produced', 'human-produced', 'human-produced', 'human-produced', 'human-produced', 'human-produced', 'human-produced', 'human-produced', 'human-produced', 'human-produced', 'human-produced', 'human-produced', 'human-produced', 'human-produced', 'human-produced', 'human-produced', 'human-produced', 'human-produced', 'human-produced', 'human-produced', 'human-produced', 'human-produced', 'human-produced', 'human-produced', 'machine-generated', 'human-produced', 'human-produced', 'human-produced', 'human-produced', 'human-produced', 'human-produced', 'human-produced', 'human-produced', 'human-produced', 'human-produced', 'human-produced', 'human-produced', 'human-produced', 'human-produced', 'human-produced', 'human-produced', 'human-produced', 'human-produced', 'human-produced', 'human-produced', 'human-produced', 'human-produced', 'human-produced', 'human-produced', 'human-produced', 'human-produced', 'human-produced', 'human-produced', 'human-produced', 'machine-generated', 'human-produced', 'human-produced', 'human-produced', 'machine-generated', 'human-produced', 'human-produced', 'human-produced', 'human-produced', 'human-produced', 'human-produced', 'human-produced', 'human-produced', 'human-produced', 'human-produced', 'human-produced', 'human-produced', 'human-produced', 'machine-generated', 'human-produced', 'human-produced', 'human-produced', 'human-produced', 'human-produced', 'human-produced', 'human-produced', 'human-produced', 'human-produced', 'human-produced', 'human-produced', 'human-produced', 'human-produced', 'human-produced', 'human-produced', 'human-produced', 'human-produced', 'human-produced', 'human-produced', 'human-produced', 'human-produced', 'human-produced', 'human-produced', 'human-produced', 'human-produced', 'human-produced', 'human-produced', 'human-produced', 'human-produced', 'human-produced', 'human-produced', 'human-produced', 'human-produced', 'human-produced', 'human-produced', 'human-produced', 'human-produced', 'human-produced', 'human-produced', 'human-produced', 'human-produced', 'human-produced', 'human-produced', 'human-produced', 'human-produced', 'human-produced', 'human-produced', 'machine-generated', 'human-produced', 'human-produced', 'human-produced', 'human-produced', 'human-produced', 'human-produced', 'human-produced', 'human-produced', 'human-produced', 'human-produced', 'human-produced', 'human-produced', 'human-produced', 'human-produced', 'human-produced', 'human-produced', 'human-produced', 'human-produced', 'human-produced', 'human-produced', 'human-produced', 'human-produced', 'human-produced', 'human-produced', 'human-produced', 'human-produced', 'human-produced', 'human-produced', 'human-produced', 'human-produced', 'human-produced', 'human-produced', 'human-produced', 'human-produced', 'human-produced', 'human-produced', 'human-produced', 'human-produced', 'human-produced', 'human-produced', 'human-produced', 'human-produced', 'human-produced', 'human-produced', 'human-produced', 'machine-generated', 'human-produced', 'human-produced', 'human-produced', 'machine-generated', 'human-produced', 'human-produced', 'human-produced', 'human-produced', 'human-produced', 'human-produced', 'human-produced', 'human-produced', 'human-produced', 'human-produced', 'human-produced', 'human-produced', 'human-produced', 'machine-generated', 'human-produced', 'human-produced', 'human-produced', 'human-produced', 'human-produced', 'machine-generated', 'human-produced', 'human-produced', 'human-produced', 'human-produced', 'human-produced', 'human-produced', 'human-produced', 'human-produced', 'human-produced', 'human-produced', 'human-produced', 'human-produced', 'human-produced', 'human-produced', 'human-produced', 'human-produced', 'human-produced', 'human-produced', 'human-produced', 'machine-generated', 'human-produced', 'human-produced', 'human-produced', 'human-produced', 'human-produced', 'human-produced', 'human-produced', 'human-produced', 'human-produced', 'human-produced', 'human-produced', 'human-produced', 'human-produced', 'human-produced', 'machine-generated', 'human-produced', 'human-produced', 'human-produced', 'human-produced', 'human-produced', 'human-produced', 'human-produced', 'human-produced', 'human-produced', 'human-produced', 'human-produced', 'human-produced', 'human-produced', 'human-produced', 'human-produced', 'human-produced', 'human-produced', 'human-produced', 'human-produced', 'human-produced', 'human-produced', 'human-produced', 'human-produced', 'human-produced', 'machine-generated', 'human-produced', 'human-produced', 'human-produced', 'human-produced', 'human-produced', 'human-produced', 'human-produced', 'human-produced', 'human-produced', 'human-produced', 'human-produced', 'human-produced', 'human-produced', 'machine-generated', 'human-produced', 'human-produced', 'human-produced', 'human-produced', 'human-produced', 'human-produced', 'human-produced', 'human-produced', 'human-produced', 'human-produced', 'human-produced', 'human-produced', 'human-produced', 'human-produced', 'human-produced', 'human-produced', 'human-produced', 'machine-generated', 'human-produced', 'machine-generated', 'human-produced', 'human-produced', 'human-produced', 'human-produced', 'human-produced', 'human-produced', 'human-produced', 'human-produced', 'human-produced', 'human-produced', 'human-produced', 'human-produced', 'human-produced', 'human-produced', 'human-produced', 'human-produced', 'human-produced', 'human-produced', 'human-produced', 'human-produced', 'human-produced', 'human-produced', 'human-produced', 'human-produced', 'human-produced', 'human-produced', 'human-produced', 'human-produced', 'human-produced', 'human-produced', 'human-produced', 'human-produced', 'human-produced', 'human-produced', 'human-produced', 'machine-generated', 'human-produced', 'human-produced', 'human-produced', 'human-produced', 'human-produced', 'human-produced', 'human-produced', 'human-produced', 'human-produced', 'human-produced', 'human-produced', 'human-produced', 'human-produced', 'human-produced', 'human-produced', 'human-produced', 'human-produced', 'human-produced', 'human-produced', 'machine-generated', 'human-produced', 'human-produced', 'human-produced', 'human-produced', 'human-produced', 'human-produced', 'human-produced', 'machine-generated', 'human-produced', 'human-produced', 'human-produced', 'human-produced', 'human-produced', 'human-produced', 'human-produced', 'human-produced', 'human-produced', 'human-produced', 'human-produced', 'machine-generated', 'human-produced', 'human-produced', 'human-produced', 'human-produced', 'human-produced', 'machine-generated', 'human-produced', 'human-produced', 'human-produced', 'human-produced', 'human-produced', 'human-produced', 'human-produced', 'human-produced', 'human-produced', 'human-produced', 'human-produced', 'human-produced', 'human-produced', 'human-produced', 'human-produced', 'human-produced', 'human-produced', 'human-produced', 'human-produced', 'human-produced', 'human-produced', 'human-produced', 'human-produced', 'human-produced', 'human-produced', 'human-produced', 'human-produced', 'machine-generated', 'human-produced', 'human-produced', 'human-produced', 'human-produced', 'human-produced', 'human-produced', 'human-produced', 'human-produced', 'human-produced', 'human-produced', 'human-produced', 'human-produced', 'human-produced', 'machine-generated', 'human-produced', 'machine-generated', 'human-produced', 'human-produced', 'human-produced', 'human-produced', 'human-produced', 'human-produced', 'human-produced', 'human-produced', 'human-produced', 'human-produced', 'human-produced', 'machine-generated', 'human-produced', 'machine-generated', 'human-produced', 'human-produced', 'human-produced', 'human-produced', 'human-produced', 'machine-generated', 'human-produced', 'human-produced', 'human-produced', 'machine-generated', 'human-produced', 'machine-generated', 'human-produced', 'human-produced', 'human-produced', 'human-produced', 'human-produced', 'human-produced', 'human-produced', 'human-produced', 'human-produced', 'machine-generated', 'human-produced', 'human-produced', 'human-produced', 'human-produced', 'human-produced', 'human-produced', 'human-produced', 'human-produced', 'human-produced', 'human-produced', 'human-produced', 'machine-generated', 'human-produced', 'human-produced', 'human-produced', 'machine-generated', 'human-produced', 'human-produced', 'human-produced', 'human-produced', 'human-produced', 'human-produced', 'human-produced', 'human-produced', 'human-produced', 'human-produced', 'human-produced', 'human-produced', 'human-produced', 'human-produced', 'human-produced', 'human-produced', 'human-produced', 'human-produced', 'human-produced', 'human-produced', 'human-produced', 'human-produced', 'human-produced', 'human-produced', 'human-produced', 'human-produced', 'human-produced', 'human-produced', 'human-produced', 'human-produced', 'human-produced', 'machine-generated', 'human-produced', 'human-produced', 'human-produced', 'human-produced', 'human-produced', 'human-produced', 'human-produced', 'human-produced', 'human-produced', 'machine-generated', 'human-produced', 'human-produced', 'human-produced', 'human-produced', 'human-produced', 'human-produced', 'human-produced', 'human-produced', 'human-produced', 'human-produced', 'human-produced', 'human-produced', 'human-produced', 'human-produced', 'human-produced', 'human-produced', 'human-produced', 'human-produced', 'human-produced', 'human-produced', 'human-produced', 'human-produced', 'human-produced', 'machine-generated', 'human-produced', 'machine-generated', 'human-produced', 'human-produced', 'human-produced', 'machine-generated', 'human-produced', 'human-produced', 'human-produced', 'machine-generated', 'human-produced', 'human-produced', 'human-produced', 'human-produced', 'human-produced', 'human-produced', 'human-produced', 'human-produced', 'human-produced', 'human-produced', 'human-produced', 'human-produced', 'human-produced', 'human-produced', 'human-produced', 'human-produced', 'human-produced', 'machine-generated', 'human-produced', 'machine-generated', 'human-produced', 'human-produced', 'human-produced', 'human-produced', 'human-produced', 'human-produced', 'human-produced', 'machine-generated', 'human-produced', 'human-produced', 'human-produced', 'human-produced', 'human-produced', 'human-produced', 'human-produced', 'human-produced', 'human-produced', 'machine-generated', 'human-produced', 'human-produced', 'human-produced', 'machine-generated', 'human-produced', 'human-produced', 'human-produced', 'human-produced', 'human-produced', 'human-produced', 'human-produced', 'human-produced', 'human-produced', 'human-produced', 'human-produced', 'human-produced', 'human-produced', 'human-produced', 'human-produced', 'human-produced', 'human-produced', 'human-produced', 'human-produced', 'human-produced', 'human-produced', 'human-produced', 'human-produced', 'human-produced', 'human-produced', 'human-produced', 'human-produced', 'human-produced', 'human-produced', 'human-produced', 'human-produced', 'human-produced', 'human-produced', 'machine-generated', 'human-produced', 'human-produced', 'human-produced', 'human-produced', 'human-produced', 'machine-generated', 'human-produced', 'human-produced', 'human-produced', 'human-produced', 'human-produced', 'human-produced', 'human-produced', 'human-produced', 'human-produced', 'human-produced', 'human-produced', 'human-produced', 'human-produced', 'human-produced', 'human-produced', 'human-produced', 'human-produced', 'human-produced', 'human-produced', 'human-produced', 'human-produced', 'human-produced', 'human-produced', 'human-produced', 'human-produced', 'human-produced', 'human-produced', 'human-produced', 'human-produced', 'human-produced', 'human-produced', 'human-produced', 'human-produced', 'human-produced', 'human-produced', 'human-produced', 'human-produced', 'human-produced', 'human-produced', 'machine-generated', 'human-produced', 'human-produced', 'human-produced', 'human-produced', 'human-produced', 'machine-generated', 'human-produced', 'human-produced', 'human-produced', 'human-produced', 'human-produced', 'human-produced', 'human-produced', 'human-produced', 'human-produced', 'human-produced', 'human-produced', 'human-produced', 'human-produced', 'human-produced', 'human-produced', 'human-produced', 'human-produced', 'human-produced', 'human-produced', 'human-produced', 'human-produced', 'human-produced', 'human-produced', 'human-produced', 'human-produced', 'human-produced', 'human-produced', 'human-produced', 'human-produced', 'human-produced', 'human-produced', 'human-produced', 'human-produced', 'human-produced', 'human-produced', 'human-produced', 'human-produced', 'human-produced', 'human-produced', 'human-produced', 'human-produced', 'human-produced', 'human-produced', 'human-produced', 'human-produced', 'machine-generated', 'human-produced', 'human-produced', 'human-produced', 'human-produced', 'human-produced', 'human-produced', 'human-produced', 'human-produced', 'human-produced', 'human-produced', 'human-produced', 'human-produced', 'human-produced', 'human-produced', 'human-produced', 'human-produced', 'human-produced', 'human-produced', 'human-produced', 'human-produced', 'human-produced', 'human-produced', 'human-produced', 'human-produced', 'human-produced', 'human-produced', 'human-produced', 'human-produced', 'human-produced', 'human-produced', 'human-produced', 'human-produced', 'human-produced', 'human-produced', 'human-produced', 'human-produced', 'human-produced', 'human-produced', 'human-produced', 'human-produced', 'human-produced', 'human-produced', 'human-produced', 'human-produced', 'human-produced', 'human-produced', 'human-produced', 'human-produced', 'human-produced', 'human-produced', 'human-produced', 'human-produced', 'human-produced', 'human-produced', 'human-produced', 'human-produced', 'human-produced', 'human-produced', 'human-produced', 'human-produced', 'human-produced', 'machine-generated', 'human-produced', 'human-produced', 'human-produced', 'human-produced', 'human-produced', 'human-produced', 'human-produced', 'human-produced', 'human-produced', 'human-produced', 'human-produced', 'human-produced', 'human-produced', 'human-produced', 'human-produced', 'human-produced', 'human-produced', 'human-produced', 'human-produced', 'human-produced', 'human-produced', 'human-produced', 'human-produced', 'human-produced', 'human-produced', 'human-produced', 'human-produced', 'human-produced', 'human-produced', 'human-produced', 'human-produced', 'human-produced', 'human-produced', 'human-produced', 'human-produced', 'human-produced', 'human-produced', 'human-produced', 'human-produced', 'human-produced', 'human-produced', 'human-produced', 'human-produced', 'human-produced', 'human-produced', 'machine-generated', 'human-produced', 'human-produced', 'human-produced', 'human-produced', 'human-produced', 'human-produced', 'human-produced', 'human-produced', 'human-produced', 'human-produced', 'human-produced', 'human-produced', 'human-produced', 'human-produced', 'human-produced', 'machine-generated', 'human-produced', 'human-produced', 'human-produced', 'human-produced', 'human-produced', 'human-produced', 'human-produced', 'human-produced', 'human-produced', 'machine-generated', 'human-produced', 'human-produced', 'human-produced', 'human-produced', 'human-produced', 'human-produced', 'human-produced', 'human-produced', 'human-produced', 'human-produced', 'human-produced', 'human-produced', 'human-produced', 'human-produced', 'human-produced', 'machine-generated', 'human-produced', 'machine-generated', 'human-produced', 'machine-generated', 'human-produced', 'human-produced', 'human-produced', 'human-produced', 'human-produced', 'machine-generated', 'human-produced']\n"
          ]
        }
      ]
    },
    {
      "cell_type": "code",
      "source": [
        "true_labels = []\n",
        "for i in range(0, 600):\n",
        "    true_labels.append('machine-generated')\n",
        "    true_labels.append('human_text')\n",
        "\n",
        "print(true_labels)"
      ],
      "metadata": {
        "colab": {
          "base_uri": "https://localhost:8080/"
        },
        "id": "06quQwIfd6e5",
        "outputId": "8e903198-4605-4dbe-c3a3-3bc9c5bef700"
      },
      "execution_count": 20,
      "outputs": [
        {
          "output_type": "stream",
          "name": "stdout",
          "text": [
            "['machine-generated', 'human_text', 'machine-generated', 'human_text', 'machine-generated', 'human_text', 'machine-generated', 'human_text', 'machine-generated', 'human_text', 'machine-generated', 'human_text', 'machine-generated', 'human_text', 'machine-generated', 'human_text', 'machine-generated', 'human_text', 'machine-generated', 'human_text', 'machine-generated', 'human_text', 'machine-generated', 'human_text', 'machine-generated', 'human_text', 'machine-generated', 'human_text', 'machine-generated', 'human_text', 'machine-generated', 'human_text', 'machine-generated', 'human_text', 'machine-generated', 'human_text', 'machine-generated', 'human_text', 'machine-generated', 'human_text', 'machine-generated', 'human_text', 'machine-generated', 'human_text', 'machine-generated', 'human_text', 'machine-generated', 'human_text', 'machine-generated', 'human_text', 'machine-generated', 'human_text', 'machine-generated', 'human_text', 'machine-generated', 'human_text', 'machine-generated', 'human_text', 'machine-generated', 'human_text', 'machine-generated', 'human_text', 'machine-generated', 'human_text', 'machine-generated', 'human_text', 'machine-generated', 'human_text', 'machine-generated', 'human_text', 'machine-generated', 'human_text', 'machine-generated', 'human_text', 'machine-generated', 'human_text', 'machine-generated', 'human_text', 'machine-generated', 'human_text', 'machine-generated', 'human_text', 'machine-generated', 'human_text', 'machine-generated', 'human_text', 'machine-generated', 'human_text', 'machine-generated', 'human_text', 'machine-generated', 'human_text', 'machine-generated', 'human_text', 'machine-generated', 'human_text', 'machine-generated', 'human_text', 'machine-generated', 'human_text', 'machine-generated', 'human_text', 'machine-generated', 'human_text', 'machine-generated', 'human_text', 'machine-generated', 'human_text', 'machine-generated', 'human_text', 'machine-generated', 'human_text', 'machine-generated', 'human_text', 'machine-generated', 'human_text', 'machine-generated', 'human_text', 'machine-generated', 'human_text', 'machine-generated', 'human_text', 'machine-generated', 'human_text', 'machine-generated', 'human_text', 'machine-generated', 'human_text', 'machine-generated', 'human_text', 'machine-generated', 'human_text', 'machine-generated', 'human_text', 'machine-generated', 'human_text', 'machine-generated', 'human_text', 'machine-generated', 'human_text', 'machine-generated', 'human_text', 'machine-generated', 'human_text', 'machine-generated', 'human_text', 'machine-generated', 'human_text', 'machine-generated', 'human_text', 'machine-generated', 'human_text', 'machine-generated', 'human_text', 'machine-generated', 'human_text', 'machine-generated', 'human_text', 'machine-generated', 'human_text', 'machine-generated', 'human_text', 'machine-generated', 'human_text', 'machine-generated', 'human_text', 'machine-generated', 'human_text', 'machine-generated', 'human_text', 'machine-generated', 'human_text', 'machine-generated', 'human_text', 'machine-generated', 'human_text', 'machine-generated', 'human_text', 'machine-generated', 'human_text', 'machine-generated', 'human_text', 'machine-generated', 'human_text', 'machine-generated', 'human_text', 'machine-generated', 'human_text', 'machine-generated', 'human_text', 'machine-generated', 'human_text', 'machine-generated', 'human_text', 'machine-generated', 'human_text', 'machine-generated', 'human_text', 'machine-generated', 'human_text', 'machine-generated', 'human_text', 'machine-generated', 'human_text', 'machine-generated', 'human_text', 'machine-generated', 'human_text', 'machine-generated', 'human_text', 'machine-generated', 'human_text', 'machine-generated', 'human_text', 'machine-generated', 'human_text', 'machine-generated', 'human_text', 'machine-generated', 'human_text', 'machine-generated', 'human_text', 'machine-generated', 'human_text', 'machine-generated', 'human_text', 'machine-generated', 'human_text', 'machine-generated', 'human_text', 'machine-generated', 'human_text', 'machine-generated', 'human_text', 'machine-generated', 'human_text', 'machine-generated', 'human_text', 'machine-generated', 'human_text', 'machine-generated', 'human_text', 'machine-generated', 'human_text', 'machine-generated', 'human_text', 'machine-generated', 'human_text', 'machine-generated', 'human_text', 'machine-generated', 'human_text', 'machine-generated', 'human_text', 'machine-generated', 'human_text', 'machine-generated', 'human_text', 'machine-generated', 'human_text', 'machine-generated', 'human_text', 'machine-generated', 'human_text', 'machine-generated', 'human_text', 'machine-generated', 'human_text', 'machine-generated', 'human_text', 'machine-generated', 'human_text', 'machine-generated', 'human_text', 'machine-generated', 'human_text', 'machine-generated', 'human_text', 'machine-generated', 'human_text', 'machine-generated', 'human_text', 'machine-generated', 'human_text', 'machine-generated', 'human_text', 'machine-generated', 'human_text', 'machine-generated', 'human_text', 'machine-generated', 'human_text', 'machine-generated', 'human_text', 'machine-generated', 'human_text', 'machine-generated', 'human_text', 'machine-generated', 'human_text', 'machine-generated', 'human_text', 'machine-generated', 'human_text', 'machine-generated', 'human_text', 'machine-generated', 'human_text', 'machine-generated', 'human_text', 'machine-generated', 'human_text', 'machine-generated', 'human_text', 'machine-generated', 'human_text', 'machine-generated', 'human_text', 'machine-generated', 'human_text', 'machine-generated', 'human_text', 'machine-generated', 'human_text', 'machine-generated', 'human_text', 'machine-generated', 'human_text', 'machine-generated', 'human_text', 'machine-generated', 'human_text', 'machine-generated', 'human_text', 'machine-generated', 'human_text', 'machine-generated', 'human_text', 'machine-generated', 'human_text', 'machine-generated', 'human_text', 'machine-generated', 'human_text', 'machine-generated', 'human_text', 'machine-generated', 'human_text', 'machine-generated', 'human_text', 'machine-generated', 'human_text', 'machine-generated', 'human_text', 'machine-generated', 'human_text', 'machine-generated', 'human_text', 'machine-generated', 'human_text', 'machine-generated', 'human_text', 'machine-generated', 'human_text', 'machine-generated', 'human_text', 'machine-generated', 'human_text', 'machine-generated', 'human_text', 'machine-generated', 'human_text', 'machine-generated', 'human_text', 'machine-generated', 'human_text', 'machine-generated', 'human_text', 'machine-generated', 'human_text', 'machine-generated', 'human_text', 'machine-generated', 'human_text', 'machine-generated', 'human_text', 'machine-generated', 'human_text', 'machine-generated', 'human_text', 'machine-generated', 'human_text', 'machine-generated', 'human_text', 'machine-generated', 'human_text', 'machine-generated', 'human_text', 'machine-generated', 'human_text', 'machine-generated', 'human_text', 'machine-generated', 'human_text', 'machine-generated', 'human_text', 'machine-generated', 'human_text', 'machine-generated', 'human_text', 'machine-generated', 'human_text', 'machine-generated', 'human_text', 'machine-generated', 'human_text', 'machine-generated', 'human_text', 'machine-generated', 'human_text', 'machine-generated', 'human_text', 'machine-generated', 'human_text', 'machine-generated', 'human_text', 'machine-generated', 'human_text', 'machine-generated', 'human_text', 'machine-generated', 'human_text', 'machine-generated', 'human_text', 'machine-generated', 'human_text', 'machine-generated', 'human_text', 'machine-generated', 'human_text', 'machine-generated', 'human_text', 'machine-generated', 'human_text', 'machine-generated', 'human_text', 'machine-generated', 'human_text', 'machine-generated', 'human_text', 'machine-generated', 'human_text', 'machine-generated', 'human_text', 'machine-generated', 'human_text', 'machine-generated', 'human_text', 'machine-generated', 'human_text', 'machine-generated', 'human_text', 'machine-generated', 'human_text', 'machine-generated', 'human_text', 'machine-generated', 'human_text', 'machine-generated', 'human_text', 'machine-generated', 'human_text', 'machine-generated', 'human_text', 'machine-generated', 'human_text', 'machine-generated', 'human_text', 'machine-generated', 'human_text', 'machine-generated', 'human_text', 'machine-generated', 'human_text', 'machine-generated', 'human_text', 'machine-generated', 'human_text', 'machine-generated', 'human_text', 'machine-generated', 'human_text', 'machine-generated', 'human_text', 'machine-generated', 'human_text', 'machine-generated', 'human_text', 'machine-generated', 'human_text', 'machine-generated', 'human_text', 'machine-generated', 'human_text', 'machine-generated', 'human_text', 'machine-generated', 'human_text', 'machine-generated', 'human_text', 'machine-generated', 'human_text', 'machine-generated', 'human_text', 'machine-generated', 'human_text', 'machine-generated', 'human_text', 'machine-generated', 'human_text', 'machine-generated', 'human_text', 'machine-generated', 'human_text', 'machine-generated', 'human_text', 'machine-generated', 'human_text', 'machine-generated', 'human_text', 'machine-generated', 'human_text', 'machine-generated', 'human_text', 'machine-generated', 'human_text', 'machine-generated', 'human_text', 'machine-generated', 'human_text', 'machine-generated', 'human_text', 'machine-generated', 'human_text', 'machine-generated', 'human_text', 'machine-generated', 'human_text', 'machine-generated', 'human_text', 'machine-generated', 'human_text', 'machine-generated', 'human_text', 'machine-generated', 'human_text', 'machine-generated', 'human_text', 'machine-generated', 'human_text', 'machine-generated', 'human_text', 'machine-generated', 'human_text', 'machine-generated', 'human_text', 'machine-generated', 'human_text', 'machine-generated', 'human_text', 'machine-generated', 'human_text', 'machine-generated', 'human_text', 'machine-generated', 'human_text', 'machine-generated', 'human_text', 'machine-generated', 'human_text', 'machine-generated', 'human_text', 'machine-generated', 'human_text', 'machine-generated', 'human_text', 'machine-generated', 'human_text', 'machine-generated', 'human_text', 'machine-generated', 'human_text', 'machine-generated', 'human_text', 'machine-generated', 'human_text', 'machine-generated', 'human_text', 'machine-generated', 'human_text', 'machine-generated', 'human_text', 'machine-generated', 'human_text', 'machine-generated', 'human_text', 'machine-generated', 'human_text', 'machine-generated', 'human_text', 'machine-generated', 'human_text', 'machine-generated', 'human_text', 'machine-generated', 'human_text', 'machine-generated', 'human_text', 'machine-generated', 'human_text', 'machine-generated', 'human_text', 'machine-generated', 'human_text', 'machine-generated', 'human_text', 'machine-generated', 'human_text', 'machine-generated', 'human_text', 'machine-generated', 'human_text', 'machine-generated', 'human_text', 'machine-generated', 'human_text', 'machine-generated', 'human_text', 'machine-generated', 'human_text', 'machine-generated', 'human_text', 'machine-generated', 'human_text', 'machine-generated', 'human_text', 'machine-generated', 'human_text', 'machine-generated', 'human_text', 'machine-generated', 'human_text', 'machine-generated', 'human_text', 'machine-generated', 'human_text', 'machine-generated', 'human_text', 'machine-generated', 'human_text', 'machine-generated', 'human_text', 'machine-generated', 'human_text', 'machine-generated', 'human_text', 'machine-generated', 'human_text', 'machine-generated', 'human_text', 'machine-generated', 'human_text', 'machine-generated', 'human_text', 'machine-generated', 'human_text', 'machine-generated', 'human_text', 'machine-generated', 'human_text', 'machine-generated', 'human_text', 'machine-generated', 'human_text', 'machine-generated', 'human_text', 'machine-generated', 'human_text', 'machine-generated', 'human_text', 'machine-generated', 'human_text', 'machine-generated', 'human_text', 'machine-generated', 'human_text', 'machine-generated', 'human_text', 'machine-generated', 'human_text', 'machine-generated', 'human_text', 'machine-generated', 'human_text', 'machine-generated', 'human_text', 'machine-generated', 'human_text', 'machine-generated', 'human_text', 'machine-generated', 'human_text', 'machine-generated', 'human_text', 'machine-generated', 'human_text', 'machine-generated', 'human_text', 'machine-generated', 'human_text', 'machine-generated', 'human_text', 'machine-generated', 'human_text', 'machine-generated', 'human_text', 'machine-generated', 'human_text', 'machine-generated', 'human_text', 'machine-generated', 'human_text', 'machine-generated', 'human_text', 'machine-generated', 'human_text', 'machine-generated', 'human_text', 'machine-generated', 'human_text', 'machine-generated', 'human_text', 'machine-generated', 'human_text', 'machine-generated', 'human_text', 'machine-generated', 'human_text', 'machine-generated', 'human_text', 'machine-generated', 'human_text', 'machine-generated', 'human_text', 'machine-generated', 'human_text', 'machine-generated', 'human_text', 'machine-generated', 'human_text', 'machine-generated', 'human_text', 'machine-generated', 'human_text', 'machine-generated', 'human_text', 'machine-generated', 'human_text', 'machine-generated', 'human_text', 'machine-generated', 'human_text', 'machine-generated', 'human_text', 'machine-generated', 'human_text', 'machine-generated', 'human_text', 'machine-generated', 'human_text', 'machine-generated', 'human_text', 'machine-generated', 'human_text', 'machine-generated', 'human_text', 'machine-generated', 'human_text', 'machine-generated', 'human_text', 'machine-generated', 'human_text', 'machine-generated', 'human_text', 'machine-generated', 'human_text', 'machine-generated', 'human_text', 'machine-generated', 'human_text', 'machine-generated', 'human_text', 'machine-generated', 'human_text', 'machine-generated', 'human_text', 'machine-generated', 'human_text', 'machine-generated', 'human_text', 'machine-generated', 'human_text', 'machine-generated', 'human_text', 'machine-generated', 'human_text', 'machine-generated', 'human_text', 'machine-generated', 'human_text', 'machine-generated', 'human_text', 'machine-generated', 'human_text', 'machine-generated', 'human_text', 'machine-generated', 'human_text', 'machine-generated', 'human_text', 'machine-generated', 'human_text', 'machine-generated', 'human_text', 'machine-generated', 'human_text', 'machine-generated', 'human_text', 'machine-generated', 'human_text', 'machine-generated', 'human_text', 'machine-generated', 'human_text', 'machine-generated', 'human_text', 'machine-generated', 'human_text', 'machine-generated', 'human_text', 'machine-generated', 'human_text', 'machine-generated', 'human_text', 'machine-generated', 'human_text', 'machine-generated', 'human_text', 'machine-generated', 'human_text', 'machine-generated', 'human_text', 'machine-generated', 'human_text', 'machine-generated', 'human_text', 'machine-generated', 'human_text', 'machine-generated', 'human_text', 'machine-generated', 'human_text', 'machine-generated', 'human_text', 'machine-generated', 'human_text', 'machine-generated', 'human_text', 'machine-generated', 'human_text', 'machine-generated', 'human_text', 'machine-generated', 'human_text', 'machine-generated', 'human_text', 'machine-generated', 'human_text', 'machine-generated', 'human_text', 'machine-generated', 'human_text', 'machine-generated', 'human_text', 'machine-generated', 'human_text', 'machine-generated', 'human_text', 'machine-generated', 'human_text', 'machine-generated', 'human_text', 'machine-generated', 'human_text', 'machine-generated', 'human_text', 'machine-generated', 'human_text', 'machine-generated', 'human_text', 'machine-generated', 'human_text', 'machine-generated', 'human_text', 'machine-generated', 'human_text', 'machine-generated', 'human_text', 'machine-generated', 'human_text', 'machine-generated', 'human_text', 'machine-generated', 'human_text', 'machine-generated', 'human_text', 'machine-generated', 'human_text', 'machine-generated', 'human_text', 'machine-generated', 'human_text', 'machine-generated', 'human_text', 'machine-generated', 'human_text', 'machine-generated', 'human_text', 'machine-generated', 'human_text', 'machine-generated', 'human_text', 'machine-generated', 'human_text', 'machine-generated', 'human_text', 'machine-generated', 'human_text', 'machine-generated', 'human_text', 'machine-generated', 'human_text', 'machine-generated', 'human_text', 'machine-generated', 'human_text', 'machine-generated', 'human_text', 'machine-generated', 'human_text', 'machine-generated', 'human_text', 'machine-generated', 'human_text', 'machine-generated', 'human_text', 'machine-generated', 'human_text', 'machine-generated', 'human_text', 'machine-generated', 'human_text', 'machine-generated', 'human_text', 'machine-generated', 'human_text', 'machine-generated', 'human_text', 'machine-generated', 'human_text', 'machine-generated', 'human_text', 'machine-generated', 'human_text', 'machine-generated', 'human_text', 'machine-generated', 'human_text', 'machine-generated', 'human_text', 'machine-generated', 'human_text', 'machine-generated', 'human_text', 'machine-generated', 'human_text', 'machine-generated', 'human_text', 'machine-generated', 'human_text', 'machine-generated', 'human_text', 'machine-generated', 'human_text', 'machine-generated', 'human_text', 'machine-generated', 'human_text', 'machine-generated', 'human_text', 'machine-generated', 'human_text', 'machine-generated', 'human_text', 'machine-generated', 'human_text', 'machine-generated', 'human_text', 'machine-generated', 'human_text', 'machine-generated', 'human_text', 'machine-generated', 'human_text', 'machine-generated', 'human_text', 'machine-generated', 'human_text', 'machine-generated', 'human_text', 'machine-generated', 'human_text', 'machine-generated', 'human_text', 'machine-generated', 'human_text', 'machine-generated', 'human_text', 'machine-generated', 'human_text', 'machine-generated', 'human_text', 'machine-generated', 'human_text', 'machine-generated', 'human_text', 'machine-generated', 'human_text', 'machine-generated', 'human_text', 'machine-generated', 'human_text', 'machine-generated', 'human_text', 'machine-generated', 'human_text', 'machine-generated', 'human_text', 'machine-generated', 'human_text', 'machine-generated', 'human_text', 'machine-generated', 'human_text', 'machine-generated', 'human_text', 'machine-generated', 'human_text', 'machine-generated', 'human_text', 'machine-generated', 'human_text', 'machine-generated', 'human_text', 'machine-generated', 'human_text', 'machine-generated', 'human_text', 'machine-generated', 'human_text', 'machine-generated', 'human_text', 'machine-generated', 'human_text', 'machine-generated', 'human_text', 'machine-generated', 'human_text', 'machine-generated', 'human_text', 'machine-generated', 'human_text', 'machine-generated', 'human_text', 'machine-generated', 'human_text', 'machine-generated', 'human_text', 'machine-generated', 'human_text', 'machine-generated', 'human_text', 'machine-generated', 'human_text', 'machine-generated', 'human_text', 'machine-generated', 'human_text', 'machine-generated', 'human_text', 'machine-generated', 'human_text', 'machine-generated', 'human_text', 'machine-generated', 'human_text', 'machine-generated', 'human_text', 'machine-generated', 'human_text', 'machine-generated', 'human_text', 'machine-generated', 'human_text', 'machine-generated', 'human_text', 'machine-generated', 'human_text', 'machine-generated', 'human_text', 'machine-generated', 'human_text', 'machine-generated', 'human_text', 'machine-generated', 'human_text', 'machine-generated', 'human_text', 'machine-generated', 'human_text', 'machine-generated', 'human_text', 'machine-generated', 'human_text', 'machine-generated', 'human_text', 'machine-generated', 'human_text', 'machine-generated', 'human_text', 'machine-generated', 'human_text', 'machine-generated', 'human_text', 'machine-generated', 'human_text', 'machine-generated', 'human_text', 'machine-generated', 'human_text', 'machine-generated', 'human_text', 'machine-generated', 'human_text', 'machine-generated', 'human_text', 'machine-generated', 'human_text', 'machine-generated', 'human_text', 'machine-generated', 'human_text', 'machine-generated', 'human_text', 'machine-generated', 'human_text', 'machine-generated', 'human_text', 'machine-generated', 'human_text', 'machine-generated', 'human_text', 'machine-generated', 'human_text', 'machine-generated', 'human_text', 'machine-generated', 'human_text', 'machine-generated', 'human_text', 'machine-generated', 'human_text', 'machine-generated', 'human_text', 'machine-generated', 'human_text', 'machine-generated', 'human_text', 'machine-generated', 'human_text']\n"
          ]
        }
      ]
    },
    {
      "cell_type": "code",
      "source": [
        "true_labels = []\n",
        "for i in range(0, 600):\n",
        "    true_labels.append('machine-generated')\n",
        "    true_labels.append('human-produced')\n",
        "\n",
        "\n",
        "# Count occurrences of each label\n",
        "human_count = results.count('human-produced')\n",
        "machine_count = results.count('machine-generated')\n",
        "\n",
        "# Calculate total number of predictions\n",
        "total_predictions = len(results)\n",
        "\n",
        "\n",
        "import matplotlib.pyplot as plt\n",
        "from sklearn.metrics import confusion_matrix, accuracy_score, precision_score, recall_score\n",
        "from sklearn.preprocessing import LabelEncoder\n",
        "\n",
        "# Encode labels\n",
        "encoder = LabelEncoder()\n",
        "# Fit encoder with all possible labels\n",
        "all_labels = ['human-produced', 'machine-generated']\n",
        "encoder.fit(all_labels)\n",
        "true_labels_encoded = encoder.fit_transform(true_labels)\n",
        "predictions_encoded = encoder.transform(results)\n",
        "\n",
        "\n",
        "# Compute confusion matrix\n",
        "cm = confusion_matrix(true_labels_encoded, predictions_encoded)\n",
        "\n",
        "# Compute accuracy\n",
        "accuracy = accuracy_score(true_labels_encoded, predictions_encoded)\n",
        "print('The accuracy is', accuracy)\n",
        "# Compute precision\n",
        "precision = precision_score(true_labels_encoded, predictions_encoded, average='macro')\n",
        "print('The precision is', precision)\n",
        "# Compute recall\n",
        "recall = recall_score(true_labels_encoded, predictions_encoded, average='macro')\n",
        "print('The recall is', recall)\n",
        "\n",
        "# Plot confusion matrix\n",
        "plt.imshow(cm, interpolation='nearest', cmap=plt.cm.Blues)\n",
        "plt.title('Confusion Matrix')\n",
        "plt.colorbar()\n",
        "classes = encoder.classes_\n",
        "tick_marks = np.arange(len(classes))\n",
        "plt.xticks(tick_marks, classes, rotation=45)\n",
        "plt.yticks(tick_marks, classes)\n",
        "plt.xlabel('Predicted Label')\n",
        "plt.ylabel('True Label')\n",
        "\n",
        "for i in range(len(classes)):\n",
        "    for j in range(len(classes)):\n",
        "        plt.text(j, i, str(cm[i, j]), horizontalalignment=\"center\", color=\"white\" if cm[i, j] > cm.max() / 2. else \"black\")\n",
        "\n",
        "plt.show()\n",
        "\n"
      ],
      "metadata": {
        "colab": {
          "base_uri": "https://localhost:8080/",
          "height": 616
        },
        "id": "DPHc6f37gNoH",
        "outputId": "a0464140-4e05-4f98-e011-4524554a58a5"
      },
      "execution_count": 21,
      "outputs": [
        {
          "output_type": "stream",
          "name": "stdout",
          "text": [
            "The accuracy is 0.5591666666666667\n",
            "The precision is 0.7589004631036452\n",
            "The recall is 0.5591666666666666\n"
          ]
        },
        {
          "output_type": "display_data",
          "data": {
            "text/plain": [
              "<Figure size 640x480 with 2 Axes>"
            ],
            "image/png": "[encoded data removed]"
          },
          "metadata": {}
        }
      ]
    },
    {
      "cell_type": "markdown",
      "source": [
        "##Testing cohere dataset\n"
      ],
      "metadata": {
        "id": "lqTnfdXegZfr"
      }
    },
    {
      "cell_type": "code",
      "source": [
        "# Path to the JSONL file\n",
        "jsonl_path = \"/content/drive/MyDrive/Marcus_Project/removed_n/arxiv_cohere_test.jsonl\"\n",
        "\n",
        "# Function to truncate or split machine_text to fit within max_length\n",
        "def truncate_or_split(text, max_length=512):\n",
        "    if len(text) <= max_length:\n",
        "        return [text]\n",
        "    else:\n",
        "        # Truncate the text to max_length\n",
        "        return [text[:max_length]]\n",
        "\n",
        "# Function to read JSONL file and classify texts\n",
        "def classify_texts(jsonl_path):\n",
        "    predictions = []\n",
        "    line_count = 0\n",
        "    count = 0\n",
        "    with open(jsonl_path, 'r') as file:\n",
        "        for line in file:\n",
        "            data = json.loads(line)\n",
        "            machine_text = data['machine_text']\n",
        "\n",
        "            # Truncate or split machine_text to fit within max_length\n",
        "            machine_text_segments = truncate_or_split(machine_text)\n",
        "\n",
        "            for segment in machine_text_segments:\n",
        "                # Classify each segment of machine_text\n",
        "                result = classifier(segment)\n",
        "                # Append the most confident prediction\n",
        "                predictions.append(result[0]['label'])\n",
        "\n",
        "            human_text = data['human_text']\n",
        "\n",
        "            # Truncate or split machine_text to fit within max_length\n",
        "            human_text_segments = truncate_or_split(human_text)\n",
        "\n",
        "            for segment in human_text_segments:\n",
        "                # Classify each segment of machine_text\n",
        "                result = classifier(segment)\n",
        "                # Append the most confident prediction\n",
        "                predictions.append(result[0]['label'])\n",
        "\n",
        "            line_count += 1\n",
        "            print(count, end=\" \")  # Print count without newline\n",
        "\n",
        "            #print(predictions)\n",
        "            count += 1\n",
        "    return predictions\n",
        "\n",
        "# Get predictions for the entries in the JSONL file\n",
        "results = classify_texts(jsonl_path)\n",
        "print(results)\n"
      ],
      "metadata": {
        "colab": {
          "base_uri": "https://localhost:8080/"
        },
        "id": "71PYL55-gSD5",
        "outputId": "ab9bc740-d8be-44c5-f55e-7d2434b600c0"
      },
      "execution_count": 23,
      "outputs": [
        {
          "output_type": "stream",
          "name": "stdout",
          "text": [
            "0 1 2 3 4 5 6 7 8 9 10 11 12 13 14 15 16 17 18 19 20 21 22 23 24 25 26 27 28 29 30 31 32 33 34 35 36 37 38 39 40 41 42 43 44 45 46 47 48 49 50 51 52 53 54 55 56 57 58 59 60 61 62 63 64 65 66 67 68 69 70 71 72 73 74 75 76 77 78 79 80 81 82 83 84 85 86 87 88 89 90 91 92 93 94 95 96 97 98 99 100 101 102 103 104 105 106 107 108 109 110 111 112 113 114 115 116 117 118 119 120 121 122 123 124 125 126 127 128 129 130 131 132 133 134 135 136 137 138 139 140 141 142 143 144 145 146 147 148 149 150 151 152 153 154 155 156 157 158 159 160 161 162 163 164 165 166 167 168 169 170 171 172 173 174 175 176 177 178 179 180 181 182 183 184 185 186 187 188 189 190 191 192 193 194 195 196 197 198 199 200 201 202 203 204 205 206 207 208 209 210 211 212 213 214 215 216 217 218 219 220 221 222 223 224 225 226 227 228 229 230 231 232 233 234 235 236 237 238 239 240 241 242 243 244 245 246 247 248 249 250 251 252 253 254 255 256 257 258 259 260 261 262 263 264 265 266 267 268 269 270 271 272 273 274 275 276 277 278 279 280 281 282 283 284 285 286 287 288 289 290 291 292 293 294 295 296 297 298 299 300 301 302 303 304 305 306 307 308 309 310 311 312 313 314 315 316 317 318 319 320 321 322 323 324 325 326 327 328 329 330 331 332 333 334 335 336 337 338 339 340 341 342 343 344 345 346 347 348 349 350 351 352 353 354 355 356 357 358 359 360 361 362 363 364 365 366 367 368 369 370 371 372 373 374 375 376 377 378 379 380 381 382 383 384 385 386 387 388 389 390 391 392 393 394 395 396 397 398 399 400 401 402 403 404 405 406 407 408 409 410 411 412 413 414 415 416 417 418 419 420 421 422 423 424 425 426 427 428 429 430 431 432 433 434 435 436 437 438 439 440 441 442 443 444 445 446 447 448 449 450 451 452 453 454 455 456 457 458 459 460 461 462 463 464 465 466 467 468 469 470 471 472 473 474 475 476 477 478 479 480 481 482 483 484 485 486 487 488 489 490 491 492 493 494 495 496 497 498 499 500 501 502 503 504 505 506 507 508 509 510 511 512 513 514 515 516 517 518 519 520 521 522 523 524 525 526 527 528 529 530 531 532 533 534 535 536 537 538 539 540 541 542 543 544 545 546 547 548 549 550 551 552 553 554 555 556 557 558 559 560 561 562 563 564 565 566 567 568 569 570 571 572 573 574 575 576 577 578 579 580 581 582 583 584 585 586 587 588 589 590 591 592 593 594 595 596 597 598 599 ['human-produced', 'human-produced', 'human-produced', 'human-produced', 'human-produced', 'human-produced', 'human-produced', 'human-produced', 'human-produced', 'human-produced', 'human-produced', 'human-produced', 'human-produced', 'human-produced', 'human-produced', 'human-produced', 'human-produced', 'human-produced', 'human-produced', 'human-produced', 'human-produced', 'human-produced', 'human-produced', 'human-produced', 'human-produced', 'human-produced', 'human-produced', 'human-produced', 'human-produced', 'human-produced', 'human-produced', 'human-produced', 'human-produced', 'human-produced', 'human-produced', 'human-produced', 'human-produced', 'human-produced', 'machine-generated', 'human-produced', 'human-produced', 'human-produced', 'human-produced', 'human-produced', 'human-produced', 'human-produced', 'human-produced', 'human-produced', 'human-produced', 'human-produced', 'human-produced', 'human-produced', 'human-produced', 'human-produced', 'human-produced', 'human-produced', 'human-produced', 'human-produced', 'human-produced', 'human-produced', 'human-produced', 'human-produced', 'human-produced', 'human-produced', 'human-produced', 'human-produced', 'human-produced', 'human-produced', 'human-produced', 'human-produced', 'human-produced', 'human-produced', 'human-produced', 'human-produced', 'human-produced', 'human-produced', 'human-produced', 'human-produced', 'human-produced', 'human-produced', 'human-produced', 'human-produced', 'human-produced', 'human-produced', 'human-produced', 'human-produced', 'human-produced', 'human-produced', 'human-produced', 'human-produced', 'human-produced', 'human-produced', 'human-produced', 'human-produced', 'human-produced', 'human-produced', 'human-produced', 'human-produced', 'human-produced', 'human-produced', 'human-produced', 'human-produced', 'human-produced', 'human-produced', 'human-produced', 'human-produced', 'human-produced', 'human-produced', 'human-produced', 'human-produced', 'human-produced', 'human-produced', 'human-produced', 'human-produced', 'human-produced', 'human-produced', 'human-produced', 'human-produced', 'human-produced', 'human-produced', 'human-produced', 'human-produced', 'human-produced', 'human-produced', 'human-produced', 'human-produced', 'human-produced', 'human-produced', 'human-produced', 'human-produced', 'human-produced', 'human-produced', 'human-produced', 'human-produced', 'human-produced', 'human-produced', 'human-produced', 'human-produced', 'human-produced', 'human-produced', 'human-produced', 'human-produced', 'human-produced', 'human-produced', 'human-produced', 'human-produced', 'human-produced', 'human-produced', 'human-produced', 'human-produced', 'human-produced', 'human-produced', 'human-produced', 'human-produced', 'human-produced', 'human-produced', 'human-produced', 'human-produced', 'human-produced', 'human-produced', 'human-produced', 'human-produced', 'human-produced', 'human-produced', 'human-produced', 'human-produced', 'human-produced', 'human-produced', 'human-produced', 'human-produced', 'human-produced', 'human-produced', 'human-produced', 'human-produced', 'human-produced', 'human-produced', 'human-produced', 'human-produced', 'human-produced', 'human-produced', 'human-produced', 'human-produced', 'human-produced', 'human-produced', 'human-produced', 'human-produced', 'human-produced', 'human-produced', 'human-produced', 'human-produced', 'human-produced', 'human-produced', 'human-produced', 'human-produced', 'human-produced', 'human-produced', 'human-produced', 'human-produced', 'human-produced', 'human-produced', 'human-produced', 'human-produced', 'human-produced', 'human-produced', 'human-produced', 'human-produced', 'human-produced', 'human-produced', 'human-produced', 'human-produced', 'human-produced', 'human-produced', 'human-produced', 'human-produced', 'human-produced', 'human-produced', 'human-produced', 'human-produced', 'human-produced', 'human-produced', 'human-produced', 'human-produced', 'human-produced', 'human-produced', 'human-produced', 'human-produced', 'human-produced', 'human-produced', 'human-produced', 'human-produced', 'human-produced', 'human-produced', 'human-produced', 'human-produced', 'human-produced', 'human-produced', 'human-produced', 'human-produced', 'human-produced', 'human-produced', 'human-produced', 'human-produced', 'human-produced', 'human-produced', 'human-produced', 'human-produced', 'human-produced', 'human-produced', 'human-produced', 'human-produced', 'human-produced', 'human-produced', 'human-produced', 'human-produced', 'human-produced', 'human-produced', 'human-produced', 'human-produced', 'human-produced', 'human-produced', 'human-produced', 'human-produced', 'human-produced', 'human-produced', 'human-produced', 'human-produced', 'human-produced', 'human-produced', 'human-produced', 'human-produced', 'human-produced', 'human-produced', 'human-produced', 'human-produced', 'human-produced', 'human-produced', 'human-produced', 'human-produced', 'human-produced', 'human-produced', 'human-produced', 'human-produced', 'human-produced', 'human-produced', 'human-produced', 'human-produced', 'human-produced', 'human-produced', 'human-produced', 'human-produced', 'human-produced', 'human-produced', 'human-produced', 'human-produced', 'human-produced', 'human-produced', 'human-produced', 'human-produced', 'human-produced', 'human-produced', 'human-produced', 'human-produced', 'human-produced', 'human-produced', 'human-produced', 'human-produced', 'human-produced', 'human-produced', 'human-produced', 'human-produced', 'human-produced', 'human-produced', 'human-produced', 'human-produced', 'human-produced', 'human-produced', 'human-produced', 'human-produced', 'human-produced', 'human-produced', 'human-produced', 'human-produced', 'human-produced', 'human-produced', 'human-produced', 'human-produced', 'human-produced', 'human-produced', 'human-produced', 'human-produced', 'human-produced', 'human-produced', 'human-produced', 'human-produced', 'human-produced', 'human-produced', 'human-produced', 'human-produced', 'human-produced', 'human-produced', 'human-produced', 'human-produced', 'human-produced', 'human-produced', 'human-produced', 'human-produced', 'human-produced', 'human-produced', 'human-produced', 'human-produced', 'human-produced', 'human-produced', 'human-produced', 'human-produced', 'human-produced', 'human-produced', 'human-produced', 'human-produced', 'human-produced', 'human-produced', 'human-produced', 'human-produced', 'human-produced', 'human-produced', 'human-produced', 'human-produced', 'human-produced', 'human-produced', 'human-produced', 'human-produced', 'human-produced', 'human-produced', 'human-produced', 'human-produced', 'human-produced', 'human-produced', 'human-produced', 'human-produced', 'human-produced', 'human-produced', 'human-produced', 'human-produced', 'human-produced', 'human-produced', 'human-produced', 'human-produced', 'human-produced', 'human-produced', 'human-produced', 'human-produced', 'human-produced', 'human-produced', 'human-produced', 'human-produced', 'human-produced', 'human-produced', 'human-produced', 'human-produced', 'human-produced', 'human-produced', 'human-produced', 'human-produced', 'human-produced', 'human-produced', 'human-produced', 'human-produced', 'human-produced', 'human-produced', 'human-produced', 'human-produced', 'human-produced', 'human-produced', 'human-produced', 'human-produced', 'human-produced', 'human-produced', 'human-produced', 'human-produced', 'human-produced', 'human-produced', 'human-produced', 'human-produced', 'human-produced', 'human-produced', 'human-produced', 'human-produced', 'human-produced', 'human-produced', 'human-produced', 'human-produced', 'human-produced', 'human-produced', 'human-produced', 'human-produced', 'human-produced', 'human-produced', 'human-produced', 'human-produced', 'human-produced', 'human-produced', 'human-produced', 'human-produced', 'human-produced', 'human-produced', 'human-produced', 'human-produced', 'machine-generated', 'human-produced', 'human-produced', 'human-produced', 'human-produced', 'human-produced', 'human-produced', 'human-produced', 'human-produced', 'human-produced', 'human-produced', 'human-produced', 'human-produced', 'human-produced', 'human-produced', 'human-produced', 'human-produced', 'human-produced', 'human-produced', 'human-produced', 'machine-generated', 'human-produced', 'human-produced', 'human-produced', 'human-produced', 'human-produced', 'human-produced', 'human-produced', 'human-produced', 'human-produced', 'human-produced', 'human-produced', 'human-produced', 'human-produced', 'human-produced', 'human-produced', 'human-produced', 'human-produced', 'human-produced', 'human-produced', 'human-produced', 'human-produced', 'human-produced', 'human-produced', 'human-produced', 'human-produced', 'human-produced', 'human-produced', 'human-produced', 'human-produced', 'human-produced', 'human-produced', 'human-produced', 'human-produced', 'human-produced', 'human-produced', 'human-produced', 'human-produced', 'human-produced', 'human-produced', 'human-produced', 'human-produced', 'human-produced', 'human-produced', 'human-produced', 'human-produced', 'human-produced', 'human-produced', 'human-produced', 'human-produced', 'human-produced', 'human-produced', 'human-produced', 'human-produced', 'human-produced', 'human-produced', 'human-produced', 'human-produced', 'human-produced', 'human-produced', 'human-produced', 'human-produced', 'human-produced', 'human-produced', 'human-produced', 'human-produced', 'human-produced', 'human-produced', 'human-produced', 'human-produced', 'human-produced', 'human-produced', 'human-produced', 'human-produced', 'human-produced', 'human-produced', 'human-produced', 'human-produced', 'human-produced', 'human-produced', 'human-produced', 'human-produced', 'human-produced', 'human-produced', 'human-produced', 'machine-generated', 'human-produced', 'human-produced', 'human-produced', 'human-produced', 'human-produced', 'human-produced', 'human-produced', 'human-produced', 'human-produced', 'human-produced', 'human-produced', 'human-produced', 'human-produced', 'human-produced', 'human-produced', 'human-produced', 'human-produced', 'human-produced', 'human-produced', 'human-produced', 'human-produced', 'human-produced', 'human-produced', 'human-produced', 'human-produced', 'human-produced', 'human-produced', 'human-produced', 'human-produced', 'human-produced', 'human-produced', 'human-produced', 'human-produced', 'human-produced', 'human-produced', 'human-produced', 'human-produced', 'human-produced', 'human-produced', 'human-produced', 'human-produced', 'human-produced', 'human-produced', 'human-produced', 'human-produced', 'human-produced', 'human-produced', 'human-produced', 'human-produced', 'human-produced', 'human-produced', 'human-produced', 'human-produced', 'human-produced', 'human-produced', 'human-produced', 'human-produced', 'human-produced', 'human-produced', 'human-produced', 'human-produced', 'human-produced', 'human-produced', 'human-produced', 'human-produced', 'human-produced', 'human-produced', 'human-produced', 'human-produced', 'human-produced', 'human-produced', 'human-produced', 'human-produced', 'human-produced', 'human-produced', 'human-produced', 'human-produced', 'human-produced', 'human-produced', 'human-produced', 'human-produced', 'human-produced', 'human-produced', 'human-produced', 'human-produced', 'human-produced', 'human-produced', 'human-produced', 'human-produced', 'human-produced', 'human-produced', 'human-produced', 'human-produced', 'human-produced', 'human-produced', 'human-produced', 'human-produced', 'human-produced', 'human-produced', 'human-produced', 'human-produced', 'human-produced', 'human-produced', 'human-produced', 'human-produced', 'human-produced', 'human-produced', 'human-produced', 'human-produced', 'human-produced', 'human-produced', 'human-produced', 'human-produced', 'human-produced', 'human-produced', 'human-produced', 'human-produced', 'human-produced', 'human-produced', 'human-produced', 'human-produced', 'human-produced', 'human-produced', 'human-produced', 'human-produced', 'human-produced', 'human-produced', 'human-produced', 'human-produced', 'human-produced', 'human-produced', 'human-produced', 'human-produced', 'human-produced', 'human-produced', 'human-produced', 'human-produced', 'human-produced', 'human-produced', 'human-produced', 'human-produced', 'human-produced', 'human-produced', 'human-produced', 'human-produced', 'human-produced', 'human-produced', 'human-produced', 'human-produced', 'human-produced', 'human-produced', 'human-produced', 'human-produced', 'human-produced', 'human-produced', 'human-produced', 'human-produced', 'human-produced', 'human-produced', 'human-produced', 'human-produced', 'human-produced', 'human-produced', 'human-produced', 'human-produced', 'human-produced', 'human-produced', 'human-produced', 'human-produced', 'human-produced', 'human-produced', 'human-produced', 'human-produced', 'human-produced', 'human-produced', 'human-produced', 'human-produced', 'human-produced', 'human-produced', 'human-produced', 'human-produced', 'human-produced', 'human-produced', 'human-produced', 'human-produced', 'human-produced', 'human-produced', 'human-produced', 'human-produced', 'human-produced', 'human-produced', 'human-produced', 'human-produced', 'human-produced', 'human-produced', 'human-produced', 'human-produced', 'human-produced', 'human-produced', 'human-produced', 'human-produced', 'human-produced', 'human-produced', 'human-produced', 'human-produced', 'human-produced', 'human-produced', 'human-produced', 'human-produced', 'human-produced', 'human-produced', 'human-produced', 'human-produced', 'human-produced', 'human-produced', 'human-produced', 'human-produced', 'human-produced', 'human-produced', 'human-produced', 'human-produced', 'human-produced', 'human-produced', 'human-produced', 'human-produced', 'human-produced', 'human-produced', 'human-produced', 'human-produced', 'human-produced', 'human-produced', 'human-produced', 'human-produced', 'human-produced', 'human-produced', 'human-produced', 'human-produced', 'human-produced', 'human-produced', 'human-produced', 'human-produced', 'human-produced', 'human-produced', 'human-produced', 'human-produced', 'human-produced', 'human-produced', 'human-produced', 'human-produced', 'human-produced', 'human-produced', 'human-produced', 'human-produced', 'human-produced', 'human-produced', 'human-produced', 'human-produced', 'human-produced', 'human-produced', 'human-produced', 'human-produced', 'human-produced', 'human-produced', 'human-produced', 'human-produced', 'human-produced', 'human-produced', 'human-produced', 'human-produced', 'human-produced', 'human-produced', 'human-produced', 'human-produced', 'human-produced', 'human-produced', 'human-produced', 'human-produced', 'human-produced', 'human-produced', 'human-produced', 'human-produced', 'human-produced', 'human-produced', 'human-produced', 'human-produced', 'human-produced', 'human-produced', 'human-produced', 'human-produced', 'human-produced', 'human-produced', 'human-produced', 'human-produced', 'human-produced', 'human-produced', 'human-produced', 'human-produced', 'human-produced', 'human-produced', 'human-produced', 'human-produced', 'human-produced', 'human-produced', 'human-produced', 'human-produced', 'human-produced', 'human-produced', 'human-produced', 'human-produced', 'human-produced', 'human-produced', 'human-produced', 'human-produced', 'human-produced', 'human-produced', 'human-produced', 'human-produced', 'human-produced', 'human-produced', 'human-produced', 'human-produced', 'human-produced', 'human-produced', 'human-produced', 'human-produced', 'human-produced', 'human-produced', 'human-produced', 'human-produced', 'human-produced', 'human-produced', 'human-produced', 'human-produced', 'human-produced', 'human-produced', 'human-produced', 'human-produced', 'human-produced', 'human-produced', 'human-produced', 'human-produced', 'human-produced', 'human-produced', 'human-produced', 'human-produced', 'human-produced', 'human-produced', 'human-produced', 'human-produced', 'human-produced', 'human-produced', 'human-produced', 'human-produced', 'human-produced', 'human-produced', 'human-produced', 'human-produced', 'human-produced', 'human-produced', 'human-produced', 'human-produced', 'human-produced', 'human-produced', 'human-produced', 'human-produced', 'human-produced', 'human-produced', 'human-produced', 'human-produced', 'human-produced', 'human-produced', 'human-produced', 'human-produced', 'human-produced', 'human-produced', 'human-produced', 'human-produced', 'human-produced', 'human-produced', 'human-produced', 'human-produced', 'human-produced', 'human-produced', 'human-produced', 'human-produced', 'human-produced', 'human-produced', 'human-produced', 'human-produced', 'human-produced', 'human-produced', 'human-produced', 'human-produced', 'human-produced', 'human-produced', 'human-produced', 'human-produced', 'human-produced', 'human-produced', 'human-produced', 'human-produced', 'human-produced', 'human-produced', 'human-produced', 'human-produced', 'human-produced', 'human-produced', 'human-produced', 'human-produced', 'human-produced', 'human-produced', 'human-produced', 'human-produced', 'human-produced', 'human-produced', 'human-produced', 'human-produced', 'human-produced', 'human-produced', 'human-produced', 'human-produced', 'human-produced', 'human-produced', 'human-produced', 'human-produced', 'human-produced', 'human-produced', 'human-produced', 'human-produced', 'human-produced', 'human-produced', 'human-produced', 'human-produced', 'human-produced', 'human-produced', 'human-produced', 'human-produced', 'human-produced', 'human-produced', 'human-produced', 'human-produced', 'human-produced', 'human-produced', 'human-produced', 'human-produced', 'human-produced', 'human-produced', 'human-produced', 'human-produced', 'human-produced', 'human-produced', 'human-produced', 'human-produced', 'human-produced', 'human-produced', 'human-produced', 'human-produced', 'human-produced', 'human-produced', 'human-produced', 'human-produced', 'human-produced', 'human-produced', 'human-produced', 'human-produced', 'human-produced', 'human-produced', 'human-produced', 'human-produced', 'human-produced', 'human-produced', 'human-produced', 'human-produced', 'human-produced', 'human-produced', 'human-produced', 'human-produced', 'human-produced', 'human-produced', 'human-produced', 'human-produced', 'human-produced', 'human-produced', 'human-produced', 'human-produced', 'human-produced', 'human-produced', 'human-produced', 'human-produced', 'human-produced', 'human-produced', 'human-produced', 'human-produced', 'human-produced', 'human-produced', 'human-produced', 'human-produced', 'human-produced', 'human-produced', 'human-produced', 'human-produced', 'human-produced', 'human-produced', 'human-produced', 'human-produced', 'human-produced', 'human-produced', 'human-produced', 'human-produced', 'human-produced', 'human-produced', 'human-produced', 'human-produced', 'human-produced', 'human-produced', 'human-produced', 'human-produced', 'human-produced', 'human-produced', 'human-produced', 'human-produced', 'human-produced', 'human-produced', 'human-produced', 'human-produced', 'human-produced', 'human-produced', 'human-produced', 'human-produced', 'human-produced', 'human-produced', 'human-produced', 'human-produced', 'human-produced', 'human-produced', 'human-produced', 'human-produced', 'human-produced', 'human-produced', 'human-produced', 'human-produced', 'human-produced', 'human-produced', 'human-produced', 'human-produced', 'human-produced', 'human-produced', 'human-produced', 'human-produced', 'human-produced', 'human-produced', 'human-produced', 'human-produced', 'human-produced', 'human-produced', 'human-produced', 'human-produced', 'human-produced', 'human-produced', 'human-produced', 'human-produced', 'human-produced', 'human-produced', 'human-produced', 'human-produced', 'human-produced', 'human-produced', 'human-produced', 'human-produced', 'human-produced', 'human-produced', 'human-produced', 'human-produced', 'human-produced', 'human-produced', 'human-produced', 'human-produced', 'human-produced', 'human-produced', 'human-produced', 'human-produced', 'human-produced', 'human-produced', 'human-produced', 'human-produced', 'human-produced', 'human-produced', 'human-produced', 'human-produced', 'human-produced', 'human-produced', 'human-produced', 'human-produced', 'human-produced', 'human-produced', 'human-produced', 'human-produced', 'human-produced', 'human-produced', 'human-produced', 'human-produced', 'human-produced', 'human-produced', 'human-produced', 'human-produced', 'human-produced', 'human-produced', 'human-produced', 'human-produced', 'human-produced', 'human-produced', 'human-produced', 'human-produced', 'human-produced', 'human-produced', 'human-produced', 'human-produced', 'human-produced', 'human-produced', 'human-produced', 'human-produced', 'human-produced', 'human-produced', 'human-produced', 'human-produced', 'human-produced', 'human-produced', 'human-produced', 'human-produced', 'human-produced', 'human-produced', 'human-produced', 'human-produced', 'human-produced', 'human-produced', 'human-produced', 'human-produced', 'human-produced', 'human-produced', 'human-produced', 'human-produced', 'human-produced', 'human-produced', 'human-produced', 'human-produced', 'human-produced', 'human-produced', 'human-produced']\n"
          ]
        }
      ]
    },
    {
      "cell_type": "code",
      "source": [
        "true_labels = []\n",
        "for i in range(0, 600):\n",
        "    true_labels.append('machine-generated')\n",
        "    true_labels.append('human-produced')\n",
        "\n",
        "\n",
        "# Count occurrences of each label\n",
        "human_count = results.count('human-produced')\n",
        "machine_count = results.count('machine-generated')\n",
        "\n",
        "# Calculate total number of predictions\n",
        "total_predictions = len(results)\n",
        "\n",
        "\n",
        "import matplotlib.pyplot as plt\n",
        "from sklearn.metrics import confusion_matrix, accuracy_score, precision_score, recall_score\n",
        "from sklearn.preprocessing import LabelEncoder\n",
        "\n",
        "# Encode labels\n",
        "encoder = LabelEncoder()\n",
        "# Fit encoder with all possible labels\n",
        "all_labels = ['human-produced', 'machine-generated']\n",
        "encoder.fit(all_labels)\n",
        "true_labels_encoded = encoder.fit_transform(true_labels)\n",
        "predictions_encoded = encoder.transform(results)\n",
        "\n",
        "\n",
        "# Compute confusion matrix\n",
        "cm = confusion_matrix(true_labels_encoded, predictions_encoded)\n",
        "\n",
        "# Compute accuracy\n",
        "accuracy = accuracy_score(true_labels_encoded, predictions_encoded)\n",
        "print('The accuracy is', accuracy)\n",
        "# Compute precision\n",
        "precision = precision_score(true_labels_encoded, predictions_encoded, average='macro')\n",
        "print('The precision is', precision)\n",
        "# Compute recall\n",
        "recall = recall_score(true_labels_encoded, predictions_encoded, average='macro')\n",
        "print('The recall is', recall)\n",
        "\n",
        "# Plot confusion matrix\n",
        "plt.imshow(cm, interpolation='nearest', cmap=plt.cm.Blues)\n",
        "plt.title('Confusion Matrix')\n",
        "plt.colorbar()\n",
        "classes = encoder.classes_\n",
        "tick_marks = np.arange(len(classes))\n",
        "plt.xticks(tick_marks, classes, rotation=45)\n",
        "plt.yticks(tick_marks, classes)\n",
        "plt.xlabel('Predicted Label')\n",
        "plt.ylabel('True Label')\n",
        "\n",
        "for i in range(len(classes)):\n",
        "    for j in range(len(classes)):\n",
        "        plt.text(j, i, str(cm[i, j]), horizontalalignment=\"center\", color=\"white\" if cm[i, j] > cm.max() / 2. else \"black\")\n",
        "\n",
        "plt.show()\n",
        "\n"
      ],
      "metadata": {
        "colab": {
          "base_uri": "https://localhost:8080/",
          "height": 616
        },
        "id": "3LwL3m1RghAu",
        "outputId": "102b293f-dcb4-4527-fa24-c538796861ac"
      },
      "execution_count": 24,
      "outputs": [
        {
          "output_type": "stream",
          "name": "stdout",
          "text": [
            "The accuracy is 0.5016666666666667\n",
            "The precision is 0.6254180602006689\n",
            "The recall is 0.5016666666666666\n"
          ]
        },
        {
          "output_type": "display_data",
          "data": {
            "text/plain": [
              "<Figure size 640x480 with 2 Axes>"
            ],
            "image/png": "[encoded data removed]"
          },
          "metadata": {}
        }
      ]
    },
    {
      "cell_type": "markdown",
      "source": [
        "##Testing Davinci Dataset"
      ],
      "metadata": {
        "id": "85tk4-SGixRd"
      }
    },
    {
      "cell_type": "code",
      "source": [
        "# Path to the JSONL file\n",
        "jsonl_path = \"/content/drive/MyDrive/Marcus_Project/removed_n/arxiv_davinci_test.jsonl\"\n",
        "\n",
        "# Function to truncate or split machine_text to fit within max_length\n",
        "def truncate_or_split(text, max_length=512):\n",
        "    if len(text) <= max_length:\n",
        "        return [text]\n",
        "    else:\n",
        "        # Truncate the text to max_length\n",
        "        return [text[:max_length]]\n",
        "\n",
        "# Function to read JSONL file and classify texts\n",
        "def classify_texts(jsonl_path):\n",
        "    predictions = []\n",
        "    line_count = 0\n",
        "    count = 0\n",
        "    with open(jsonl_path, 'r') as file:\n",
        "        for line in file:\n",
        "            data = json.loads(line)\n",
        "            machine_text = data['machine_text']\n",
        "\n",
        "            # Truncate or split machine_text to fit within max_length\n",
        "            machine_text_segments = truncate_or_split(machine_text)\n",
        "\n",
        "            for segment in machine_text_segments:\n",
        "                # Classify each segment of machine_text\n",
        "                result = classifier(segment)\n",
        "                # Append the most confident prediction\n",
        "                predictions.append(result[0]['label'])\n",
        "\n",
        "            human_text = data['human_text']\n",
        "\n",
        "            # Truncate or split machine_text to fit within max_length\n",
        "            human_text_segments = truncate_or_split(human_text)\n",
        "\n",
        "            for segment in human_text_segments:\n",
        "                # Classify each segment of machine_text\n",
        "                result = classifier(segment)\n",
        "                # Append the most confident prediction\n",
        "                predictions.append(result[0]['label'])\n",
        "\n",
        "            line_count += 1\n",
        "            print(count, end=\" \")  # Print count without newline\n",
        "            #print(predictions)\n",
        "            count += 1\n",
        "    return predictions\n",
        "\n",
        "# Get predictions for the entries in the JSONL file\n",
        "results = classify_texts(jsonl_path)\n",
        "print(results)\n"
      ],
      "metadata": {
        "colab": {
          "base_uri": "https://localhost:8080/"
        },
        "id": "7ekSUiYpitS8",
        "outputId": "700975b7-d8e4-4808-9145-641325e153b3"
      },
      "execution_count": 25,
      "outputs": [
        {
          "output_type": "stream",
          "name": "stdout",
          "text": [
            "0 1 2 3 4 5 6 7 8 9 10 11 12 13 14 15 16 17 18 19 20 21 22 23 24 25 26 27 28 29 30 31 32 33 34 35 36 37 38 39 40 41 42 43 44 45 46 47 48 49 50 51 52 53 54 55 56 57 58 59 60 61 62 63 64 65 66 67 68 69 70 71 72 73 74 75 76 77 78 79 80 81 82 83 84 85 86 87 88 89 90 91 92 93 94 95 96 97 98 99 100 101 102 103 104 105 106 107 108 109 110 111 112 113 114 115 116 117 118 119 120 121 122 123 124 125 126 127 128 129 130 131 132 133 134 135 136 137 138 139 140 141 142 143 144 145 146 147 148 149 150 151 152 153 154 155 156 157 158 159 160 161 162 163 164 165 166 167 168 169 170 171 172 173 174 175 176 177 178 179 180 181 182 183 184 185 186 187 188 189 190 191 192 193 194 195 196 197 198 199 200 201 202 203 204 205 206 207 208 209 210 211 212 213 214 215 216 217 218 219 220 221 222 223 224 225 226 227 228 229 230 231 232 233 234 235 236 237 238 239 240 241 242 243 244 245 246 247 248 249 250 251 252 253 254 255 256 257 258 259 260 261 262 263 264 265 266 267 268 269 270 271 272 273 274 275 276 277 278 279 280 281 282 283 284 285 286 287 288 289 290 291 292 293 294 295 296 297 298 299 300 301 302 303 304 305 306 307 308 309 310 311 312 313 314 315 316 317 318 319 320 321 322 323 324 325 326 327 328 329 330 331 332 333 334 335 336 337 338 339 340 341 342 343 344 345 346 347 348 349 350 351 352 353 354 355 356 357 358 359 360 361 362 363 364 365 366 367 368 369 370 371 372 373 374 375 376 377 378 379 380 381 382 383 384 385 386 387 388 389 390 391 392 393 394 395 396 397 398 399 400 401 402 403 404 405 406 407 408 409 410 411 412 413 414 415 416 417 418 419 420 421 422 423 424 425 426 427 428 429 430 431 432 433 434 435 436 437 438 439 440 441 442 443 444 445 446 447 448 449 450 451 452 453 454 455 456 457 458 459 460 461 462 463 464 465 466 467 468 469 470 471 472 473 474 475 476 477 478 479 480 481 482 483 484 485 486 487 488 489 490 491 492 493 494 495 496 497 498 499 500 501 502 503 504 505 506 507 508 509 510 511 512 513 514 515 516 517 518 519 520 521 522 523 524 525 526 527 528 529 530 531 532 533 534 535 536 537 538 539 540 541 542 543 544 545 546 547 548 549 550 551 552 553 554 555 556 557 558 559 560 561 562 563 564 565 566 567 568 569 570 571 572 573 574 575 576 577 578 579 580 581 582 583 584 585 586 587 588 589 590 591 592 593 594 595 596 597 598 599 ['human-produced', 'human-produced', 'human-produced', 'human-produced', 'human-produced', 'human-produced', 'human-produced', 'human-produced', 'human-produced', 'human-produced', 'human-produced', 'human-produced', 'human-produced', 'human-produced', 'human-produced', 'human-produced', 'human-produced', 'human-produced', 'human-produced', 'human-produced', 'human-produced', 'human-produced', 'human-produced', 'human-produced', 'human-produced', 'human-produced', 'human-produced', 'human-produced', 'human-produced', 'human-produced', 'human-produced', 'human-produced', 'human-produced', 'human-produced', 'human-produced', 'human-produced', 'human-produced', 'human-produced', 'human-produced', 'human-produced', 'machine-generated', 'human-produced', 'human-produced', 'human-produced', 'human-produced', 'human-produced', 'human-produced', 'human-produced', 'human-produced', 'human-produced', 'human-produced', 'human-produced', 'human-produced', 'human-produced', 'human-produced', 'human-produced', 'human-produced', 'human-produced', 'human-produced', 'human-produced', 'human-produced', 'human-produced', 'human-produced', 'human-produced', 'human-produced', 'human-produced', 'human-produced', 'human-produced', 'human-produced', 'human-produced', 'human-produced', 'human-produced', 'human-produced', 'human-produced', 'human-produced', 'human-produced', 'human-produced', 'human-produced', 'human-produced', 'human-produced', 'human-produced', 'human-produced', 'human-produced', 'human-produced', 'human-produced', 'human-produced', 'human-produced', 'human-produced', 'human-produced', 'human-produced', 'human-produced', 'human-produced', 'human-produced', 'human-produced', 'machine-generated', 'human-produced', 'human-produced', 'human-produced', 'human-produced', 'human-produced', 'human-produced', 'human-produced', 'human-produced', 'human-produced', 'human-produced', 'human-produced', 'human-produced', 'human-produced', 'human-produced', 'human-produced', 'human-produced', 'human-produced', 'human-produced', 'human-produced', 'human-produced', 'human-produced', 'human-produced', 'human-produced', 'human-produced', 'human-produced', 'machine-generated', 'human-produced', 'human-produced', 'human-produced', 'human-produced', 'human-produced', 'human-produced', 'human-produced', 'human-produced', 'human-produced', 'human-produced', 'human-produced', 'human-produced', 'human-produced', 'human-produced', 'human-produced', 'human-produced', 'human-produced', 'human-produced', 'human-produced', 'human-produced', 'human-produced', 'human-produced', 'human-produced', 'human-produced', 'human-produced', 'human-produced', 'human-produced', 'human-produced', 'human-produced', 'human-produced', 'human-produced', 'human-produced', 'human-produced', 'human-produced', 'human-produced', 'human-produced', 'human-produced', 'human-produced', 'human-produced', 'human-produced', 'human-produced', 'human-produced', 'human-produced', 'human-produced', 'human-produced', 'human-produced', 'human-produced', 'human-produced', 'human-produced', 'human-produced', 'human-produced', 'human-produced', 'human-produced', 'human-produced', 'human-produced', 'human-produced', 'human-produced', 'machine-generated', 'human-produced', 'human-produced', 'human-produced', 'human-produced', 'human-produced', 'human-produced', 'human-produced', 'human-produced', 'human-produced', 'machine-generated', 'human-produced', 'human-produced', 'human-produced', 'human-produced', 'human-produced', 'human-produced', 'human-produced', 'human-produced', 'human-produced', 'human-produced', 'human-produced', 'human-produced', 'human-produced', 'human-produced', 'human-produced', 'human-produced', 'human-produced', 'human-produced', 'human-produced', 'human-produced', 'human-produced', 'human-produced', 'human-produced', 'human-produced', 'human-produced', 'human-produced', 'human-produced', 'human-produced', 'human-produced', 'human-produced', 'human-produced', 'human-produced', 'human-produced', 'human-produced', 'human-produced', 'human-produced', 'human-produced', 'human-produced', 'human-produced', 'human-produced', 'human-produced', 'human-produced', 'human-produced', 'human-produced', 'human-produced', 'human-produced', 'human-produced', 'human-produced', 'human-produced', 'human-produced', 'human-produced', 'human-produced', 'human-produced', 'human-produced', 'human-produced', 'human-produced', 'human-produced', 'human-produced', 'human-produced', 'human-produced', 'human-produced', 'human-produced', 'human-produced', 'human-produced', 'human-produced', 'human-produced', 'human-produced', 'human-produced', 'human-produced', 'human-produced', 'human-produced', 'human-produced', 'human-produced', 'human-produced', 'human-produced', 'human-produced', 'human-produced', 'human-produced', 'human-produced', 'human-produced', 'human-produced', 'human-produced', 'human-produced', 'human-produced', 'human-produced', 'human-produced', 'human-produced', 'human-produced', 'human-produced', 'human-produced', 'human-produced', 'human-produced', 'human-produced', 'human-produced', 'human-produced', 'human-produced', 'human-produced', 'human-produced', 'human-produced', 'human-produced', 'human-produced', 'human-produced', 'human-produced', 'human-produced', 'human-produced', 'human-produced', 'human-produced', 'human-produced', 'human-produced', 'human-produced', 'human-produced', 'human-produced', 'human-produced', 'human-produced', 'human-produced', 'human-produced', 'human-produced', 'human-produced', 'human-produced', 'human-produced', 'human-produced', 'human-produced', 'human-produced', 'human-produced', 'human-produced', 'human-produced', 'human-produced', 'human-produced', 'human-produced', 'human-produced', 'human-produced', 'human-produced', 'human-produced', 'machine-generated', 'human-produced', 'human-produced', 'human-produced', 'human-produced', 'human-produced', 'human-produced', 'human-produced', 'human-produced', 'human-produced', 'human-produced', 'human-produced', 'human-produced', 'human-produced', 'human-produced', 'human-produced', 'human-produced', 'human-produced', 'human-produced', 'human-produced', 'human-produced', 'human-produced', 'human-produced', 'human-produced', 'human-produced', 'human-produced', 'human-produced', 'human-produced', 'human-produced', 'human-produced', 'human-produced', 'human-produced', 'human-produced', 'human-produced', 'human-produced', 'human-produced', 'human-produced', 'human-produced', 'human-produced', 'human-produced', 'human-produced', 'human-produced', 'human-produced', 'human-produced', 'human-produced', 'human-produced', 'human-produced', 'human-produced', 'human-produced', 'human-produced', 'human-produced', 'human-produced', 'human-produced', 'human-produced', 'human-produced', 'human-produced', 'human-produced', 'human-produced', 'human-produced', 'human-produced', 'human-produced', 'human-produced', 'human-produced', 'human-produced', 'human-produced', 'human-produced', 'human-produced', 'human-produced', 'human-produced', 'human-produced', 'human-produced', 'human-produced', 'human-produced', 'human-produced', 'human-produced', 'human-produced', 'human-produced', 'human-produced', 'human-produced', 'human-produced', 'human-produced', 'human-produced', 'human-produced', 'human-produced', 'human-produced', 'human-produced', 'human-produced', 'human-produced', 'human-produced', 'human-produced', 'human-produced', 'human-produced', 'human-produced', 'human-produced', 'human-produced', 'human-produced', 'human-produced', 'human-produced', 'human-produced', 'human-produced', 'human-produced', 'human-produced', 'human-produced', 'human-produced', 'human-produced', 'human-produced', 'human-produced', 'human-produced', 'human-produced', 'human-produced', 'human-produced', 'human-produced', 'human-produced', 'human-produced', 'human-produced', 'human-produced', 'human-produced', 'human-produced', 'human-produced', 'human-produced', 'human-produced', 'human-produced', 'human-produced', 'human-produced', 'human-produced', 'human-produced', 'human-produced', 'human-produced', 'human-produced', 'human-produced', 'human-produced', 'human-produced', 'human-produced', 'human-produced', 'human-produced', 'human-produced', 'human-produced', 'human-produced', 'human-produced', 'human-produced', 'human-produced', 'human-produced', 'human-produced', 'human-produced', 'human-produced', 'human-produced', 'human-produced', 'human-produced', 'human-produced', 'human-produced', 'human-produced', 'human-produced', 'human-produced', 'human-produced', 'human-produced', 'human-produced', 'human-produced', 'human-produced', 'human-produced', 'human-produced', 'human-produced', 'human-produced', 'human-produced', 'human-produced', 'human-produced', 'human-produced', 'human-produced', 'human-produced', 'human-produced', 'human-produced', 'human-produced', 'human-produced', 'human-produced', 'human-produced', 'human-produced', 'human-produced', 'human-produced', 'human-produced', 'human-produced', 'human-produced', 'human-produced', 'human-produced', 'human-produced', 'human-produced', 'human-produced', 'human-produced', 'human-produced', 'human-produced', 'human-produced', 'human-produced', 'human-produced', 'human-produced', 'human-produced', 'human-produced', 'human-produced', 'human-produced', 'human-produced', 'human-produced', 'human-produced', 'human-produced', 'human-produced', 'human-produced', 'human-produced', 'human-produced', 'machine-generated', 'human-produced', 'human-produced', 'human-produced', 'machine-generated', 'human-produced', 'machine-generated', 'human-produced', 'human-produced', 'human-produced', 'human-produced', 'human-produced', 'human-produced', 'human-produced', 'human-produced', 'human-produced', 'human-produced', 'human-produced', 'human-produced', 'human-produced', 'human-produced', 'human-produced', 'human-produced', 'human-produced', 'human-produced', 'human-produced', 'human-produced', 'human-produced', 'human-produced', 'human-produced', 'human-produced', 'human-produced', 'human-produced', 'human-produced', 'human-produced', 'human-produced', 'human-produced', 'human-produced', 'human-produced', 'human-produced', 'human-produced', 'human-produced', 'human-produced', 'human-produced', 'human-produced', 'human-produced', 'human-produced', 'human-produced', 'human-produced', 'human-produced', 'human-produced', 'human-produced', 'human-produced', 'human-produced', 'human-produced', 'human-produced', 'human-produced', 'human-produced', 'human-produced', 'human-produced', 'human-produced', 'human-produced', 'human-produced', 'human-produced', 'human-produced', 'human-produced', 'human-produced', 'human-produced', 'human-produced', 'human-produced', 'human-produced', 'human-produced', 'human-produced', 'human-produced', 'human-produced', 'human-produced', 'human-produced', 'human-produced', 'human-produced', 'human-produced', 'human-produced', 'human-produced', 'machine-generated', 'human-produced', 'human-produced', 'human-produced', 'human-produced', 'human-produced', 'human-produced', 'human-produced', 'human-produced', 'human-produced', 'human-produced', 'human-produced', 'human-produced', 'human-produced', 'human-produced', 'human-produced', 'human-produced', 'human-produced', 'human-produced', 'human-produced', 'human-produced', 'human-produced', 'human-produced', 'human-produced', 'human-produced', 'human-produced', 'human-produced', 'human-produced', 'human-produced', 'human-produced', 'human-produced', 'human-produced', 'human-produced', 'human-produced', 'human-produced', 'human-produced', 'human-produced', 'human-produced', 'human-produced', 'human-produced', 'human-produced', 'human-produced', 'human-produced', 'human-produced', 'human-produced', 'human-produced', 'human-produced', 'human-produced', 'human-produced', 'human-produced', 'human-produced', 'human-produced', 'human-produced', 'human-produced', 'human-produced', 'human-produced', 'human-produced', 'human-produced', 'machine-generated', 'human-produced', 'human-produced', 'human-produced', 'human-produced', 'human-produced', 'human-produced', 'human-produced', 'human-produced', 'human-produced', 'human-produced', 'human-produced', 'human-produced', 'human-produced', 'human-produced', 'human-produced', 'human-produced', 'human-produced', 'human-produced', 'human-produced', 'human-produced', 'human-produced', 'human-produced', 'human-produced', 'human-produced', 'human-produced', 'human-produced', 'human-produced', 'human-produced', 'human-produced', 'human-produced', 'human-produced', 'human-produced', 'human-produced', 'human-produced', 'human-produced', 'human-produced', 'human-produced', 'human-produced', 'human-produced', 'human-produced', 'human-produced', 'human-produced', 'human-produced', 'machine-generated', 'human-produced', 'human-produced', 'human-produced', 'human-produced', 'human-produced', 'human-produced', 'human-produced', 'human-produced', 'human-produced', 'human-produced', 'human-produced', 'human-produced', 'human-produced', 'human-produced', 'human-produced', 'human-produced', 'human-produced', 'human-produced', 'human-produced', 'human-produced', 'human-produced', 'human-produced', 'human-produced', 'human-produced', 'human-produced', 'human-produced', 'human-produced', 'machine-generated', 'human-produced', 'human-produced', 'human-produced', 'human-produced', 'human-produced', 'human-produced', 'human-produced', 'human-produced', 'human-produced', 'human-produced', 'human-produced', 'human-produced', 'human-produced', 'human-produced', 'human-produced', 'human-produced', 'human-produced', 'human-produced', 'human-produced', 'human-produced', 'human-produced', 'human-produced', 'human-produced', 'human-produced', 'human-produced', 'human-produced', 'human-produced', 'human-produced', 'human-produced', 'human-produced', 'human-produced', 'human-produced', 'human-produced', 'human-produced', 'human-produced', 'human-produced', 'human-produced', 'human-produced', 'human-produced', 'human-produced', 'human-produced', 'human-produced', 'human-produced', 'human-produced', 'human-produced', 'human-produced', 'human-produced', 'human-produced', 'human-produced', 'human-produced', 'human-produced', 'human-produced', 'human-produced', 'human-produced', 'human-produced', 'machine-generated', 'human-produced', 'human-produced', 'human-produced', 'human-produced', 'human-produced', 'human-produced', 'human-produced', 'human-produced', 'human-produced', 'human-produced', 'human-produced', 'human-produced', 'human-produced', 'human-produced', 'human-produced', 'human-produced', 'human-produced', 'human-produced', 'human-produced', 'human-produced', 'human-produced', 'human-produced', 'human-produced', 'human-produced', 'human-produced', 'human-produced', 'human-produced', 'human-produced', 'human-produced', 'human-produced', 'human-produced', 'human-produced', 'human-produced', 'human-produced', 'human-produced', 'human-produced', 'human-produced', 'human-produced', 'human-produced', 'human-produced', 'human-produced', 'human-produced', 'human-produced', 'human-produced', 'human-produced', 'human-produced', 'human-produced', 'human-produced', 'human-produced', 'human-produced', 'human-produced', 'human-produced', 'human-produced', 'human-produced', 'human-produced', 'human-produced', 'human-produced', 'human-produced', 'human-produced', 'human-produced', 'human-produced', 'human-produced', 'human-produced', 'human-produced', 'human-produced', 'human-produced', 'human-produced', 'human-produced', 'human-produced', 'human-produced', 'human-produced', 'human-produced', 'human-produced', 'human-produced', 'human-produced', 'human-produced', 'human-produced', 'human-produced', 'human-produced', 'human-produced', 'human-produced', 'human-produced', 'human-produced', 'human-produced', 'human-produced', 'human-produced', 'human-produced', 'human-produced', 'human-produced', 'human-produced', 'human-produced', 'human-produced', 'human-produced', 'human-produced', 'human-produced', 'human-produced', 'human-produced', 'human-produced', 'human-produced', 'human-produced', 'human-produced', 'human-produced', 'human-produced', 'human-produced', 'human-produced', 'human-produced', 'human-produced', 'human-produced', 'human-produced', 'human-produced', 'human-produced', 'human-produced', 'human-produced', 'human-produced', 'human-produced', 'human-produced', 'human-produced', 'human-produced', 'human-produced', 'human-produced', 'human-produced', 'human-produced', 'human-produced', 'human-produced', 'human-produced', 'human-produced', 'human-produced', 'human-produced', 'human-produced', 'human-produced', 'human-produced', 'human-produced', 'human-produced', 'human-produced', 'human-produced', 'human-produced', 'human-produced', 'human-produced', 'human-produced', 'human-produced', 'human-produced', 'human-produced', 'human-produced', 'human-produced', 'human-produced', 'human-produced', 'human-produced', 'human-produced', 'human-produced', 'human-produced', 'human-produced', 'human-produced', 'human-produced', 'human-produced', 'human-produced', 'human-produced', 'human-produced', 'human-produced', 'human-produced', 'human-produced', 'human-produced', 'human-produced', 'human-produced', 'human-produced', 'human-produced', 'human-produced', 'human-produced', 'machine-generated', 'human-produced', 'human-produced', 'human-produced', 'human-produced', 'human-produced', 'human-produced', 'human-produced', 'human-produced', 'human-produced', 'human-produced', 'human-produced', 'human-produced', 'human-produced', 'machine-generated', 'human-produced', 'human-produced', 'human-produced', 'human-produced', 'human-produced', 'human-produced', 'human-produced', 'human-produced', 'human-produced', 'machine-generated', 'human-produced', 'human-produced', 'human-produced', 'human-produced', 'human-produced', 'human-produced', 'human-produced', 'human-produced', 'human-produced', 'human-produced', 'human-produced', 'human-produced', 'human-produced', 'human-produced', 'human-produced', 'human-produced', 'human-produced', 'human-produced', 'human-produced', 'human-produced', 'human-produced', 'human-produced', 'human-produced', 'human-produced', 'human-produced', 'machine-generated', 'human-produced', 'human-produced', 'human-produced', 'human-produced', 'human-produced', 'human-produced', 'human-produced', 'human-produced', 'human-produced', 'human-produced', 'human-produced', 'human-produced', 'human-produced', 'human-produced', 'human-produced', 'human-produced', 'human-produced', 'human-produced', 'human-produced', 'human-produced', 'human-produced', 'human-produced', 'human-produced', 'human-produced', 'human-produced', 'human-produced', 'human-produced', 'human-produced', 'human-produced', 'machine-generated', 'human-produced', 'human-produced', 'human-produced', 'human-produced', 'human-produced', 'human-produced', 'human-produced', 'human-produced', 'human-produced', 'human-produced', 'human-produced', 'human-produced', 'human-produced', 'human-produced', 'human-produced', 'human-produced', 'human-produced', 'human-produced', 'human-produced', 'human-produced', 'human-produced', 'human-produced', 'human-produced', 'human-produced', 'human-produced', 'human-produced', 'human-produced', 'human-produced', 'human-produced', 'human-produced', 'human-produced', 'human-produced', 'human-produced', 'human-produced', 'human-produced', 'human-produced', 'human-produced', 'human-produced', 'human-produced', 'human-produced', 'human-produced', 'human-produced', 'human-produced', 'human-produced', 'human-produced', 'human-produced', 'human-produced', 'machine-generated', 'human-produced', 'human-produced', 'human-produced', 'human-produced', 'human-produced', 'human-produced', 'human-produced', 'human-produced', 'human-produced', 'human-produced', 'human-produced', 'human-produced', 'human-produced', 'human-produced', 'human-produced', 'human-produced', 'human-produced', 'human-produced', 'human-produced', 'human-produced', 'human-produced', 'human-produced', 'human-produced', 'human-produced', 'human-produced', 'machine-generated', 'human-produced', 'human-produced', 'human-produced', 'human-produced', 'human-produced', 'human-produced', 'human-produced', 'human-produced', 'human-produced', 'human-produced', 'human-produced', 'human-produced', 'human-produced', 'human-produced', 'human-produced', 'human-produced', 'human-produced', 'human-produced', 'human-produced', 'human-produced', 'human-produced', 'human-produced', 'human-produced', 'human-produced', 'human-produced', 'human-produced', 'human-produced', 'human-produced', 'human-produced', 'human-produced', 'human-produced', 'human-produced', 'human-produced', 'human-produced', 'human-produced', 'human-produced', 'human-produced', 'human-produced', 'human-produced', 'human-produced', 'human-produced', 'human-produced', 'human-produced', 'machine-generated', 'human-produced', 'human-produced', 'human-produced', 'human-produced', 'human-produced', 'human-produced', 'human-produced', 'human-produced', 'human-produced', 'human-produced', 'human-produced', 'human-produced', 'human-produced', 'human-produced', 'human-produced', 'human-produced', 'human-produced', 'human-produced', 'human-produced', 'human-produced', 'human-produced', 'human-produced', 'human-produced', 'human-produced', 'human-produced', 'human-produced', 'human-produced', 'human-produced', 'human-produced', 'human-produced', 'human-produced', 'human-produced', 'human-produced', 'human-produced', 'human-produced', 'human-produced', 'human-produced', 'human-produced', 'human-produced']\n"
          ]
        }
      ]
    },
    {
      "cell_type": "code",
      "source": [
        "true_labels = []\n",
        "for i in range(0, 600):\n",
        "    true_labels.append('machine-generated')\n",
        "    true_labels.append('human-produced')\n",
        "\n",
        "\n",
        "# Count occurrences of each label\n",
        "human_count = results.count('human-produced')\n",
        "machine_count = results.count('machine-generated')\n",
        "\n",
        "# Calculate total number of predictions\n",
        "total_predictions = len(results)\n",
        "\n",
        "\n",
        "import matplotlib.pyplot as plt\n",
        "from sklearn.metrics import confusion_matrix, accuracy_score, precision_score, recall_score\n",
        "from sklearn.preprocessing import LabelEncoder\n",
        "\n",
        "# Encode labels\n",
        "encoder = LabelEncoder()\n",
        "# Fit encoder with all possible labels\n",
        "all_labels = ['human-produced', 'machine-generated']\n",
        "encoder.fit(all_labels)\n",
        "true_labels_encoded = encoder.fit_transform(true_labels)\n",
        "predictions_encoded = encoder.transform(results)\n",
        "\n",
        "\n",
        "# Compute confusion matrix\n",
        "cm = confusion_matrix(true_labels_encoded, predictions_encoded)\n",
        "\n",
        "# Compute accuracy\n",
        "accuracy = accuracy_score(true_labels_encoded, predictions_encoded)\n",
        "print('The accuracy is', accuracy)\n",
        "# Compute precision\n",
        "precision = precision_score(true_labels_encoded, predictions_encoded, average='macro')\n",
        "print('The precision is', precision)\n",
        "# Compute recall\n",
        "recall = recall_score(true_labels_encoded, predictions_encoded, average='macro')\n",
        "print('The recall is', recall)\n",
        "\n",
        "# Plot confusion matrix\n",
        "plt.imshow(cm, interpolation='nearest', cmap=plt.cm.Blues)\n",
        "plt.title('Confusion Matrix')\n",
        "plt.colorbar()\n",
        "classes = encoder.classes_\n",
        "tick_marks = np.arange(len(classes))\n",
        "plt.xticks(tick_marks, classes, rotation=45)\n",
        "plt.yticks(tick_marks, classes)\n",
        "plt.xlabel('Predicted Label')\n",
        "plt.ylabel('True Label')\n",
        "\n",
        "for i in range(len(classes)):\n",
        "    for j in range(len(classes)):\n",
        "        plt.text(j, i, str(cm[i, j]), horizontalalignment=\"center\", color=\"white\" if cm[i, j] > cm.max() / 2. else \"black\")\n",
        "\n",
        "plt.show()\n",
        "\n"
      ],
      "metadata": {
        "colab": {
          "base_uri": "https://localhost:8080/",
          "height": 616
        },
        "id": "B2lqAlSZi9p3",
        "outputId": "31bc125f-8609-4aa6-8d8c-1a3053bfff15"
      },
      "execution_count": 26,
      "outputs": [
        {
          "output_type": "stream",
          "name": "stdout",
          "text": [
            "The accuracy is 0.5183333333333333\n",
            "The precision is 0.7546689303904923\n",
            "The recall is 0.5183333333333333\n"
          ]
        },
        {
          "output_type": "display_data",
          "data": {
            "text/plain": [
              "<Figure size 640x480 with 2 Axes>"
            ],
            "image/png": "[encoded data removed]"
          },
          "metadata": {}
        }
      ]
    },
    {
      "cell_type": "markdown",
      "source": [
        "##Testing flant5 dataset"
      ],
      "metadata": {
        "id": "jyjD51eUlQk3"
      }
    },
    {
      "cell_type": "code",
      "source": [
        "# Path to the JSONL file\n",
        "jsonl_path = \"/content/drive/MyDrive/Marcus_Project/removed_n/arxiv_flant5_test.jsonl\"\n",
        "\n",
        "# Function to truncate or split machine_text to fit within max_length\n",
        "def truncate_or_split(text, max_length=512):\n",
        "    if len(text) <= max_length:\n",
        "        return [text]\n",
        "    else:\n",
        "        # Truncate the text to max_length\n",
        "        return [text[:max_length]]\n",
        "\n",
        "# Function to read JSONL file and classify texts\n",
        "def classify_texts(jsonl_path):\n",
        "    predictions = []\n",
        "    line_count = 0\n",
        "    count = 0\n",
        "    with open(jsonl_path, 'r') as file:\n",
        "        for line in file:\n",
        "            data = json.loads(line)\n",
        "            machine_text = data['machine_text']\n",
        "\n",
        "            # Truncate or split machine_text to fit within max_length\n",
        "            machine_text_segments = truncate_or_split(machine_text)\n",
        "\n",
        "            for segment in machine_text_segments:\n",
        "                # Classify each segment of machine_text\n",
        "                result = classifier(segment)\n",
        "                # Append the most confident prediction\n",
        "                predictions.append(result[0]['label'])\n",
        "\n",
        "            human_text = data['human_text']\n",
        "\n",
        "            # Truncate or split machine_text to fit within max_length\n",
        "            human_text_segments = truncate_or_split(human_text)\n",
        "\n",
        "            for segment in human_text_segments:\n",
        "                # Classify each segment of machine_text\n",
        "                result = classifier(segment)\n",
        "                # Append the most confident prediction\n",
        "                predictions.append(result[0]['label'])\n",
        "\n",
        "            line_count += 1\n",
        "            print(count, end=\" \")  # Print count without newline\n",
        "            #print(predictions)\n",
        "            count += 1\n",
        "    return predictions\n",
        "\n",
        "# Get predictions for the entries in the JSONL file\n",
        "results = classify_texts(jsonl_path)\n",
        "print(results)\n"
      ],
      "metadata": {
        "colab": {
          "base_uri": "https://localhost:8080/"
        },
        "id": "1Lzu9hEzlNT9",
        "outputId": "6dead79a-a143-47be-8151-2a557f9bca49"
      },
      "execution_count": 28,
      "outputs": [
        {
          "output_type": "stream",
          "name": "stdout",
          "text": [
            "0 1 2 3 4 5 6 7 8 9 10 11 12 13 14 15 16 17 18 19 20 21 22 23 24 25 26 27 28 29 30 31 32 33 34 35 36 37 38 39 40 41 42 43 44 45 46 47 48 49 50 51 52 53 54 55 56 57 58 59 60 61 62 63 64 65 66 67 68 69 70 71 72 73 74 75 76 77 78 79 80 81 82 83 84 85 86 87 88 89 90 91 92 93 94 95 96 97 98 99 100 101 102 103 104 105 106 107 108 109 110 111 112 113 114 115 116 117 118 119 120 121 122 123 124 125 126 127 128 129 130 131 132 133 134 135 136 137 138 139 140 141 142 143 144 145 146 147 148 149 150 151 152 153 154 155 156 157 158 159 160 161 162 163 164 165 166 167 168 169 170 171 172 173 174 175 176 177 178 179 180 181 182 183 184 185 186 187 188 189 190 191 192 193 194 195 196 197 198 199 200 201 202 203 204 205 206 207 208 209 210 211 212 213 214 215 216 217 218 219 220 221 222 223 224 225 226 227 228 229 230 231 232 233 234 235 236 237 238 239 240 241 242 243 244 245 246 247 248 249 250 251 252 253 254 255 256 257 258 259 260 261 262 263 264 265 266 267 268 269 270 271 272 273 274 275 276 277 278 279 280 281 282 283 284 285 286 287 288 289 290 291 292 293 294 295 296 297 298 299 300 301 302 303 304 305 306 307 308 309 310 311 312 313 314 315 316 317 318 319 320 321 322 323 324 325 326 327 328 329 330 331 332 333 334 335 336 337 338 339 340 341 342 343 344 345 346 347 348 349 350 351 352 353 354 355 356 357 358 359 360 361 362 363 364 365 366 367 368 369 370 371 372 373 374 375 376 377 378 379 380 381 382 383 384 385 386 387 388 389 390 391 392 393 394 395 396 397 398 399 400 401 402 403 404 405 406 407 408 409 410 411 412 413 414 415 416 417 418 419 420 421 422 423 424 425 426 427 428 429 430 431 432 433 434 435 436 437 438 439 440 441 442 443 444 445 446 447 448 449 450 451 452 453 454 455 456 457 458 459 460 461 462 463 464 465 466 467 468 469 470 471 472 473 474 475 476 477 478 479 480 481 482 483 484 485 486 487 488 489 490 491 492 493 494 495 496 497 498 499 500 501 502 503 504 505 506 507 508 509 510 511 512 513 514 515 516 517 518 519 520 521 522 523 524 525 526 527 528 529 530 531 532 533 534 535 536 537 538 539 540 541 542 543 544 545 546 547 548 549 550 551 552 553 554 555 556 557 558 559 560 561 562 563 564 565 566 567 568 569 570 571 572 573 574 575 576 577 578 579 580 581 582 583 584 585 586 587 588 589 590 591 592 593 594 595 596 597 598 599 ['machine-generated', 'human-produced', 'human-produced', 'human-produced', 'machine-generated', 'human-produced', 'human-produced', 'human-produced', 'machine-generated', 'human-produced', 'machine-generated', 'human-produced', 'human-produced', 'human-produced', 'human-produced', 'human-produced', 'human-produced', 'human-produced', 'human-produced', 'human-produced', 'machine-generated', 'human-produced', 'human-produced', 'human-produced', 'machine-generated', 'human-produced', 'machine-generated', 'human-produced', 'machine-generated', 'human-produced', 'human-produced', 'human-produced', 'machine-generated', 'human-produced', 'human-produced', 'human-produced', 'machine-generated', 'human-produced', 'machine-generated', 'human-produced', 'human-produced', 'human-produced', 'human-produced', 'human-produced', 'machine-generated', 'human-produced', 'human-produced', 'human-produced', 'machine-generated', 'human-produced', 'human-produced', 'human-produced', 'human-produced', 'human-produced', 'machine-generated', 'human-produced', 'machine-generated', 'human-produced', 'human-produced', 'human-produced', 'machine-generated', 'human-produced', 'machine-generated', 'human-produced', 'human-produced', 'human-produced', 'machine-generated', 'human-produced', 'human-produced', 'human-produced', 'machine-generated', 'human-produced', 'machine-generated', 'human-produced', 'machine-generated', 'human-produced', 'machine-generated', 'human-produced', 'machine-generated', 'human-produced', 'machine-generated', 'human-produced', 'human-produced', 'human-produced', 'machine-generated', 'human-produced', 'machine-generated', 'human-produced', 'machine-generated', 'human-produced', 'machine-generated', 'human-produced', 'machine-generated', 'human-produced', 'human-produced', 'human-produced', 'machine-generated', 'human-produced', 'machine-generated', 'human-produced', 'human-produced', 'human-produced', 'machine-generated', 'human-produced', 'machine-generated', 'human-produced', 'human-produced', 'human-produced', 'human-produced', 'human-produced', 'machine-generated', 'human-produced', 'machine-generated', 'human-produced', 'human-produced', 'human-produced', 'machine-generated', 'human-produced', 'machine-generated', 'human-produced', 'human-produced', 'human-produced', 'human-produced', 'human-produced', 'machine-generated', 'human-produced', 'human-produced', 'human-produced', 'human-produced', 'human-produced', 'machine-generated', 'human-produced', 'machine-generated', 'human-produced', 'human-produced', 'human-produced', 'human-produced', 'human-produced', 'machine-generated', 'human-produced', 'human-produced', 'human-produced', 'machine-generated', 'human-produced', 'machine-generated', 'human-produced', 'machine-generated', 'human-produced', 'human-produced', 'human-produced', 'human-produced', 'human-produced', 'machine-generated', 'human-produced', 'human-produced', 'human-produced', 'human-produced', 'human-produced', 'machine-generated', 'human-produced', 'human-produced', 'human-produced', 'machine-generated', 'human-produced', 'human-produced', 'human-produced', 'human-produced', 'human-produced', 'machine-generated', 'human-produced', 'machine-generated', 'human-produced', 'human-produced', 'human-produced', 'human-produced', 'human-produced', 'machine-generated', 'human-produced', 'human-produced', 'human-produced', 'machine-generated', 'human-produced', 'human-produced', 'human-produced', 'human-produced', 'human-produced', 'human-produced', 'human-produced', 'machine-generated', 'human-produced', 'human-produced', 'human-produced', 'human-produced', 'human-produced', 'human-produced', 'human-produced', 'human-produced', 'human-produced', 'machine-generated', 'human-produced', 'human-produced', 'human-produced', 'machine-generated', 'human-produced', 'machine-generated', 'human-produced', 'machine-generated', 'human-produced', 'machine-generated', 'human-produced', 'machine-generated', 'human-produced', 'machine-generated', 'human-produced', 'human-produced', 'human-produced', 'machine-generated', 'human-produced', 'machine-generated', 'human-produced', 'machine-generated', 'human-produced', 'machine-generated', 'human-produced', 'human-produced', 'human-produced', 'human-produced', 'human-produced', 'human-produced', 'human-produced', 'machine-generated', 'human-produced', 'machine-generated', 'human-produced', 'human-produced', 'human-produced', 'machine-generated', 'human-produced', 'machine-generated', 'human-produced', 'human-produced', 'human-produced', 'machine-generated', 'human-produced', 'machine-generated', 'human-produced', 'machine-generated', 'human-produced', 'machine-generated', 'human-produced', 'human-produced', 'human-produced', 'human-produced', 'human-produced', 'machine-generated', 'human-produced', 'human-produced', 'human-produced', 'human-produced', 'human-produced', 'machine-generated', 'human-produced', 'machine-generated', 'human-produced', 'machine-generated', 'human-produced', 'machine-generated', 'human-produced', 'machine-generated', 'human-produced', 'human-produced', 'human-produced', 'machine-generated', 'human-produced', 'machine-generated', 'human-produced', 'machine-generated', 'human-produced', 'human-produced', 'human-produced', 'machine-generated', 'human-produced', 'machine-generated', 'human-produced', 'machine-generated', 'human-produced', 'human-produced', 'human-produced', 'machine-generated', 'human-produced', 'human-produced', 'human-produced', 'machine-generated', 'human-produced', 'human-produced', 'human-produced', 'machine-generated', 'human-produced', 'human-produced', 'human-produced', 'machine-generated', 'human-produced', 'human-produced', 'human-produced', 'human-produced', 'human-produced', 'human-produced', 'human-produced', 'machine-generated', 'human-produced', 'machine-generated', 'human-produced', 'machine-generated', 'human-produced', 'human-produced', 'human-produced', 'human-produced', 'human-produced', 'machine-generated', 'human-produced', 'machine-generated', 'human-produced', 'human-produced', 'human-produced', 'machine-generated', 'human-produced', 'human-produced', 'human-produced', 'machine-generated', 'human-produced', 'machine-generated', 'human-produced', 'human-produced', 'human-produced', 'machine-generated', 'human-produced', 'human-produced', 'human-produced', 'machine-generated', 'human-produced', 'human-produced', 'human-produced', 'human-produced', 'human-produced', 'machine-generated', 'human-produced', 'human-produced', 'human-produced', 'human-produced', 'human-produced', 'machine-generated', 'human-produced', 'human-produced', 'human-produced', 'machine-generated', 'human-produced', 'machine-generated', 'human-produced', 'human-produced', 'human-produced', 'human-produced', 'human-produced', 'human-produced', 'human-produced', 'machine-generated', 'human-produced', 'human-produced', 'human-produced', 'machine-generated', 'human-produced', 'machine-generated', 'human-produced', 'human-produced', 'human-produced', 'machine-generated', 'human-produced', 'machine-generated', 'human-produced', 'human-produced', 'human-produced', 'human-produced', 'human-produced', 'machine-generated', 'human-produced', 'human-produced', 'human-produced', 'machine-generated', 'human-produced', 'human-produced', 'human-produced', 'human-produced', 'human-produced', 'human-produced', 'human-produced', 'machine-generated', 'human-produced', 'machine-generated', 'human-produced', 'human-produced', 'human-produced', 'machine-generated', 'human-produced', 'machine-generated', 'human-produced', 'human-produced', 'human-produced', 'human-produced', 'human-produced', 'human-produced', 'human-produced', 'machine-generated', 'human-produced', 'machine-generated', 'human-produced', 'human-produced', 'human-produced', 'human-produced', 'human-produced', 'human-produced', 'human-produced', 'machine-generated', 'human-produced', 'machine-generated', 'human-produced', 'machine-generated', 'human-produced', 'human-produced', 'human-produced', 'machine-generated', 'human-produced', 'machine-generated', 'human-produced', 'machine-generated', 'human-produced', 'machine-generated', 'human-produced', 'human-produced', 'human-produced', 'machine-generated', 'human-produced', 'machine-generated', 'human-produced', 'machine-generated', 'human-produced', 'human-produced', 'human-produced', 'human-produced', 'human-produced', 'human-produced', 'human-produced', 'machine-generated', 'human-produced', 'human-produced', 'human-produced', 'machine-generated', 'human-produced', 'machine-generated', 'human-produced', 'machine-generated', 'human-produced', 'human-produced', 'human-produced', 'machine-generated', 'human-produced', 'machine-generated', 'human-produced', 'human-produced', 'human-produced', 'human-produced', 'human-produced', 'machine-generated', 'human-produced', 'human-produced', 'human-produced', 'machine-generated', 'human-produced', 'machine-generated', 'human-produced', 'machine-generated', 'human-produced', 'machine-generated', 'human-produced', 'machine-generated', 'human-produced', 'machine-generated', 'human-produced', 'human-produced', 'human-produced', 'machine-generated', 'human-produced', 'machine-generated', 'human-produced', 'machine-generated', 'human-produced', 'machine-generated', 'human-produced', 'machine-generated', 'human-produced', 'machine-generated', 'human-produced', 'human-produced', 'human-produced', 'human-produced', 'human-produced', 'machine-generated', 'human-produced', 'machine-generated', 'human-produced', 'human-produced', 'human-produced', 'machine-generated', 'human-produced', 'human-produced', 'human-produced', 'machine-generated', 'human-produced', 'human-produced', 'human-produced', 'machine-generated', 'human-produced', 'human-produced', 'human-produced', 'machine-generated', 'human-produced', 'machine-generated', 'human-produced', 'machine-generated', 'human-produced', 'machine-generated', 'human-produced', 'human-produced', 'human-produced', 'machine-generated', 'human-produced', 'machine-generated', 'human-produced', 'machine-generated', 'human-produced', 'human-produced', 'human-produced', 'machine-generated', 'human-produced', 'human-produced', 'human-produced', 'human-produced', 'human-produced', 'human-produced', 'human-produced', 'machine-generated', 'human-produced', 'machine-generated', 'machine-generated', 'machine-generated', 'human-produced', 'human-produced', 'human-produced', 'human-produced', 'human-produced', 'machine-generated', 'human-produced', 'human-produced', 'human-produced', 'human-produced', 'human-produced', 'human-produced', 'human-produced', 'machine-generated', 'human-produced', 'machine-generated', 'human-produced', 'human-produced', 'human-produced', 'human-produced', 'human-produced', 'machine-generated', 'human-produced', 'machine-generated', 'human-produced', 'machine-generated', 'human-produced', 'human-produced', 'human-produced', 'machine-generated', 'human-produced', 'machine-generated', 'human-produced', 'human-produced', 'human-produced', 'machine-generated', 'human-produced', 'human-produced', 'human-produced', 'human-produced', 'human-produced', 'machine-generated', 'human-produced', 'machine-generated', 'human-produced', 'machine-generated', 'human-produced', 'human-produced', 'human-produced', 'machine-generated', 'human-produced', 'human-produced', 'human-produced', 'human-produced', 'human-produced', 'machine-generated', 'human-produced', 'human-produced', 'human-produced', 'machine-generated', 'human-produced', 'human-produced', 'human-produced', 'machine-generated', 'human-produced', 'machine-generated', 'human-produced', 'human-produced', 'human-produced', 'machine-generated', 'human-produced', 'human-produced', 'human-produced', 'machine-generated', 'human-produced', 'machine-generated', 'human-produced', 'human-produced', 'human-produced', 'machine-generated', 'human-produced', 'machine-generated', 'human-produced', 'human-produced', 'human-produced', 'human-produced', 'human-produced', 'machine-generated', 'human-produced', 'human-produced', 'human-produced', 'human-produced', 'human-produced', 'machine-generated', 'human-produced', 'machine-generated', 'human-produced', 'human-produced', 'human-produced', 'machine-generated', 'human-produced', 'machine-generated', 'human-produced', 'machine-generated', 'human-produced', 'human-produced', 'human-produced', 'human-produced', 'human-produced', 'human-produced', 'human-produced', 'machine-generated', 'human-produced', 'machine-generated', 'human-produced', 'machine-generated', 'human-produced', 'human-produced', 'human-produced', 'human-produced', 'human-produced', 'machine-generated', 'human-produced', 'human-produced', 'human-produced', 'human-produced', 'human-produced', 'machine-generated', 'human-produced', 'machine-generated', 'human-produced', 'machine-generated', 'human-produced', 'human-produced', 'human-produced', 'human-produced', 'human-produced', 'machine-generated', 'human-produced', 'machine-generated', 'human-produced', 'human-produced', 'human-produced', 'human-produced', 'human-produced', 'human-produced', 'human-produced', 'human-produced', 'human-produced', 'machine-generated', 'human-produced', 'machine-generated', 'human-produced', 'machine-generated', 'human-produced', 'human-produced', 'human-produced', 'machine-generated', 'human-produced', 'human-produced', 'human-produced', 'machine-generated', 'human-produced', 'machine-generated', 'human-produced', 'machine-generated', 'human-produced', 'machine-generated', 'human-produced', 'machine-generated', 'human-produced', 'machine-generated', 'human-produced', 'machine-generated', 'human-produced', 'machine-generated', 'human-produced', 'machine-generated', 'human-produced', 'human-produced', 'human-produced', 'human-produced', 'human-produced', 'machine-generated', 'human-produced', 'machine-generated', 'human-produced', 'machine-generated', 'human-produced', 'human-produced', 'human-produced', 'machine-generated', 'human-produced', 'machine-generated', 'human-produced', 'human-produced', 'human-produced', 'machine-generated', 'human-produced', 'human-produced', 'human-produced', 'machine-generated', 'human-produced', 'human-produced', 'human-produced', 'machine-generated', 'human-produced', 'machine-generated', 'human-produced', 'machine-generated', 'human-produced', 'human-produced', 'human-produced', 'machine-generated', 'human-produced', 'machine-generated', 'human-produced', 'machine-generated', 'human-produced', 'human-produced', 'human-produced', 'human-produced', 'human-produced', 'machine-generated', 'human-produced', 'machine-generated', 'human-produced', 'human-produced', 'human-produced', 'human-produced', 'human-produced', 'human-produced', 'human-produced', 'machine-generated', 'human-produced', 'machine-generated', 'human-produced', 'machine-generated', 'human-produced', 'machine-generated', 'human-produced', 'machine-generated', 'human-produced', 'machine-generated', 'human-produced', 'human-produced', 'human-produced', 'human-produced', 'human-produced', 'machine-generated', 'human-produced', 'human-produced', 'human-produced', 'machine-generated', 'human-produced', 'machine-generated', 'human-produced', 'machine-generated', 'human-produced', 'machine-generated', 'human-produced', 'machine-generated', 'human-produced', 'human-produced', 'human-produced', 'human-produced', 'human-produced', 'machine-generated', 'human-produced', 'human-produced', 'human-produced', 'human-produced', 'human-produced', 'machine-generated', 'human-produced', 'machine-generated', 'human-produced', 'human-produced', 'human-produced', 'human-produced', 'human-produced', 'human-produced', 'human-produced', 'machine-generated', 'human-produced', 'human-produced', 'human-produced', 'human-produced', 'human-produced', 'human-produced', 'human-produced', 'machine-generated', 'human-produced', 'machine-generated', 'human-produced', 'machine-generated', 'human-produced', 'machine-generated', 'human-produced', 'machine-generated', 'human-produced', 'machine-generated', 'human-produced', 'machine-generated', 'human-produced', 'human-produced', 'human-produced', 'human-produced', 'human-produced', 'human-produced', 'human-produced', 'machine-generated', 'human-produced', 'human-produced', 'human-produced', 'human-produced', 'human-produced', 'human-produced', 'human-produced', 'machine-generated', 'human-produced', 'machine-generated', 'human-produced', 'human-produced', 'human-produced', 'machine-generated', 'human-produced', 'human-produced', 'human-produced', 'machine-generated', 'human-produced', 'machine-generated', 'human-produced', 'human-produced', 'human-produced', 'human-produced', 'human-produced', 'human-produced', 'human-produced', 'human-produced', 'human-produced', 'human-produced', 'human-produced', 'human-produced', 'human-produced', 'machine-generated', 'human-produced', 'machine-generated', 'human-produced', 'machine-generated', 'human-produced', 'human-produced', 'human-produced', 'human-produced', 'human-produced', 'machine-generated', 'human-produced', 'human-produced', 'human-produced', 'human-produced', 'human-produced', 'human-produced', 'human-produced', 'machine-generated', 'human-produced', 'human-produced', 'human-produced', 'human-produced', 'human-produced', 'machine-generated', 'human-produced', 'machine-generated', 'human-produced', 'human-produced', 'human-produced', 'human-produced', 'human-produced', 'human-produced', 'human-produced', 'machine-generated', 'human-produced', 'human-produced', 'human-produced', 'machine-generated', 'human-produced', 'machine-generated', 'human-produced', 'machine-generated', 'human-produced', 'machine-generated', 'human-produced', 'machine-generated', 'human-produced', 'machine-generated', 'human-produced', 'machine-generated', 'human-produced', 'machine-generated', 'human-produced', 'machine-generated', 'human-produced', 'human-produced', 'human-produced', 'machine-generated', 'human-produced', 'human-produced', 'human-produced', 'machine-generated', 'human-produced', 'human-produced', 'human-produced', 'machine-generated', 'human-produced', 'human-produced', 'human-produced', 'machine-generated', 'human-produced', 'human-produced', 'human-produced', 'human-produced', 'human-produced', 'machine-generated', 'human-produced', 'machine-generated', 'human-produced', 'machine-generated', 'human-produced', 'machine-generated', 'human-produced', 'machine-generated', 'human-produced', 'human-produced', 'human-produced', 'machine-generated', 'human-produced', 'machine-generated', 'human-produced', 'human-produced', 'human-produced', 'human-produced', 'human-produced', 'machine-generated', 'human-produced', 'machine-generated', 'human-produced', 'machine-generated', 'human-produced', 'human-produced', 'human-produced', 'machine-generated', 'human-produced', 'human-produced', 'human-produced', 'machine-generated', 'human-produced', 'machine-generated', 'human-produced', 'human-produced', 'human-produced', 'machine-generated', 'human-produced', 'human-produced', 'human-produced', 'human-produced', 'human-produced', 'human-produced', 'human-produced', 'machine-generated', 'human-produced', 'human-produced', 'human-produced', 'machine-generated', 'human-produced', 'machine-generated', 'human-produced', 'human-produced', 'human-produced', 'machine-generated', 'human-produced', 'machine-generated', 'human-produced', 'human-produced', 'human-produced', 'human-produced', 'human-produced', 'machine-generated', 'human-produced', 'machine-generated', 'human-produced', 'machine-generated', 'human-produced', 'machine-generated', 'human-produced', 'machine-generated', 'human-produced', 'machine-generated', 'human-produced', 'machine-generated', 'human-produced', 'machine-generated', 'human-produced', 'human-produced', 'human-produced', 'human-produced', 'human-produced', 'machine-generated', 'human-produced', 'human-produced', 'human-produced', 'human-produced', 'human-produced', 'machine-generated', 'human-produced', 'human-produced', 'human-produced', 'human-produced', 'human-produced', 'machine-generated', 'human-produced', 'human-produced', 'human-produced', 'human-produced', 'human-produced', 'human-produced', 'human-produced', 'human-produced', 'human-produced', 'human-produced', 'human-produced', 'human-produced', 'human-produced', 'human-produced', 'human-produced', 'machine-generated', 'human-produced', 'machine-generated', 'human-produced', 'machine-generated', 'human-produced', 'machine-generated', 'human-produced', 'machine-generated', 'human-produced', 'machine-generated', 'human-produced', 'machine-generated', 'human-produced', 'human-produced', 'human-produced', 'machine-generated', 'human-produced', 'human-produced', 'human-produced', 'human-produced', 'human-produced', 'human-produced', 'human-produced', 'human-produced', 'human-produced', 'human-produced', 'human-produced', 'machine-generated', 'human-produced', 'machine-generated', 'human-produced', 'machine-generated', 'human-produced', 'human-produced', 'human-produced', 'human-produced', 'human-produced', 'machine-generated', 'human-produced', 'human-produced', 'human-produced', 'machine-generated', 'human-produced', 'human-produced', 'human-produced', 'machine-generated', 'human-produced', 'human-produced', 'human-produced', 'machine-generated', 'human-produced', 'machine-generated', 'human-produced', 'machine-generated', 'human-produced', 'human-produced', 'human-produced', 'machine-generated', 'human-produced', 'machine-generated', 'human-produced', 'machine-generated', 'human-produced', 'human-produced', 'human-produced', 'machine-generated', 'human-produced', 'machine-generated', 'human-produced', 'machine-generated', 'human-produced', 'machine-generated', 'human-produced', 'machine-generated', 'human-produced', 'machine-generated', 'human-produced', 'human-produced', 'human-produced', 'human-produced', 'human-produced', 'machine-generated', 'human-produced', 'human-produced', 'human-produced', 'machine-generated', 'human-produced', 'machine-generated', 'human-produced', 'human-produced', 'human-produced', 'human-produced', 'human-produced', 'human-produced', 'human-produced', 'machine-generated', 'human-produced', 'machine-generated', 'human-produced', 'human-produced', 'human-produced', 'machine-generated', 'human-produced', 'machine-generated', 'human-produced', 'human-produced', 'human-produced', 'machine-generated', 'human-produced', 'machine-generated', 'human-produced', 'machine-generated', 'human-produced']\n"
          ]
        }
      ]
    },
    {
      "cell_type": "code",
      "source": [
        "true_labels = []\n",
        "for i in range(0, 600):\n",
        "    true_labels.append('machine-generated')\n",
        "    true_labels.append('human-produced')\n",
        "\n",
        "\n",
        "# Count occurrences of each label\n",
        "human_count = results.count('human-produced')\n",
        "machine_count = results.count('machine-generated')\n",
        "\n",
        "# Calculate total number of predictions\n",
        "total_predictions = len(results)\n",
        "\n",
        "\n",
        "import matplotlib.pyplot as plt\n",
        "from sklearn.metrics import confusion_matrix, accuracy_score, precision_score, recall_score\n",
        "from sklearn.preprocessing import LabelEncoder\n",
        "\n",
        "# Encode labels\n",
        "encoder = LabelEncoder()\n",
        "# Fit encoder with all possible labels\n",
        "all_labels = ['human-produced', 'machine-generated']\n",
        "encoder.fit(all_labels)\n",
        "true_labels_encoded = encoder.fit_transform(true_labels)\n",
        "predictions_encoded = encoder.transform(results)\n",
        "\n",
        "\n",
        "# Compute confusion matrix\n",
        "cm = confusion_matrix(true_labels_encoded, predictions_encoded)\n",
        "\n",
        "# Compute accuracy\n",
        "accuracy = accuracy_score(true_labels_encoded, predictions_encoded)\n",
        "print('The accuracy is', accuracy)\n",
        "# Compute precision\n",
        "precision = precision_score(true_labels_encoded, predictions_encoded, average='macro')\n",
        "print('The precision is', precision)\n",
        "# Compute recall\n",
        "recall = recall_score(true_labels_encoded, predictions_encoded, average='macro')\n",
        "print('The recall is', recall)\n",
        "\n",
        "# Plot confusion matrix\n",
        "plt.imshow(cm, interpolation='nearest', cmap=plt.cm.Blues)\n",
        "plt.title('Confusion Matrix')\n",
        "plt.colorbar()\n",
        "classes = encoder.classes_\n",
        "tick_marks = np.arange(len(classes))\n",
        "plt.xticks(tick_marks, classes, rotation=45)\n",
        "plt.yticks(tick_marks, classes)\n",
        "plt.xlabel('Predicted Label')\n",
        "plt.ylabel('True Label')\n",
        "\n",
        "for i in range(len(classes)):\n",
        "    for j in range(len(classes)):\n",
        "        plt.text(j, i, str(cm[i, j]), horizontalalignment=\"center\", color=\"white\" if cm[i, j] > cm.max() / 2. else \"black\")\n",
        "\n",
        "plt.show()\n",
        "\n"
      ],
      "metadata": {
        "colab": {
          "base_uri": "https://localhost:8080/",
          "height": 616
        },
        "id": "0kdkJ2ZzlZ-L",
        "outputId": "5e018891-5734-4bdb-a9b2-a549ad12010d"
      },
      "execution_count": 29,
      "outputs": [
        {
          "output_type": "stream",
          "name": "stdout",
          "text": [
            "The accuracy is 0.7825\n",
            "The precision is 0.847194958333191\n",
            "The recall is 0.7825\n"
          ]
        },
        {
          "output_type": "display_data",
          "data": {
            "text/plain": [
              "<Figure size 640x480 with 2 Axes>"
            ],
            "image/png": "[encoded data removed]"
          },
          "metadata": {}
        }
      ]
    },
    {
      "cell_type": "markdown",
      "source": [
        "##Testing Bloomz dataset"
      ],
      "metadata": {
        "id": "GO2ThPLLnjfA"
      }
    },
    {
      "cell_type": "code",
      "source": [
        "import json\n",
        "# Path to the JSONL file\n",
        "jsonl_path = \"/content/drive/MyDrive/Marcus_Project/removed_n/arxiv_bloomz_test.jsonl\"\n",
        "\n",
        "# Function to truncate or split machine_text to fit within max_length\n",
        "def truncate_or_split(text, max_length=512):\n",
        "    if len(text) <= max_length:\n",
        "        return [text]\n",
        "    else:\n",
        "        # Truncate the text to max_length\n",
        "        return [text[:max_length]]\n",
        "\n",
        "# Function to read JSONL file and classify texts\n",
        "def classify_texts(jsonl_path):\n",
        "    predictions = []\n",
        "    line_count = 0\n",
        "    count = 0\n",
        "    with open(jsonl_path, 'r') as file:\n",
        "        for line in file:\n",
        "            data = json.loads(line)\n",
        "            machine_text = data['machine_abstract']\n",
        "\n",
        "            # Truncate or split machine_text to fit within max_length\n",
        "            machine_text_segments = truncate_or_split(machine_text)\n",
        "\n",
        "            for segment in machine_text_segments:\n",
        "                # Classify each segment of machine_text\n",
        "                result = classifier(segment)\n",
        "                # Append the most confident prediction\n",
        "                predictions.append(result[0]['label'])\n",
        "\n",
        "            human_text = data['abstract']\n",
        "\n",
        "            # Truncate or split machine_text to fit within max_length\n",
        "            human_text_segments = truncate_or_split(human_text)\n",
        "\n",
        "            for segment in human_text_segments:\n",
        "                # Classify each segment of machine_text\n",
        "                result = classifier(segment)\n",
        "                # Append the most confident prediction\n",
        "                predictions.append(result[0]['label'])\n",
        "\n",
        "            line_count += 1\n",
        "            print(count, end=\" \")  # Print count without newline\n",
        "\n",
        "            #print(predictions)\n",
        "            count += 1\n",
        "    return predictions\n",
        "\n",
        "# Get predictions for the entries in the JSONL file\n",
        "results = classify_texts(jsonl_path)\n",
        "print(results)\n"
      ],
      "metadata": {
        "colab": {
          "base_uri": "https://localhost:8080/"
        },
        "id": "Wh-Kb4FGnajo",
        "outputId": "f7c32938-80ee-45bb-b3be-4d6bc8d1119c"
      },
      "execution_count": 30,
      "outputs": [
        {
          "output_type": "stream",
          "name": "stdout",
          "text": [
            "0 1 2 3 4 5 6 7 8 9 10 11 12 13 14 15 16 17 18 19 20 21 22 23 24 25 26 27 28 29 30 31 32 33 34 35 36 37 38 39 40 41 42 43 44 45 46 47 48 49 50 51 52 53 54 55 56 57 58 59 60 61 62 63 64 65 66 67 68 69 70 71 72 73 74 75 76 77 78 79 80 81 82 83 84 85 86 87 88 89 90 91 92 93 94 95 96 97 98 99 100 101 102 103 104 105 106 107 108 109 110 111 112 113 114 115 116 117 118 119 120 121 122 123 124 125 126 127 128 129 130 131 132 133 134 135 136 137 138 139 140 141 142 143 144 145 146 147 148 149 150 151 152 153 154 155 156 157 158 159 160 161 162 163 164 165 166 167 168 169 170 171 172 173 174 175 176 177 178 179 180 181 182 183 184 185 186 187 188 189 190 191 192 193 194 195 196 197 198 199 200 201 202 203 204 205 206 207 208 209 210 211 212 213 214 215 216 217 218 219 220 221 222 223 224 225 226 227 228 229 230 231 232 233 234 235 236 237 238 239 240 241 242 243 244 245 246 247 248 249 250 251 252 253 254 255 256 257 258 259 260 261 262 263 264 265 266 267 268 269 270 271 272 273 274 275 276 277 278 279 280 281 282 283 284 285 286 287 288 289 290 291 292 293 294 295 296 297 298 299 300 301 302 303 304 305 306 307 308 309 310 311 312 313 314 315 316 317 318 319 320 321 322 323 324 325 326 327 328 329 330 331 332 333 334 335 336 337 338 339 340 341 342 343 344 345 346 347 348 349 350 351 352 353 354 355 356 357 358 359 360 361 362 363 364 365 366 367 368 369 370 371 372 373 374 375 376 377 378 379 380 381 382 383 384 385 386 387 388 389 390 391 392 393 394 395 396 397 398 399 400 401 402 403 404 405 406 407 408 409 410 411 412 413 414 415 416 417 418 419 420 421 422 423 424 425 426 427 428 429 430 431 432 433 434 435 436 437 438 439 440 441 442 443 444 445 446 447 448 449 450 451 452 453 454 455 456 457 458 459 460 461 462 463 464 465 466 467 468 469 470 471 472 473 474 475 476 477 478 479 480 481 482 483 484 485 486 487 488 489 490 491 492 493 494 495 496 497 498 499 500 501 502 503 504 505 506 507 508 509 510 511 512 513 514 515 516 517 518 519 520 521 522 523 524 525 526 527 528 529 530 531 532 533 534 535 536 537 538 539 540 541 542 543 544 545 546 547 548 549 550 551 552 553 554 555 556 557 558 559 560 561 562 563 564 565 566 567 568 569 570 571 572 573 574 575 576 577 578 579 580 581 582 583 584 585 586 587 588 589 590 591 592 593 594 595 596 597 598 599 ['human-produced', 'human-produced', 'human-produced', 'human-produced', 'human-produced', 'human-produced', 'human-produced', 'human-produced', 'human-produced', 'human-produced', 'human-produced', 'human-produced', 'human-produced', 'human-produced', 'human-produced', 'human-produced', 'human-produced', 'human-produced', 'human-produced', 'human-produced', 'human-produced', 'human-produced', 'human-produced', 'human-produced', 'human-produced', 'human-produced', 'human-produced', 'human-produced', 'human-produced', 'human-produced', 'human-produced', 'human-produced', 'human-produced', 'human-produced', 'human-produced', 'human-produced', 'human-produced', 'human-produced', 'human-produced', 'human-produced', 'human-produced', 'human-produced', 'human-produced', 'human-produced', 'human-produced', 'human-produced', 'human-produced', 'human-produced', 'human-produced', 'human-produced', 'human-produced', 'human-produced', 'human-produced', 'human-produced', 'human-produced', 'human-produced', 'human-produced', 'human-produced', 'human-produced', 'human-produced', 'human-produced', 'human-produced', 'human-produced', 'human-produced', 'human-produced', 'human-produced', 'human-produced', 'human-produced', 'human-produced', 'human-produced', 'human-produced', 'human-produced', 'human-produced', 'human-produced', 'human-produced', 'human-produced', 'human-produced', 'human-produced', 'human-produced', 'human-produced', 'human-produced', 'human-produced', 'human-produced', 'human-produced', 'human-produced', 'human-produced', 'human-produced', 'human-produced', 'human-produced', 'human-produced', 'human-produced', 'human-produced', 'human-produced', 'human-produced', 'human-produced', 'human-produced', 'human-produced', 'human-produced', 'human-produced', 'human-produced', 'human-produced', 'human-produced', 'human-produced', 'human-produced', 'human-produced', 'human-produced', 'human-produced', 'human-produced', 'human-produced', 'human-produced', 'machine-generated', 'human-produced', 'human-produced', 'human-produced', 'human-produced', 'human-produced', 'human-produced', 'human-produced', 'human-produced', 'human-produced', 'human-produced', 'human-produced', 'human-produced', 'human-produced', 'human-produced', 'human-produced', 'human-produced', 'human-produced', 'human-produced', 'human-produced', 'human-produced', 'human-produced', 'human-produced', 'human-produced', 'human-produced', 'human-produced', 'human-produced', 'human-produced', 'human-produced', 'human-produced', 'human-produced', 'human-produced', 'human-produced', 'human-produced', 'human-produced', 'human-produced', 'human-produced', 'human-produced', 'human-produced', 'human-produced', 'human-produced', 'human-produced', 'human-produced', 'human-produced', 'human-produced', 'human-produced', 'human-produced', 'human-produced', 'human-produced', 'human-produced', 'human-produced', 'human-produced', 'human-produced', 'human-produced', 'human-produced', 'human-produced', 'human-produced', 'human-produced', 'human-produced', 'human-produced', 'human-produced', 'human-produced', 'human-produced', 'human-produced', 'human-produced', 'human-produced', 'human-produced', 'human-produced', 'human-produced', 'human-produced', 'human-produced', 'human-produced', 'human-produced', 'human-produced', 'human-produced', 'human-produced', 'human-produced', 'human-produced', 'human-produced', 'human-produced', 'human-produced', 'human-produced', 'human-produced', 'human-produced', 'human-produced', 'human-produced', 'human-produced', 'human-produced', 'human-produced', 'human-produced', 'human-produced', 'human-produced', 'human-produced', 'human-produced', 'human-produced', 'human-produced', 'human-produced', 'human-produced', 'human-produced', 'human-produced', 'human-produced', 'human-produced', 'human-produced', 'human-produced', 'human-produced', 'human-produced', 'human-produced', 'human-produced', 'human-produced', 'human-produced', 'human-produced', 'human-produced', 'human-produced', 'human-produced', 'human-produced', 'human-produced', 'human-produced', 'human-produced', 'human-produced', 'human-produced', 'human-produced', 'human-produced', 'human-produced', 'human-produced', 'human-produced', 'human-produced', 'human-produced', 'human-produced', 'human-produced', 'human-produced', 'human-produced', 'human-produced', 'human-produced', 'human-produced', 'human-produced', 'human-produced', 'human-produced', 'human-produced', 'human-produced', 'human-produced', 'human-produced', 'human-produced', 'human-produced', 'human-produced', 'human-produced', 'human-produced', 'human-produced', 'human-produced', 'human-produced', 'human-produced', 'human-produced', 'human-produced', 'human-produced', 'human-produced', 'human-produced', 'human-produced', 'human-produced', 'human-produced', 'human-produced', 'human-produced', 'human-produced', 'human-produced', 'human-produced', 'human-produced', 'human-produced', 'human-produced', 'human-produced', 'human-produced', 'human-produced', 'human-produced', 'human-produced', 'human-produced', 'human-produced', 'human-produced', 'human-produced', 'human-produced', 'human-produced', 'human-produced', 'human-produced', 'human-produced', 'human-produced', 'human-produced', 'human-produced', 'human-produced', 'human-produced', 'human-produced', 'human-produced', 'human-produced', 'human-produced', 'human-produced', 'human-produced', 'human-produced', 'human-produced', 'human-produced', 'human-produced', 'human-produced', 'human-produced', 'human-produced', 'human-produced', 'human-produced', 'human-produced', 'human-produced', 'human-produced', 'human-produced', 'human-produced', 'human-produced', 'human-produced', 'human-produced', 'human-produced', 'human-produced', 'human-produced', 'human-produced', 'human-produced', 'human-produced', 'human-produced', 'human-produced', 'human-produced', 'human-produced', 'human-produced', 'human-produced', 'human-produced', 'human-produced', 'human-produced', 'human-produced', 'human-produced', 'human-produced', 'human-produced', 'human-produced', 'human-produced', 'human-produced', 'human-produced', 'human-produced', 'human-produced', 'human-produced', 'human-produced', 'human-produced', 'human-produced', 'human-produced', 'human-produced', 'human-produced', 'human-produced', 'human-produced', 'human-produced', 'human-produced', 'human-produced', 'human-produced', 'human-produced', 'human-produced', 'human-produced', 'human-produced', 'human-produced', 'human-produced', 'human-produced', 'human-produced', 'human-produced', 'human-produced', 'human-produced', 'human-produced', 'human-produced', 'human-produced', 'human-produced', 'human-produced', 'human-produced', 'human-produced', 'human-produced', 'human-produced', 'human-produced', 'human-produced', 'human-produced', 'human-produced', 'human-produced', 'human-produced', 'human-produced', 'human-produced', 'human-produced', 'human-produced', 'human-produced', 'human-produced', 'human-produced', 'human-produced', 'human-produced', 'human-produced', 'human-produced', 'human-produced', 'human-produced', 'human-produced', 'human-produced', 'human-produced', 'human-produced', 'human-produced', 'human-produced', 'human-produced', 'human-produced', 'human-produced', 'human-produced', 'human-produced', 'human-produced', 'human-produced', 'human-produced', 'human-produced', 'human-produced', 'human-produced', 'human-produced', 'human-produced', 'human-produced', 'human-produced', 'human-produced', 'human-produced', 'human-produced', 'human-produced', 'human-produced', 'human-produced', 'human-produced', 'human-produced', 'human-produced', 'human-produced', 'human-produced', 'human-produced', 'human-produced', 'human-produced', 'human-produced', 'human-produced', 'human-produced', 'human-produced', 'human-produced', 'human-produced', 'human-produced', 'human-produced', 'human-produced', 'human-produced', 'human-produced', 'human-produced', 'human-produced', 'human-produced', 'human-produced', 'human-produced', 'human-produced', 'human-produced', 'human-produced', 'human-produced', 'human-produced', 'human-produced', 'human-produced', 'human-produced', 'human-produced', 'human-produced', 'human-produced', 'human-produced', 'human-produced', 'human-produced', 'human-produced', 'human-produced', 'human-produced', 'human-produced', 'human-produced', 'human-produced', 'human-produced', 'human-produced', 'human-produced', 'human-produced', 'machine-generated', 'human-produced', 'human-produced', 'human-produced', 'human-produced', 'human-produced', 'human-produced', 'human-produced', 'human-produced', 'human-produced', 'human-produced', 'human-produced', 'human-produced', 'human-produced', 'human-produced', 'human-produced', 'human-produced', 'human-produced', 'human-produced', 'human-produced', 'human-produced', 'human-produced', 'human-produced', 'human-produced', 'human-produced', 'human-produced', 'human-produced', 'human-produced', 'human-produced', 'human-produced', 'human-produced', 'human-produced', 'human-produced', 'human-produced', 'human-produced', 'human-produced', 'human-produced', 'human-produced', 'human-produced', 'human-produced', 'machine-generated', 'human-produced', 'human-produced', 'human-produced', 'human-produced', 'human-produced', 'human-produced', 'human-produced', 'human-produced', 'human-produced', 'human-produced', 'human-produced', 'human-produced', 'human-produced', 'human-produced', 'human-produced', 'human-produced', 'human-produced', 'human-produced', 'human-produced', 'human-produced', 'human-produced', 'human-produced', 'human-produced', 'human-produced', 'human-produced', 'human-produced', 'human-produced', 'human-produced', 'human-produced', 'human-produced', 'human-produced', 'human-produced', 'human-produced', 'human-produced', 'human-produced', 'human-produced', 'human-produced', 'human-produced', 'human-produced', 'human-produced', 'machine-generated', 'human-produced', 'human-produced', 'human-produced', 'human-produced', 'human-produced', 'human-produced', 'human-produced', 'human-produced', 'human-produced', 'human-produced', 'human-produced', 'human-produced', 'human-produced', 'human-produced', 'human-produced', 'human-produced', 'human-produced', 'human-produced', 'human-produced', 'human-produced', 'human-produced', 'human-produced', 'human-produced', 'human-produced', 'human-produced', 'human-produced', 'human-produced', 'human-produced', 'human-produced', 'human-produced', 'human-produced', 'human-produced', 'human-produced', 'human-produced', 'human-produced', 'human-produced', 'human-produced', 'human-produced', 'human-produced', 'human-produced', 'human-produced', 'human-produced', 'human-produced', 'human-produced', 'human-produced', 'human-produced', 'human-produced', 'human-produced', 'human-produced', 'human-produced', 'human-produced', 'human-produced', 'human-produced', 'human-produced', 'human-produced', 'human-produced', 'human-produced', 'human-produced', 'human-produced', 'human-produced', 'human-produced', 'human-produced', 'human-produced', 'human-produced', 'human-produced', 'human-produced', 'human-produced', 'human-produced', 'human-produced', 'human-produced', 'human-produced', 'human-produced', 'human-produced', 'human-produced', 'human-produced', 'human-produced', 'human-produced', 'human-produced', 'human-produced', 'human-produced', 'human-produced', 'human-produced', 'human-produced', 'human-produced', 'human-produced', 'human-produced', 'human-produced', 'human-produced', 'human-produced', 'human-produced', 'human-produced', 'human-produced', 'human-produced', 'human-produced', 'human-produced', 'human-produced', 'human-produced', 'human-produced', 'human-produced', 'human-produced', 'machine-generated', 'human-produced', 'human-produced', 'human-produced', 'human-produced', 'human-produced', 'human-produced', 'human-produced', 'human-produced', 'human-produced', 'human-produced', 'human-produced', 'human-produced', 'human-produced', 'human-produced', 'human-produced', 'human-produced', 'human-produced', 'human-produced', 'human-produced', 'human-produced', 'human-produced', 'human-produced', 'human-produced', 'human-produced', 'human-produced', 'machine-generated', 'human-produced', 'human-produced', 'human-produced', 'human-produced', 'human-produced', 'human-produced', 'human-produced', 'human-produced', 'human-produced', 'human-produced', 'human-produced', 'human-produced', 'human-produced', 'human-produced', 'human-produced', 'human-produced', 'human-produced', 'human-produced', 'human-produced', 'human-produced', 'human-produced', 'human-produced', 'human-produced', 'human-produced', 'human-produced', 'human-produced', 'human-produced', 'human-produced', 'human-produced', 'human-produced', 'human-produced', 'human-produced', 'human-produced', 'human-produced', 'human-produced', 'human-produced', 'human-produced', 'human-produced', 'human-produced', 'human-produced', 'human-produced', 'human-produced', 'human-produced', 'human-produced', 'human-produced', 'human-produced', 'human-produced', 'human-produced', 'human-produced', 'human-produced', 'human-produced', 'human-produced', 'human-produced', 'human-produced', 'human-produced', 'human-produced', 'human-produced', 'human-produced', 'human-produced', 'human-produced', 'human-produced', 'human-produced', 'human-produced', 'human-produced', 'human-produced', 'human-produced', 'human-produced', 'human-produced', 'human-produced', 'human-produced', 'human-produced', 'human-produced', 'human-produced', 'human-produced', 'human-produced', 'human-produced', 'human-produced', 'human-produced', 'human-produced', 'human-produced', 'human-produced', 'human-produced', 'human-produced', 'human-produced', 'human-produced', 'human-produced', 'human-produced', 'human-produced', 'human-produced', 'human-produced', 'human-produced', 'human-produced', 'human-produced', 'human-produced', 'human-produced', 'human-produced', 'human-produced', 'human-produced', 'human-produced', 'human-produced', 'human-produced', 'human-produced', 'human-produced', 'human-produced', 'human-produced', 'human-produced', 'human-produced', 'human-produced', 'human-produced', 'human-produced', 'human-produced', 'human-produced', 'human-produced', 'human-produced', 'human-produced', 'human-produced', 'human-produced', 'human-produced', 'human-produced', 'human-produced', 'human-produced', 'human-produced', 'human-produced', 'human-produced', 'human-produced', 'human-produced', 'human-produced', 'human-produced', 'human-produced', 'human-produced', 'human-produced', 'human-produced', 'human-produced', 'human-produced', 'human-produced', 'human-produced', 'human-produced', 'human-produced', 'human-produced', 'human-produced', 'human-produced', 'human-produced', 'human-produced', 'human-produced', 'human-produced', 'human-produced', 'human-produced', 'human-produced', 'human-produced', 'human-produced', 'human-produced', 'human-produced', 'human-produced', 'human-produced', 'human-produced', 'human-produced', 'human-produced', 'human-produced', 'human-produced', 'human-produced', 'human-produced', 'human-produced', 'human-produced', 'human-produced', 'human-produced', 'human-produced', 'human-produced', 'human-produced', 'human-produced', 'human-produced', 'human-produced', 'human-produced', 'human-produced', 'human-produced', 'human-produced', 'human-produced', 'human-produced', 'human-produced', 'human-produced', 'human-produced', 'human-produced', 'human-produced', 'human-produced', 'human-produced', 'human-produced', 'human-produced', 'human-produced', 'human-produced', 'human-produced', 'human-produced', 'human-produced', 'machine-generated', 'human-produced', 'human-produced', 'human-produced', 'human-produced', 'human-produced', 'machine-generated', 'human-produced', 'human-produced', 'human-produced', 'human-produced', 'human-produced', 'human-produced', 'human-produced', 'human-produced', 'human-produced', 'human-produced', 'human-produced', 'human-produced', 'human-produced', 'human-produced', 'human-produced', 'human-produced', 'human-produced', 'human-produced', 'human-produced', 'human-produced', 'human-produced', 'human-produced', 'human-produced', 'human-produced', 'human-produced', 'human-produced', 'human-produced', 'human-produced', 'human-produced', 'human-produced', 'human-produced', 'human-produced', 'human-produced', 'human-produced', 'human-produced', 'human-produced', 'human-produced', 'human-produced', 'human-produced', 'human-produced', 'human-produced', 'human-produced', 'human-produced', 'human-produced', 'human-produced', 'human-produced', 'human-produced', 'human-produced', 'human-produced', 'human-produced', 'human-produced', 'human-produced', 'human-produced', 'human-produced', 'human-produced', 'human-produced', 'human-produced', 'human-produced', 'human-produced', 'human-produced', 'human-produced', 'human-produced', 'human-produced', 'human-produced', 'human-produced', 'human-produced', 'human-produced', 'human-produced', 'human-produced', 'human-produced', 'human-produced', 'human-produced', 'human-produced', 'human-produced', 'human-produced', 'human-produced', 'human-produced', 'human-produced', 'human-produced', 'human-produced', 'human-produced', 'human-produced', 'human-produced', 'human-produced', 'human-produced', 'human-produced', 'human-produced', 'human-produced', 'human-produced', 'human-produced', 'human-produced', 'human-produced', 'human-produced', 'human-produced', 'human-produced', 'human-produced', 'human-produced', 'human-produced', 'human-produced', 'human-produced', 'human-produced', 'human-produced', 'human-produced', 'human-produced', 'human-produced', 'human-produced', 'human-produced', 'human-produced', 'human-produced', 'human-produced', 'human-produced', 'human-produced', 'human-produced', 'human-produced', 'human-produced', 'human-produced', 'human-produced', 'human-produced', 'human-produced', 'human-produced', 'human-produced', 'human-produced', 'human-produced', 'human-produced', 'human-produced', 'human-produced', 'human-produced', 'human-produced', 'human-produced', 'human-produced', 'human-produced', 'human-produced', 'human-produced', 'human-produced', 'human-produced', 'human-produced', 'human-produced', 'human-produced', 'human-produced', 'human-produced', 'human-produced', 'human-produced', 'human-produced', 'human-produced', 'human-produced', 'human-produced', 'human-produced', 'human-produced', 'human-produced', 'human-produced', 'human-produced', 'human-produced', 'human-produced', 'human-produced', 'human-produced', 'human-produced', 'human-produced', 'human-produced', 'human-produced', 'human-produced', 'human-produced', 'human-produced', 'human-produced', 'human-produced', 'human-produced', 'human-produced', 'human-produced', 'human-produced', 'human-produced', 'human-produced', 'human-produced', 'human-produced', 'human-produced', 'human-produced', 'human-produced', 'human-produced', 'human-produced', 'human-produced', 'human-produced', 'human-produced', 'human-produced', 'human-produced', 'human-produced', 'human-produced', 'human-produced', 'human-produced', 'human-produced', 'human-produced', 'human-produced', 'human-produced', 'human-produced', 'human-produced', 'human-produced', 'human-produced', 'human-produced', 'human-produced', 'human-produced', 'human-produced', 'human-produced', 'human-produced', 'human-produced', 'human-produced', 'human-produced', 'human-produced', 'human-produced', 'human-produced', 'human-produced', 'human-produced', 'human-produced', 'human-produced', 'human-produced', 'human-produced', 'human-produced', 'human-produced', 'human-produced', 'human-produced', 'human-produced', 'human-produced', 'human-produced', 'human-produced', 'human-produced', 'human-produced', 'human-produced', 'human-produced', 'human-produced', 'human-produced', 'human-produced', 'human-produced', 'human-produced', 'human-produced', 'human-produced', 'human-produced', 'human-produced', 'human-produced', 'human-produced', 'human-produced', 'human-produced', 'human-produced', 'human-produced', 'human-produced', 'human-produced', 'human-produced', 'human-produced', 'human-produced', 'human-produced', 'human-produced', 'human-produced', 'human-produced', 'human-produced', 'human-produced', 'human-produced', 'human-produced', 'human-produced', 'human-produced', 'human-produced', 'human-produced', 'human-produced', 'human-produced', 'human-produced', 'human-produced', 'human-produced', 'human-produced', 'human-produced', 'human-produced', 'human-produced', 'human-produced', 'human-produced', 'human-produced', 'human-produced', 'human-produced', 'human-produced', 'human-produced', 'human-produced', 'human-produced', 'human-produced', 'human-produced', 'human-produced', 'human-produced', 'human-produced', 'human-produced', 'human-produced', 'human-produced', 'human-produced', 'human-produced', 'human-produced', 'human-produced', 'human-produced', 'human-produced', 'human-produced', 'human-produced', 'human-produced', 'human-produced', 'human-produced', 'human-produced', 'human-produced', 'human-produced', 'human-produced', 'human-produced', 'human-produced', 'human-produced', 'human-produced', 'human-produced', 'human-produced', 'human-produced', 'human-produced', 'human-produced', 'human-produced', 'human-produced', 'human-produced', 'human-produced', 'human-produced', 'human-produced', 'human-produced', 'human-produced', 'human-produced', 'human-produced', 'human-produced', 'human-produced', 'human-produced', 'human-produced', 'human-produced', 'human-produced', 'human-produced']\n"
          ]
        }
      ]
    },
    {
      "cell_type": "code",
      "source": [
        "true_labels = []\n",
        "for i in range(0, 600):\n",
        "    true_labels.append('machine-generated')\n",
        "    true_labels.append('human-produced')\n",
        "\n",
        "\n",
        "# Count occurrences of each label\n",
        "human_count = results.count('human-produced')\n",
        "machine_count = results.count('machine-generated')\n",
        "\n",
        "# Calculate total number of predictions\n",
        "total_predictions = len(results)\n",
        "\n",
        "\n",
        "import matplotlib.pyplot as plt\n",
        "from sklearn.metrics import confusion_matrix, accuracy_score, precision_score, recall_score\n",
        "from sklearn.preprocessing import LabelEncoder\n",
        "\n",
        "# Encode labels\n",
        "encoder = LabelEncoder()\n",
        "# Fit encoder with all possible labels\n",
        "all_labels = ['human-produced', 'machine-generated']\n",
        "encoder.fit(all_labels)\n",
        "true_labels_encoded = encoder.fit_transform(true_labels)\n",
        "predictions_encoded = encoder.transform(results)\n",
        "\n",
        "\n",
        "# Compute confusion matrix\n",
        "cm = confusion_matrix(true_labels_encoded, predictions_encoded)\n",
        "\n",
        "# Compute accuracy\n",
        "accuracy = accuracy_score(true_labels_encoded, predictions_encoded)\n",
        "print('The accuracy is', accuracy)\n",
        "# Compute precision\n",
        "precision = precision_score(true_labels_encoded, predictions_encoded, average='macro')\n",
        "print('The precision is', precision)\n",
        "# Compute recall\n",
        "recall = recall_score(true_labels_encoded, predictions_encoded, average='macro')\n",
        "print('The recall is', recall)\n",
        "\n",
        "# Plot confusion matrix\n",
        "plt.imshow(cm, interpolation='nearest', cmap=plt.cm.Blues)\n",
        "plt.title('Confusion Matrix')\n",
        "plt.colorbar()\n",
        "classes = encoder.classes_\n",
        "tick_marks = np.arange(len(classes))\n",
        "plt.xticks(tick_marks, classes, rotation=45)\n",
        "plt.yticks(tick_marks, classes)\n",
        "plt.xlabel('Predicted Label')\n",
        "plt.ylabel('True Label')\n",
        "\n",
        "for i in range(len(classes)):\n",
        "    for j in range(len(classes)):\n",
        "        plt.text(j, i, str(cm[i, j]), horizontalalignment=\"center\", color=\"white\" if cm[i, j] > cm.max() / 2. else \"black\")\n",
        "\n",
        "plt.show()\n",
        "\n"
      ],
      "metadata": {
        "colab": {
          "base_uri": "https://localhost:8080/",
          "height": 616
        },
        "id": "ObHGV7Vzny4C",
        "outputId": "143a1157-f547-4c34-8d73-b9546037a922"
      },
      "execution_count": 31,
      "outputs": [
        {
          "output_type": "stream",
          "name": "stdout",
          "text": [
            "The accuracy is 0.505\n",
            "The precision is 0.688758389261745\n",
            "The recall is 0.505\n"
          ]
        },
        {
          "output_type": "display_data",
          "data": {
            "text/plain": [
              "<Figure size 640x480 with 2 Axes>"
            ],
            "image/png": "[encoded data removed]"
          },
          "metadata": {}
        }
      ]
    }
  ]
}