{
 "cells": [
  {
   "cell_type": "code",
   "execution_count": 1,
   "metadata": {},
   "outputs": [
    {
     "name": "stdout",
     "output_type": "stream",
     "text": [
      "{'a_word_ps': 8.0, 'a_kup_pw': 5.754, 'n_noun': 2}\n"
     ]
    }
   ],
   "source": [
    "import spacy\n",
    "import lftk\n",
    "\n",
    "# load a trained pipeline of your choice from spacy\n",
    "# remember we already downloaed \"en_core_web_sm\" pipeline above?\n",
    "nlp = spacy.load(\"en_core_web_sm\")\n",
    "\n",
    "# create a spaCy doc object\n",
    "doc = nlp(\"I love research but my professor is strange.\")\n",
    "\n",
    "# initiate LFTK extractor by passing in doc\n",
    "# you can pass in a list of multiple docs\n",
    "LFTK = lftk.Extractor(docs = doc)\n",
    "\n",
    "# optionally, you can customize how LFTK extractor calculates handcrafted linguistic features\n",
    "# for example, include stop word? include puncutaion? maximum decimal digits?\n",
    "LFTK.customize(stop_words=True, punctuations=False, round_decimal=3)\n",
    "\n",
    "# now, extract the handcrafted linguistic features that you need\n",
    "# refer to them as feature keys\n",
    "extracted_features = LFTK.extract(features = [\"a_word_ps\", \"a_kup_pw\", \"n_noun\"])\n",
    "\n",
    "# {'a_word_ps': 8.0, 'a_kup_pw': 5.754, 'n_noun': 2}\n",
    "print(extracted_features)"
   ]
  }
 ],
 "metadata": {
  "kernelspec": {
   "display_name": "Python 3",
   "language": "python",
   "name": "python3"
  },
  "language_info": {
   "codemirror_mode": {
    "name": "ipython",
    "version": 3
   },
   "file_extension": ".py",
   "mimetype": "text/x-python",
   "name": "python",
   "nbconvert_exporter": "python",
   "pygments_lexer": "ipython3",
   "version": "3.10.8"
  },
  "orig_nbformat": 4
 },
 "nbformat": 4,
 "nbformat_minor": 2
}
