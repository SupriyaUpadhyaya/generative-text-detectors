{
  "cells": [
    {
      "cell_type": "markdown",
      "metadata": {
        "id": "K21ttFb7ZMzF"
      },
      "source": [
        "# M4 chatGPT - 20 Features"
      ]
    },
    {
      "cell_type": "code",
      "execution_count": 24,
      "metadata": {},
      "outputs": [
        {
          "name": "stdout",
          "output_type": "stream",
          "text": [
            "Requirement already satisfied: xgboost in /Library/Frameworks/Python.framework/Versions/3.10/lib/python3.10/site-packages (2.0.3)\n",
            "Requirement already satisfied: numpy in /Library/Frameworks/Python.framework/Versions/3.10/lib/python3.10/site-packages (from xgboost) (1.23.4)\n",
            "Requirement already satisfied: scipy in /Library/Frameworks/Python.framework/Versions/3.10/lib/python3.10/site-packages (from xgboost) (1.10.1)\n",
            "Note: you may need to restart the kernel to use updated packages.\n"
          ]
        }
      ],
      "source": [
        "pip install xgboost"
      ]
    },
    {
      "cell_type": "code",
      "execution_count": 2,
      "metadata": {
        "colab": {
          "base_uri": "https://localhost:8080/",
          "height": 35
        },
        "id": "uR0cbGtb1qxq",
        "outputId": "c0f42408-529e-49f5-f846-6fc45b1abd54"
      },
      "outputs": [],
      "source": [
        "import matplotlib.pyplot as plt\n",
        "from xgboost import XGBClassifier\n",
        "from sklearn.metrics import confusion_matrix\n",
        "from sklearn.metrics import accuracy_score\n",
        "import seaborn as sns"
      ]
    },
    {
      "cell_type": "code",
      "execution_count": 3,
      "metadata": {
        "colab": {
          "base_uri": "https://localhost:8080/",
          "height": 690
        },
        "id": "dZa69JhrunP5",
        "outputId": "ddf591c2-29eb-402f-acb4-686568473e14"
      },
      "outputs": [],
      "source": [
        "import pandas as pd\n",
        "import numpy as np\n",
        "\n",
        "def get_dataset(filepath):\n",
        "    df = pd.read_csv(filepath)\n",
        "    #print(df.head())\n",
        "    X_list = []\n",
        "    y_list = []\n",
        "    human = ['no_sentence_human', 'num_words_human', 'character0_human', 'character1_human', 'character2_3_human', 'character4_human', 'character5_human', 'std_dev_human', 'sent_len_diff_human', 'count_short_sentences_in_paragraphs_human', 'count_long_sentences_in_paragraphs_human', 'check_word0_human', 'check_word1_human', 'check_word2_3_human', 'check_word3_human', 'check_word4_human', 'check_word5_human', 'check_num_human', 'check_capitals_human', 'check_et_human']\n",
        "    machine = ['no_sentence_machine', 'num_words_machine', 'character0_machine', 'character1_machine', 'character2_3_machine', 'character4_machine', 'character5_machine', 'std_dev_machine', 'sent_len_diff_machine', 'count_short_sentences_in_paragraphs_machine', 'count_long_sentences_in_paragraphs_machine', 'check_word0_machine', 'check_word1_machine', 'check_word2_3_machine', 'check_word3_machine', 'check_word4_machine', 'check_word5_machine', 'check_num_machine', 'check_capitals_machine', 'check_et_machine']\n",
        "\n",
        "    df_human = df.loc[:, human]\n",
        "    df_human['class'] = 0\n",
        "    df_machine = df.loc[:, machine]\n",
        "    df_machine['class'] = 1\n",
        "\n",
        "    human = {'no_sentence_human': 'no_sentence', 'num_words_human': 'num_words', 'character0_human': 'character0', 'character1_human': 'character1', 'character2_3_human': 'character2_3', 'character4_human': 'character4', 'character5_human': 'character5', 'std_dev_human': 'std_dev', 'sent_len_diff_human': 'sent_len_diff', 'count_short_sentences_in_paragraphs_human': 'count_short_sentences_in_paragraphs', 'count_long_sentences_in_paragraphs_human': 'count_long_sentences_in_paragraphs', 'check_word0_human': 'check_word0', 'check_word1_human': 'check_word1', 'check_word2_3_human': 'check_word2_3', 'check_word3_human': 'check_word3', 'check_word4_human': 'check_word4', 'check_word5_human': 'check_word5', 'check_num_human': 'check_num', 'check_capitals_human': 'check_capitals', 'check_et_human': 'check_et'}\n",
        "    machine = {'no_sentence_machine': 'no_sentence', 'num_words_machine': 'num_words', 'character0_machine': 'character0', 'character1_machine': 'character1', 'character2_3_machine': 'character2_3', 'character4_machine': 'character4', 'character5_machine': 'character5', 'std_dev_machine': 'std_dev', 'sent_len_diff_machine': 'sent_len_diff', 'count_short_sentences_in_paragraphs_machine': 'count_short_sentences_in_paragraphs', 'count_long_sentences_in_paragraphs_machine': 'count_long_sentences_in_paragraphs', 'check_word0_machine': 'check_word0', 'check_word1_machine': 'check_word1', 'check_word2_3_machine': 'check_word2_3', 'check_word3_machine': 'check_word3', 'check_word4_machine': 'check_word4', 'check_word5_machine': 'check_word5', 'check_num_machine': 'check_num', 'check_capitals_machine': 'check_capitals', 'check_et_machine': 'check_et'}\n",
        "\n",
        "    df_human = df_human.rename(columns=human)\n",
        "    df_machine = df_machine.rename(columns=machine)\n",
        "\n",
        "    full_df = pd.concat([df_human, df_machine], ignore_index=True)\n",
        "    \n",
        "    for i in range(len(full_df.columns)-2):\n",
        "        for j in range(i,(len(full_df.columns)-2)):\n",
        "            X = full_df.iloc[:,[i,j+1]]\n",
        "            #print(X.head())\n",
        "            y = full_df.iloc[:,-1]\n",
        "            X_list.append(X)\n",
        "            y_list.append(y)\n",
        "\n",
        "    return X_list, y_list"
      ]
    },
    {
      "cell_type": "markdown",
      "metadata": {
        "id": "vsrqToqAZeVQ"
      },
      "source": [
        "# XGBoost classifier trained and tested on M4 chatGPT"
      ]
    },
    {
      "cell_type": "code",
      "execution_count": 4,
      "metadata": {
        "colab": {
          "base_uri": "https://localhost:8080/",
          "height": 1000
        },
        "id": "Pq2SPU2eGgLD",
        "outputId": "fc2ad270-76cd-4aa6-c5bf-6a0189528ad8"
      },
      "outputs": [],
      "source": [
        "def xgboost_train(X_train, y_train, X_val, y_val, X_test, y_test):\n",
        "    plt.figure(figsize=(10, 6))\n",
        "    lr = 0.01\n",
        "    weight = 4.5\n",
        "    evalset = [(X_train, y_train), (X_val,y_val)]\n",
        "    xgb_classifier = XGBClassifier(n_estimators=500,\n",
        "                                use_label_encoder=False,\n",
        "                                eval_metric=\"logloss\",\n",
        "                                early_stopping_rounds=5,\n",
        "                                n_jobs=-1,\n",
        "                                eta=lr,\n",
        "                                reg_lambda=1,\n",
        "                                min_child_weight=weight)\n",
        "    xgb_classifier.fit(X_train, y_train,\n",
        "                    eval_set=evalset,\n",
        "                    verbose=False)\n",
        "    results = xgb_classifier.evals_result()\n",
        "    yhat = xgb_classifier.predict(X_test)\n",
        "    score = accuracy_score(y_test, yhat)\n",
        "    print('Accuracy: %.3f' % score)\n",
        "    if score > 0.9:\n",
        "        plt.plot(results['validation_0']['logloss'], label='train')\n",
        "        plt.plot(results['validation_1']['logloss'], label='validation')\n",
        "        values = list(X_train.columns.values)\n",
        "        title = ' '.join(values)\n",
        "        plt.title('Loss vs. Epoch for ' + title )\n",
        "        plt.xlabel('Epoch')\n",
        "        plt.ylabel('Loss')\n",
        "        # show the legend\n",
        "        plt.legend()\n",
        "        # show the plot\n",
        "        plt.show()\n",
        "        performance_test(xgb_classifier, X_test, y_test)\n",
        "    return xgb_classifier, score"
      ]
    },
    {
      "cell_type": "code",
      "execution_count": 6,
      "metadata": {
        "colab": {
          "base_uri": "https://localhost:8080/",
          "height": 564
        },
        "id": "gyEWgURu9mVs",
        "outputId": "bc40c1e3-31e5-4f20-80ec-6027d1bf1b17"
      },
      "outputs": [],
      "source": [
        "def performance_test(xgb_classifier, X_test_list, y_test_list):\n",
        "    y_pred_list = []\n",
        "    y_pred = xgb_classifier.predict(X_test_list)\n",
        "    \n",
        "\n",
        "    # Compute confusion matrix\n",
        "    cm = confusion_matrix(y_test_list, y_pred)\n",
        "\n",
        "    # Plot confusion matrix using seaborn heatmap\n",
        "    plt.figure(figsize=(8, 6))\n",
        "    cmn = cm.astype('float') / cm.sum(axis=1)[:, np.newaxis]\n",
        "    sns.heatmap(cmn, annot=True, fmt='.2f', xticklabels=['Human', 'Machine'], yticklabels=['Human', 'Machine'])\n",
        "    plt.xlabel('Predicted')\n",
        "    plt.ylabel('True')\n",
        "    name = 'Confusion Matrix - ' + str(list(X_train[i].columns)) \n",
        "    plt.title(name)\n",
        "    plt.show(block=False)"
      ]
    },
    {
      "cell_type": "markdown",
      "metadata": {
        "id": "RAEHbGJCaENx"
      },
      "source": [
        "# Test on paraphrased chatGPT"
      ]
    },
    {
      "cell_type": "code",
      "execution_count": 5,
      "metadata": {
        "colab": {
          "base_uri": "https://localhost:8080/",
          "height": 564
        },
        "id": "weBRF2KwQjpN",
        "outputId": "6851da0c-0651-4e23-e23c-921a5d440f22"
      },
      "outputs": [],
      "source": [
        "def performance_chatgpt(xgb_classifier):\n",
        "    gpt_para_path = '/Users/supriyaupadhyaya/Library/Mobile Documents/com~apple~CloudDocs/OVGU/project-generative-text-detector/generative-text-detectors/feature-extractor/features/m4/arxiv_chatGPT_paraphrased_test_feature.csv'\n",
        "    X_gpt_para_list, y_gpt_para_list = get_dataset(gpt_para_path)\n",
        "    for i in range(len(X_gpt_para_list)):\n",
        "        y_pred = xgb_classifier[i].predict(X_gpt_para_list[i])\n",
        "\n",
        "        # Compute confusion matrix\n",
        "        cm = confusion_matrix(y_gpt_para_list[i], y_pred)\n",
        "\n",
        "        # Plot confusion matrix using seaborn heatmap\n",
        "        plt.figure(figsize=(8, 6))\n",
        "        cmn = cm.astype('float') / cm.sum(axis=1)[:, np.newaxis]\n",
        "        sns.heatmap(cmn, annot=True, fmt='.2f', xticklabels=['Human', 'Machine'], yticklabels=['Human', 'Machine'])\n",
        "        plt.xlabel('Predicted')\n",
        "        plt.ylabel('True')\n",
        "        plt.title('Confusion Matrix')\n",
        "        plt.show()"
      ]
    },
    {
      "cell_type": "markdown",
      "metadata": {
        "id": "6O1i0H6FaHTL"
      },
      "source": [
        "# Test on M4 Bloomz"
      ]
    },
    {
      "cell_type": "code",
      "execution_count": 7,
      "metadata": {
        "colab": {
          "base_uri": "https://localhost:8080/",
          "height": 564
        },
        "id": "APCbsSzxMrN-",
        "outputId": "0e1f33d7-f2a3-4c2f-d892-26b03e0827a2"
      },
      "outputs": [],
      "source": [
        "def performance_bloomz(xgb_classifier):\n",
        "    bloomz_path = '/Users/supriyaupadhyaya/Library/Mobile Documents/com~apple~CloudDocs/OVGU/project-generative-text-detector/generative-text-detectors/feature-extractor/features/m4/arxiv_bloomz_test_feature.csv'\n",
        "    X_bloomz_list, y_bloomz_list = get_dataset(bloomz_path)\n",
        "    for i in range(len(X_bloomz_list)):\n",
        "        y_pred = xgb_classifier[i].predict(X_bloomz_list[i])\n",
        "\n",
        "        # Compute confusion matrix\n",
        "        cm = confusion_matrix(y_bloomz_list[i], y_pred)\n",
        "\n",
        "        # Plot confusion matrix using seaborn heatmap\n",
        "        plt.figure(figsize=(8, 6))\n",
        "        cmn = cm.astype('float') / cm.sum(axis=1)[:, np.newaxis]\n",
        "        sns.heatmap(cmn, annot=True, fmt='.2f', xticklabels=['Human', 'Machine'], yticklabels=['Human', 'Machine'])\n",
        "        plt.xlabel('Predicted')\n",
        "        plt.ylabel('True')\n",
        "        plt.title('Confusion Matrix')\n",
        "        plt.show()"
      ]
    },
    {
      "cell_type": "markdown",
      "metadata": {},
      "source": [
        "## Test on cohere"
      ]
    },
    {
      "cell_type": "code",
      "execution_count": 8,
      "metadata": {},
      "outputs": [],
      "source": [
        "def performance_cohere(xgb_classifier):\n",
        "    path = '/Users/supriyaupadhyaya/Library/Mobile Documents/com~apple~CloudDocs/OVGU/project-generative-text-detector/generative-text-detectors/feature-extractor/features/m4/arxiv_cohere_test_feature.csv'\n",
        "    X_cohere_list, y_cohere_list= get_dataset(path)\n",
        "    for i in range(len(X_cohere_list)):\n",
        "        y_pred = xgb_classifier[i].predict(X_cohere_list[i])\n",
        "\n",
        "        # Compute confusion matrix\n",
        "        cm = confusion_matrix(y_cohere_list[i], y_pred)\n",
        "\n",
        "        # Plot confusion matrix using seaborn heatmap\n",
        "        plt.figure(figsize=(8, 6))\n",
        "        cmn = cm.astype('float') / cm.sum(axis=1)[:, np.newaxis]\n",
        "        sns.heatmap(cmn, annot=True, fmt='.2f', xticklabels=['Human', 'Machine'], yticklabels=['Human', 'Machine'])\n",
        "        plt.xlabel('Predicted')\n",
        "        plt.ylabel('True')\n",
        "        plt.title('Confusion Matrix')\n",
        "        plt.show()"
      ]
    },
    {
      "cell_type": "markdown",
      "metadata": {},
      "source": [
        "## Test on Davinci"
      ]
    },
    {
      "cell_type": "code",
      "execution_count": 9,
      "metadata": {},
      "outputs": [],
      "source": [
        "def performance_cohere(xgb_classifier):\n",
        "    path = '/Users/supriyaupadhyaya/Library/Mobile Documents/com~apple~CloudDocs/OVGU/project-generative-text-detector/generative-text-detectors/feature-extractor/features/m4/arxiv_davinci_test_feature.csv'\n",
        "    X_davinci_list, y_davinci_list= get_dataset(path)\n",
        "    for i in range(len(X_davinci_list)):\n",
        "\n",
        "        y_pred = xgb_classifier[i].predict(X_davinci_list[i])\n",
        "\n",
        "        # Compute confusion matrix\n",
        "        cm = confusion_matrix(y_davinci_list[i], y_pred)\n",
        "\n",
        "        # Plot confusion matrix using seaborn heatmap\n",
        "        plt.figure(figsize=(8, 6))\n",
        "        cmn = cm.astype('float') / cm.sum(axis=1)[:, np.newaxis]\n",
        "        sns.heatmap(cmn, annot=True, fmt='.2f', xticklabels=['Human', 'Machine'], yticklabels=['Human', 'Machine'])\n",
        "        plt.xlabel('Predicted')\n",
        "        plt.ylabel('True')\n",
        "        plt.title('Confusion Matrix')\n",
        "        plt.show()"
      ]
    },
    {
      "cell_type": "markdown",
      "metadata": {},
      "source": [
        "## Test on Flant5"
      ]
    },
    {
      "cell_type": "code",
      "execution_count": 10,
      "metadata": {},
      "outputs": [],
      "source": [
        "def performance_cohere(xgb_classifier):\n",
        "    path = '/Users/supriyaupadhyaya/Library/Mobile Documents/com~apple~CloudDocs/OVGU/project-generative-text-detector/generative-text-detectors/feature-extractor/features/m4/arxiv_flant5_test_feature.csv'\n",
        "    X_flant_list, y_flant_list= get_dataset(path)\n",
        "    for i in range(len(X_flant_list)):\n",
        "        y_pred = xgb_classifier[i].predict(X_flant_list[i])\n",
        "\n",
        "        # Compute confusion matrix\n",
        "        cm = confusion_matrix(y_flant_list[i], y_pred)\n",
        "\n",
        "        # Plot confusion matrix using seaborn heatmap\n",
        "        plt.figure(figsize=(8, 6))\n",
        "        cmn = cm.astype('float') / cm.sum(axis=1)[:, np.newaxis]\n",
        "        sns.heatmap(cmn, annot=True, fmt='.2f', xticklabels=['Human', 'Machine'], yticklabels=['Human', 'Machine'])\n",
        "        plt.xlabel('Predicted')\n",
        "        plt.ylabel('True')\n",
        "        plt.title('Confusion Matrix')\n",
        "        plt.show()"
      ]
    },
    {
      "cell_type": "code",
      "execution_count": 7,
      "metadata": {},
      "outputs": [],
      "source": [
        "train_path = '/Users/supriyaupadhyaya/ovgu/generative-text-detectors/feature-extractor/features/m4/arxiv_chatGPT_train_withoutN_feature.csv'\n",
        "X_train, y_train = get_dataset(train_path)"
      ]
    },
    {
      "cell_type": "code",
      "execution_count": 8,
      "metadata": {},
      "outputs": [],
      "source": [
        "val_path = '/Users/supriyaupadhyaya/ovgu/generative-text-detectors/feature-extractor/features/m4/arxiv_chatGPT_val_withoutN_feature.csv'\n",
        "X_val, y_val = get_dataset(val_path)"
      ]
    },
    {
      "cell_type": "code",
      "execution_count": 9,
      "metadata": {},
      "outputs": [],
      "source": [
        "test_path = '/Users/supriyaupadhyaya/ovgu/generative-text-detectors/feature-extractor/features/m4/arxiv_chatGPT_test_withoutN_feature.csv'\n",
        "X_test, y_test = get_dataset(test_path)"
      ]
    },
    {
      "cell_type": "code",
      "execution_count": 10,
      "metadata": {},
      "outputs": [
        {
          "name": "stdout",
          "output_type": "stream",
          "text": [
            "3840 1200 960\n",
            "3840 1200 960\n"
          ]
        }
      ],
      "source": [
        "print(len(X_train[0]), len(X_test[0]), len(X_val[0]))\n",
        "print(len(y_train[0]), len(y_test[0]), len(y_val[0]))"
      ]
    },
    {
      "cell_type": "code",
      "execution_count": 11,
      "metadata": {},
      "outputs": [
        {
          "name": "stdout",
          "output_type": "stream",
          "text": [
            "['no_sentence', 'num_words']\n",
            "['no_sentence', 'character0']\n",
            "['no_sentence', 'character1']\n",
            "['no_sentence', 'character2_3']\n",
            "['no_sentence', 'character4']\n",
            "['no_sentence', 'character5']\n",
            "['no_sentence', 'std_dev']\n",
            "['no_sentence', 'sent_len_diff']\n",
            "['no_sentence', 'count_short_sentences_in_paragraphs']\n",
            "['no_sentence', 'count_long_sentences_in_paragraphs']\n",
            "['no_sentence', 'check_word0']\n",
            "['no_sentence', 'check_word1']\n",
            "['no_sentence', 'check_word2_3']\n",
            "['no_sentence', 'check_word3']\n",
            "['no_sentence', 'check_word4']\n",
            "['no_sentence', 'check_word5']\n",
            "['no_sentence', 'check_num']\n",
            "['no_sentence', 'check_capitals']\n",
            "['no_sentence', 'check_et']\n",
            "['num_words', 'character0']\n",
            "['num_words', 'character1']\n",
            "['num_words', 'character2_3']\n",
            "['num_words', 'character4']\n",
            "['num_words', 'character5']\n",
            "['num_words', 'std_dev']\n",
            "['num_words', 'sent_len_diff']\n",
            "['num_words', 'count_short_sentences_in_paragraphs']\n",
            "['num_words', 'count_long_sentences_in_paragraphs']\n",
            "['num_words', 'check_word0']\n",
            "['num_words', 'check_word1']\n",
            "['num_words', 'check_word2_3']\n",
            "['num_words', 'check_word3']\n",
            "['num_words', 'check_word4']\n",
            "['num_words', 'check_word5']\n",
            "['num_words', 'check_num']\n",
            "['num_words', 'check_capitals']\n",
            "['num_words', 'check_et']\n",
            "['character0', 'character1']\n",
            "['character0', 'character2_3']\n",
            "['character0', 'character4']\n",
            "['character0', 'character5']\n",
            "['character0', 'std_dev']\n",
            "['character0', 'sent_len_diff']\n",
            "['character0', 'count_short_sentences_in_paragraphs']\n",
            "['character0', 'count_long_sentences_in_paragraphs']\n",
            "['character0', 'check_word0']\n",
            "['character0', 'check_word1']\n",
            "['character0', 'check_word2_3']\n",
            "['character0', 'check_word3']\n",
            "['character0', 'check_word4']\n",
            "['character0', 'check_word5']\n",
            "['character0', 'check_num']\n",
            "['character0', 'check_capitals']\n",
            "['character0', 'check_et']\n",
            "['character1', 'character2_3']\n",
            "['character1', 'character4']\n",
            "['character1', 'character5']\n",
            "['character1', 'std_dev']\n",
            "['character1', 'sent_len_diff']\n",
            "['character1', 'count_short_sentences_in_paragraphs']\n",
            "['character1', 'count_long_sentences_in_paragraphs']\n",
            "['character1', 'check_word0']\n",
            "['character1', 'check_word1']\n",
            "['character1', 'check_word2_3']\n",
            "['character1', 'check_word3']\n",
            "['character1', 'check_word4']\n",
            "['character1', 'check_word5']\n",
            "['character1', 'check_num']\n",
            "['character1', 'check_capitals']\n",
            "['character1', 'check_et']\n",
            "['character2_3', 'character4']\n",
            "['character2_3', 'character5']\n",
            "['character2_3', 'std_dev']\n",
            "['character2_3', 'sent_len_diff']\n",
            "['character2_3', 'count_short_sentences_in_paragraphs']\n",
            "['character2_3', 'count_long_sentences_in_paragraphs']\n",
            "['character2_3', 'check_word0']\n",
            "['character2_3', 'check_word1']\n",
            "['character2_3', 'check_word2_3']\n",
            "['character2_3', 'check_word3']\n",
            "['character2_3', 'check_word4']\n",
            "['character2_3', 'check_word5']\n",
            "['character2_3', 'check_num']\n",
            "['character2_3', 'check_capitals']\n",
            "['character2_3', 'check_et']\n",
            "['character4', 'character5']\n",
            "['character4', 'std_dev']\n",
            "['character4', 'sent_len_diff']\n",
            "['character4', 'count_short_sentences_in_paragraphs']\n",
            "['character4', 'count_long_sentences_in_paragraphs']\n",
            "['character4', 'check_word0']\n",
            "['character4', 'check_word1']\n",
            "['character4', 'check_word2_3']\n",
            "['character4', 'check_word3']\n",
            "['character4', 'check_word4']\n",
            "['character4', 'check_word5']\n",
            "['character4', 'check_num']\n",
            "['character4', 'check_capitals']\n",
            "['character4', 'check_et']\n",
            "['character5', 'std_dev']\n",
            "['character5', 'sent_len_diff']\n",
            "['character5', 'count_short_sentences_in_paragraphs']\n",
            "['character5', 'count_long_sentences_in_paragraphs']\n",
            "['character5', 'check_word0']\n",
            "['character5', 'check_word1']\n",
            "['character5', 'check_word2_3']\n",
            "['character5', 'check_word3']\n",
            "['character5', 'check_word4']\n",
            "['character5', 'check_word5']\n",
            "['character5', 'check_num']\n",
            "['character5', 'check_capitals']\n",
            "['character5', 'check_et']\n",
            "['std_dev', 'sent_len_diff']\n",
            "['std_dev', 'count_short_sentences_in_paragraphs']\n",
            "['std_dev', 'count_long_sentences_in_paragraphs']\n",
            "['std_dev', 'check_word0']\n",
            "['std_dev', 'check_word1']\n",
            "['std_dev', 'check_word2_3']\n",
            "['std_dev', 'check_word3']\n",
            "['std_dev', 'check_word4']\n",
            "['std_dev', 'check_word5']\n",
            "['std_dev', 'check_num']\n",
            "['std_dev', 'check_capitals']\n",
            "['std_dev', 'check_et']\n",
            "['sent_len_diff', 'count_short_sentences_in_paragraphs']\n",
            "['sent_len_diff', 'count_long_sentences_in_paragraphs']\n",
            "['sent_len_diff', 'check_word0']\n",
            "['sent_len_diff', 'check_word1']\n",
            "['sent_len_diff', 'check_word2_3']\n",
            "['sent_len_diff', 'check_word3']\n",
            "['sent_len_diff', 'check_word4']\n",
            "['sent_len_diff', 'check_word5']\n",
            "['sent_len_diff', 'check_num']\n",
            "['sent_len_diff', 'check_capitals']\n",
            "['sent_len_diff', 'check_et']\n",
            "['count_short_sentences_in_paragraphs', 'count_long_sentences_in_paragraphs']\n",
            "['count_short_sentences_in_paragraphs', 'check_word0']\n",
            "['count_short_sentences_in_paragraphs', 'check_word1']\n",
            "['count_short_sentences_in_paragraphs', 'check_word2_3']\n",
            "['count_short_sentences_in_paragraphs', 'check_word3']\n",
            "['count_short_sentences_in_paragraphs', 'check_word4']\n",
            "['count_short_sentences_in_paragraphs', 'check_word5']\n",
            "['count_short_sentences_in_paragraphs', 'check_num']\n",
            "['count_short_sentences_in_paragraphs', 'check_capitals']\n",
            "['count_short_sentences_in_paragraphs', 'check_et']\n",
            "['count_long_sentences_in_paragraphs', 'check_word0']\n",
            "['count_long_sentences_in_paragraphs', 'check_word1']\n",
            "['count_long_sentences_in_paragraphs', 'check_word2_3']\n",
            "['count_long_sentences_in_paragraphs', 'check_word3']\n",
            "['count_long_sentences_in_paragraphs', 'check_word4']\n",
            "['count_long_sentences_in_paragraphs', 'check_word5']\n",
            "['count_long_sentences_in_paragraphs', 'check_num']\n",
            "['count_long_sentences_in_paragraphs', 'check_capitals']\n",
            "['count_long_sentences_in_paragraphs', 'check_et']\n",
            "['check_word0', 'check_word1']\n",
            "['check_word0', 'check_word2_3']\n",
            "['check_word0', 'check_word3']\n",
            "['check_word0', 'check_word4']\n",
            "['check_word0', 'check_word5']\n",
            "['check_word0', 'check_num']\n",
            "['check_word0', 'check_capitals']\n",
            "['check_word0', 'check_et']\n",
            "['check_word1', 'check_word2_3']\n",
            "['check_word1', 'check_word3']\n",
            "['check_word1', 'check_word4']\n",
            "['check_word1', 'check_word5']\n",
            "['check_word1', 'check_num']\n",
            "['check_word1', 'check_capitals']\n",
            "['check_word1', 'check_et']\n",
            "['check_word2_3', 'check_word3']\n",
            "['check_word2_3', 'check_word4']\n",
            "['check_word2_3', 'check_word5']\n",
            "['check_word2_3', 'check_num']\n",
            "['check_word2_3', 'check_capitals']\n",
            "['check_word2_3', 'check_et']\n",
            "['check_word3', 'check_word4']\n",
            "['check_word3', 'check_word5']\n",
            "['check_word3', 'check_num']\n",
            "['check_word3', 'check_capitals']\n",
            "['check_word3', 'check_et']\n",
            "['check_word4', 'check_word5']\n",
            "['check_word4', 'check_num']\n",
            "['check_word4', 'check_capitals']\n",
            "['check_word4', 'check_et']\n",
            "['check_word5', 'check_num']\n",
            "['check_word5', 'check_capitals']\n",
            "['check_word5', 'check_et']\n",
            "['check_num', 'check_capitals']\n",
            "['check_num', 'check_et']\n",
            "['check_capitals', 'check_et']\n"
          ]
        }
      ],
      "source": [
        "for i in range(len(X_train)):\n",
        "    print(list(X_train[i].columns))"
      ]
    },
    {
      "cell_type": "code",
      "execution_count": 12,
      "metadata": {},
      "outputs": [
        {
          "name": "stdout",
          "output_type": "stream",
          "text": [
            "['no_sentence', 'num_words']\n",
            "Accuracy: 0.634\n",
            "['no_sentence', 'character0']\n",
            "Accuracy: 0.697\n",
            "['no_sentence', 'character1']\n",
            "Accuracy: 0.683\n",
            "['no_sentence', 'character2_3']\n",
            "Accuracy: 0.730\n",
            "['no_sentence', 'character4']\n",
            "Accuracy: 0.655\n",
            "['no_sentence', 'character5']\n",
            "Accuracy: 0.656\n",
            "['no_sentence', 'std_dev']\n",
            "Accuracy: 0.878\n",
            "['no_sentence', 'sent_len_diff']\n",
            "Accuracy: 0.733\n",
            "['no_sentence', 'count_short_sentences_in_paragraphs']\n",
            "Accuracy: 0.669\n",
            "['no_sentence', 'count_long_sentences_in_paragraphs']\n",
            "Accuracy: 0.704\n",
            "['no_sentence', 'check_word0']\n",
            "Accuracy: 0.655\n",
            "['no_sentence', 'check_word1']\n",
            "Accuracy: 0.655\n",
            "['no_sentence', 'check_word2_3']\n",
            "Accuracy: 0.655\n",
            "['no_sentence', 'check_word3']\n",
            "Accuracy: 0.655\n",
            "['no_sentence', 'check_word4']\n",
            "Accuracy: 0.655\n",
            "['no_sentence', 'check_word5']\n",
            "Accuracy: 0.655\n",
            "['no_sentence', 'check_num']\n",
            "Accuracy: 0.754\n",
            "['no_sentence', 'check_capitals']\n",
            "Accuracy: 0.664\n",
            "['no_sentence', 'check_et']\n",
            "Accuracy: 0.657\n",
            "['num_words', 'character0']\n",
            "Accuracy: 0.662\n",
            "['num_words', 'character1']\n",
            "Accuracy: 0.575\n",
            "['num_words', 'character2_3']\n"
          ]
        },
        {
          "name": "stderr",
          "output_type": "stream",
          "text": [
            "/var/folders/n2/wvbyn25n1xgcbwfkrnb9r7tm0000gn/T/ipykernel_17089/2230831433.py:2: RuntimeWarning: More than 20 figures have been opened. Figures created through the pyplot interface (`matplotlib.pyplot.figure`) are retained until explicitly closed and may consume too much memory. (To control this warning, see the rcParam `figure.max_open_warning`). Consider using `matplotlib.pyplot.close()`.\n",
            "  plt.figure(figsize=(10, 6))\n"
          ]
        },
        {
          "name": "stdout",
          "output_type": "stream",
          "text": [
            "Accuracy: 0.623\n",
            "['num_words', 'character4']\n",
            "Accuracy: 0.585\n",
            "['num_words', 'character5']\n",
            "Accuracy: 0.579\n",
            "['num_words', 'std_dev']\n",
            "Accuracy: 0.751\n",
            "['num_words', 'sent_len_diff']\n",
            "Accuracy: 0.668\n",
            "['num_words', 'count_short_sentences_in_paragraphs']\n",
            "Accuracy: 0.605\n",
            "['num_words', 'count_long_sentences_in_paragraphs']\n",
            "Accuracy: 0.677\n",
            "['num_words', 'check_word0']\n",
            "Accuracy: 0.585\n",
            "['num_words', 'check_word1']\n",
            "Accuracy: 0.585\n",
            "['num_words', 'check_word2_3']\n",
            "Accuracy: 0.585\n",
            "['num_words', 'check_word3']\n",
            "Accuracy: 0.585\n",
            "['num_words', 'check_word4']\n",
            "Accuracy: 0.585\n",
            "['num_words', 'check_word5']\n",
            "Accuracy: 0.585\n",
            "['num_words', 'check_num']\n",
            "Accuracy: 0.687\n",
            "['num_words', 'check_capitals']\n",
            "Accuracy: 0.573\n",
            "['num_words', 'check_et']\n",
            "Accuracy: 0.585\n",
            "['character0', 'character1']\n",
            "Accuracy: 0.699\n",
            "['character0', 'character2_3']\n",
            "Accuracy: 0.718\n",
            "['character0', 'character4']\n",
            "Accuracy: 0.699\n",
            "['character0', 'character5']\n",
            "Accuracy: 0.699\n",
            "['character0', 'std_dev']\n",
            "Accuracy: 0.816\n",
            "['character0', 'sent_len_diff']\n",
            "Accuracy: 0.656\n",
            "['character0', 'count_short_sentences_in_paragraphs']\n",
            "Accuracy: 0.713\n",
            "['character0', 'count_long_sentences_in_paragraphs']\n",
            "Accuracy: 0.736\n",
            "['character0', 'check_word0']\n",
            "Accuracy: 0.699\n",
            "['character0', 'check_word1']\n",
            "Accuracy: 0.699\n",
            "['character0', 'check_word2_3']\n",
            "Accuracy: 0.699\n",
            "['character0', 'check_word3']\n",
            "Accuracy: 0.699\n",
            "['character0', 'check_word4']\n",
            "Accuracy: 0.699\n",
            "['character0', 'check_word5']\n",
            "Accuracy: 0.699\n",
            "['character0', 'check_num']\n",
            "Accuracy: 0.726\n",
            "['character0', 'check_capitals']\n",
            "Accuracy: 0.699\n",
            "['character0', 'check_et']\n",
            "Accuracy: 0.699\n",
            "['character1', 'character2_3']\n",
            "Accuracy: 0.618\n",
            "['character1', 'character4']\n",
            "Accuracy: 0.537\n",
            "['character1', 'character5']\n",
            "Accuracy: 0.537\n",
            "['character1', 'std_dev']\n",
            "Accuracy: 0.824\n",
            "['character1', 'sent_len_diff']\n",
            "Accuracy: 0.718\n",
            "['character1', 'count_short_sentences_in_paragraphs']\n",
            "Accuracy: 0.598\n",
            "['character1', 'count_long_sentences_in_paragraphs']\n",
            "Accuracy: 0.718\n",
            "['character1', 'check_word0']\n",
            "Accuracy: 0.537\n",
            "['character1', 'check_word1']\n",
            "Accuracy: 0.537\n",
            "['character1', 'check_word2_3']\n",
            "Accuracy: 0.537\n",
            "['character1', 'check_word3']\n",
            "Accuracy: 0.537\n",
            "['character1', 'check_word4']\n",
            "Accuracy: 0.537\n",
            "['character1', 'check_word5']\n",
            "Accuracy: 0.537\n",
            "['character1', 'check_num']\n",
            "Accuracy: 0.706\n",
            "['character1', 'check_capitals']\n",
            "Accuracy: 0.591\n",
            "['character1', 'check_et']\n",
            "Accuracy: 0.537\n",
            "['character2_3', 'character4']\n",
            "Accuracy: 0.618\n",
            "['character2_3', 'character5']\n",
            "Accuracy: 0.612\n",
            "['character2_3', 'std_dev']\n",
            "Accuracy: 0.868\n",
            "['character2_3', 'sent_len_diff']\n",
            "Accuracy: 0.748\n",
            "['character2_3', 'count_short_sentences_in_paragraphs']\n",
            "Accuracy: 0.682\n",
            "['character2_3', 'count_long_sentences_in_paragraphs']\n",
            "Accuracy: 0.733\n",
            "['character2_3', 'check_word0']\n",
            "Accuracy: 0.618\n",
            "['character2_3', 'check_word1']\n",
            "Accuracy: 0.618\n",
            "['character2_3', 'check_word2_3']\n",
            "Accuracy: 0.618\n",
            "['character2_3', 'check_word3']\n",
            "Accuracy: 0.618\n",
            "['character2_3', 'check_word4']\n",
            "Accuracy: 0.618\n",
            "['character2_3', 'check_word5']\n",
            "Accuracy: 0.618\n",
            "['character2_3', 'check_num']\n",
            "Accuracy: 0.718\n",
            "['character2_3', 'check_capitals']\n",
            "Accuracy: 0.610\n",
            "['character2_3', 'check_et']\n",
            "Accuracy: 0.620\n",
            "['character4', 'character5']\n",
            "Accuracy: 0.529\n",
            "['character4', 'std_dev']\n",
            "Accuracy: 0.815\n",
            "['character4', 'sent_len_diff']\n",
            "Accuracy: 0.718\n",
            "['character4', 'count_short_sentences_in_paragraphs']\n",
            "Accuracy: 0.596\n",
            "['character4', 'count_long_sentences_in_paragraphs']\n",
            "Accuracy: 0.708\n",
            "['character4', 'check_word0']\n",
            "Accuracy: 0.498\n",
            "['character4', 'check_word1']\n",
            "Accuracy: 0.498\n",
            "['character4', 'check_word2_3']\n",
            "Accuracy: 0.498\n",
            "['character4', 'check_word3']\n",
            "Accuracy: 0.498\n",
            "['character4', 'check_word4']\n",
            "Accuracy: 0.498\n",
            "['character4', 'check_word5']\n",
            "Accuracy: 0.498\n",
            "['character4', 'check_num']\n",
            "Accuracy: 0.699\n",
            "['character4', 'check_capitals']\n",
            "Accuracy: 0.578\n",
            "['character4', 'check_et']\n",
            "Accuracy: 0.503\n",
            "['character5', 'std_dev']\n",
            "Accuracy: 0.806\n",
            "['character5', 'sent_len_diff']\n",
            "Accuracy: 0.718\n",
            "['character5', 'count_short_sentences_in_paragraphs']\n",
            "Accuracy: 0.602\n",
            "['character5', 'count_long_sentences_in_paragraphs']\n",
            "Accuracy: 0.708\n",
            "['character5', 'check_word0']\n",
            "Accuracy: 0.530\n",
            "['character5', 'check_word1']\n",
            "Accuracy: 0.530\n",
            "['character5', 'check_word2_3']\n",
            "Accuracy: 0.530\n",
            "['character5', 'check_word3']\n",
            "Accuracy: 0.530\n",
            "['character5', 'check_word4']\n",
            "Accuracy: 0.530\n",
            "['character5', 'check_word5']\n",
            "Accuracy: 0.530\n",
            "['character5', 'check_num']\n",
            "Accuracy: 0.702\n",
            "['character5', 'check_capitals']\n",
            "Accuracy: 0.578\n",
            "['character5', 'check_et']\n",
            "Accuracy: 0.533\n",
            "['std_dev', 'sent_len_diff']\n",
            "Accuracy: 0.718\n",
            "['std_dev', 'count_short_sentences_in_paragraphs']\n",
            "Accuracy: 0.821\n",
            "['std_dev', 'count_long_sentences_in_paragraphs']\n",
            "Accuracy: 0.906\n"
          ]
        },
        {
          "data": {
            "text/plain": [
              "<Figure size 1000x600 with 0 Axes>"
            ]
          },
          "metadata": {},
          "output_type": "display_data"
        },
        {
          "data": {
            "text/plain": [
              "<Figure size 1000x600 with 0 Axes>"
            ]
          },
          "metadata": {},
          "output_type": "display_data"
        },
        {
          "data": {
            "text/plain": [
              "<Figure size 1000x600 with 0 Axes>"
            ]
          },
          "metadata": {},
          "output_type": "display_data"
        },
        {
          "data": {
            "text/plain": [
              "<Figure size 1000x600 with 0 Axes>"
            ]
          },
          "metadata": {},
          "output_type": "display_data"
        },
        {
          "data": {
            "text/plain": [
              "<Figure size 1000x600 with 0 Axes>"
            ]
          },
          "metadata": {},
          "output_type": "display_data"
        },
        {
          "data": {
            "text/plain": [
              "<Figure size 1000x600 with 0 Axes>"
            ]
          },
          "metadata": {},
          "output_type": "display_data"
        },
        {
          "data": {
            "text/plain": [
              "<Figure size 1000x600 with 0 Axes>"
            ]
          },
          "metadata": {},
          "output_type": "display_data"
        },
        {
          "data": {
            "text/plain": [
              "<Figure size 1000x600 with 0 Axes>"
            ]
          },
          "metadata": {},
          "output_type": "display_data"
        },
        {
          "data": {
            "text/plain": [
              "<Figure size 1000x600 with 0 Axes>"
            ]
          },
          "metadata": {},
          "output_type": "display_data"
        },
        {
          "data": {
            "text/plain": [
              "<Figure size 1000x600 with 0 Axes>"
            ]
          },
          "metadata": {},
          "output_type": "display_data"
        },
        {
          "data": {
            "text/plain": [
              "<Figure size 1000x600 with 0 Axes>"
            ]
          },
          "metadata": {},
          "output_type": "display_data"
        },
        {
          "data": {
            "text/plain": [
              "<Figure size 1000x600 with 0 Axes>"
            ]
          },
          "metadata": {},
          "output_type": "display_data"
        },
        {
          "data": {
            "text/plain": [
              "<Figure size 1000x600 with 0 Axes>"
            ]
          },
          "metadata": {},
          "output_type": "display_data"
        },
        {
          "data": {
            "text/plain": [
              "<Figure size 1000x600 with 0 Axes>"
            ]
          },
          "metadata": {},
          "output_type": "display_data"
        },
        {
          "data": {
            "text/plain": [
              "<Figure size 1000x600 with 0 Axes>"
            ]
          },
          "metadata": {},
          "output_type": "display_data"
        },
        {
          "data": {
            "text/plain": [
              "<Figure size 1000x600 with 0 Axes>"
            ]
          },
          "metadata": {},
          "output_type": "display_data"
        },
        {
          "data": {
            "text/plain": [
              "<Figure size 1000x600 with 0 Axes>"
            ]
          },
          "metadata": {},
          "output_type": "display_data"
        },
        {
          "data": {
            "text/plain": [
              "<Figure size 1000x600 with 0 Axes>"
            ]
          },
          "metadata": {},
          "output_type": "display_data"
        },
        {
          "data": {
            "text/plain": [
              "<Figure size 1000x600 with 0 Axes>"
            ]
          },
          "metadata": {},
          "output_type": "display_data"
        },
        {
          "data": {
            "text/plain": [
              "<Figure size 1000x600 with 0 Axes>"
            ]
          },
          "metadata": {},
          "output_type": "display_data"
        },
        {
          "data": {
            "text/plain": [
              "<Figure size 1000x600 with 0 Axes>"
            ]
          },
          "metadata": {},
          "output_type": "display_data"
        },
        {
          "data": {
            "text/plain": [
              "<Figure size 1000x600 with 0 Axes>"
            ]
          },
          "metadata": {},
          "output_type": "display_data"
        },
        {
          "data": {
            "text/plain": [
              "<Figure size 1000x600 with 0 Axes>"
            ]
          },
          "metadata": {},
          "output_type": "display_data"
        },
        {
          "data": {
            "text/plain": [
              "<Figure size 1000x600 with 0 Axes>"
            ]
          },
          "metadata": {},
          "output_type": "display_data"
        },
        {
          "data": {
            "text/plain": [
              "<Figure size 1000x600 with 0 Axes>"
            ]
          },
          "metadata": {},
          "output_type": "display_data"
        },
        {
          "data": {
            "text/plain": [
              "<Figure size 1000x600 with 0 Axes>"
            ]
          },
          "metadata": {},
          "output_type": "display_data"
        },
        {
          "data": {
            "text/plain": [
              "<Figure size 1000x600 with 0 Axes>"
            ]
          },
          "metadata": {},
          "output_type": "display_data"
        },
        {
          "data": {
            "text/plain": [
              "<Figure size 1000x600 with 0 Axes>"
            ]
          },
          "metadata": {},
          "output_type": "display_data"
        },
        {
          "data": {
            "text/plain": [
              "<Figure size 1000x600 with 0 Axes>"
            ]
          },
          "metadata": {},
          "output_type": "display_data"
        },
        {
          "data": {
            "text/plain": [
              "<Figure size 1000x600 with 0 Axes>"
            ]
          },
          "metadata": {},
          "output_type": "display_data"
        },
        {
          "data": {
            "text/plain": [
              "<Figure size 1000x600 with 0 Axes>"
            ]
          },
          "metadata": {},
          "output_type": "display_data"
        },
        {
          "data": {
            "text/plain": [
              "<Figure size 1000x600 with 0 Axes>"
            ]
          },
          "metadata": {},
          "output_type": "display_data"
        },
        {
          "data": {
            "text/plain": [
              "<Figure size 1000x600 with 0 Axes>"
            ]
          },
          "metadata": {},
          "output_type": "display_data"
        },
        {
          "data": {
            "text/plain": [
              "<Figure size 1000x600 with 0 Axes>"
            ]
          },
          "metadata": {},
          "output_type": "display_data"
        },
        {
          "data": {
            "text/plain": [
              "<Figure size 1000x600 with 0 Axes>"
            ]
          },
          "metadata": {},
          "output_type": "display_data"
        },
        {
          "data": {
            "text/plain": [
              "<Figure size 1000x600 with 0 Axes>"
            ]
          },
          "metadata": {},
          "output_type": "display_data"
        },
        {
          "data": {
            "text/plain": [
              "<Figure size 1000x600 with 0 Axes>"
            ]
          },
          "metadata": {},
          "output_type": "display_data"
        },
        {
          "data": {
            "text/plain": [
              "<Figure size 1000x600 with 0 Axes>"
            ]
          },
          "metadata": {},
          "output_type": "display_data"
        },
        {
          "data": {
            "text/plain": [
              "<Figure size 1000x600 with 0 Axes>"
            ]
          },
          "metadata": {},
          "output_type": "display_data"
        },
        {
          "data": {
            "text/plain": [
              "<Figure size 1000x600 with 0 Axes>"
            ]
          },
          "metadata": {},
          "output_type": "display_data"
        },
        {
          "data": {
            "text/plain": [
              "<Figure size 1000x600 with 0 Axes>"
            ]
          },
          "metadata": {},
          "output_type": "display_data"
        },
        {
          "data": {
            "text/plain": [
              "<Figure size 1000x600 with 0 Axes>"
            ]
          },
          "metadata": {},
          "output_type": "display_data"
        },
        {
          "data": {
            "text/plain": [
              "<Figure size 1000x600 with 0 Axes>"
            ]
          },
          "metadata": {},
          "output_type": "display_data"
        },
        {
          "data": {
            "text/plain": [
              "<Figure size 1000x600 with 0 Axes>"
            ]
          },
          "metadata": {},
          "output_type": "display_data"
        },
        {
          "data": {
            "text/plain": [
              "<Figure size 1000x600 with 0 Axes>"
            ]
          },
          "metadata": {},
          "output_type": "display_data"
        },
        {
          "data": {
            "text/plain": [
              "<Figure size 1000x600 with 0 Axes>"
            ]
          },
          "metadata": {},
          "output_type": "display_data"
        },
        {
          "data": {
            "text/plain": [
              "<Figure size 1000x600 with 0 Axes>"
            ]
          },
          "metadata": {},
          "output_type": "display_data"
        },
        {
          "data": {
            "text/plain": [
              "<Figure size 1000x600 with 0 Axes>"
            ]
          },
          "metadata": {},
          "output_type": "display_data"
        },
        {
          "data": {
            "text/plain": [
              "<Figure size 1000x600 with 0 Axes>"
            ]
          },
          "metadata": {},
          "output_type": "display_data"
        },
        {
          "data": {
            "text/plain": [
              "<Figure size 1000x600 with 0 Axes>"
            ]
          },
          "metadata": {},
          "output_type": "display_data"
        },
        {
          "data": {
            "text/plain": [
              "<Figure size 1000x600 with 0 Axes>"
            ]
          },
          "metadata": {},
          "output_type": "display_data"
        },
        {
          "data": {
            "text/plain": [
              "<Figure size 1000x600 with 0 Axes>"
            ]
          },
          "metadata": {},
          "output_type": "display_data"
        },
        {
          "data": {
            "text/plain": [
              "<Figure size 1000x600 with 0 Axes>"
            ]
          },
          "metadata": {},
          "output_type": "display_data"
        },
        {
          "data": {
            "text/plain": [
              "<Figure size 1000x600 with 0 Axes>"
            ]
          },
          "metadata": {},
          "output_type": "display_data"
        },
        {
          "data": {
            "text/plain": [
              "<Figure size 1000x600 with 0 Axes>"
            ]
          },
          "metadata": {},
          "output_type": "display_data"
        },
        {
          "data": {
            "text/plain": [
              "<Figure size 1000x600 with 0 Axes>"
            ]
          },
          "metadata": {},
          "output_type": "display_data"
        },
        {
          "data": {
            "text/plain": [
              "<Figure size 1000x600 with 0 Axes>"
            ]
          },
          "metadata": {},
          "output_type": "display_data"
        },
        {
          "data": {
            "text/plain": [
              "<Figure size 1000x600 with 0 Axes>"
            ]
          },
          "metadata": {},
          "output_type": "display_data"
        },
        {
          "data": {
            "text/plain": [
              "<Figure size 1000x600 with 0 Axes>"
            ]
          },
          "metadata": {},
          "output_type": "display_data"
        },
        {
          "data": {
            "text/plain": [
              "<Figure size 1000x600 with 0 Axes>"
            ]
          },
          "metadata": {},
          "output_type": "display_data"
        },
        {
          "data": {
            "text/plain": [
              "<Figure size 1000x600 with 0 Axes>"
            ]
          },
          "metadata": {},
          "output_type": "display_data"
        },
        {
          "data": {
            "text/plain": [
              "<Figure size 1000x600 with 0 Axes>"
            ]
          },
          "metadata": {},
          "output_type": "display_data"
        },
        {
          "data": {
            "text/plain": [
              "<Figure size 1000x600 with 0 Axes>"
            ]
          },
          "metadata": {},
          "output_type": "display_data"
        },
        {
          "data": {
            "text/plain": [
              "<Figure size 1000x600 with 0 Axes>"
            ]
          },
          "metadata": {},
          "output_type": "display_data"
        },
        {
          "data": {
            "text/plain": [
              "<Figure size 1000x600 with 0 Axes>"
            ]
          },
          "metadata": {},
          "output_type": "display_data"
        },
        {
          "data": {
            "text/plain": [
              "<Figure size 1000x600 with 0 Axes>"
            ]
          },
          "metadata": {},
          "output_type": "display_data"
        },
        {
          "data": {
            "text/plain": [
              "<Figure size 1000x600 with 0 Axes>"
            ]
          },
          "metadata": {},
          "output_type": "display_data"
        },
        {
          "data": {
            "text/plain": [
              "<Figure size 1000x600 with 0 Axes>"
            ]
          },
          "metadata": {},
          "output_type": "display_data"
        },
        {
          "data": {
            "text/plain": [
              "<Figure size 1000x600 with 0 Axes>"
            ]
          },
          "metadata": {},
          "output_type": "display_data"
        },
        {
          "data": {
            "text/plain": [
              "<Figure size 1000x600 with 0 Axes>"
            ]
          },
          "metadata": {},
          "output_type": "display_data"
        },
        {
          "data": {
            "text/plain": [
              "<Figure size 1000x600 with 0 Axes>"
            ]
          },
          "metadata": {},
          "output_type": "display_data"
        },
        {
          "data": {
            "text/plain": [
              "<Figure size 1000x600 with 0 Axes>"
            ]
          },
          "metadata": {},
          "output_type": "display_data"
        },
        {
          "data": {
            "text/plain": [
              "<Figure size 1000x600 with 0 Axes>"
            ]
          },
          "metadata": {},
          "output_type": "display_data"
        },
        {
          "data": {
            "text/plain": [
              "<Figure size 1000x600 with 0 Axes>"
            ]
          },
          "metadata": {},
          "output_type": "display_data"
        },
        {
          "data": {
            "text/plain": [
              "<Figure size 1000x600 with 0 Axes>"
            ]
          },
          "metadata": {},
          "output_type": "display_data"
        },
        {
          "data": {
            "text/plain": [
              "<Figure size 1000x600 with 0 Axes>"
            ]
          },
          "metadata": {},
          "output_type": "display_data"
        },
        {
          "data": {
            "text/plain": [
              "<Figure size 1000x600 with 0 Axes>"
            ]
          },
          "metadata": {},
          "output_type": "display_data"
        },
        {
          "data": {
            "text/plain": [
              "<Figure size 1000x600 with 0 Axes>"
            ]
          },
          "metadata": {},
          "output_type": "display_data"
        },
        {
          "data": {
            "text/plain": [
              "<Figure size 1000x600 with 0 Axes>"
            ]
          },
          "metadata": {},
          "output_type": "display_data"
        },
        {
          "data": {
            "text/plain": [
              "<Figure size 1000x600 with 0 Axes>"
            ]
          },
          "metadata": {},
          "output_type": "display_data"
        },
        {
          "data": {
            "text/plain": [
              "<Figure size 1000x600 with 0 Axes>"
            ]
          },
          "metadata": {},
          "output_type": "display_data"
        },
        {
          "data": {
            "text/plain": [
              "<Figure size 1000x600 with 0 Axes>"
            ]
          },
          "metadata": {},
          "output_type": "display_data"
        },
        {
          "data": {
            "text/plain": [
              "<Figure size 1000x600 with 0 Axes>"
            ]
          },
          "metadata": {},
          "output_type": "display_data"
        },
        {
          "data": {
            "text/plain": [
              "<Figure size 1000x600 with 0 Axes>"
            ]
          },
          "metadata": {},
          "output_type": "display_data"
        },
        {
          "data": {
            "text/plain": [
              "<Figure size 1000x600 with 0 Axes>"
            ]
          },
          "metadata": {},
          "output_type": "display_data"
        },
        {
          "data": {
            "text/plain": [
              "<Figure size 1000x600 with 0 Axes>"
            ]
          },
          "metadata": {},
          "output_type": "display_data"
        },
        {
          "data": {
            "text/plain": [
              "<Figure size 1000x600 with 0 Axes>"
            ]
          },
          "metadata": {},
          "output_type": "display_data"
        },
        {
          "data": {
            "text/plain": [
              "<Figure size 1000x600 with 0 Axes>"
            ]
          },
          "metadata": {},
          "output_type": "display_data"
        },
        {
          "data": {
            "text/plain": [
              "<Figure size 1000x600 with 0 Axes>"
            ]
          },
          "metadata": {},
          "output_type": "display_data"
        },
        {
          "data": {
            "text/plain": [
              "<Figure size 1000x600 with 0 Axes>"
            ]
          },
          "metadata": {},
          "output_type": "display_data"
        },
        {
          "data": {
            "text/plain": [
              "<Figure size 1000x600 with 0 Axes>"
            ]
          },
          "metadata": {},
          "output_type": "display_data"
        },
        {
          "data": {
            "text/plain": [
              "<Figure size 1000x600 with 0 Axes>"
            ]
          },
          "metadata": {},
          "output_type": "display_data"
        },
        {
          "data": {
            "text/plain": [
              "<Figure size 1000x600 with 0 Axes>"
            ]
          },
          "metadata": {},
          "output_type": "display_data"
        },
        {
          "data": {
            "text/plain": [
              "<Figure size 1000x600 with 0 Axes>"
            ]
          },
          "metadata": {},
          "output_type": "display_data"
        },
        {
          "data": {
            "text/plain": [
              "<Figure size 1000x600 with 0 Axes>"
            ]
          },
          "metadata": {},
          "output_type": "display_data"
        },
        {
          "data": {
            "text/plain": [
              "<Figure size 1000x600 with 0 Axes>"
            ]
          },
          "metadata": {},
          "output_type": "display_data"
        },
        {
          "data": {
            "text/plain": [
              "<Figure size 1000x600 with 0 Axes>"
            ]
          },
          "metadata": {},
          "output_type": "display_data"
        },
        {
          "data": {
            "text/plain": [
              "<Figure size 1000x600 with 0 Axes>"
            ]
          },
          "metadata": {},
          "output_type": "display_data"
        },
        {
          "data": {
            "text/plain": [
              "<Figure size 1000x600 with 0 Axes>"
            ]
          },
          "metadata": {},
          "output_type": "display_data"
        },
        {
          "data": {
            "text/plain": [
              "<Figure size 1000x600 with 0 Axes>"
            ]
          },
          "metadata": {},
          "output_type": "display_data"
        },
        {
          "data": {
            "text/plain": [
              "<Figure size 1000x600 with 0 Axes>"
            ]
          },
          "metadata": {},
          "output_type": "display_data"
        },
        {
          "data": {
            "text/plain": [
              "<Figure size 1000x600 with 0 Axes>"
            ]
          },
          "metadata": {},
          "output_type": "display_data"
        },
        {
          "data": {
            "text/plain": [
              "<Figure size 1000x600 with 0 Axes>"
            ]
          },
          "metadata": {},
          "output_type": "display_data"
        },
        {
          "data": {
            "text/plain": [
              "<Figure size 1000x600 with 0 Axes>"
            ]
          },
          "metadata": {},
          "output_type": "display_data"
        },
        {
          "data": {
            "text/plain": [
              "<Figure size 1000x600 with 0 Axes>"
            ]
          },
          "metadata": {},
          "output_type": "display_data"
        },
        {
          "data": {
            "text/plain": [
              "<Figure size 1000x600 with 0 Axes>"
            ]
          },
          "metadata": {},
          "output_type": "display_data"
        },
        {
          "data": {
            "text/plain": [
              "<Figure size 1000x600 with 0 Axes>"
            ]
          },
          "metadata": {},
          "output_type": "display_data"
        },
        {
          "data": {
            "text/plain": [
              "<Figure size 1000x600 with 0 Axes>"
            ]
          },
          "metadata": {},
          "output_type": "display_data"
        },
        {
          "data": {
            "text/plain": [
              "<Figure size 1000x600 with 0 Axes>"
            ]
          },
          "metadata": {},
          "output_type": "display_data"
        },
        {
          "data": {
            "text/plain": [
              "<Figure size 1000x600 with 0 Axes>"
            ]
          },
          "metadata": {},
          "output_type": "display_data"
        },
        {
          "data": {
            "text/plain": [
              "<Figure size 1000x600 with 0 Axes>"
            ]
          },
          "metadata": {},
          "output_type": "display_data"
        },
        {
          "data": {
            "text/plain": [
              "<Figure size 1000x600 with 0 Axes>"
            ]
          },
          "metadata": {},
          "output_type": "display_data"
        },
        {
          "data": {
            "text/plain": [
              "<Figure size 1000x600 with 0 Axes>"
            ]
          },
          "metadata": {},
          "output_type": "display_data"
        },
        {
          "data": {
            "text/plain": [
              "<Figure size 1000x600 with 0 Axes>"
            ]
          },
          "metadata": {},
          "output_type": "display_data"
        },
        {
          "data": {
            "image/png": "[encoded data removed]",
            "text/plain": [
              "<Figure size 1000x600 with 1 Axes>"
            ]
          },
          "metadata": {},
          "output_type": "display_data"
        },
        {
          "data": {
            "image/png": "[encoded data removed]",
            "text/plain": [
              "<Figure size 800x600 with 2 Axes>"
            ]
          },
          "metadata": {},
          "output_type": "display_data"
        },
        {
          "name": "stdout",
          "output_type": "stream",
          "text": [
            "['std_dev', 'check_word0']\n",
            "Accuracy: 0.818\n",
            "['std_dev', 'check_word1']\n",
            "Accuracy: 0.818\n",
            "['std_dev', 'check_word2_3']\n",
            "Accuracy: 0.818\n",
            "['std_dev', 'check_word3']\n",
            "Accuracy: 0.818\n",
            "['std_dev', 'check_word4']\n",
            "Accuracy: 0.818\n",
            "['std_dev', 'check_word5']\n",
            "Accuracy: 0.818\n",
            "['std_dev', 'check_num']\n",
            "Accuracy: 0.827\n",
            "['std_dev', 'check_capitals']\n",
            "Accuracy: 0.801\n",
            "['std_dev', 'check_et']\n",
            "Accuracy: 0.815\n",
            "['sent_len_diff', 'count_short_sentences_in_paragraphs']\n",
            "Accuracy: 0.750\n",
            "['sent_len_diff', 'count_long_sentences_in_paragraphs']\n",
            "Accuracy: 0.818\n",
            "['sent_len_diff', 'check_word0']\n",
            "Accuracy: 0.718\n",
            "['sent_len_diff', 'check_word1']\n",
            "Accuracy: 0.718\n",
            "['sent_len_diff', 'check_word2_3']\n",
            "Accuracy: 0.718\n",
            "['sent_len_diff', 'check_word3']\n",
            "Accuracy: 0.718\n",
            "['sent_len_diff', 'check_word4']\n",
            "Accuracy: 0.718\n",
            "['sent_len_diff', 'check_word5']\n",
            "Accuracy: 0.718\n",
            "['sent_len_diff', 'check_num']\n",
            "Accuracy: 0.682\n",
            "['sent_len_diff', 'check_capitals']\n",
            "Accuracy: 0.748\n",
            "['sent_len_diff', 'check_et']\n",
            "Accuracy: 0.718\n",
            "['count_short_sentences_in_paragraphs', 'count_long_sentences_in_paragraphs']\n"
          ]
        },
        {
          "name": "stderr",
          "output_type": "stream",
          "text": [
            "/var/folders/n2/wvbyn25n1xgcbwfkrnb9r7tm0000gn/T/ipykernel_17089/2230831433.py:2: RuntimeWarning: More than 20 figures have been opened. Figures created through the pyplot interface (`matplotlib.pyplot.figure`) are retained until explicitly closed and may consume too much memory. (To control this warning, see the rcParam `figure.max_open_warning`). Consider using `matplotlib.pyplot.close()`.\n",
            "  plt.figure(figsize=(10, 6))\n"
          ]
        },
        {
          "name": "stdout",
          "output_type": "stream",
          "text": [
            "Accuracy: 0.748\n",
            "['count_short_sentences_in_paragraphs', 'check_word0']\n",
            "Accuracy: 0.598\n",
            "['count_short_sentences_in_paragraphs', 'check_word1']\n",
            "Accuracy: 0.598\n",
            "['count_short_sentences_in_paragraphs', 'check_word2_3']\n",
            "Accuracy: 0.598\n",
            "['count_short_sentences_in_paragraphs', 'check_word3']\n",
            "Accuracy: 0.598\n",
            "['count_short_sentences_in_paragraphs', 'check_word4']\n",
            "Accuracy: 0.598\n",
            "['count_short_sentences_in_paragraphs', 'check_word5']\n",
            "Accuracy: 0.598\n",
            "['count_short_sentences_in_paragraphs', 'check_num']\n",
            "Accuracy: 0.719\n",
            "['count_short_sentences_in_paragraphs', 'check_capitals']\n",
            "Accuracy: 0.617\n",
            "['count_short_sentences_in_paragraphs', 'check_et']\n",
            "Accuracy: 0.602\n",
            "['count_long_sentences_in_paragraphs', 'check_word0']\n",
            "Accuracy: 0.708\n",
            "['count_long_sentences_in_paragraphs', 'check_word1']\n",
            "Accuracy: 0.708\n",
            "['count_long_sentences_in_paragraphs', 'check_word2_3']\n",
            "Accuracy: 0.708\n",
            "['count_long_sentences_in_paragraphs', 'check_word3']\n",
            "Accuracy: 0.708\n",
            "['count_long_sentences_in_paragraphs', 'check_word4']\n",
            "Accuracy: 0.708\n",
            "['count_long_sentences_in_paragraphs', 'check_word5']\n",
            "Accuracy: 0.708\n",
            "['count_long_sentences_in_paragraphs', 'check_num']\n",
            "Accuracy: 0.737\n",
            "['count_long_sentences_in_paragraphs', 'check_capitals']\n",
            "Accuracy: 0.708\n",
            "['count_long_sentences_in_paragraphs', 'check_et']\n",
            "Accuracy: 0.708\n",
            "['check_word0', 'check_word1']\n",
            "Accuracy: 0.500\n",
            "['check_word0', 'check_word2_3']\n",
            "Accuracy: 0.500\n",
            "['check_word0', 'check_word3']\n",
            "Accuracy: 0.500\n",
            "['check_word0', 'check_word4']\n",
            "Accuracy: 0.500\n",
            "['check_word0', 'check_word5']\n",
            "Accuracy: 0.500\n",
            "['check_word0', 'check_num']\n",
            "Accuracy: 0.702\n",
            "['check_word0', 'check_capitals']\n",
            "Accuracy: 0.578\n",
            "['check_word0', 'check_et']\n",
            "Accuracy: 0.505\n",
            "['check_word1', 'check_word2_3']\n",
            "Accuracy: 0.500\n",
            "['check_word1', 'check_word3']\n",
            "Accuracy: 0.500\n",
            "['check_word1', 'check_word4']\n",
            "Accuracy: 0.500\n",
            "['check_word1', 'check_word5']\n",
            "Accuracy: 0.500\n",
            "['check_word1', 'check_num']\n",
            "Accuracy: 0.702\n",
            "['check_word1', 'check_capitals']\n",
            "Accuracy: 0.578\n",
            "['check_word1', 'check_et']\n",
            "Accuracy: 0.505\n",
            "['check_word2_3', 'check_word3']\n",
            "Accuracy: 0.500\n",
            "['check_word2_3', 'check_word4']\n",
            "Accuracy: 0.500\n",
            "['check_word2_3', 'check_word5']\n",
            "Accuracy: 0.500\n",
            "['check_word2_3', 'check_num']\n",
            "Accuracy: 0.702\n",
            "['check_word2_3', 'check_capitals']\n",
            "Accuracy: 0.578\n",
            "['check_word2_3', 'check_et']\n",
            "Accuracy: 0.505\n",
            "['check_word3', 'check_word4']\n",
            "Accuracy: 0.500\n",
            "['check_word3', 'check_word5']\n",
            "Accuracy: 0.500\n",
            "['check_word3', 'check_num']\n",
            "Accuracy: 0.702\n",
            "['check_word3', 'check_capitals']\n",
            "Accuracy: 0.578\n",
            "['check_word3', 'check_et']\n",
            "Accuracy: 0.505\n",
            "['check_word4', 'check_word5']\n",
            "Accuracy: 0.500\n",
            "['check_word4', 'check_num']\n",
            "Accuracy: 0.702\n",
            "['check_word4', 'check_capitals']\n",
            "Accuracy: 0.578\n",
            "['check_word4', 'check_et']\n",
            "Accuracy: 0.505\n",
            "['check_word5', 'check_num']\n",
            "Accuracy: 0.702\n",
            "['check_word5', 'check_capitals']\n",
            "Accuracy: 0.578\n",
            "['check_word5', 'check_et']\n",
            "Accuracy: 0.505\n",
            "['check_num', 'check_capitals']\n",
            "Accuracy: 0.702\n",
            "['check_num', 'check_et']\n",
            "Accuracy: 0.702\n",
            "['check_capitals', 'check_et']\n",
            "Accuracy: 0.578\n",
            "[{'model': 'no_sentence num_words', 'acc': 0.6341666666666667}, {'model': 'no_sentence character0', 'acc': 0.6966666666666667}, {'model': 'no_sentence character1', 'acc': 0.6833333333333333}, {'model': 'no_sentence character2_3', 'acc': 0.73}, {'model': 'no_sentence character4', 'acc': 0.655}, {'model': 'no_sentence character5', 'acc': 0.6558333333333334}, {'model': 'no_sentence std_dev', 'acc': 0.8783333333333333}, {'model': 'no_sentence sent_len_diff', 'acc': 0.7333333333333333}, {'model': 'no_sentence count_short_sentences_in_paragraphs', 'acc': 0.6691666666666667}, {'model': 'no_sentence count_long_sentences_in_paragraphs', 'acc': 0.7041666666666667}, {'model': 'no_sentence check_word0', 'acc': 0.655}, {'model': 'no_sentence check_word1', 'acc': 0.655}, {'model': 'no_sentence check_word2_3', 'acc': 0.655}, {'model': 'no_sentence check_word3', 'acc': 0.655}, {'model': 'no_sentence check_word4', 'acc': 0.655}, {'model': 'no_sentence check_word5', 'acc': 0.655}, {'model': 'no_sentence check_num', 'acc': 0.7541666666666667}, {'model': 'no_sentence check_capitals', 'acc': 0.6641666666666667}, {'model': 'no_sentence check_et', 'acc': 0.6566666666666666}, {'model': 'num_words character0', 'acc': 0.6625}, {'model': 'num_words character1', 'acc': 0.575}, {'model': 'num_words character2_3', 'acc': 0.6225}, {'model': 'num_words character4', 'acc': 0.585}, {'model': 'num_words character5', 'acc': 0.5791666666666667}, {'model': 'num_words std_dev', 'acc': 0.7508333333333334}, {'model': 'num_words sent_len_diff', 'acc': 0.6683333333333333}, {'model': 'num_words count_short_sentences_in_paragraphs', 'acc': 0.605}, {'model': 'num_words count_long_sentences_in_paragraphs', 'acc': 0.6775}, {'model': 'num_words check_word0', 'acc': 0.585}, {'model': 'num_words check_word1', 'acc': 0.585}, {'model': 'num_words check_word2_3', 'acc': 0.585}, {'model': 'num_words check_word3', 'acc': 0.585}, {'model': 'num_words check_word4', 'acc': 0.585}, {'model': 'num_words check_word5', 'acc': 0.585}, {'model': 'num_words check_num', 'acc': 0.6866666666666666}, {'model': 'num_words check_capitals', 'acc': 0.5733333333333334}, {'model': 'num_words check_et', 'acc': 0.585}, {'model': 'character0 character1', 'acc': 0.6991666666666667}, {'model': 'character0 character2_3', 'acc': 0.7175}, {'model': 'character0 character4', 'acc': 0.6991666666666667}, {'model': 'character0 character5', 'acc': 0.6991666666666667}, {'model': 'character0 std_dev', 'acc': 0.8158333333333333}, {'model': 'character0 sent_len_diff', 'acc': 0.6558333333333334}, {'model': 'character0 count_short_sentences_in_paragraphs', 'acc': 0.7125}, {'model': 'character0 count_long_sentences_in_paragraphs', 'acc': 0.7358333333333333}, {'model': 'character0 check_word0', 'acc': 0.6991666666666667}, {'model': 'character0 check_word1', 'acc': 0.6991666666666667}, {'model': 'character0 check_word2_3', 'acc': 0.6991666666666667}, {'model': 'character0 check_word3', 'acc': 0.6991666666666667}, {'model': 'character0 check_word4', 'acc': 0.6991666666666667}, {'model': 'character0 check_word5', 'acc': 0.6991666666666667}, {'model': 'character0 check_num', 'acc': 0.7258333333333333}, {'model': 'character0 check_capitals', 'acc': 0.6991666666666667}, {'model': 'character0 check_et', 'acc': 0.6991666666666667}, {'model': 'character1 character2_3', 'acc': 0.6175}, {'model': 'character1 character4', 'acc': 0.5375}, {'model': 'character1 character5', 'acc': 0.5375}, {'model': 'character1 std_dev', 'acc': 0.8241666666666667}, {'model': 'character1 sent_len_diff', 'acc': 0.7183333333333334}, {'model': 'character1 count_short_sentences_in_paragraphs', 'acc': 0.5975}, {'model': 'character1 count_long_sentences_in_paragraphs', 'acc': 0.7175}, {'model': 'character1 check_word0', 'acc': 0.5375}, {'model': 'character1 check_word1', 'acc': 0.5375}, {'model': 'character1 check_word2_3', 'acc': 0.5375}, {'model': 'character1 check_word3', 'acc': 0.5375}, {'model': 'character1 check_word4', 'acc': 0.5375}, {'model': 'character1 check_word5', 'acc': 0.5375}, {'model': 'character1 check_num', 'acc': 0.7058333333333333}, {'model': 'character1 check_capitals', 'acc': 0.5908333333333333}, {'model': 'character1 check_et', 'acc': 0.5375}, {'model': 'character2_3 character4', 'acc': 0.6175}, {'model': 'character2_3 character5', 'acc': 0.6116666666666667}, {'model': 'character2_3 std_dev', 'acc': 0.8683333333333333}, {'model': 'character2_3 sent_len_diff', 'acc': 0.7483333333333333}, {'model': 'character2_3 count_short_sentences_in_paragraphs', 'acc': 0.6825}, {'model': 'character2_3 count_long_sentences_in_paragraphs', 'acc': 0.7325}, {'model': 'character2_3 check_word0', 'acc': 0.6175}, {'model': 'character2_3 check_word1', 'acc': 0.6175}, {'model': 'character2_3 check_word2_3', 'acc': 0.6175}, {'model': 'character2_3 check_word3', 'acc': 0.6175}, {'model': 'character2_3 check_word4', 'acc': 0.6175}, {'model': 'character2_3 check_word5', 'acc': 0.6175}, {'model': 'character2_3 check_num', 'acc': 0.7175}, {'model': 'character2_3 check_capitals', 'acc': 0.61}, {'model': 'character2_3 check_et', 'acc': 0.62}, {'model': 'character4 character5', 'acc': 0.5291666666666667}, {'model': 'character4 std_dev', 'acc': 0.815}, {'model': 'character4 sent_len_diff', 'acc': 0.7183333333333334}, {'model': 'character4 count_short_sentences_in_paragraphs', 'acc': 0.5958333333333333}, {'model': 'character4 count_long_sentences_in_paragraphs', 'acc': 0.7083333333333334}, {'model': 'character4 check_word0', 'acc': 0.49833333333333335}, {'model': 'character4 check_word1', 'acc': 0.49833333333333335}, {'model': 'character4 check_word2_3', 'acc': 0.49833333333333335}, {'model': 'character4 check_word3', 'acc': 0.49833333333333335}, {'model': 'character4 check_word4', 'acc': 0.49833333333333335}, {'model': 'character4 check_word5', 'acc': 0.49833333333333335}, {'model': 'character4 check_num', 'acc': 0.6991666666666667}, {'model': 'character4 check_capitals', 'acc': 0.5783333333333334}, {'model': 'character4 check_et', 'acc': 0.5033333333333333}, {'model': 'character5 std_dev', 'acc': 0.8058333333333333}, {'model': 'character5 sent_len_diff', 'acc': 0.7183333333333334}, {'model': 'character5 count_short_sentences_in_paragraphs', 'acc': 0.6016666666666667}, {'model': 'character5 count_long_sentences_in_paragraphs', 'acc': 0.7083333333333334}, {'model': 'character5 check_word0', 'acc': 0.53}, {'model': 'character5 check_word1', 'acc': 0.53}, {'model': 'character5 check_word2_3', 'acc': 0.53}, {'model': 'character5 check_word3', 'acc': 0.53}, {'model': 'character5 check_word4', 'acc': 0.53}, {'model': 'character5 check_word5', 'acc': 0.53}, {'model': 'character5 check_num', 'acc': 0.7016666666666667}, {'model': 'character5 check_capitals', 'acc': 0.5783333333333334}, {'model': 'character5 check_et', 'acc': 0.5333333333333333}, {'model': 'std_dev sent_len_diff', 'acc': 0.7183333333333334}, {'model': 'std_dev count_short_sentences_in_paragraphs', 'acc': 0.8208333333333333}, {'model': 'std_dev count_long_sentences_in_paragraphs', 'acc': 0.9058333333333334}, {'model': 'std_dev check_word0', 'acc': 0.8175}, {'model': 'std_dev check_word1', 'acc': 0.8175}, {'model': 'std_dev check_word2_3', 'acc': 0.8175}, {'model': 'std_dev check_word3', 'acc': 0.8175}, {'model': 'std_dev check_word4', 'acc': 0.8175}, {'model': 'std_dev check_word5', 'acc': 0.8175}, {'model': 'std_dev check_num', 'acc': 0.8266666666666667}, {'model': 'std_dev check_capitals', 'acc': 0.8008333333333333}, {'model': 'std_dev check_et', 'acc': 0.815}, {'model': 'sent_len_diff count_short_sentences_in_paragraphs', 'acc': 0.75}, {'model': 'sent_len_diff count_long_sentences_in_paragraphs', 'acc': 0.8175}, {'model': 'sent_len_diff check_word0', 'acc': 0.7183333333333334}, {'model': 'sent_len_diff check_word1', 'acc': 0.7183333333333334}, {'model': 'sent_len_diff check_word2_3', 'acc': 0.7183333333333334}, {'model': 'sent_len_diff check_word3', 'acc': 0.7183333333333334}, {'model': 'sent_len_diff check_word4', 'acc': 0.7183333333333334}, {'model': 'sent_len_diff check_word5', 'acc': 0.7183333333333334}, {'model': 'sent_len_diff check_num', 'acc': 0.6816666666666666}, {'model': 'sent_len_diff check_capitals', 'acc': 0.7475}, {'model': 'sent_len_diff check_et', 'acc': 0.7183333333333334}, {'model': 'count_short_sentences_in_paragraphs count_long_sentences_in_paragraphs', 'acc': 0.7483333333333333}, {'model': 'count_short_sentences_in_paragraphs check_word0', 'acc': 0.5975}, {'model': 'count_short_sentences_in_paragraphs check_word1', 'acc': 0.5975}, {'model': 'count_short_sentences_in_paragraphs check_word2_3', 'acc': 0.5975}, {'model': 'count_short_sentences_in_paragraphs check_word3', 'acc': 0.5975}, {'model': 'count_short_sentences_in_paragraphs check_word4', 'acc': 0.5975}, {'model': 'count_short_sentences_in_paragraphs check_word5', 'acc': 0.5975}, {'model': 'count_short_sentences_in_paragraphs check_num', 'acc': 0.7191666666666666}, {'model': 'count_short_sentences_in_paragraphs check_capitals', 'acc': 0.6166666666666667}, {'model': 'count_short_sentences_in_paragraphs check_et', 'acc': 0.6016666666666667}, {'model': 'count_long_sentences_in_paragraphs check_word0', 'acc': 0.7083333333333334}, {'model': 'count_long_sentences_in_paragraphs check_word1', 'acc': 0.7083333333333334}, {'model': 'count_long_sentences_in_paragraphs check_word2_3', 'acc': 0.7083333333333334}, {'model': 'count_long_sentences_in_paragraphs check_word3', 'acc': 0.7083333333333334}, {'model': 'count_long_sentences_in_paragraphs check_word4', 'acc': 0.7083333333333334}, {'model': 'count_long_sentences_in_paragraphs check_word5', 'acc': 0.7083333333333334}, {'model': 'count_long_sentences_in_paragraphs check_num', 'acc': 0.7366666666666667}, {'model': 'count_long_sentences_in_paragraphs check_capitals', 'acc': 0.7083333333333334}, {'model': 'count_long_sentences_in_paragraphs check_et', 'acc': 0.7075}, {'model': 'check_word0 check_word1', 'acc': 0.5}, {'model': 'check_word0 check_word2_3', 'acc': 0.5}, {'model': 'check_word0 check_word3', 'acc': 0.5}, {'model': 'check_word0 check_word4', 'acc': 0.5}, {'model': 'check_word0 check_word5', 'acc': 0.5}, {'model': 'check_word0 check_num', 'acc': 0.7016666666666667}, {'model': 'check_word0 check_capitals', 'acc': 0.5783333333333334}, {'model': 'check_word0 check_et', 'acc': 0.505}, {'model': 'check_word1 check_word2_3', 'acc': 0.5}, {'model': 'check_word1 check_word3', 'acc': 0.5}, {'model': 'check_word1 check_word4', 'acc': 0.5}, {'model': 'check_word1 check_word5', 'acc': 0.5}, {'model': 'check_word1 check_num', 'acc': 0.7016666666666667}, {'model': 'check_word1 check_capitals', 'acc': 0.5783333333333334}, {'model': 'check_word1 check_et', 'acc': 0.505}, {'model': 'check_word2_3 check_word3', 'acc': 0.5}, {'model': 'check_word2_3 check_word4', 'acc': 0.5}, {'model': 'check_word2_3 check_word5', 'acc': 0.5}, {'model': 'check_word2_3 check_num', 'acc': 0.7016666666666667}, {'model': 'check_word2_3 check_capitals', 'acc': 0.5783333333333334}, {'model': 'check_word2_3 check_et', 'acc': 0.505}, {'model': 'check_word3 check_word4', 'acc': 0.5}, {'model': 'check_word3 check_word5', 'acc': 0.5}, {'model': 'check_word3 check_num', 'acc': 0.7016666666666667}, {'model': 'check_word3 check_capitals', 'acc': 0.5783333333333334}, {'model': 'check_word3 check_et', 'acc': 0.505}, {'model': 'check_word4 check_word5', 'acc': 0.5}, {'model': 'check_word4 check_num', 'acc': 0.7016666666666667}, {'model': 'check_word4 check_capitals', 'acc': 0.5783333333333334}, {'model': 'check_word4 check_et', 'acc': 0.505}, {'model': 'check_word5 check_num', 'acc': 0.7016666666666667}, {'model': 'check_word5 check_capitals', 'acc': 0.5783333333333334}, {'model': 'check_word5 check_et', 'acc': 0.505}, {'model': 'check_num check_capitals', 'acc': 0.7016666666666667}, {'model': 'check_num check_et', 'acc': 0.7016666666666667}, {'model': 'check_capitals check_et', 'acc': 0.5783333333333334}]\n"
          ]
        },
        {
          "data": {
            "text/plain": [
              "<Figure size 1000x600 with 0 Axes>"
            ]
          },
          "metadata": {},
          "output_type": "display_data"
        },
        {
          "data": {
            "text/plain": [
              "<Figure size 1000x600 with 0 Axes>"
            ]
          },
          "metadata": {},
          "output_type": "display_data"
        },
        {
          "data": {
            "text/plain": [
              "<Figure size 1000x600 with 0 Axes>"
            ]
          },
          "metadata": {},
          "output_type": "display_data"
        },
        {
          "data": {
            "text/plain": [
              "<Figure size 1000x600 with 0 Axes>"
            ]
          },
          "metadata": {},
          "output_type": "display_data"
        },
        {
          "data": {
            "text/plain": [
              "<Figure size 1000x600 with 0 Axes>"
            ]
          },
          "metadata": {},
          "output_type": "display_data"
        },
        {
          "data": {
            "text/plain": [
              "<Figure size 1000x600 with 0 Axes>"
            ]
          },
          "metadata": {},
          "output_type": "display_data"
        },
        {
          "data": {
            "text/plain": [
              "<Figure size 1000x600 with 0 Axes>"
            ]
          },
          "metadata": {},
          "output_type": "display_data"
        },
        {
          "data": {
            "text/plain": [
              "<Figure size 1000x600 with 0 Axes>"
            ]
          },
          "metadata": {},
          "output_type": "display_data"
        },
        {
          "data": {
            "text/plain": [
              "<Figure size 1000x600 with 0 Axes>"
            ]
          },
          "metadata": {},
          "output_type": "display_data"
        },
        {
          "data": {
            "text/plain": [
              "<Figure size 1000x600 with 0 Axes>"
            ]
          },
          "metadata": {},
          "output_type": "display_data"
        },
        {
          "data": {
            "text/plain": [
              "<Figure size 1000x600 with 0 Axes>"
            ]
          },
          "metadata": {},
          "output_type": "display_data"
        },
        {
          "data": {
            "text/plain": [
              "<Figure size 1000x600 with 0 Axes>"
            ]
          },
          "metadata": {},
          "output_type": "display_data"
        },
        {
          "data": {
            "text/plain": [
              "<Figure size 1000x600 with 0 Axes>"
            ]
          },
          "metadata": {},
          "output_type": "display_data"
        },
        {
          "data": {
            "text/plain": [
              "<Figure size 1000x600 with 0 Axes>"
            ]
          },
          "metadata": {},
          "output_type": "display_data"
        },
        {
          "data": {
            "text/plain": [
              "<Figure size 1000x600 with 0 Axes>"
            ]
          },
          "metadata": {},
          "output_type": "display_data"
        },
        {
          "data": {
            "text/plain": [
              "<Figure size 1000x600 with 0 Axes>"
            ]
          },
          "metadata": {},
          "output_type": "display_data"
        },
        {
          "data": {
            "text/plain": [
              "<Figure size 1000x600 with 0 Axes>"
            ]
          },
          "metadata": {},
          "output_type": "display_data"
        },
        {
          "data": {
            "text/plain": [
              "<Figure size 1000x600 with 0 Axes>"
            ]
          },
          "metadata": {},
          "output_type": "display_data"
        },
        {
          "data": {
            "text/plain": [
              "<Figure size 1000x600 with 0 Axes>"
            ]
          },
          "metadata": {},
          "output_type": "display_data"
        },
        {
          "data": {
            "text/plain": [
              "<Figure size 1000x600 with 0 Axes>"
            ]
          },
          "metadata": {},
          "output_type": "display_data"
        },
        {
          "data": {
            "text/plain": [
              "<Figure size 1000x600 with 0 Axes>"
            ]
          },
          "metadata": {},
          "output_type": "display_data"
        },
        {
          "data": {
            "text/plain": [
              "<Figure size 1000x600 with 0 Axes>"
            ]
          },
          "metadata": {},
          "output_type": "display_data"
        },
        {
          "data": {
            "text/plain": [
              "<Figure size 1000x600 with 0 Axes>"
            ]
          },
          "metadata": {},
          "output_type": "display_data"
        },
        {
          "data": {
            "text/plain": [
              "<Figure size 1000x600 with 0 Axes>"
            ]
          },
          "metadata": {},
          "output_type": "display_data"
        },
        {
          "data": {
            "text/plain": [
              "<Figure size 1000x600 with 0 Axes>"
            ]
          },
          "metadata": {},
          "output_type": "display_data"
        },
        {
          "data": {
            "text/plain": [
              "<Figure size 1000x600 with 0 Axes>"
            ]
          },
          "metadata": {},
          "output_type": "display_data"
        },
        {
          "data": {
            "text/plain": [
              "<Figure size 1000x600 with 0 Axes>"
            ]
          },
          "metadata": {},
          "output_type": "display_data"
        },
        {
          "data": {
            "text/plain": [
              "<Figure size 1000x600 with 0 Axes>"
            ]
          },
          "metadata": {},
          "output_type": "display_data"
        },
        {
          "data": {
            "text/plain": [
              "<Figure size 1000x600 with 0 Axes>"
            ]
          },
          "metadata": {},
          "output_type": "display_data"
        },
        {
          "data": {
            "text/plain": [
              "<Figure size 1000x600 with 0 Axes>"
            ]
          },
          "metadata": {},
          "output_type": "display_data"
        },
        {
          "data": {
            "text/plain": [
              "<Figure size 1000x600 with 0 Axes>"
            ]
          },
          "metadata": {},
          "output_type": "display_data"
        },
        {
          "data": {
            "text/plain": [
              "<Figure size 1000x600 with 0 Axes>"
            ]
          },
          "metadata": {},
          "output_type": "display_data"
        },
        {
          "data": {
            "text/plain": [
              "<Figure size 1000x600 with 0 Axes>"
            ]
          },
          "metadata": {},
          "output_type": "display_data"
        },
        {
          "data": {
            "text/plain": [
              "<Figure size 1000x600 with 0 Axes>"
            ]
          },
          "metadata": {},
          "output_type": "display_data"
        },
        {
          "data": {
            "text/plain": [
              "<Figure size 1000x600 with 0 Axes>"
            ]
          },
          "metadata": {},
          "output_type": "display_data"
        },
        {
          "data": {
            "text/plain": [
              "<Figure size 1000x600 with 0 Axes>"
            ]
          },
          "metadata": {},
          "output_type": "display_data"
        },
        {
          "data": {
            "text/plain": [
              "<Figure size 1000x600 with 0 Axes>"
            ]
          },
          "metadata": {},
          "output_type": "display_data"
        },
        {
          "data": {
            "text/plain": [
              "<Figure size 1000x600 with 0 Axes>"
            ]
          },
          "metadata": {},
          "output_type": "display_data"
        },
        {
          "data": {
            "text/plain": [
              "<Figure size 1000x600 with 0 Axes>"
            ]
          },
          "metadata": {},
          "output_type": "display_data"
        },
        {
          "data": {
            "text/plain": [
              "<Figure size 1000x600 with 0 Axes>"
            ]
          },
          "metadata": {},
          "output_type": "display_data"
        },
        {
          "data": {
            "text/plain": [
              "<Figure size 1000x600 with 0 Axes>"
            ]
          },
          "metadata": {},
          "output_type": "display_data"
        },
        {
          "data": {
            "text/plain": [
              "<Figure size 1000x600 with 0 Axes>"
            ]
          },
          "metadata": {},
          "output_type": "display_data"
        },
        {
          "data": {
            "text/plain": [
              "<Figure size 1000x600 with 0 Axes>"
            ]
          },
          "metadata": {},
          "output_type": "display_data"
        },
        {
          "data": {
            "text/plain": [
              "<Figure size 1000x600 with 0 Axes>"
            ]
          },
          "metadata": {},
          "output_type": "display_data"
        },
        {
          "data": {
            "text/plain": [
              "<Figure size 1000x600 with 0 Axes>"
            ]
          },
          "metadata": {},
          "output_type": "display_data"
        },
        {
          "data": {
            "text/plain": [
              "<Figure size 1000x600 with 0 Axes>"
            ]
          },
          "metadata": {},
          "output_type": "display_data"
        },
        {
          "data": {
            "text/plain": [
              "<Figure size 1000x600 with 0 Axes>"
            ]
          },
          "metadata": {},
          "output_type": "display_data"
        },
        {
          "data": {
            "text/plain": [
              "<Figure size 1000x600 with 0 Axes>"
            ]
          },
          "metadata": {},
          "output_type": "display_data"
        },
        {
          "data": {
            "text/plain": [
              "<Figure size 1000x600 with 0 Axes>"
            ]
          },
          "metadata": {},
          "output_type": "display_data"
        },
        {
          "data": {
            "text/plain": [
              "<Figure size 1000x600 with 0 Axes>"
            ]
          },
          "metadata": {},
          "output_type": "display_data"
        },
        {
          "data": {
            "text/plain": [
              "<Figure size 1000x600 with 0 Axes>"
            ]
          },
          "metadata": {},
          "output_type": "display_data"
        },
        {
          "data": {
            "text/plain": [
              "<Figure size 1000x600 with 0 Axes>"
            ]
          },
          "metadata": {},
          "output_type": "display_data"
        },
        {
          "data": {
            "text/plain": [
              "<Figure size 1000x600 with 0 Axes>"
            ]
          },
          "metadata": {},
          "output_type": "display_data"
        },
        {
          "data": {
            "text/plain": [
              "<Figure size 1000x600 with 0 Axes>"
            ]
          },
          "metadata": {},
          "output_type": "display_data"
        },
        {
          "data": {
            "text/plain": [
              "<Figure size 1000x600 with 0 Axes>"
            ]
          },
          "metadata": {},
          "output_type": "display_data"
        },
        {
          "data": {
            "text/plain": [
              "<Figure size 1000x600 with 0 Axes>"
            ]
          },
          "metadata": {},
          "output_type": "display_data"
        },
        {
          "data": {
            "text/plain": [
              "<Figure size 1000x600 with 0 Axes>"
            ]
          },
          "metadata": {},
          "output_type": "display_data"
        },
        {
          "data": {
            "text/plain": [
              "<Figure size 1000x600 with 0 Axes>"
            ]
          },
          "metadata": {},
          "output_type": "display_data"
        },
        {
          "data": {
            "text/plain": [
              "<Figure size 1000x600 with 0 Axes>"
            ]
          },
          "metadata": {},
          "output_type": "display_data"
        },
        {
          "data": {
            "text/plain": [
              "<Figure size 1000x600 with 0 Axes>"
            ]
          },
          "metadata": {},
          "output_type": "display_data"
        },
        {
          "data": {
            "text/plain": [
              "<Figure size 1000x600 with 0 Axes>"
            ]
          },
          "metadata": {},
          "output_type": "display_data"
        },
        {
          "data": {
            "text/plain": [
              "<Figure size 1000x600 with 0 Axes>"
            ]
          },
          "metadata": {},
          "output_type": "display_data"
        },
        {
          "data": {
            "text/plain": [
              "<Figure size 1000x600 with 0 Axes>"
            ]
          },
          "metadata": {},
          "output_type": "display_data"
        },
        {
          "data": {
            "text/plain": [
              "<Figure size 1000x600 with 0 Axes>"
            ]
          },
          "metadata": {},
          "output_type": "display_data"
        },
        {
          "data": {
            "text/plain": [
              "<Figure size 1000x600 with 0 Axes>"
            ]
          },
          "metadata": {},
          "output_type": "display_data"
        },
        {
          "data": {
            "text/plain": [
              "<Figure size 1000x600 with 0 Axes>"
            ]
          },
          "metadata": {},
          "output_type": "display_data"
        },
        {
          "data": {
            "text/plain": [
              "<Figure size 1000x600 with 0 Axes>"
            ]
          },
          "metadata": {},
          "output_type": "display_data"
        },
        {
          "data": {
            "text/plain": [
              "<Figure size 1000x600 with 0 Axes>"
            ]
          },
          "metadata": {},
          "output_type": "display_data"
        },
        {
          "data": {
            "text/plain": [
              "<Figure size 1000x600 with 0 Axes>"
            ]
          },
          "metadata": {},
          "output_type": "display_data"
        },
        {
          "data": {
            "text/plain": [
              "<Figure size 1000x600 with 0 Axes>"
            ]
          },
          "metadata": {},
          "output_type": "display_data"
        },
        {
          "data": {
            "text/plain": [
              "<Figure size 1000x600 with 0 Axes>"
            ]
          },
          "metadata": {},
          "output_type": "display_data"
        },
        {
          "data": {
            "text/plain": [
              "<Figure size 1000x600 with 0 Axes>"
            ]
          },
          "metadata": {},
          "output_type": "display_data"
        },
        {
          "data": {
            "text/plain": [
              "<Figure size 1000x600 with 0 Axes>"
            ]
          },
          "metadata": {},
          "output_type": "display_data"
        },
        {
          "data": {
            "text/plain": [
              "<Figure size 1000x600 with 0 Axes>"
            ]
          },
          "metadata": {},
          "output_type": "display_data"
        },
        {
          "data": {
            "text/plain": [
              "<Figure size 1000x600 with 0 Axes>"
            ]
          },
          "metadata": {},
          "output_type": "display_data"
        }
      ],
      "source": [
        "xgb_pairwise_classifiers = []\n",
        "performance = []\n",
        "for i in range(len(X_train)):\n",
        "    print(list(X_train[i].columns.values))\n",
        "    values = list(X_train[i].columns.values)\n",
        "    title = ' '.join(values)\n",
        "    xgb_classifiers, acc = xgboost_train(X_train[i], y_train[i], X_val[i], y_val[i], X_test[i], y_test[i])\n",
        "    xgb_pairwise_classifiers.append(xgb_classifiers)\n",
        "    accuracy_dict = {\n",
        "    'model': title,  \n",
        "    'acc': acc }\n",
        "    performance.append(accuracy_dict)\n",
        "print(performance)"
      ]
    },
    {
      "cell_type": "code",
      "execution_count": 1,
      "metadata": {},
      "outputs": [
        {
          "ename": "NameError",
          "evalue": "name 'performance' is not defined",
          "output_type": "error",
          "traceback": [
            "\u001b[0;31m---------------------------------------------------------------------------\u001b[0m",
            "\u001b[0;31mNameError\u001b[0m                                 Traceback (most recent call last)",
            "Cell \u001b[0;32mIn[1], line 1\u001b[0m\n\u001b[0;32m----> 1\u001b[0m models \u001b[39m=\u001b[39m [d[\u001b[39m'\u001b[39m\u001b[39mmodel\u001b[39m\u001b[39m'\u001b[39m] \u001b[39mfor\u001b[39;00m d \u001b[39min\u001b[39;00m performance]\n\u001b[1;32m      2\u001b[0m accuracies \u001b[39m=\u001b[39m [d[\u001b[39m'\u001b[39m\u001b[39macc\u001b[39m\u001b[39m'\u001b[39m] \u001b[39mfor\u001b[39;00m d \u001b[39min\u001b[39;00m performance]\n\u001b[1;32m      4\u001b[0m plt\u001b[39m.\u001b[39mfigure(figsize\u001b[39m=\u001b[39m(\u001b[39m20\u001b[39m, \u001b[39m10\u001b[39m))\n",
            "\u001b[0;31mNameError\u001b[0m: name 'performance' is not defined"
          ]
        }
      ],
      "source": [
        "models = [d['model'] for d in performance]\n",
        "accuracies = [d['acc'] for d in performance]\n",
        "\n",
        "plt.figure(figsize=(20, 10))\n",
        "plt.barh(models, accuracies, color='blue')\n",
        "\n",
        "plt.title('Model vs. Accuracy')\n",
        "plt.xlabel('Model')\n",
        "plt.ylabel('Accuracy')\n",
        "\n",
        "plt.xlim(0, 1) \n",
        "plt.show()"
      ]
    },
    {
      "cell_type": "code",
      "execution_count": 17,
      "metadata": {},
      "outputs": [
        {
          "ename": "TypeError",
          "evalue": "'list' object cannot be interpreted as an integer",
          "output_type": "error",
          "traceback": [
            "\u001b[0;31m---------------------------------------------------------------------------\u001b[0m",
            "\u001b[0;31mTypeError\u001b[0m                                 Traceback (most recent call last)",
            "Cell \u001b[0;32mIn[17], line 1\u001b[0m\n\u001b[0;32m----> 1\u001b[0m performance_test(xgb_pairwise_classifiers, X_test, y_test)\n",
            "Cell \u001b[0;32mIn[5], line 3\u001b[0m, in \u001b[0;36mperformance_test\u001b[0;34m(xgb_classifier, X_test_list, y_test_list)\u001b[0m\n\u001b[1;32m      1\u001b[0m \u001b[39mdef\u001b[39;00m \u001b[39mperformance_test\u001b[39m(xgb_classifier, X_test_list, y_test_list):\n\u001b[1;32m      2\u001b[0m     y_pred_list \u001b[39m=\u001b[39m []\n\u001b[0;32m----> 3\u001b[0m     \u001b[39mfor\u001b[39;00m i \u001b[39min\u001b[39;00m \u001b[39mrange\u001b[39;49m(X_test_list):\n\u001b[1;32m      4\u001b[0m         y_pred \u001b[39m=\u001b[39m xgb_classifier[i]\u001b[39m.\u001b[39mpredict(X_test_list[i])\n\u001b[1;32m      7\u001b[0m         \u001b[39m# Compute confusion matrix\u001b[39;00m\n",
            "\u001b[0;31mTypeError\u001b[0m: 'list' object cannot be interpreted as an integer"
          ]
        }
      ],
      "source": [
        "performance_test(xgb_pairwise_classifiers, X_test, y_test)"
      ]
    }
  ],
  "metadata": {
    "accelerator": "GPU",
    "colab": {
      "gpuType": "T4",
      "provenance": []
    },
    "kernelspec": {
      "display_name": "Python 3 (ipykernel)",
      "language": "python",
      "name": "python3"
    },
    "language_info": {
      "codemirror_mode": {
        "name": "ipython",
        "version": 3
      },
      "file_extension": ".py",
      "mimetype": "text/x-python",
      "name": "python",
      "nbconvert_exporter": "python",
      "pygments_lexer": "ipython3",
      "version": "3.10.8"
    }
  },
  "nbformat": 4,
  "nbformat_minor": 0
}
