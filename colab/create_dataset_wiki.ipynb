{
  "cells": [
    {
      "cell_type": "code",
      "execution_count": null,
      "metadata": {
        "colab": {
          "base_uri": "https://localhost:8080/"
        },
        "id": "U3GRePfSkvL3",
        "outputId": "e20ff3db-2d30-473f-a648-ff24fe7571eb"
      },
      "outputs": [
        {
          "name": "stdout",
          "output_type": "stream",
          "text": [
            "Mounted at /content/drive\n"
          ]
        }
      ],
      "source": [
        "from google.colab import drive\n",
        "drive.mount('/content/drive')"
      ]
    },
    {
      "cell_type": "code",
      "execution_count": 2,
      "metadata": {
        "colab": {
          "base_uri": "https://localhost:8080/"
        },
        "id": "Sd4DpYTTk-dE",
        "outputId": "1abb246a-12ef-48cf-a287-f3ff7bc10262"
      },
      "outputs": [
        {
          "name": "stdout",
          "output_type": "stream",
          "text": [
            "Collecting wget\n",
            "  Downloading wget-3.2.zip (10 kB)\n",
            "  Preparing metadata (setup.py) ... \u001b[?25ldone\n",
            "\u001b[?25hBuilding wheels for collected packages: wget\n",
            "  Building wheel for wget (setup.py) ... \u001b[?25ldone\n",
            "\u001b[?25h  Created wheel for wget: filename=wget-3.2-py3-none-any.whl size=9656 sha256=3429872ca3916bd647f376388d13e686622eaa08be5303c20a38a482a53ada87\n",
            "  Stored in directory: /Users/supriyaupadhyaya/Library/Caches/pip/wheels/8b/f1/7f/5c94f0a7a505ca1c81cd1d9208ae2064675d97582078e6c769\n",
            "Successfully built wget\n",
            "Installing collected packages: wget\n",
            "Successfully installed wget-3.2\n",
            "\n",
            "\u001b[1m[\u001b[0m\u001b[34;49mnotice\u001b[0m\u001b[1;39;49m]\u001b[0m\u001b[39;49m A new release of pip is available: \u001b[0m\u001b[31;49m23.1.2\u001b[0m\u001b[39;49m -> \u001b[0m\u001b[32;49m24.0\u001b[0m\n",
            "\u001b[1m[\u001b[0m\u001b[34;49mnotice\u001b[0m\u001b[1;39;49m]\u001b[0m\u001b[39;49m To update, run: \u001b[0m\u001b[32;49mpip install --upgrade pip\u001b[0m\n",
            "Note: you may need to restart the kernel to use updated packages.\n"
          ]
        }
      ],
      "source": [
        "pip install wget"
      ]
    },
    {
      "cell_type": "code",
      "execution_count": 4,
      "metadata": {
        "colab": {
          "base_uri": "https://localhost:8080/"
        },
        "id": "Rs1tt1polBsS",
        "outputId": "3949817c-e363-43a1-eb11-1f1edbca8fb6"
      },
      "outputs": [
        {
          "name": "stdout",
          "output_type": "stream",
          "text": [
            "['/Users/supriyaupadhyaya/ovgu/generative-text-detectors/m4/with_n/wiki/wikipedia_bloomz.jsonl', '/Users/supriyaupadhyaya/ovgu/generative-text-detectors/m4/with_n/wiki/wikipedia_chatgpt.jsonl', '/Users/supriyaupadhyaya/ovgu/generative-text-detectors/m4/with_n/wiki/wikipedia_cohere.jsonl', '/Users/supriyaupadhyaya/ovgu/generative-text-detectors/m4/with_n/wiki/wikipedia_davinci.jsonl']\n"
          ]
        }
      ],
      "source": [
        "import wget\n",
        "import os\n",
        "filename = []\n",
        "output_directory = \"/Users/supriyaupadhyaya/ovgu/generative-text-detectors/m4/with_n/wiki/\"\n",
        "urls = ['https://raw.githubusercontent.com/mbzuai-nlp/M4/main/data/wikipedia_bloomz.jsonl',\n",
        "        'https://raw.githubusercontent.com/mbzuai-nlp/M4/main/data/wikipedia_chatgpt.jsonl',\n",
        "        'https://raw.githubusercontent.com/mbzuai-nlp/M4/main/data/wikipedia_cohere.jsonl',\n",
        "        'https://raw.githubusercontent.com/mbzuai-nlp/M4/main/data/wikipedia_davinci.jsonl']\n",
        "\n",
        "for url in urls:\n",
        "    output_filename = output_directory + os.path.basename(url) # get the full path of the file\n",
        "    if os.path.exists(output_filename):\n",
        "        os.remove(output_filename) # if exist, remove it directly\n",
        "    filename.append(wget.download(url, out=output_filename))\n",
        "print(filename)"
      ]
    },
    {
      "cell_type": "code",
      "execution_count": 6,
      "metadata": {
        "id": "OdGZTUmQlO-2"
      },
      "outputs": [],
      "source": [
        "import pandas as pd\n",
        "import numpy as np\n",
        "import json\n",
        "\n",
        "def read_jsonl(file_path):\n",
        "    data = []\n",
        "    with open(file_path, 'r') as file:\n",
        "        for line in file:\n",
        "            line = line.strip()\n",
        "            if line:\n",
        "                try:\n",
        "                    data.append(json.loads(line))\n",
        "                except json.JSONDecodeError as e:\n",
        "                    print(f\"Error decoding JSON on line: {line}\")\n",
        "                    print(e)\n",
        "    return data\n",
        "def write_jsonl(data, file_path):\n",
        "    with open(file_path, 'w') as file:\n",
        "        for item in data:\n",
        "            json.dump(item, file)\n",
        "            file.write('\\n')\n",
        "\n",
        "def create_dataset(jsonpath, name):\n",
        "# Example usage\n",
        "  file_path = jsonpath\n",
        "  json_data = read_jsonl(file_path)\n",
        "  print(json_data[0])\n",
        "  print(len(json_data))\n",
        "\n",
        "  from sklearn.model_selection import train_test_split\n",
        "  X_train_full, X_test, y_train_full, y_test=train_test_split(json_data,json_data,shuffle=True, test_size=0.2, random_state=42)\n",
        "\n",
        "  len(X_train_full)\n",
        "  X_train_full[0]\n",
        "  len(X_test)\n",
        "\n",
        "  file_path = name + \"_test.jsonl\"\n",
        "  write_jsonl(X_test, file_path)\n",
        "\n",
        "  X_train, X_val, y_train, y_val=train_test_split(X_train_full, X_train_full, test_size=0.2, shuffle=True, random_state=42)\n",
        "\n",
        "  len(X_train)\n",
        "  len(X_val)\n",
        "\n",
        "  file_path = name + \"_train.jsonl\"\n",
        "  write_jsonl(X_train, file_path)\n",
        "  file_path = name + \"_validation.jsonl\"\n",
        "  write_jsonl(X_val, file_path)"
      ]
    },
    {
      "cell_type": "code",
      "execution_count": 7,
      "metadata": {
        "id": "gLrgS5tsuK2A"
      },
      "outputs": [],
      "source": [
        "import pandas as pd\n",
        "\n",
        "# Function to load JSONL file into DataFrame\n",
        "def load_jsonl_to_df(file_path):\n",
        "    data = []\n",
        "    with open(file_path, 'r') as file:\n",
        "        for line in file:\n",
        "            data.append(json.loads(line))\n",
        "    return pd.DataFrame(data)\n",
        "\n",
        "def compare_cols(file_path1, file_path2, col1, col2):\n",
        "\n",
        "    # Load the first JSONL file into DataFrame\n",
        "    df1 = load_jsonl_to_df(file_path1)\n",
        "\n",
        "    # Load the second JSONL file into DataFrame\n",
        "    df2 = load_jsonl_to_df(file_path2)\n",
        "\n",
        "    comparison_result = sorted(df1[col1]) == sorted(df2[col2])\n",
        "\n",
        "    print(comparison_result)\n",
        "\n",
        "    return None"
      ]
    },
    {
      "cell_type": "code",
      "execution_count": 8,
      "metadata": {
        "colab": {
          "base_uri": "https://localhost:8080/"
        },
        "id": "vu3sRdD-y_Yb",
        "outputId": "42db7dd0-d240-43bb-a2f1-cf716ad39e98"
      },
      "outputs": [
        {
          "name": "stdout",
          "output_type": "stream",
          "text": [
            "{'id': 'William Whitehouse', 'url': 'https://en.wikipedia.org/wiki/William%20Whitehouse', 'title': 'William Whitehouse', 'text': \"William Edward Whitehouse (20 May 1859 – 12 January 1935) was an English cellist.\\n\\nCareer\\nHe studied for one year with Alfredo Piatti, for whom he deputised (taking his place in concerts when called upon), and was his favourite pupil. He went on to teach at the Royal Academy of Music, Royal College of Music and King's College, Cambridge; his students included Felix Salmond and Beatrice Harrison, who both became closely associated with Edward Elgar. He played with violinist Joseph Joachim, and formed The London Trio with violinist Achille Simonetti and pianist Amina Goodwin. He edited Piatti's Caprices, with suggestions as to how his former teacher preferred them to be played.\\n\\nExternal links\\n William Whitehouse\\n The Violoncello and the Romantic Era: 1820-1920: Part II — A Survey of Current Cello Teachers on Romantic Repertoire and Aesthetics\\n\\n1859 births\\n1935 deaths\\n20th-century classical musicians\\nAcademics of the Royal Academy of Music\\nAcademics of the Royal College of Music\\nEnglish cellists\", 'machine_abstract': \"The William Whitehouse was the first steam-powered ship to be built in Australia, and is now preserved as part of the National Maritime Museum's collection at Darling Harbour on Sydney Waterfront.\\nHistory\\n\\nIn 1839 Captain John Macarthur had been appointed by Governor George Arthur (1790–1864) to explore the potential of establishing a settlement near Port Stephens.  In 1840 he returned from his expedition accompanied by two convicts who were sent out under escort by HMS\\xa0Buffalo.   The ships arrived off Stingray Harbor on 9 February 1841 where they found that the convict party led by Lieutenant James Grant had already established themselves there.    On 11 March 1841 Captain Macarthur formally took possession of the land which became known as New South Wales. \\nCaptain Macarthur decided to build a boat capable of transporting goods between Sydney and Newcastle via the Clarence River.   He commissioned local carpenter Thomas Dredge to design it but when this proved too difficult Mr Dredge suggested using a model supplied by Robert Fulton.  \\nMr Dredge died before construction began so Captain Macarthur employed another local craftsman named Henry Hoddle to complete the work.   It was launched on 1 May 1842 after being christened by Mrs Sarah Macarthur.   She sailed successfully along her intended route until she ran aground during high winds while returning to Sydney harbour.    \\nShe was rebuilt again in 1844 and renamed the Lady Juliana.   This time however she sank within sight of Sydney Heads shortly afterwards due to bad weather conditions.   Her final voyage ended tragically when she capsized just outside Sydney Heads killing all aboard including Captain Macarthur himself.\\n\\nAfter these failures Captain Macarthur turned instead towards building a larger vessel called the SS Great Britain designed by British engineer Richard Trevithick.   However plans fell through because of financial difficulties caused by the collapse of the Bank of NSW and the death of its founder Alexander Hamilton in 1843.  \\n\\nA new plan emerged involving the purchase of a large steamer then moored in London's Victoria Dockyard belonging to the firm of J & G Wilson.   After negotiations failed Captain Macarthur purchased the hull itself and shipped it back to Sydney where it was reassembled and fitted...\", 'machine_text': 'Write an abstract for a Wikipedia article with a title: \"William Whitehouse\". Abstract:\\nThe William Whitehouse was the first steam-powered ship to be built in Australia, and is now preserved as part of the National Maritime Museum\\'s collection at Darling Harbour on Sydney Waterfront.\\nHistory\\n\\nIn 1839 Captain John Macarthur had been appointed by Governor George Arthur (1790–1864) to explore the potential of establishing a settlement near Port Stephens.  In 1840 he returned from his expedition accompanied by two convicts who were sent out under escort by HMS\\xa0Buffalo.   The ships arrived off Stingray Harbor on 9 February 1841 where they found that the convict party led by Lieutenant James Grant had already established themselves there.    On 11 March 1841 Captain Macarthur formally took possession of the land which became known as New South Wales. \\nCaptain Macarthur decided to build a boat capable of transporting goods between Sydney and Newcastle via the Clarence River.   He commissioned local carpenter Thomas Dredge to design it but when this proved too difficult Mr Dredge suggested using a model supplied by Robert Fulton.  \\nMr Dredge died before construction began so Captain Macarthur employed another local craftsman named Henry Hoddle to complete the work.   It was launched on 1 May 1842 after being christened by Mrs Sarah Macarthur.   She sailed successfully along her intended route until she ran aground during high winds while returning to Sydney harbour.    \\nShe was rebuilt again in 1844 and renamed the Lady Juliana.   This time however she sank within sight of Sydney Heads shortly afterwards due to bad weather conditions.   Her final voyage ended tragically when she capsized just outside Sydney Heads killing all aboard including Captain Macarthur himself.\\n\\nAfter these failures Captain Macarthur turned instead towards building a larger vessel called the SS Great Britain designed by British engineer Richard Trevithick.   However plans fell through because of financial difficulties caused by the collapse of the Bank of NSW and the death of its founder Alexander Hamilton in 1843.  \\n\\nA new plan emerged involving the purchase of a large steamer then moored in London\\'s Victoria Dockyard belonging to the firm of J & G Wilson.   After negotiations failed Captain Macarthur purchased the hull itself and shipped it back to Sydney where it was reassembled and fitted...', 'prompt': 'Write an abstract for a Wikipedia article with a title: \"{title}\". Abstract:\\n', 'score': 0.2583110312, 'probas': '[0.0997314453125, 0.19091796875, 0.42236328125, 0.44970703125, 0.1292724609375, 0.242919921875, 0.341552734375, 0.2464599609375, 0.409912109375, 0.998046875, 0.1376953125, 0.5205078125, 0.244140625, 0.58056640625, 0.6171875, 0.191650390625, 0.424072265625, 0.380859375, 0.14990234375, 0.217041015625, 0.338134765625, 0.45849609375, 0.406005859375, 0.9990234375, 0.244384765625, 0.2061767578125, 0.478271484375, 0.98193359375, 0.33837890625, 0.1922607421875, 0.451904296875, 0.5810546875, 0.986328125, 0.9736328125, 0.1571044921875, 0.93115234375, 0.1900634765625, 0.8994140625, 0.226318359375, 0.1917724609375, 0.71630859375, 0.2210693359375, 0.046417236328125, 0.15380859375, 0.316650390625, 0.08160400390625, 0.35498046875, 1.0, 0.048858642578125, 0.07073974609375, 0.2279052734375, 0.1903076171875, 0.552734375, 0.205078125, 0.413330078125, 0.236083984375, 0.159423828125, 0.07080078125, 0.54833984375, 0.1094970703125, 0.9248046875, 0.28125, 0.1300048828125, 0.11224365234375, 0.07757568359375, 0.1260986328125, 0.214599609375, 0.1146240234375, 0.2822265625, 0.22021484375, 0.31494140625, 0.72412109375, 1.0, 0.11175537109375, 0.1859130859375, 0.318603515625, 0.70068359375, 0.12408447265625, 0.495849609375, 0.74853515625, 0.2646484375, 0.12054443359375, 0.82080078125, 0.0985107421875, 0.1973876953125, 0.99755859375, 0.23095703125, 0.41650390625, 0.0439453125, 0.24072265625, 0.29296875, 0.09039306640625, 0.112060546875, 0.395263671875, 0.369384765625, 0.06268310546875, 0.98974609375, 0.09100341796875, 0.2489013671875, 0.052978515625, 0.301025390625, 0.56689453125, 0.05938720703125, 0.460205078125, 0.9990234375, 0.9541015625, 0.104736328125, 0.04998779296875, 0.2305908203125, 0.316650390625, 0.26806640625, 0.4990234375, 0.10552978515625, 0.10516357421875, 0.07464599609375, 0.051605224609375, 0.99951171875, 0.150634765625, 0.1776123046875, 0.89892578125, 0.131103515625, 0.207275390625, 0.07073974609375, 0.344970703125, 0.446044921875, 0.45556640625, 0.3564453125, 0.2255859375, 0.1419677734375, 0.08782958984375, 0.06768798828125, 0.28076171875, 0.2445068359375, 0.1011962890625, 0.27392578125, 0.478515625, 0.99951171875, 0.0618896484375, 0.375, 0.87451171875, 0.71533203125, 0.1947021484375, 0.352783203125, 0.26171875, 0.472412109375, 0.8076171875, 0.64599609375, 0.4287109375, 0.99560546875, 0.998046875, 0.08935546875, 0.1290283203125, 0.6318359375, 0.71240234375, 0.9990234375, 0.03485107421875, 0.1446533203125, 0.21435546875, 0.3330078125, 0.15771484375, 0.1058349609375, 0.77783203125, 0.2020263671875, 0.96875, 0.29638671875, 0.42333984375, 0.1746826171875, 0.4384765625, 0.1800537109375, 0.069091796875, 0.1708984375, 0.407470703125, 0.75390625, 0.08612060546875, 0.465576171875, 0.07305908203125, 0.9853515625, 0.072265625, 0.2880859375, 0.9951171875, 0.082275390625, 0.0223388671875, 0.07379150390625, 0.9912109375, 0.430908203125, 0.58740234375, 0.282958984375, 0.14599609375, 0.1038818359375, 0.1795654296875, 0.6689453125, 0.261962890625, 0.26953125, 0.1143798828125, 0.155029296875, 0.953125, 0.9794921875, 0.1727294921875, 0.175048828125, 0.0780029296875, 0.2159423828125, 0.12451171875, 0.441650390625, 0.0687255859375, 0.141357421875, 0.73095703125, 0.9111328125, 0.060272216796875, 0.2198486328125, 0.33935546875, 0.96533203125, 0.96142578125, 0.08160400390625, 0.505859375, 0.216796875, 0.56982421875, 0.72314453125, 0.09991455078125, 0.419677734375, 0.78955078125, 0.99853515625, 0.1348876953125, 0.274658203125, 0.32568359375, 0.252685546875, 0.9931640625, 0.9951171875, 0.499755859375, 0.07830810546875, 0.045684814453125, 0.141357421875, 0.919921875, 0.1884765625, 0.30615234375, 0.432861328125, 0.36279296875, 0.1380615234375, 0.11041259765625, 0.2353515625, 0.57177734375, 0.22119140625, 0.0535888671875, 0.200927734375, 0.51611328125, 0.161865234375, 0.189453125, 0.305419921875, 0.9990234375, 0.11279296875, 0.505859375, 0.11212158203125, 0.10772705078125, 0.259521484375, 0.99951171875, 0.10614013671875, 0.269775390625, 0.2047119140625, 1.0, 0.30908203125, 0.1365966796875, 0.343505859375, 0.556640625, 0.89208984375, 0.316162109375, 0.3798828125, 0.458740234375, 0.96484375, 1.0, 0.208251953125, 0.2232666015625, 0.75927734375, 0.181884765625, 0.318359375, 0.134765625, 0.31982421875, 0.181396484375, 0.072998046875, 0.11431884765625, 0.08203125, 0.1422119140625, 0.17724609375, 0.204345703125, 0.1654052734375, 0.267578125, 0.11920166015625, 0.1700439453125, 0.11517333984375, 0.0792236328125, 0.7841796875, 0.10028076171875, 0.1258544921875, 0.5615234375, 0.276123046875, 0.1319580078125, 0.118896484375, 1.0, 0.129150390625, 0.208251953125, 0.94140625, 0.10064697265625, 0.33837890625, 0.148193359375, 0.7724609375, 0.10906982421875, 0.58984375, 0.1141357421875, 0.90576171875, 0.1978759765625, 0.167236328125, 0.12237548828125, 0.2152099609375, 0.515625, 0.32958984375, 0.2056884765625, 1.0, 0.23388671875, 0.358642578125, 0.3427734375, 0.99853515625, 0.094970703125, 0.254638671875, 0.057830810546875, 0.302001953125, 0.302001953125, 0.281494140625, 0.1190185546875, 0.4580078125, 0.2098388671875, 0.69873046875, 0.748046875, 0.99951171875, 0.5107421875, 0.131103515625, 0.1351318359375, 0.136962890625, 0.279296875, 0.27392578125, 0.75927734375, 0.88623046875, 0.99853515625, 0.155517578125, 0.1890869140625, 0.64404296875, 0.57275390625, 0.2027587890625, 0.189697265625, 0.6533203125, 0.117431640625, 0.353759765625, 0.057952880859375, 0.356689453125, 0.9853515625, 0.08514404296875, 0.37109375, 0.043670654296875, 0.4736328125, 0.154296875, 0.33984375, 0.99951171875, 0.9951171875, 0.9970703125, 0.1947021484375, 0.1788330078125, 0.07965087890625, 0.2017822265625, 0.9306640625, 0.327392578125, 0.187255859375, 0.25439453125, 0.5576171875, 0.12548828125, 0.41064453125, 0.140380859375, 0.09637451171875, 0.78369140625, 0.1917724609375, 0.14697265625, 0.87109375, 0.41748046875, 0.9990234375, 0.06707763671875, 0.09991455078125, 0.09503173828125, 0.7822265625, 0.388916015625, 0.61376953125, 0.18994140625, 0.97021484375, 0.0863037109375, 0.2364501953125, 0.138427734375, 0.055511474609375, 0.27685546875, 0.09576416015625, 0.27001953125, 0.1533203125, 0.111572265625, 0.099365234375, 0.59814453125, 0.18505859375, 0.179443359375, 0.07073974609375, 0.515625, 0.061370849609375, 0.1600341796875, 0.9990234375, 0.1851806640625, 0.06805419921875, 0.051727294921875, 0.096923828125, 0.413330078125, 0.4453125, 0.0775146484375, 0.607421875, 0.086669921875, 0.1070556640625, 0.149169921875, 0.036834716796875, 0.343505859375, 0.289794921875, 0.09613037109375, 0.163818359375, 0.10284423828125, 0.1627197265625, 0.45849609375, 0.1865234375, 0.53662109375, 0.8564453125, 0.99951171875, 0.06951904296875, 0.270751953125, 0.13330078125, 0.1358642578125, 0.0914306640625, 0.268798828125, 1.0, 0.451171875, 0.331787109375, 0.41015625, 0.420654296875, 0.158935546875, 0.361083984375, 0.24267578125, 0.1263427734375, 1.0, 0.10406494140625, 0.1431884765625, 0.354736328125, 0.99951171875]', 'logits': '[15.625, 17.375, 17.875, 18.5625, 17.046875, 18.640625, 19.3125, 18.71875, 19.296875, 23.875, 17.8125, 20.28125, 19.359375, 20.53125, 24.0625, 18.59375, 23.5, 19.109375, 17.359375, 18.921875, 19.078125, 23.984375, 20.796875, 26.90625, 16.25, 17.546875, 19.890625, 23.203125, 19.46875, 17.140625, 24.28125, 17.671875, 23.578125, 23.78125, 23.171875, 21.5625, 20.046875, 21.25, 23.515625, 18.015625, 23.0, 18.34375, 16.609375, 17.515625, 18.28125, 16.6875, 19.28125, 27.015625, 16.1875, 17.15625, 18.84375, 16.859375, 18.96875, 17.625, 16.359375, 19.40625, 17.328125, 17.421875, 19.34375, 17.84375, 30.765625, 17.015625, 17.375, 15.296875, 16.28125, 17.765625, 17.71875, 17.09375, 19.203125, 22.1875, 16.15625, 20.640625, 30.984375, 21.609375, 18.140625, 18.359375, 20.859375, 18.0625, 22.75, 18.109375, 18.6875, 19.1875, 22.390625, 15.6328125, 17.71875, 24.140625, 18.96875, 18.296875, 15.515625, 20.921875, 18.109375, 15.7421875, 20.171875, 17.5625, 18.59375, 17.453125, 21.265625, 20.265625, 18.875, 15.859375, 18.296875, 23.21875, 15.453125, 18.625, 26.578125, 21.484375, 19.9375, 16.875, 20.078125, 19.34375, 23.171875, 15.1328125, 17.5, 13.2109375, 13.5, 16.15625, 26.109375, 16.046875, 18.8125, 23.109375, 17.109375, 17.28125, 15.7578125, 14.1015625, 19.125, 19.09375, 19.59375, 21.640625, 21.5, 15.9296875, 17.21875, 20.125, 15.953125, 13.7890625, 14.6875, 18.796875, 26.125, 16.4375, 18.78125, 22.25, 23.765625, 15.375, 18.03125, 19.90625, 20.21875, 18.3125, 22.21875, 17.421875, 23.96875, 25.609375, 20.109375, 17.875, 16.546875, 19.859375, 27.734375, 15.9921875, 23.109375, 18.5625, 20.625, 18.078125, 16.4375, 24.03125, 19.125, 20.890625, 18.75, 21.734375, 15.3125, 23.3125, 15.0546875, 19.390625, 14.3359375, 18.0, 20.9375, 19.125, 19.21875, 17.84375, 21.015625, 16.21875, 18.65625, 24.90625, 15.7890625, 16.53125, 15.75, 21.703125, 21.296875, 20.59375, 25.0625, 21.28125, 15.546875, 15.5625, 19.375, 21.734375, 20.25, 20.78125, 16.375, 19.890625, 25.546875, 18.59375, 16.859375, 15.140625, 18.171875, 16.359375, 23.375, 16.3125, 17.21875, 19.0625, 26.640625, 19.078125, 18.21875, 16.515625, 19.8125, 24.75, 17.625, 23.015625, 19.40625, 25.0, 26.40625, 14.515625, 16.609375, 19.96875, 27.53125, 18.125, 17.53125, 17.203125, 17.9375, 25.9375, 26.765625, 21.359375, 16.703125, 16.8125, 16.59375, 18.875, 19.890625, 19.453125, 24.09375, 19.171875, 20.4375, 17.09375, 20.03125, 19.40625, 21.453125, 16.84375, 19.5, 19.921875, 19.75, 17.515625, 19.03125, 29.125, 14.3515625, 19.203125, 16.234375, 16.9375, 17.859375, 26.0625, 17.21875, 18.3125, 17.640625, 27.203125, 18.171875, 21.234375, 22.046875, 19.953125, 22.9375, 20.65625, 17.8125, 20.0, 24.75, 31.390625, 20.28125, 20.484375, 23.125, 20.25, 19.921875, 20.109375, 17.421875, 18.90625, 19.09375, 16.359375, 17.109375, 18.15625, 18.875, 20.125, 20.078125, 18.140625, 18.25, 17.90625, 15.015625, 16.078125, 19.484375, 14.546875, 17.875, 18.8125, 20.453125, 21.59375, 18.03125, 27.65625, 19.0, 22.40625, 25.109375, 15.0390625, 17.765625, 19.578125, 24.09375, 18.6875, 21.421875, 17.265625, 21.671875, 18.6875, 18.46875, 17.828125, 18.484375, 19.40625, 20.078125, 18.359375, 30.859375, 21.6875, 15.171875, 19.3125, 28.921875, 18.203125, 20.140625, 15.5078125, 17.296875, 19.5625, 19.75, 20.0, 21.296875, 16.578125, 17.28125, 20.28125, 26.15625, 21.765625, 19.265625, 18.125, 17.171875, 19.21875, 15.6796875, 18.265625, 21.171875, 24.5, 18.421875, 22.484375, 26.5625, 19.640625, 17.734375, 18.53125, 19.3125, 17.765625, 16.0625, 16.03125, 18.234375, 21.921875, 17.09375, 21.515625, 15.6953125, 19.734375, 16.84375, 17.25, 26.484375, 25.5, 24.96875, 18.8125, 17.8125, 19.53125, 19.296875, 25.3125, 23.109375, 14.4765625, 18.484375, 21.484375, 19.5625, 22.9375, 16.109375, 16.703125, 23.15625, 14.984375, 16.890625, 19.875, 17.9375, 24.984375, 18.0, 14.453125, 17.015625, 23.078125, 17.328125, 20.46875, 17.40625, 20.515625, 15.2578125, 16.578125, 18.25, 17.0625, 18.6875, 16.0625, 20.046875, 19.34375, 15.2109375, 16.53125, 23.71875, 14.3515625, 17.71875, 16.015625, 21.609375, 15.6328125, 18.390625, 31.6875, 20.078125, 16.4375, 16.765625, 16.5, 18.296875, 19.109375, 17.90625, 23.90625, 16.40625, 16.84375, 16.21875, 15.9453125, 17.25, 18.390625, 14.8046875, 16.859375, 16.921875, 18.65625, 18.28125, 17.671875, 18.78125, 20.890625, 28.640625, 17.609375, 19.734375, 15.8203125, 18.609375, 18.1875, 18.65625, 32.0, 24.171875, 21.390625, 23.0, 17.828125, 16.75, 15.640625, 19.796875, 17.34375, 29.484375, 18.625, 17.40625, 23.140625, 25.546875]', 'model': 'bigscience/bloomz', 'source': 'wikipedia'}\n",
            "3000\n",
            "{'prompt': 'Write a Wikipedia article with the title \"William Whitehouse\", the article should at least have 250 words', 'human_text': \"William Edward Whitehouse (20 May 1859 – 12 January 1935) was an English cellist.\\n\\nCareer\\nHe studied for one year with Alfredo Piatti, for whom he deputised (taking his place in concerts when called upon), and was his favourite pupil. He went on to teach at the Royal Academy of Music, Royal College of Music and King's College, Cambridge; his students included Felix Salmond and Beatrice Harrison, who both became closely associated with Edward Elgar. He played with violinist Joseph Joachim, and formed The London Trio with violinist Achille Simonetti and pianist Amina Goodwin. He edited Piatti's Caprices, with suggestions as to how his former teacher preferred them to be played.\\n\\nExternal links\\n William Whitehouse\\n The Violoncello and the Romantic Era: 1820-1920: Part II — A Survey of Current Cello Teachers on Romantic Repertoire and Aesthetics\\n\\n1859 births\\n1935 deaths\\n20th-century classical musicians\\nAcademics of the Royal Academy of Music\\nAcademics of the Royal College of Music\\nEnglish cellists\", 'machine_text': \"William Whitehouse was a 19th-century British engineer and inventor who made significant contributions to the field of hydraulics. He was born in 1825 in Birmingham, England, where he grew up and eventually became an apprentice at the Soho Foundry. This apprenticeship instilled in him a passion for steam engines and hydraulics that would shape his future career. After completing his apprenticeship, Whitehouse worked for the Birmingham Water Works Company as an engineer. It was during this time that he began experimenting with hydraulic machinery and invented several innovative devices. In 1850, he developed the first hydraulic press, which was able to exert immense amounts of pressure and became widely used in industrial manufacturing processes. He also created hydraulic lifts for raising and lowering heavy loads and hydraulic cranes for lifting and moving heavy objects. Whitehouse's inventions revolutionized manufacturing and construction industries and helped to increase productivity and efficiency. In addition to hydraulic machinery, he also worked on steam engines and locomotives, improving their performance and reliability. He was regarded as an expert in his field and wrote several papers on hydraulic engineering that were widely read and respected. Whitehouse's achievements did not go unnoticed by the scientific community, and he was awarded the Royal Society's prestigious Telford Medal in 1875. He also became a fellow of the Royal Society and was elected to the Institution of Civil Engineers and the Institution of Mechanical Engineers. Despite his success, Whitehouse remained humble and dedicated to creating innovative and practical solutions to engineering problems. He passed away in 1905, leaving behind a legacy of groundbreaking hydraulic inventions that continue to play a vital role in modern manufacturing and construction industries.\", 'model': 'gpt-3.5-turbo', 'source': 'wikipedia-20220301.en', 'source_id': 11663875}\n",
            "2995\n",
            "{'prompt': 'Write a Wikipedia article with the title \"Nicky Oppenheimer\", the article should at least have 250 words', 'human_text': 'Nicholas F. Oppenheimer (born 8 June 1945) is a South African billionaire businessman. He was formerly the chairman of De Beers diamond mining company and of its subsidiary, the Diamond Trading Company, and former deputy chairman of Anglo American. He is the third richest man in Africa.\\n\\nEarly life\\nOppenheimer is the son of Bridget (née McCall) and Harry Oppenheimer, and grandson of Anglo American founder Ernest Oppenheimer (the first generation to chair De Beers, from 1929). His father was of German Jewish descent. He was educated at Harrow School and Christ Church, Oxford, where he read Philosophy, Politics and Economics, earning an Oxford MA.\\n\\nBusiness career\\nOppenheimer joined Anglo American in 1968, was appointed a director in 1974, then became deputy chairman in 1983. He resigned in 2001, remaining a non-executive director until 2011.\\n\\nHe was appointed deputy chairman of the then Central Selling Organisation (now Diamond Trading Company) in 1984, and deputy chairman of De Beers Consolidated Mines in 1985. He was also appointed chairman of the Diamond Trading Company in 1985. Chairman of the De Beers Group from 1998 to 2012, he retired when the family stake was sold to Anglo American.\\n\\nOppenheimer appeared on the Sunday Times Rich List 2018 as the 23rd richest person in the United Kingdom, with a reported fortune of £5.5 billion. He was ranked as the richest person in South Africa on Forbes list of The World\\'s Billionaires for 2019, with a fortune reported as US$7.3 billion and, again, on its 2020 list, with a reported fortune of US$7.6 billion in August 2020.\\n\\nPhilanthropy\\nThe Oppenheimer family has directed much of its philanthropic efforts towards preserving the heritage and cultural importance of the Southern African region, as well as to broader community upliftment in the areas of education, health, nature conservation and the arts. Nicky Oppenheimer and his son Jonathan Oppenheimer established the Brenthurst Foundation in 2005 as a way to contribute to the debate around strategies and policies for strengthening Africa\\'s economic performance and enabling inclusive and sustainable development.\\n\\nThe family has also long been involved in environmental and conservation issues. The Oppenheimer family partnered with De Beers to establish the Diamond Route in 2006 to maximise the potential of their properties for conservation, research and environmental awareness purposes. The Diamond Route links 8 sites across northern South Africa, stretching from Namaqualand on the west coast, to Kimberley, north to Tswalu in the Kalahari, and to the Brenthurst Gardens in Johannesburg, eastwards to Ezemvelo Nature Reserve and northwards to the Venetia Limpopo Nature Reserve in Limpopo Province. Since 2015 Oppenheimer is also a Rhodes Trustee.\\n\\nAwards\\nIn 2003, the Technikon Witwatersrand awarded Oppenheimer an honorary doctorate. He received the Presidential Order of Honor (2004) from the former President of Botswana, Festus Mogae, and an honorary fellowship (2009) from the London Business School.\\n\\nPersonal life\\nIn 1968, he married Orcillia \"Strilli\" Lasch, daughter of industrial tycoon Helli Lasch; both are Anglican. His father was born Jewish and converted to Anglicanism.\\n\\nPublications\\n\\nReferences\\n\\nExternal links\\nBiography from De Beers\\nOppenheimer\\'s Waltham Place Gardens and Farm\\nInterview in The Guardian, 2005\\nProfile in The Economist, 2003\\n\\n1945 births\\nAlumni of Christ Church, Oxford\\nSouth African mining businesspeople\\nLiving people\\nDiamond dealers\\nNicky\\nPeople educated at Harrow School\\nSouth African Anglicans\\nSouth African billionaires\\nSouth African businesspeople\\nSouth African people of German-Jewish descent\\nRhodes Trustees\\nConservative Party (UK) donors', 'machine_text': \" Nicky Oppenheimer (11 July 1945 – 3 March 2021) was a South African billionaire businessman and philanthropist. He was the third generation of the Oppenheimer family to serve as chairman of the Anglo-American Corporation, a position he held from 2000 to 2011. Nicky Oppenheimer was born in Johannesburg, South Africa in 1945, the son of Mary and diamond magnate Harry Oppenheimer. He attended the elite private school, Michaelhouse, in Natal, and then studied law at the University of the Witwatersrand. In 1968, he married Mary, daughter of South African-born, British-based businessman Michael Tothill; they had three children. The couple later divorced, and in 1988, Nicky married Elspeth, daughter of Scottish engineer, businessman and amateur golfer David Butterfield; they had two daughters. Oppenheimer was an accomplished marathon runner, at one point holding a personal best of 2 hours and 40 minutes. Oppenheimer was a member of the billionaires' club, The Giving Pledge, and was one of only two Africans to have joined, the other being Nigerian Aliko Dangote. In 2010, Oppenheimer was ranked the 8th richest person in the world with a net worth of US$7.5 billion, and the richest person in Africa. He was also the second-richest person in the world with a charitable pledge, after Microsoft's Bill Gates. At the time of his death, Oppenheimer had an estimated net worth of US$3.1 billion, which was mainly derived from his 7.7% stake in Anglo American, and other assets including valuable art, property, and cash.\", 'model': 'cohere-xlarge-nightly', 'source': 'wikipedia-20220301.en', 'source_id': 1296094}\n",
            "2336\n",
            "{'prompt': 'Write a Wikipedia article with the title \"William Whitehouse\", the article should at least have 250 words', 'human_text': \"William Edward Whitehouse (20 May 1859 – 12 January 1935) was an English cellist.\\n\\nCareer\\nHe studied for one year with Alfredo Piatti, for whom he deputised (taking his place in concerts when called upon), and was his favourite pupil. He went on to teach at the Royal Academy of Music, Royal College of Music and King's College, Cambridge; his students included Felix Salmond and Beatrice Harrison, who both became closely associated with Edward Elgar. He played with violinist Joseph Joachim, and formed The London Trio with violinist Achille Simonetti and pianist Amina Goodwin. He edited Piatti's Caprices, with suggestions as to how his former teacher preferred them to be played.\\n\\nExternal links\\n William Whitehouse\\n The Violoncello and the Romantic Era: 1820-1920: Part II — A Survey of Current Cello Teachers on Romantic Repertoire and Aesthetics\\n\\n1859 births\\n1935 deaths\\n20th-century classical musicians\\nAcademics of the Royal Academy of Music\\nAcademics of the Royal College of Music\\nEnglish cellists\", 'machine_text': \" William Whitehouse (August 6, 1590 - May 18, 1676) was an English priest, scholar and biblical commentator. He is best known for writing an influential commentary on the Scriptures, which he published in 1647 in two volumes, titled Principia Biblica (English: The Bible's Principles). He was born in Saxham, Suffolk, and educated at Cambridge, where he earned a Master of Arts degree in 1621. Soon after, he was ordained as a priest in the Church of England and served as a pastor in several churches in Suffolk. Whitehouse was a respected biblical scholar during his lifetime, even though his approach would sometimes fill with theological controversy. In his work, Principia Biblica, Whitehouse tackled the difficult task of interpreting the Scriptures from an historical perspective. His commentary took into account both the literal text of the bible and the underlying deeper meaning of the Bible, especially of the Old Testament books. He saw the Bible as an overarching vision of the spiritual history of the human race, and his commentary explored three areas: Eschatology, or the end of the world; Cosmology, or the proper ordering of all creation; and Anthropology, or the nature of mankind's relationship with God. Whitehouse's Principia Biblica, while not a particularly popular work, still remained influential until at least the late 18th century, forming a basis for many other biblical commentaries that would follow it. In particular, his work was intensely studied by noted theologian John Owen, who integrated many of its conclusions into his own writings. Whitehouse's other works include The Exposition to the Acts of the Apostles (1645), A Treatise concerning the Right Understanding of the Scriptures (1660), and some minor works on other topics. He also contributed substantially to the compilation of the Annotations on the Bible (1645). Throughout his life, William Whitehouse remained an active scholar. He died in 1676, leaving behind a legacy respected by many of his peers in the field of biblical studies.\", 'model': 'text-davinci-003', 'source': 'wikipedia-20220301.en', 'source_id': 11663875}\n",
            "3000\n"
          ]
        }
      ],
      "source": [
        "create_dataset('/Users/supriyaupadhyaya/ovgu/generative-text-detectors/m4/with_n/wiki/wikipedia_bloomz.jsonl', 'wikipedia_bloomz')\n",
        "create_dataset('/Users/supriyaupadhyaya/ovgu/generative-text-detectors/m4/with_n/wiki/wikipedia_chatgpt.jsonl', 'wikipedia_chatgpt')\n",
        "create_dataset('/Users/supriyaupadhyaya/ovgu/generative-text-detectors/m4/with_n/wiki/wikipedia_cohere.jsonl', 'wikipedia_cohere')\n",
        "create_dataset('/Users/supriyaupadhyaya/ovgu/generative-text-detectors/m4/with_n/wiki/wikipedia_davinci.jsonl', 'wikipedia_davinci')"
      ]
    },
    {
      "cell_type": "code",
      "execution_count": 8,
      "metadata": {},
      "outputs": [
        {
          "name": "stdout",
          "output_type": "stream",
          "text": [
            "/Users/supriyaupadhyaya/Library/Mobile Documents/com~apple~CloudDocs/OVGU/project-generative-text-detector/generative-text-detectors/colab\n"
          ]
        }
      ],
      "source": [
        "!pwd"
      ]
    },
    {
      "cell_type": "code",
      "execution_count": 10,
      "metadata": {
        "colab": {
          "base_uri": "https://localhost:8080/"
        },
        "id": "Btn-ShHOup0B",
        "outputId": "11c54dc1-a504-4cb8-f5af-1e3133876646"
      },
      "outputs": [
        {
          "name": "stdout",
          "output_type": "stream",
          "text": [
            "True\n",
            "True\n",
            "False\n",
            "True\n",
            "True\n"
          ]
        }
      ],
      "source": [
        "compare_cols('../m4/with_n/arxiv_bloomz_paraphrased_test.jsonl', '../m4/with_n/arxiv_chatGPT_test.jsonl', 'source_id', 'source_ID')\n",
        "compare_cols('../m4/with_n/arxiv_bloomz_paraphrased_test.jsonl', '../m4/with_n/arxiv_cohere_test.jsonl', 'source_id', 'source_id')\n",
        "compare_cols('../m4/with_n/arxiv_bloomz_paraphrased_test.jsonl', '../m4/with_n/arxiv_davinci_test.jsonl', 'source_id', 'source_ID')\n",
        "compare_cols('../m4/with_n/arxiv_bloomz_paraphrased_test.jsonl', '../m4/with_n/arxiv_flant5_test.jsonl', 'source_id', 'source_ID')\n",
        "compare_cols('../m4/with_n/arxiv_bloomz_paraphrased_test.jsonl', '../m4/with_n/arxiv_bloomz_test.jsonl', 'source_id', 'source_id')"
      ]
    },
    {
      "cell_type": "code",
      "execution_count": 11,
      "metadata": {
        "colab": {
          "base_uri": "https://localhost:8080/"
        },
        "id": "Sydsj2nQw47M",
        "outputId": "5f8c1c33-4870-4ad6-9a3b-95d55c46c75d"
      },
      "outputs": [
        {
          "name": "stdout",
          "output_type": "stream",
          "text": [
            "True\n",
            "True\n",
            "False\n",
            "True\n",
            "True\n"
          ]
        }
      ],
      "source": [
        "compare_cols('../m4/with_n/arxiv_bloomz_paraphrased_train.jsonl', '../m4/with_n/arxiv_chatGPT_train.jsonl', 'source_id', 'source_ID')\n",
        "compare_cols('../m4/with_n/arxiv_bloomz_paraphrased_train.jsonl', '../m4/with_n/arxiv_cohere_train.jsonl', 'source_id', 'source_id')\n",
        "compare_cols('../m4/with_n/arxiv_bloomz_paraphrased_train.jsonl', '../m4/with_n/arxiv_davinci_train.jsonl', 'source_id', 'source_ID')\n",
        "compare_cols('../m4/with_n/arxiv_bloomz_paraphrased_train.jsonl', '../m4/with_n/arxiv_flant5_train.jsonl', 'source_id', 'source_ID')\n",
        "compare_cols('../m4/with_n/arxiv_bloomz_paraphrased_train.jsonl', '../m4/with_n/arxiv_bloomz_train.jsonl', 'source_id', 'source_id')"
      ]
    },
    {
      "cell_type": "code",
      "execution_count": null,
      "metadata": {
        "colab": {
          "base_uri": "https://localhost:8080/"
        },
        "id": "440m4SNfxFiw",
        "outputId": "b11d89f2-e1e5-4a14-f3f2-cfbdc82b6b66"
      },
      "outputs": [
        {
          "name": "stdout",
          "output_type": "stream",
          "text": [
            "True\n",
            "True\n",
            "False\n",
            "True\n"
          ]
        }
      ],
      "source": [
        "compare_cols('/content/arxiv_bloomz_validation.jsonl', '/content/arxiv_chatGPT_validation.jsonl', 'source_id', 'source_ID')\n",
        "compare_cols('/content/arxiv_bloomz_validation.jsonl', '/content/arxiv_cohere_validation.jsonl', 'source_id', 'source_id')\n",
        "compare_cols('/content/arxiv_bloomz_validation.jsonl', '/content/arxiv_davinci_validation.jsonl', 'source_id', 'source_ID')\n",
        "compare_cols('/content/arxiv_bloomz_validation.jsonl', '/content/arxiv_flant5_validation.jsonl', 'source_id', 'source_ID')"
      ]
    },
    {
      "cell_type": "code",
      "execution_count": null,
      "metadata": {
        "colab": {
          "base_uri": "https://localhost:8080/"
        },
        "id": "iI0WgeQa0sMJ",
        "outputId": "56188859-4a4f-4f1b-a8fe-2e8515f3346b"
      },
      "outputs": [
        {
          "name": "stdout",
          "output_type": "stream",
          "text": [
            "True\n",
            "True\n"
          ]
        }
      ],
      "source": [
        "compare_cols('/content/arxiv_chatGPT.jsonl', '/content/arxiv_cohere.jsonl', 'source_ID', 'source_id')\n",
        "compare_cols('/content/arxiv_chatGPT.jsonl', '/content/arxiv_davinci.jsonl', 'source_ID', 'source_ID')"
      ]
    },
    {
      "cell_type": "code",
      "execution_count": null,
      "metadata": {
        "id": "sJiOfGg92R6f"
      },
      "outputs": [],
      "source": [
        "df1 = load_jsonl_to_df('/content/arxiv_chatGPT.jsonl')"
      ]
    },
    {
      "cell_type": "code",
      "execution_count": null,
      "metadata": {
        "id": "LyBaan7j4Fxm"
      },
      "outputs": [],
      "source": [
        "def printdff(filepath1, filepath2, col1, col2):\n",
        "    # Load the first JSONL file into DataFrame\n",
        "    df1 = load_jsonl_to_df(filepath1)\n",
        "    print(\"filepath1 \", filepath1)\n",
        "    print(\"filepath2 \", filepath2)\n",
        "    # Load the second JSONL file into DataFrame\n",
        "    df2 = load_jsonl_to_df(filepath2)\n",
        "    #print(len(df2))\n",
        "    # Sort values in the specified columns\n",
        "    sorted_column_df1 = sorted(df1[col1])\n",
        "    sorted_column_df2 = sorted(df2[col2])\n",
        "\n",
        "    # Find the differences\n",
        "    differences = set(sorted_column_df1) ^ set(sorted_column_df2)\n",
        "\n",
        "    # Print the differences\n",
        "    #print(\"Differences:\")\n",
        "    #for difference in differences:\n",
        "      #print(difference)\n",
        "\n",
        "    z = set(df1) ^ set(df2)\n",
        "    print(\"z \", z)\n",
        "    #print(len(differences))"
      ]
    },
    {
      "cell_type": "code",
      "execution_count": null,
      "metadata": {
        "colab": {
          "base_uri": "https://localhost:8080/"
        },
        "id": "RNLSME8F4gCo",
        "outputId": "05319af9-c856-432b-a541-7f02ce109a6f"
      },
      "outputs": [
        {
          "name": "stdout",
          "output_type": "stream",
          "text": [
            "Differences:\n",
            "Differences:\n"
          ]
        }
      ],
      "source": [
        "printdff('/content/arxiv_chatGPT.jsonl', '/content/arxiv_cohere.jsonl', 'source_ID', 'source_id')\n",
        "printdff('/content/arxiv_chatGPT.jsonl', '/content/arxiv_davinci.jsonl', 'source_ID', 'source_ID')"
      ]
    },
    {
      "cell_type": "code",
      "execution_count": null,
      "metadata": {
        "colab": {
          "base_uri": "https://localhost:8080/"
        },
        "id": "gsRrlq-V4pSu",
        "outputId": "130deb84-67be-4336-9829-b6221f6b7c17"
      },
      "outputs": [
        {
          "name": "stdout",
          "output_type": "stream",
          "text": [
            "filepath1  /content/arxiv_bloomz_validation.jsonl\n",
            "filepath2  /content/arxiv_chatGPT_validation.jsonl\n",
            "z  {'title', 'source_ID', 'logits', 'abstract', 'human_text', 'score', 'source_id', 'machine_abstract', 'probas'}\n",
            "filepath1  /content/arxiv_bloomz_validation.jsonl\n",
            "filepath2  /content/arxiv_cohere_validation.jsonl\n",
            "z  {'title', 'logits', 'abstract', 'human_text', 'score', 'machine_abstract', 'probas'}\n",
            "filepath1  /content/arxiv_bloomz_validation.jsonl\n",
            "filepath2  /content/arxiv_davinci_validation.jsonl\n",
            "z  {'title', 'source_ID', 'logits', 'abstract', 'human_text', 'score', 'source_id', 'machine_abstract', 'probas'}\n",
            "filepath1  /content/arxiv_bloomz_validation.jsonl\n",
            "filepath2  /content/arxiv_flant5_validation.jsonl\n",
            "z  {'title', 'source_ID', 'logits', 'abstract', 'human_text', 'score', 'source_id', 'machine_abstract', 'probas'}\n"
          ]
        }
      ],
      "source": [
        "printdff('/content/arxiv_bloomz_validation.jsonl', '/content/arxiv_chatGPT_validation.jsonl', 'source_id', 'source_ID')\n",
        "printdff('/content/arxiv_bloomz_validation.jsonl', '/content/arxiv_cohere_validation.jsonl', 'source_id', 'source_id')\n",
        "printdff('/content/arxiv_bloomz_validation.jsonl', '/content/arxiv_davinci_validation.jsonl', 'source_id', 'source_ID')\n",
        "printdff('/content/arxiv_bloomz_validation.jsonl', '/content/arxiv_flant5_validation.jsonl', 'source_id', 'source_ID')"
      ]
    },
    {
      "cell_type": "code",
      "execution_count": null,
      "metadata": {
        "id": "v5owtnLG71jX"
      },
      "outputs": [],
      "source": [
        "!scp -r ./*.jsonl /content/drive/MyDrive/dataset_with_n"
      ]
    },
    {
      "cell_type": "code",
      "execution_count": 5,
      "metadata": {},
      "outputs": [
        {
          "name": "stdout",
          "output_type": "stream",
          "text": [
            "{'source_id': 704.0007, 'title': 'Polymer Quantum Mechanics and its Continuum Limit', 'abstract': '  A rather non-standard quantum representation of the canonical commutation\\nrelations of quantum mechanics systems, known as the polymer representation has\\ngained some attention in recent years, due to its possible relation with Planck\\nscale physics. In particular, this approach has been followed in a symmetric\\nsector of loop quantum gravity known as loop quantum cosmology. Here we explore\\ndifferent aspects of the relation between the ordinary Schroedinger theory and\\nthe polymer description. The paper has two parts. In the first one, we derive\\nthe polymer quantum mechanics starting from the ordinary Schroedinger theory\\nand show that the polymer description arises as an appropriate limit. In the\\nsecond part we consider the continuum limit of this theory, namely, the reverse\\nprocess in which one starts from the discrete theory and tries to recover back\\nthe ordinary Schroedinger quantum mechanics. We consider several examples of\\ninterest, including the harmonic oscillator, the free particle and a simple\\ncosmological model.\\n', 'machine_abstract': 'The present work is devoted to the study of quantum mechanics in polymer chains, which are modeled as one-dimensional systems with nearest-neighbor interactions between particles.  We consider two different models for such systems:  The first model describes an ensemble of interacting fermions on a chain; it can be viewed as a generalization of the Hubbard model (which corresponds to spinless fermions) to include spin-dependent hopping amplitudes and repulsive interaction terms.  In this case we show that there exists a critical value U_c of the interaction strength above which the ground state energy per particle becomes negative.  This result implies that the ground state of the system undergoes a phase transition at U = U_c from a metallic-like phase into an insulating phase.   The second model considered here consists of bosons moving along a ring subject to periodic boundary conditions.  Here we prove rigorously that the ground-state energy per particle converges to zero when the number N of particles tends to infinity.  Moreover, we provide upper bounds on the rate of convergence towards the limit.  These results imply that the ground state of our system exhibits superfluid behavior.', 'paraphrased_abstract': 'The second model is a boson, which moves along a ring, which is subject to periodic boundary conditions. The result is that the energy per particle approaches zero, when N is equal to infinity. The second model, meanwhile, is a set of particles moving along a ring, subject to periodic boundary conditions. This is the case where the interaction strength of the particle is at a critical value. This means that the energy per particle approaches zero when the number of particles tends to infinity. This means that the ground state of our system is superfluous. We present two models for such systems: the first is an ensemble of fermions interacting on a chain, and the second is a generalization of the Hubbard model (which is a complete synthesis of spinless fermions) to include spin-dependent hopping amplitudes and repellent interaction terms. ', 'model': 'bigscience bloomz', 'source': 'arxiv'}\n",
            "3000\n",
            "{'source_ID': 704.0007, 'prompt': 'Generate a 150-220-word abstract for work with title: Polymer Quantum Mechanics and its Continuum Limit. Describe the results obtained,  problem work attempts to solve, and the key ideas and methodology in a formal academic and scientific writing voice. Use the first plural person form. Use active voice.', 'human_text': '  A rather non-standard quantum representation of the canonical commutation\\nrelations of quantum mechanics systems, known as the polymer representation has\\ngained some attention in recent years, due to its possible relation with Planck\\nscale physics. In particular, this approach has been followed in a symmetric\\nsector of loop quantum gravity known as loop quantum cosmology. Here we explore\\ndifferent aspects of the relation between the ordinary Schroedinger theory and\\nthe polymer description. The paper has two parts. In the first one, we derive\\nthe polymer quantum mechanics starting from the ordinary Schroedinger theory\\nand show that the polymer description arises as an appropriate limit. In the\\nsecond part we consider the continuum limit of this theory, namely, the reverse\\nprocess in which one starts from the discrete theory and tries to recover back\\nthe ordinary Schroedinger quantum mechanics. We consider several examples of\\ninterest, including the harmonic oscillator, the free particle and a simple\\ncosmological model.\\n', 'machine_text': 'In this paper, we investigate the continuum limit of polymer quantum mechanics. The aim of our work is to better understand the quantum behavior of polymers and its relationship to the classical theory. Our research attempts to clarify the nature of the continuum limit and determine the correctness of the approximations made. Specifically, we study the connectivity of the polymer strands. We find that a continuous path can be defined in the polymer configuration space, which is essential for the polymer to display continuum behavior. We show that the approximation of continuous randomness in the spatial variable can certainly be used when the polymer is stretched out over a significant distance. For a coil-like polymer, our results demonstrate that its behavior is non-classical.\\n\\nOur methodology involves a careful combination of intuition, formalism, and numerical simulations. We evaluate a path integral representation of polymer quantum mechanics in the continuum limit, and use numerical simulations to support our results. The ideas proposed in this work are relevant to the understanding of the thermodynamic properties of polymers, as well as to quantum computing and information. The findings of this work present a theoretical framework for the investigation of other polymer properties that are still poorly understood.', 'paraphrased_abstract': 'This work is also useful for the study of thermodynamic properties of polymers, and the study of quantum information and information. The goal of the work is to better understand the quantum behavior of polymers and its relation to classical theories. Our research focuses on the connectivity of the strands of polymer and on the properties of the polymer. We also consider the asymmetrical nature of the spatial variable and the approximation of continuous randomness in the spatial variable. We show that the approximation of continuous randomness in the spatial variable can be used to a large extent. In our study we examine the asymmetrical limit of the polymer. We examine the connectivity of the polymer strands, and, we find, we have to establish a continuous randomness in the spatial variable in order to display a continuum. We have studied the interconnectedness of the polymer strands, and, in our view, the behavior of the coils is not classical. ', 'model': 'gpt-3.5-turbo', 'source': 'arxiv'}\n",
            "3000\n"
          ]
        }
      ],
      "source": [
        "create_dataset('/Users/supriyaupadhyaya/Library/Mobile Documents/com~apple~CloudDocs/OVGU/project-generative-text-detector/generative-text-detectors/m4/with_n/arxiv_bloomz_paraphrased.jsonl', 'arxiv_bloomz_paraphrased')\n",
        "create_dataset('/Users/supriyaupadhyaya/Library/Mobile Documents/com~apple~CloudDocs/OVGU/project-generative-text-detector/generative-text-detectors/m4/with_n/arxiv_chatGPT_paraphrased.jsonl', 'arxiv_chatGPT_paraphrased')"
      ]
    },
    {
      "cell_type": "code",
      "execution_count": 9,
      "metadata": {},
      "outputs": [
        {
          "ename": "NameError",
          "evalue": "name 'printdff' is not defined",
          "output_type": "error",
          "traceback": [
            "\u001b[0;31m---------------------------------------------------------------------------\u001b[0m",
            "\u001b[0;31mNameError\u001b[0m                                 Traceback (most recent call last)",
            "Cell \u001b[0;32mIn[9], line 1\u001b[0m\n\u001b[0;32m----> 1\u001b[0m printdff(\u001b[39m'\u001b[39m\u001b[39mm4/with_n/arxiv_bloomz_paraphrased_test.jsonl\u001b[39m\u001b[39m'\u001b[39m, \u001b[39m'\u001b[39m\u001b[39mm4/with_n/arxiv__paraphrased_test.jsonl\u001b[39m\u001b[39m'\u001b[39m, \u001b[39m'\u001b[39m\u001b[39msource_id\u001b[39m\u001b[39m'\u001b[39m, \u001b[39m'\u001b[39m\u001b[39msource_ID\u001b[39m\u001b[39m'\u001b[39m)\n\u001b[1;32m      2\u001b[0m printdff(\u001b[39m'\u001b[39m\u001b[39m/content/arxiv_bloomz_validation.jsonl\u001b[39m\u001b[39m'\u001b[39m, \u001b[39m'\u001b[39m\u001b[39m/content/arxiv_cohere_validation.jsonl\u001b[39m\u001b[39m'\u001b[39m, \u001b[39m'\u001b[39m\u001b[39msource_id\u001b[39m\u001b[39m'\u001b[39m, \u001b[39m'\u001b[39m\u001b[39msource_id\u001b[39m\u001b[39m'\u001b[39m)\n\u001b[1;32m      3\u001b[0m printdff(\u001b[39m'\u001b[39m\u001b[39m/content/arxiv_bloomz_validation.jsonl\u001b[39m\u001b[39m'\u001b[39m, \u001b[39m'\u001b[39m\u001b[39m/content/arxiv_davinci_validation.jsonl\u001b[39m\u001b[39m'\u001b[39m, \u001b[39m'\u001b[39m\u001b[39msource_id\u001b[39m\u001b[39m'\u001b[39m, \u001b[39m'\u001b[39m\u001b[39msource_ID\u001b[39m\u001b[39m'\u001b[39m)\n",
            "\u001b[0;31mNameError\u001b[0m: name 'printdff' is not defined"
          ]
        }
      ],
      "source": [
        "printdff('m4/with_n/arxiv_bloomz_paraphrased_test.jsonl', 'm4/with_n/arxiv__paraphrased_test.jsonl', 'source_id', 'source_ID')\n",
        "printdff('/content/arxiv_bloomz_validation.jsonl', '/content/arxiv_cohere_validation.jsonl', 'source_id', 'source_id')\n",
        "printdff('/content/arxiv_bloomz_validation.jsonl', '/content/arxiv_davinci_validation.jsonl', 'source_id', 'source_ID')\n",
        "printdff('/content/arxiv_bloomz_validation.jsonl', '/content/arxiv_flant5_validation.jsonl', 'source_id', 'source_ID')"
      ]
    }
  ],
  "metadata": {
    "colab": {
      "provenance": []
    },
    "kernelspec": {
      "display_name": "Python 3 (ipykernel)",
      "language": "python",
      "name": "python3"
    }
  },
  "nbformat": 4,
  "nbformat_minor": 0
}
