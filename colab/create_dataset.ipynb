{
  "nbformat": 4,
  "nbformat_minor": 0,
  "metadata": {
    "colab": {
      "provenance": []
    },
    "kernelspec": {
      "name": "python3",
      "display_name": "Python 3"
    },
    "language_info": {
      "name": "python"
    }
  },
  "cells": [
    {
      "cell_type": "code",
      "execution_count": null,
      "metadata": {
        "colab": {
          "base_uri": "https://localhost:8080/"
        },
        "id": "U3GRePfSkvL3",
        "outputId": "e20ff3db-2d30-473f-a648-ff24fe7571eb"
      },
      "outputs": [
        {
          "output_type": "stream",
          "name": "stdout",
          "text": [
            "Mounted at /content/drive\n"
          ]
        }
      ],
      "source": [
        "from google.colab import drive\n",
        "drive.mount('/content/drive')"
      ]
    },
    {
      "cell_type": "code",
      "source": [
        "!pip install wget"
      ],
      "metadata": {
        "colab": {
          "base_uri": "https://localhost:8080/"
        },
        "id": "Sd4DpYTTk-dE",
        "outputId": "1abb246a-12ef-48cf-a287-f3ff7bc10262"
      },
      "execution_count": null,
      "outputs": [
        {
          "output_type": "stream",
          "name": "stdout",
          "text": [
            "Collecting wget\n",
            "  Downloading wget-3.2.zip (10 kB)\n",
            "  Preparing metadata (setup.py) ... \u001b[?25l\u001b[?25hdone\n",
            "Building wheels for collected packages: wget\n",
            "  Building wheel for wget (setup.py) ... \u001b[?25l\u001b[?25hdone\n",
            "  Created wheel for wget: filename=wget-3.2-py3-none-any.whl size=9656 sha256=edb1ca4db0e4514e4b31ef64fbe8c04d945d0f9626b3e7fefc69a319b77f759b\n",
            "  Stored in directory: /root/.cache/pip/wheels/8b/f1/7f/5c94f0a7a505ca1c81cd1d9208ae2064675d97582078e6c769\n",
            "Successfully built wget\n",
            "Installing collected packages: wget\n",
            "Successfully installed wget-3.2\n"
          ]
        }
      ]
    },
    {
      "cell_type": "code",
      "source": [
        "import wget\n",
        "import os\n",
        "filename = []\n",
        "output_directory = \"./\"\n",
        "urls = ['https://raw.githubusercontent.com/mbzuai-nlp/M4/main/data/arxiv_bloomz.jsonl',\n",
        "        'https://raw.githubusercontent.com/mbzuai-nlp/M4/main/data/arxiv_chatGPT.jsonl',\n",
        "        'https://raw.githubusercontent.com/mbzuai-nlp/M4/main/data/arxiv_cohere.jsonl',\n",
        "        'https://raw.githubusercontent.com/mbzuai-nlp/M4/main/data/arxiv_davinci.jsonl',\n",
        "        'https://raw.githubusercontent.com/mbzuai-nlp/M4/main/data/arxiv_flant5.jsonl',\n",
        "        'https://huggingface.co/datasets/NicolaiSivesind/ChatGPT-Research-Abstracts/raw/main/research_abstracts-final.csv']\n",
        "\n",
        "for url in urls:\n",
        "    output_filename = output_directory + os.path.basename(url) # get the full path of the file\n",
        "    if os.path.exists(output_filename):\n",
        "        os.remove(output_filename) # if exist, remove it directly\n",
        "    filename.append(wget.download(url, out=output_filename))\n",
        "print(filename)"
      ],
      "metadata": {
        "colab": {
          "base_uri": "https://localhost:8080/"
        },
        "id": "Rs1tt1polBsS",
        "outputId": "3949817c-e363-43a1-eb11-1f1edbca8fb6"
      },
      "execution_count": null,
      "outputs": [
        {
          "output_type": "stream",
          "name": "stdout",
          "text": [
            "['./arxiv_bloomz.jsonl', './arxiv_chatGPT.jsonl', './arxiv_cohere.jsonl', './arxiv_davinci.jsonl', './arxiv_flant5.jsonl', './research_abstracts-final.csv']\n"
          ]
        }
      ]
    },
    {
      "cell_type": "code",
      "source": [
        "import pandas as pd\n",
        "import numpy as np\n",
        "import json\n",
        "\n",
        "def read_jsonl(file_path):\n",
        "    data = []\n",
        "    with open(file_path, 'r') as file:\n",
        "        for line in file:\n",
        "            line = line.strip()\n",
        "            if line:\n",
        "                try:\n",
        "                    data.append(json.loads(line))\n",
        "                except json.JSONDecodeError as e:\n",
        "                    print(f\"Error decoding JSON on line: {line}\")\n",
        "                    print(e)\n",
        "    return data\n",
        "def write_jsonl(data, file_path):\n",
        "    with open(file_path, 'w') as file:\n",
        "        for item in data:\n",
        "            json.dump(item, file)\n",
        "            file.write('\\n')\n",
        "\n",
        "def create_dataset(jsonpath, name):\n",
        "# Example usage\n",
        "  file_path = jsonpath\n",
        "  json_data = read_jsonl(file_path)\n",
        "  print(json_data[0])\n",
        "  print(len(json_data))\n",
        "\n",
        "  from sklearn.model_selection import train_test_split\n",
        "  X_train_full, X_test, y_train_full, y_test=train_test_split(json_data,json_data,shuffle=True, test_size=0.2, random_state=42)\n",
        "\n",
        "  len(X_train_full)\n",
        "  X_train_full[0]\n",
        "  len(X_test)\n",
        "\n",
        "  file_path = name + \"_test.jsonl\"\n",
        "  write_jsonl(X_test, file_path)\n",
        "\n",
        "  X_train, X_val, y_train, y_val=train_test_split(X_train_full, X_train_full, test_size=0.2, shuffle=True, random_state=42)\n",
        "\n",
        "  len(X_train)\n",
        "  len(X_val)\n",
        "\n",
        "  file_path = name + \"_train.jsonl\"\n",
        "  write_jsonl(X_train, file_path)\n",
        "  file_path = name + \"_validation.jsonl\"\n",
        "  write_jsonl(X_val, file_path)"
      ],
      "metadata": {
        "id": "OdGZTUmQlO-2"
      },
      "execution_count": null,
      "outputs": []
    },
    {
      "cell_type": "code",
      "source": [
        "import pandas as pd\n",
        "\n",
        "# Function to load JSONL file into DataFrame\n",
        "def load_jsonl_to_df(file_path):\n",
        "    data = []\n",
        "    with open(file_path, 'r') as file:\n",
        "        for line in file:\n",
        "            data.append(json.loads(line))\n",
        "    return pd.DataFrame(data)\n",
        "\n",
        "def compare_cols(file_path1, file_path2, col1, col2):\n",
        "\n",
        "    # Load the first JSONL file into DataFrame\n",
        "    df1 = load_jsonl_to_df(file_path1)\n",
        "\n",
        "    # Load the second JSONL file into DataFrame\n",
        "    df2 = load_jsonl_to_df(file_path2)\n",
        "\n",
        "    comparison_result = sorted(df1[col1]) == sorted(df2[col2])\n",
        "\n",
        "    print(comparison_result)\n",
        "\n",
        "    return None"
      ],
      "metadata": {
        "id": "gLrgS5tsuK2A"
      },
      "execution_count": null,
      "outputs": []
    },
    {
      "cell_type": "code",
      "source": [
        "create_dataset('/content/drive/MyDrive/arxiv_bloomz.jsonl', 'arxiv_bloomz')\n",
        "create_dataset('/content/drive/MyDrive/arxiv_chatGPT.jsonl', 'arxiv_chatGPT')\n",
        "create_dataset('/content/drive/MyDrive/arxiv_cohere.jsonl', 'arxiv_cohere')\n",
        "create_dataset('/content/drive/MyDrive/arxiv_flant5.jsonl', 'arxiv_flant5')\n",
        "create_dataset('/content/drive/MyDrive/arxiv_davinci.jsonl', 'arxiv_davinci')"
      ],
      "metadata": {
        "colab": {
          "base_uri": "https://localhost:8080/"
        },
        "id": "vu3sRdD-y_Yb",
        "outputId": "42db7dd0-d240-43bb-a2f1-cf716ad39e98"
      },
      "execution_count": null,
      "outputs": [
        {
          "output_type": "stream",
          "name": "stdout",
          "text": [
            "{'source_id': 704.0007, 'title': 'Polymer Quantum Mechanics and its Continuum Limit', 'abstract': '  A rather non-standard quantum representation of the canonical commutation\\nrelations of quantum mechanics systems, known as the polymer representation has\\ngained some attention in recent years, due to its possible relation with Planck\\nscale physics. In particular, this approach has been followed in a symmetric\\nsector of loop quantum gravity known as loop quantum cosmology. Here we explore\\ndifferent aspects of the relation between the ordinary Schroedinger theory and\\nthe polymer description. The paper has two parts. In the first one, we derive\\nthe polymer quantum mechanics starting from the ordinary Schroedinger theory\\nand show that the polymer description arises as an appropriate limit. In the\\nsecond part we consider the continuum limit of this theory, namely, the reverse\\nprocess in which one starts from the discrete theory and tries to recover back\\nthe ordinary Schroedinger quantum mechanics. We consider several examples of\\ninterest, including the harmonic oscillator, the free particle and a simple\\ncosmological model.\\n', 'machine_abstract': 'The present work is devoted to the study of quantum mechanics in polymer chains, which are modeled as one-dimensional systems with nearest-neighbor interactions between particles.  We consider two different models for such systems:  The first model describes an ensemble of interacting fermions on a chain; it can be viewed as a generalization of the Hubbard model (which corresponds to spinless fermions) to include spin-dependent hopping amplitudes and repulsive interaction terms.  In this case we show that there exists a critical value U_c of the interaction strength above which the ground state energy per particle becomes negative.  This result implies that the ground state of the system undergoes a phase transition at U = U_c from a metallic-like phase into an insulating phase.   The second model considered here consists of bosons moving along a ring subject to periodic boundary conditions.  Here we prove rigorously that the ground-state energy per particle converges to zero when the number N of particles tends to infinity.  Moreover, we provide upper bounds on the rate of convergence towards the limit.  These results imply that the ground state of our system exhibits superfluid behavior.', 'machine_text': 'Write a long abstract of a scientific paper from arXiv.org. Use approximately 200-400 words.\\nTitle: \"Polymer Quantum Mechanics and its Continuum Limit\".\\nAbstract:\\nThe present work is devoted to the study of quantum mechanics in polymer chains, which are modeled as one-dimensional systems with nearest-neighbor interactions between particles.  We consider two different models for such systems:  The first model describes an ensemble of interacting fermions on a chain; it can be viewed as a generalization of the Hubbard model (which corresponds to spinless fermions) to include spin-dependent hopping amplitudes and repulsive interaction terms.  In this case we show that there exists a critical value U_c of the interaction strength above which the ground state energy per particle becomes negative.  This result implies that the ground state of the system undergoes a phase transition at U = U_c from a metallic-like phase into an insulating phase.   The second model considered here consists of bosons moving along a ring subject to periodic boundary conditions.  Here we prove rigorously that the ground-state energy per particle converges to zero when the number N of particles tends to infinity.  Moreover, we provide upper bounds on the rate of convergence towards the limit.  These results imply that the ground state of our system exhibits superfluid behavior.', 'prompt': 'Write a long abstract of a scientific paper from arXiv.org. Use approximately 200-400 words.\\nTitle: \"{title}\".\\nAbstract:\\n', 'score': 0.3274668485, 'probas': '[0.2041015625, 0.036285400390625, 0.329345703125, 0.287353515625, 0.335693359375, 0.99267578125, 0.60986328125, 0.2322998046875, 0.74853515625, 0.154052734375, 0.3701171875, 0.284912109375, 0.168212890625, 0.32666015625, 0.212158203125, 0.1331787109375, 0.53369140625, 0.18359375, 0.5078125, 0.10418701171875, 0.8759765625, 0.136474609375, 0.460205078125, 0.07196044921875, 0.60302734375, 0.8681640625, 0.6474609375, 0.1822509765625, 0.289306640625, 0.1600341796875, 0.2025146484375, 0.1365966796875, 0.1458740234375, 0.1805419921875, 0.181396484375, 0.406494140625, 0.18798828125, 0.52978515625, 0.97998046875, 0.1602783203125, 0.224853515625, 0.377685546875, 0.85302734375, 0.244384765625, 0.11102294921875, 0.1427001953125, 0.81591796875, 0.10784912109375, 0.318115234375, 0.9697265625, 0.246337890625, 0.389404296875, 0.381103515625, 0.1727294921875, 0.278564453125, 0.2342529296875, 0.9521484375, 0.2386474609375, 0.62109375, 0.37939453125, 0.283935546875, 0.869140625, 0.3759765625, 0.2327880859375, 0.99951171875, 0.57080078125, 0.157958984375, 0.10833740234375, 0.1912841796875, 0.85986328125, 0.2423095703125, 0.8388671875, 0.66552734375, 0.9248046875, 0.5107421875, 0.2392578125, 0.2197265625, 0.10546875, 0.27880859375, 0.427734375, 0.9365234375, 0.345458984375, 0.1334228515625, 0.074951171875, 0.99853515625, 0.2120361328125, 0.4052734375, 0.163818359375, 0.35302734375, 0.4365234375, 0.466552734375, 0.7978515625, 0.11431884765625, 0.849609375, 0.179443359375, 0.7294921875, 0.386474609375, 0.11688232421875, 0.474365234375, 0.239013671875, 0.194580078125, 0.1650390625, 0.7685546875, 0.1600341796875, 0.6357421875, 0.305908203125, 0.83935546875, 0.230712890625, 0.70166015625, 0.86865234375, 0.2078857421875, 0.22021484375, 0.43701171875, 0.2176513671875, 0.42041015625, 0.1746826171875, 0.322998046875, 0.12548828125, 0.1007080078125, 0.463134765625, 0.1260986328125, 0.10772705078125, 0.53515625, 0.16845703125, 0.400634765625, 0.39794921875, 0.275390625, 1.0, 0.70263671875, 0.493896484375, 0.9609375, 0.6513671875, 0.216064453125, 0.33349609375, 0.76171875, 0.93115234375, 0.1029052734375, 0.321044921875, 0.2410888671875, 0.404541015625, 0.2459716796875, 0.2685546875, 0.43603515625, 0.7548828125, 0.32958984375, 0.1414794921875, 0.165283203125, 0.892578125, 0.7578125, 0.1455078125, 0.71142578125, 0.212890625, 0.943359375, 0.1343994140625, 0.69775390625, 0.1256103515625, 0.49365234375, 0.51220703125, 0.275390625, 0.162841796875, 0.8798828125, 0.1431884765625, 0.96044921875, 0.982421875, 0.2242431640625, 0.184814453125, 0.2269287109375, 0.175048828125, 0.382080078125, 0.998046875, 0.53515625, 0.18017578125, 0.2130126953125, 0.44189453125, 0.373779296875, 0.2025146484375, 0.5234375, 0.1773681640625, 0.28515625, 0.399658203125, 0.28173828125, 0.591796875, 0.71533203125, 0.412841796875, 0.837890625, 0.52734375, 0.485107421875, 0.7861328125, 0.9736328125, 0.174072265625, 0.10772705078125, 0.5849609375, 0.27099609375, 0.11016845703125, 0.19580078125, 0.802734375, 0.35595703125, 0.443603515625, 0.322021484375, 0.88525390625, 0.94482421875, 0.1107177734375, 0.298583984375, 0.2587890625, 0.1051025390625, 0.3173828125, 0.89501953125, 0.08966064453125, 0.5703125, 0.28125, 0.2235107421875, 0.494140625, 0.327880859375, 0.2271728515625, 0.291015625, 0.15283203125, 0.2484130859375, 0.94677734375, 0.513671875, 0.11358642578125, 0.93994140625]', 'logits': '[18.28125, 16.78125, 18.28125, 20.171875, 20.890625, 28.234375, 21.0, 19.578125, 24.890625, 18.3125, 19.609375, 21.3125, 18.4375, 19.046875, 20.375, 17.40625, 20.71875, 19.234375, 23.71875, 17.765625, 23.40625, 17.6875, 21.296875, 17.453125, 21.6875, 23.34375, 20.703125, 20.671875, 18.75, 20.328125, 17.75, 18.671875, 18.25, 18.765625, 18.6875, 21.078125, 18.5, 19.875, 27.328125, 16.8125, 17.34375, 18.515625, 24.578125, 21.890625, 18.09375, 19.109375, 23.015625, 17.828125, 18.90625, 24.859375, 20.703125, 20.65625, 19.609375, 20.09375, 20.078125, 20.84375, 26.75, 19.734375, 24.203125, 19.359375, 19.265625, 24.171875, 18.796875, 18.328125, 25.65625, 18.65625, 21.921875, 17.140625, 19.953125, 24.640625, 18.296875, 21.234375, 20.21875, 23.25, 24.5625, 21.9375, 18.65625, 17.421875, 16.453125, 18.90625, 24.515625, 24.1875, 21.09375, 16.734375, 25.125, 17.609375, 24.03125, 21.125, 19.046875, 23.546875, 18.71875, 26.359375, 18.6875, 26.625, 17.703125, 27.984375, 22.3125, 17.984375, 18.140625, 17.25, 14.8359375, 17.28125, 23.703125, 17.140625, 22.0, 22.375, 24.8125, 19.15625, 20.265625, 22.96875, 19.515625, 18.734375, 20.765625, 18.5, 19.609375, 22.4375, 19.265625, 18.25, 19.15625, 21.515625, 18.1875, 16.96875, 20.421875, 18.484375, 24.53125, 18.03125, 19.765625, 30.171875, 23.6875, 19.625, 22.859375, 24.6875, 19.21875, 16.34375, 18.75, 19.140625, 21.34375, 22.046875, 18.65625, 21.0, 19.1875, 23.96875, 25.78125, 23.046875, 18.921875, 22.78125, 18.078125, 21.109375, 22.234375, 20.5, 24.484375, 20.609375, 25.515625, 17.59375, 25.046875, 18.15625, 23.015625, 23.421875, 19.1875, 19.859375, 24.234375, 17.796875, 22.4375, 24.84375, 22.8125, 18.75, 24.25, 19.140625, 21.515625, 23.203125, 23.046875, 20.71875, 18.078125, 20.984375, 18.421875, 18.78125, 19.390625, 18.671875, 21.15625, 20.59375, 22.21875, 18.90625, 20.15625, 20.734375, 19.921875, 19.25, 22.796875, 24.640625, 23.953125, 23.1875, 18.25, 26.109375, 20.984375, 19.125, 19.859375, 24.296875, 22.578125, 21.609375, 19.203125, 24.875, 23.3125, 21.125, 22.59375, 18.9375, 19.890625, 19.125, 22.0, 18.8125, 22.09375, 20.53125, 17.9375, 20.09375, 19.0, 24.328125, 18.484375, 18.578125, 18.578125, 21.3125, 21.28125, 21.46875, 20.296875]', 'model': 'bigscience/bloomz', 'source': 'arxiv'}\n",
            "3000\n",
            "{'prompt': 'Generate a 150-220-word abstract for work with title: Polymer Quantum Mechanics and its Continuum Limit. Describe the results obtained,  problem work attempts to solve, and the key ideas and methodology in a formal academic and scientific writing voice. Use the first plural person form. Use active voice.', 'human_text': '  A rather non-standard quantum representation of the canonical commutation\\nrelations of quantum mechanics systems, known as the polymer representation has\\ngained some attention in recent years, due to its possible relation with Planck\\nscale physics. In particular, this approach has been followed in a symmetric\\nsector of loop quantum gravity known as loop quantum cosmology. Here we explore\\ndifferent aspects of the relation between the ordinary Schroedinger theory and\\nthe polymer description. The paper has two parts. In the first one, we derive\\nthe polymer quantum mechanics starting from the ordinary Schroedinger theory\\nand show that the polymer description arises as an appropriate limit. In the\\nsecond part we consider the continuum limit of this theory, namely, the reverse\\nprocess in which one starts from the discrete theory and tries to recover back\\nthe ordinary Schroedinger quantum mechanics. We consider several examples of\\ninterest, including the harmonic oscillator, the free particle and a simple\\ncosmological model.\\n', 'machine_text': 'In this paper, we investigate the continuum limit of polymer quantum mechanics. The aim of our work is to better understand the quantum behavior of polymers and its relationship to the classical theory. Our research attempts to clarify the nature of the continuum limit and determine the correctness of the approximations made. Specifically, we study the connectivity of the polymer strands. We find that a continuous path can be defined in the polymer configuration space, which is essential for the polymer to display continuum behavior. We show that the approximation of continuous randomness in the spatial variable can certainly be used when the polymer is stretched out over a significant distance. For a coil-like polymer, our results demonstrate that its behavior is non-classical.\\n\\nOur methodology involves a careful combination of intuition, formalism, and numerical simulations. We evaluate a path integral representation of polymer quantum mechanics in the continuum limit, and use numerical simulations to support our results. The ideas proposed in this work are relevant to the understanding of the thermodynamic properties of polymers, as well as to quantum computing and information. The findings of this work present a theoretical framework for the investigation of other polymer properties that are still poorly understood.', 'model': 'gpt-3.5-turbo', 'source': 'arxiv', 'source_ID': 704.0007}\n",
            "3000\n",
            "{'prompt': 'Generate an abstract for work with title: Polymer Quantum Mechanics and its Continuum Limit. Describe the motivation for the research, the key ideas and methodology, the results obtained, problem work attempts to solve and any practical or theoretical applications from your findings or implications for future research in a formal academic and scientific writing voice. Use the first plural person form. Use active voice.', 'source_id': 704.0007, 'human_text': '  A rather non-standard quantum representation of the canonical commutation\\nrelations of quantum mechanics systems, known as the polymer representation has\\ngained some attention in recent years, due to its possible relation with Planck\\nscale physics. In particular, this approach has been followed in a symmetric\\nsector of loop quantum gravity known as loop quantum cosmology. Here we explore\\ndifferent aspects of the relation between the ordinary Schroedinger theory and\\nthe polymer description. The paper has two parts. In the first one, we derive\\nthe polymer quantum mechanics starting from the ordinary Schroedinger theory\\nand show that the polymer description arises as an appropriate limit. In the\\nsecond part we consider the continuum limit of this theory, namely, the reverse\\nprocess in which one starts from the discrete theory and tries to recover back\\nthe ordinary Schroedinger quantum mechanics. We consider several examples of\\ninterest, including the harmonic oscillator, the free particle and a simple\\ncosmological model.\\n', 'machine_text': '\\nWe consider a system of many polymers in solution that interact via an external force that is applied to each pair of polymers. We study the statistical equilibrium of this system, and find that the polymers form clusters whose sizes are given by a power law distribution. This is in contrast to the traditional picture of polymers in solution, where the thermodynamic equilibrium is described by a mean-field theory based on the solution of the mean-field Boltzmann equation. We show that this difference is due to a breakdown of the assumptions that were used to derive the mean-field theory. In particular, we show that the polymer-polymer interactions in the system considered are non-local, and are thus not described by the mean-field theory. We then derive a new theory for the statistical equilibrium in the presence of an external force, which includes a correction to the mean-field theory. The new theory predicts that the polymer clusters become less dense as the external force increases, in clear contrast to the predictions of the mean-field theory. We analyze this disagreement, and show that it is due to the fact that the mean-field theory predicts a non-monotonic dependence of the polymer-polymer interaction strength on the external force, while our theory predicts a strictly monotonic dependence. We then consider the limit of our theory as the number of polymers in the system tends to infinity, and show that it describes a model of polymer quantum mechanics in a Box, which is a system with a large number of infinitely-lived polymers that interact via a non-local potential, and are in statistical equilibrium in the presence of an external force. We analyze this model, and show that it describes a system with anomalous diffusion and ballistic transport, which is analogous to the anomalous behavior observed in recent experiments on pedestrians.', 'model': 'command-xlarge-nightly', 'source': 'arxiv'}\n",
            "3000\n",
            "{'prompt': 'Polymer Quantum Mechanics and its Continuum Limit', 'human_text': '  A rather non-standard quantum representation of the canonical commutation\\nrelations of quantum mechanics systems, known as the polymer representation has\\ngained some attention in recent years, due to its possible relation with Planck\\nscale physics. In particular, this approach has been followed in a symmetric\\nsector of loop quantum gravity known as loop quantum cosmology. Here we explore\\ndifferent aspects of the relation between the ordinary Schroedinger theory and\\nthe polymer description. The paper has two parts. In the first one, we derive\\nthe polymer quantum mechanics starting from the ordinary Schroedinger theory\\nand show that the polymer description arises as an appropriate limit. In the\\nsecond part we consider the continuum limit of this theory, namely, the reverse\\nprocess in which one starts from the discrete theory and tries to recover back\\nthe ordinary Schroedinger quantum mechanics. We consider several examples of\\ninterest, including the harmonic oscillator, the free particle and a simple\\ncosmological model.\\n', 'machine_text': 'The paper discusses the emergence of polymer quantum mechanics and its continuum limit. The paper also discusses the emergence of polymer quantum mechanics and its continuum limit. The paper also discusses the emergence of polymer quantum mechanics and its continuum limit.', 'model': 'flan-t5', 'source': '', 'source_ID': 704.0007}\n",
            "3000\n",
            "{'prompt': \"Rephrase the abstract of an article with title 'Polymer Quantum Mechanics and its Continuum Limit'.\\n  A rather non-standard quantum representation of the canonical commutation\\nrelations of quantum mechanics systems, known as the polymer representation has\\ngained some attention in recent years, due to its possible relation with Planck\\nscale physics. In particular, this approach has been followed in a symmetric\\nsector of loop quantum gravity known as loop quantum cosmology. Here we explore\\ndifferent aspects of the relation between the ordinary Schroedinger theory and\\nthe polymer description. The paper has two parts. In the first one, we derive\\nthe polymer quantum mechanics starting from the ordinary Schroedinger theory\\nand show that the polymer description arises as an appropriate limit. In the\\nsecond part we consider the continuum limit of this theory, namely, the reverse\\nprocess in which one starts from the discrete theory and tries to recover back\\nthe ordinary Schroedinger quantum mechanics. We consider several examples of\\ninterest, including the harmonic oscillator, the free particle and a simple\\ncosmological model.\\n\\n\", 'human_text': '  A rather non-standard quantum representation of the canonical commutation\\nrelations of quantum mechanics systems, known as the polymer representation has\\ngained some attention in recent years, due to its possible relation with Planck\\nscale physics. In particular, this approach has been followed in a symmetric\\nsector of loop quantum gravity known as loop quantum cosmology. Here we explore\\ndifferent aspects of the relation between the ordinary Schroedinger theory and\\nthe polymer description. The paper has two parts. In the first one, we derive\\nthe polymer quantum mechanics starting from the ordinary Schroedinger theory\\nand show that the polymer description arises as an appropriate limit. In the\\nsecond part we consider the continuum limit of this theory, namely, the reverse\\nprocess in which one starts from the discrete theory and tries to recover back\\nthe ordinary Schroedinger quantum mechanics. We consider several examples of\\ninterest, including the harmonic oscillator, the free particle and a simple\\ncosmological model.\\n', 'machine_text': '\\nThis paper studies the connection between ordinary Schroedinger quantum mechanics and a non-standard representation known as polymer quantum mechanics, which has become the focus of interest in recent years due to its potential links to Planck scale physics. We first proceed in deducing polymer quantum mechanics from ordinary quantum mechanics by taking a particular limit, followed by a further consideration of the continuum limit, in which the process of going from the discrete to the Schroedinger description is explored. Resources are put into examining various relevant examples, such as the harmonic oscillator, a free particle and a simple cosmological model.', 'model': 'text-davinci-003', 'source': 'arxiv', 'source_ID': 704.0007}\n",
            "3000\n"
          ]
        }
      ]
    },
    {
      "cell_type": "code",
      "source": [
        "compare_cols('/content/arxiv_bloomz_test.jsonl', '/content/arxiv_chatGPT_test.jsonl', 'source_id', 'source_ID')\n",
        "compare_cols('/content/arxiv_bloomz_test.jsonl', '/content/arxiv_cohere_test.jsonl', 'source_id', 'source_id')\n",
        "compare_cols('/content/arxiv_bloomz_test.jsonl', '/content/arxiv_davinci_test.jsonl', 'source_id', 'source_ID')\n",
        "compare_cols('/content/arxiv_bloomz_test.jsonl', '/content/arxiv_flant5_test.jsonl', 'source_id', 'source_ID')"
      ],
      "metadata": {
        "colab": {
          "base_uri": "https://localhost:8080/"
        },
        "id": "Btn-ShHOup0B",
        "outputId": "11c54dc1-a504-4cb8-f5af-1e3133876646"
      },
      "execution_count": null,
      "outputs": [
        {
          "output_type": "stream",
          "name": "stdout",
          "text": [
            "True\n",
            "True\n",
            "False\n",
            "True\n"
          ]
        }
      ]
    },
    {
      "cell_type": "code",
      "source": [
        "compare_cols('/content/arxiv_bloomz_train.jsonl', '/content/arxiv_chatGPT_train.jsonl', 'source_id', 'source_ID')\n",
        "compare_cols('/content/arxiv_bloomz_train.jsonl', '/content/arxiv_cohere_train.jsonl', 'source_id', 'source_id')\n",
        "compare_cols('/content/arxiv_bloomz_train.jsonl', '/content/arxiv_davinci_train.jsonl', 'source_id', 'source_ID')\n",
        "compare_cols('/content/arxiv_bloomz_train.jsonl', '/content/arxiv_flant5_train.jsonl', 'source_id', 'source_ID')"
      ],
      "metadata": {
        "colab": {
          "base_uri": "https://localhost:8080/"
        },
        "id": "Sydsj2nQw47M",
        "outputId": "5f8c1c33-4870-4ad6-9a3b-95d55c46c75d"
      },
      "execution_count": null,
      "outputs": [
        {
          "output_type": "stream",
          "name": "stdout",
          "text": [
            "True\n",
            "True\n",
            "False\n",
            "True\n"
          ]
        }
      ]
    },
    {
      "cell_type": "code",
      "source": [
        "compare_cols('/content/arxiv_bloomz_validation.jsonl', '/content/arxiv_chatGPT_validation.jsonl', 'source_id', 'source_ID')\n",
        "compare_cols('/content/arxiv_bloomz_validation.jsonl', '/content/arxiv_cohere_validation.jsonl', 'source_id', 'source_id')\n",
        "compare_cols('/content/arxiv_bloomz_validation.jsonl', '/content/arxiv_davinci_validation.jsonl', 'source_id', 'source_ID')\n",
        "compare_cols('/content/arxiv_bloomz_validation.jsonl', '/content/arxiv_flant5_validation.jsonl', 'source_id', 'source_ID')"
      ],
      "metadata": {
        "colab": {
          "base_uri": "https://localhost:8080/"
        },
        "id": "440m4SNfxFiw",
        "outputId": "b11d89f2-e1e5-4a14-f3f2-cfbdc82b6b66"
      },
      "execution_count": null,
      "outputs": [
        {
          "output_type": "stream",
          "name": "stdout",
          "text": [
            "True\n",
            "True\n",
            "False\n",
            "True\n"
          ]
        }
      ]
    },
    {
      "cell_type": "code",
      "source": [
        "compare_cols('/content/arxiv_chatGPT.jsonl', '/content/arxiv_cohere.jsonl', 'source_ID', 'source_id')\n",
        "compare_cols('/content/arxiv_chatGPT.jsonl', '/content/arxiv_davinci.jsonl', 'source_ID', 'source_ID')"
      ],
      "metadata": {
        "colab": {
          "base_uri": "https://localhost:8080/"
        },
        "id": "iI0WgeQa0sMJ",
        "outputId": "56188859-4a4f-4f1b-a8fe-2e8515f3346b"
      },
      "execution_count": null,
      "outputs": [
        {
          "output_type": "stream",
          "name": "stdout",
          "text": [
            "True\n",
            "True\n"
          ]
        }
      ]
    },
    {
      "cell_type": "code",
      "source": [
        "df1 = load_jsonl_to_df('/content/arxiv_chatGPT.jsonl')"
      ],
      "metadata": {
        "id": "sJiOfGg92R6f"
      },
      "execution_count": null,
      "outputs": []
    },
    {
      "cell_type": "code",
      "source": [
        "def printdff(filepath1, filepath2, col1, col2):\n",
        "    # Load the first JSONL file into DataFrame\n",
        "    df1 = load_jsonl_to_df(filepath1)\n",
        "    print(\"filepath1 \", filepath1)\n",
        "    print(\"filepath2 \", filepath2)\n",
        "    # Load the second JSONL file into DataFrame\n",
        "    df2 = load_jsonl_to_df(filepath2)\n",
        "    #print(len(df2))\n",
        "    # Sort values in the specified columns\n",
        "    sorted_column_df1 = sorted(df1[col1])\n",
        "    sorted_column_df2 = sorted(df2[col2])\n",
        "\n",
        "    # Find the differences\n",
        "    differences = set(sorted_column_df1) ^ set(sorted_column_df2)\n",
        "\n",
        "    # Print the differences\n",
        "    #print(\"Differences:\")\n",
        "    #for difference in differences:\n",
        "      #print(difference)\n",
        "\n",
        "    z = set(df1) ^ set(df2)\n",
        "    print(\"z \", z)\n",
        "    #print(len(differences))"
      ],
      "metadata": {
        "id": "LyBaan7j4Fxm"
      },
      "execution_count": null,
      "outputs": []
    },
    {
      "cell_type": "code",
      "source": [
        "printdff('/content/arxiv_chatGPT.jsonl', '/content/arxiv_cohere.jsonl', 'source_ID', 'source_id')\n",
        "printdff('/content/arxiv_chatGPT.jsonl', '/content/arxiv_davinci.jsonl', 'source_ID', 'source_ID')"
      ],
      "metadata": {
        "colab": {
          "base_uri": "https://localhost:8080/"
        },
        "id": "RNLSME8F4gCo",
        "outputId": "05319af9-c856-432b-a541-7f02ce109a6f"
      },
      "execution_count": null,
      "outputs": [
        {
          "output_type": "stream",
          "name": "stdout",
          "text": [
            "Differences:\n",
            "Differences:\n"
          ]
        }
      ]
    },
    {
      "cell_type": "code",
      "source": [
        "printdff('/content/arxiv_bloomz_validation.jsonl', '/content/arxiv_chatGPT_validation.jsonl', 'source_id', 'source_ID')\n",
        "printdff('/content/arxiv_bloomz_validation.jsonl', '/content/arxiv_cohere_validation.jsonl', 'source_id', 'source_id')\n",
        "printdff('/content/arxiv_bloomz_validation.jsonl', '/content/arxiv_davinci_validation.jsonl', 'source_id', 'source_ID')\n",
        "printdff('/content/arxiv_bloomz_validation.jsonl', '/content/arxiv_flant5_validation.jsonl', 'source_id', 'source_ID')"
      ],
      "metadata": {
        "colab": {
          "base_uri": "https://localhost:8080/"
        },
        "id": "gsRrlq-V4pSu",
        "outputId": "130deb84-67be-4336-9829-b6221f6b7c17"
      },
      "execution_count": null,
      "outputs": [
        {
          "output_type": "stream",
          "name": "stdout",
          "text": [
            "filepath1  /content/arxiv_bloomz_validation.jsonl\n",
            "filepath2  /content/arxiv_chatGPT_validation.jsonl\n",
            "z  {'title', 'source_ID', 'logits', 'abstract', 'human_text', 'score', 'source_id', 'machine_abstract', 'probas'}\n",
            "filepath1  /content/arxiv_bloomz_validation.jsonl\n",
            "filepath2  /content/arxiv_cohere_validation.jsonl\n",
            "z  {'title', 'logits', 'abstract', 'human_text', 'score', 'machine_abstract', 'probas'}\n",
            "filepath1  /content/arxiv_bloomz_validation.jsonl\n",
            "filepath2  /content/arxiv_davinci_validation.jsonl\n",
            "z  {'title', 'source_ID', 'logits', 'abstract', 'human_text', 'score', 'source_id', 'machine_abstract', 'probas'}\n",
            "filepath1  /content/arxiv_bloomz_validation.jsonl\n",
            "filepath2  /content/arxiv_flant5_validation.jsonl\n",
            "z  {'title', 'source_ID', 'logits', 'abstract', 'human_text', 'score', 'source_id', 'machine_abstract', 'probas'}\n"
          ]
        }
      ]
    },
    {
      "cell_type": "code",
      "source": [
        "!scp -r ./*.jsonl /content/drive/MyDrive/dataset_with_n"
      ],
      "metadata": {
        "id": "v5owtnLG71jX"
      },
      "execution_count": null,
      "outputs": []
    }
  ]
}